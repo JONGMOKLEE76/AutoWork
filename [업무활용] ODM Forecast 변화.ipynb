{
 "cells": [
  {
   "cell_type": "code",
   "execution_count": 1,
   "id": "b9d39b11",
   "metadata": {},
   "outputs": [],
   "source": [
    "from tool import *\n",
    "import plotly.express as px\n",
    "# import matplotlib.pyplot as plt"
   ]
  },
  {
   "cell_type": "markdown",
   "id": "084b7ef4",
   "metadata": {},
   "source": [
    "# 1. 특정 모델/특정 Site의 현재부터 이후 구간의 과거부터 현재까지의 물동 변동 이력 조회"
   ]
  },
  {
   "cell_type": "code",
   "execution_count": 106,
   "id": "2d9a25e1",
   "metadata": {},
   "outputs": [
    {
     "name": "stderr",
     "output_type": "stream",
     "text": [
      "C:\\Users\\paul76.lee\\AppData\\Local\\Temp\\ipykernel_3272\\1257051669.py:20: FutureWarning:\n",
      "\n",
      "The default value of numeric_only in DataFrameGroupBy.sum is deprecated. In a future version, numeric_only will default to False. Either specify numeric_only or select only columns which should be valid for the function.\n",
      "\n"
     ]
    },
    {
     "data": {
      "application/vnd.plotly.v1+json": {
       "config": {
        "plotlyServerURL": "https://plot.ly"
       },
       "data": [
        {
         "alignmentgroup": "True",
         "hovertemplate": "Month=2023-04<br>Ref=%{x}<br>QTY=%{y}<extra></extra>",
         "legendgroup": "2023-04",
         "marker": {
          "color": "#636efa",
          "pattern": {
           "shape": ""
          }
         },
         "name": "2023-04",
         "offsetgroup": "2023-04",
         "orientation": "v",
         "showlegend": true,
         "textposition": "auto",
         "type": "bar",
         "x": [
          "2023-01-02(W01)",
          "2023-01-09(W02)",
          "2023-01-16(W03)",
          "2023-01-23(W04)",
          "2023-01-30(W05)",
          "2023-02-06(W06)",
          "2023-02-13(W07)",
          "2023-02-20(W08)",
          "2023-02-27(W09)",
          "2023-03-06(W10)",
          "2023-03-13(W11)",
          "2023-03-20(W12)",
          "2023-03-27(W13)",
          "2023-04-03(W14)",
          "2023-04-10(W15)",
          "2023-04-17(W16)"
         ],
         "xaxis": "x",
         "y": [
          0,
          0,
          0,
          0,
          0,
          0,
          0,
          0,
          40,
          40,
          30,
          30,
          30,
          0,
          30,
          30
         ],
         "yaxis": "y"
        },
        {
         "alignmentgroup": "True",
         "hovertemplate": "Month=2023-05<br>Ref=%{x}<br>QTY=%{y}<extra></extra>",
         "legendgroup": "2023-05",
         "marker": {
          "color": "#EF553B",
          "pattern": {
           "shape": ""
          }
         },
         "name": "2023-05",
         "offsetgroup": "2023-05",
         "orientation": "v",
         "showlegend": true,
         "textposition": "auto",
         "type": "bar",
         "x": [
          "2023-01-02(W01)",
          "2023-01-09(W02)",
          "2023-01-16(W03)",
          "2023-01-23(W04)",
          "2023-01-30(W05)",
          "2023-02-06(W06)",
          "2023-02-13(W07)",
          "2023-02-20(W08)",
          "2023-02-27(W09)",
          "2023-03-06(W10)",
          "2023-03-13(W11)",
          "2023-03-20(W12)",
          "2023-03-27(W13)",
          "2023-04-03(W14)",
          "2023-04-10(W15)",
          "2023-04-17(W16)"
         ],
         "xaxis": "x",
         "y": [
          5,
          5,
          5,
          5,
          5,
          35,
          35,
          35,
          200,
          360,
          350,
          350,
          350,
          400,
          180,
          180
         ],
         "yaxis": "y"
        },
        {
         "alignmentgroup": "True",
         "hovertemplate": "Month=2023-06<br>Ref=%{x}<br>QTY=%{y}<extra></extra>",
         "legendgroup": "2023-06",
         "marker": {
          "color": "#00cc96",
          "pattern": {
           "shape": ""
          }
         },
         "name": "2023-06",
         "offsetgroup": "2023-06",
         "orientation": "v",
         "showlegend": true,
         "textposition": "auto",
         "type": "bar",
         "x": [
          "2023-01-02(W01)",
          "2023-01-09(W02)",
          "2023-01-16(W03)",
          "2023-01-23(W04)",
          "2023-01-30(W05)",
          "2023-02-06(W06)",
          "2023-02-13(W07)",
          "2023-02-20(W08)",
          "2023-02-27(W09)",
          "2023-03-06(W10)",
          "2023-03-13(W11)",
          "2023-03-20(W12)",
          "2023-03-27(W13)",
          "2023-04-03(W14)",
          "2023-04-10(W15)",
          "2023-04-17(W16)"
         ],
         "xaxis": "x",
         "y": [
          0,
          5,
          5,
          5,
          5,
          5,
          5,
          5,
          5,
          645,
          740,
          750,
          740,
          720,
          950,
          950
         ],
         "yaxis": "y"
        },
        {
         "alignmentgroup": "True",
         "hovertemplate": "Month=2023-07<br>Ref=%{x}<br>QTY=%{y}<extra></extra>",
         "legendgroup": "2023-07",
         "marker": {
          "color": "#ab63fa",
          "pattern": {
           "shape": ""
          }
         },
         "name": "2023-07",
         "offsetgroup": "2023-07",
         "orientation": "v",
         "showlegend": true,
         "textposition": "auto",
         "type": "bar",
         "x": [
          "2023-01-02(W01)",
          "2023-01-09(W02)",
          "2023-01-16(W03)",
          "2023-01-23(W04)",
          "2023-01-30(W05)",
          "2023-02-06(W06)",
          "2023-02-13(W07)",
          "2023-02-20(W08)",
          "2023-02-27(W09)",
          "2023-03-06(W10)",
          "2023-03-13(W11)",
          "2023-03-20(W12)",
          "2023-03-27(W13)",
          "2023-04-03(W14)",
          "2023-04-10(W15)",
          "2023-04-17(W16)"
         ],
         "xaxis": "x",
         "y": [
          0,
          0,
          0,
          0,
          0,
          5,
          5,
          5,
          5,
          5,
          0,
          0,
          0,
          0,
          0,
          0
         ],
         "yaxis": "y"
        },
        {
         "alignmentgroup": "True",
         "hovertemplate": "Month=2023-08<br>Ref=%{x}<br>QTY=%{y}<extra></extra>",
         "legendgroup": "2023-08",
         "marker": {
          "color": "#FFA15A",
          "pattern": {
           "shape": ""
          }
         },
         "name": "2023-08",
         "offsetgroup": "2023-08",
         "orientation": "v",
         "showlegend": true,
         "textposition": "auto",
         "type": "bar",
         "x": [
          "2023-01-02(W01)",
          "2023-01-09(W02)",
          "2023-01-16(W03)",
          "2023-01-23(W04)",
          "2023-01-30(W05)",
          "2023-02-06(W06)",
          "2023-02-13(W07)",
          "2023-02-20(W08)",
          "2023-02-27(W09)",
          "2023-03-06(W10)",
          "2023-03-13(W11)",
          "2023-03-20(W12)",
          "2023-03-27(W13)",
          "2023-04-03(W14)",
          "2023-04-10(W15)",
          "2023-04-17(W16)"
         ],
         "xaxis": "x",
         "y": [
          0,
          0,
          0,
          0,
          0,
          0,
          0,
          0,
          0,
          0,
          0,
          0,
          0,
          0,
          0,
          0
         ],
         "yaxis": "y"
        },
        {
         "alignmentgroup": "True",
         "hovertemplate": "Month=2023-09<br>Ref=%{x}<br>QTY=%{y}<extra></extra>",
         "legendgroup": "2023-09",
         "marker": {
          "color": "#19d3f3",
          "pattern": {
           "shape": ""
          }
         },
         "name": "2023-09",
         "offsetgroup": "2023-09",
         "orientation": "v",
         "showlegend": true,
         "textposition": "auto",
         "type": "bar",
         "x": [
          "2023-01-02(W01)",
          "2023-01-09(W02)",
          "2023-01-16(W03)",
          "2023-01-23(W04)",
          "2023-01-30(W05)",
          "2023-02-06(W06)",
          "2023-02-13(W07)",
          "2023-02-20(W08)",
          "2023-02-27(W09)",
          "2023-03-06(W10)",
          "2023-03-13(W11)",
          "2023-03-20(W12)",
          "2023-03-27(W13)",
          "2023-04-03(W14)",
          "2023-04-10(W15)",
          "2023-04-17(W16)"
         ],
         "xaxis": "x",
         "y": [
          0,
          0,
          0,
          0,
          0,
          0,
          0,
          0,
          0,
          0,
          0,
          0,
          0,
          0,
          0,
          0
         ],
         "yaxis": "y"
        }
       ],
       "layout": {
        "barmode": "relative",
        "height": 400,
        "legend": {
         "title": {
          "text": "Month"
         },
         "tracegroupgap": 0
        },
        "template": {
         "data": {
          "bar": [
           {
            "error_x": {
             "color": "#2a3f5f"
            },
            "error_y": {
             "color": "#2a3f5f"
            },
            "marker": {
             "line": {
              "color": "#E5ECF6",
              "width": 0.5
             },
             "pattern": {
              "fillmode": "overlay",
              "size": 10,
              "solidity": 0.2
             }
            },
            "type": "bar"
           }
          ],
          "barpolar": [
           {
            "marker": {
             "line": {
              "color": "#E5ECF6",
              "width": 0.5
             },
             "pattern": {
              "fillmode": "overlay",
              "size": 10,
              "solidity": 0.2
             }
            },
            "type": "barpolar"
           }
          ],
          "carpet": [
           {
            "aaxis": {
             "endlinecolor": "#2a3f5f",
             "gridcolor": "white",
             "linecolor": "white",
             "minorgridcolor": "white",
             "startlinecolor": "#2a3f5f"
            },
            "baxis": {
             "endlinecolor": "#2a3f5f",
             "gridcolor": "white",
             "linecolor": "white",
             "minorgridcolor": "white",
             "startlinecolor": "#2a3f5f"
            },
            "type": "carpet"
           }
          ],
          "choropleth": [
           {
            "colorbar": {
             "outlinewidth": 0,
             "ticks": ""
            },
            "type": "choropleth"
           }
          ],
          "contour": [
           {
            "colorbar": {
             "outlinewidth": 0,
             "ticks": ""
            },
            "colorscale": [
             [
              0,
              "#0d0887"
             ],
             [
              0.1111111111111111,
              "#46039f"
             ],
             [
              0.2222222222222222,
              "#7201a8"
             ],
             [
              0.3333333333333333,
              "#9c179e"
             ],
             [
              0.4444444444444444,
              "#bd3786"
             ],
             [
              0.5555555555555556,
              "#d8576b"
             ],
             [
              0.6666666666666666,
              "#ed7953"
             ],
             [
              0.7777777777777778,
              "#fb9f3a"
             ],
             [
              0.8888888888888888,
              "#fdca26"
             ],
             [
              1,
              "#f0f921"
             ]
            ],
            "type": "contour"
           }
          ],
          "contourcarpet": [
           {
            "colorbar": {
             "outlinewidth": 0,
             "ticks": ""
            },
            "type": "contourcarpet"
           }
          ],
          "heatmap": [
           {
            "colorbar": {
             "outlinewidth": 0,
             "ticks": ""
            },
            "colorscale": [
             [
              0,
              "#0d0887"
             ],
             [
              0.1111111111111111,
              "#46039f"
             ],
             [
              0.2222222222222222,
              "#7201a8"
             ],
             [
              0.3333333333333333,
              "#9c179e"
             ],
             [
              0.4444444444444444,
              "#bd3786"
             ],
             [
              0.5555555555555556,
              "#d8576b"
             ],
             [
              0.6666666666666666,
              "#ed7953"
             ],
             [
              0.7777777777777778,
              "#fb9f3a"
             ],
             [
              0.8888888888888888,
              "#fdca26"
             ],
             [
              1,
              "#f0f921"
             ]
            ],
            "type": "heatmap"
           }
          ],
          "heatmapgl": [
           {
            "colorbar": {
             "outlinewidth": 0,
             "ticks": ""
            },
            "colorscale": [
             [
              0,
              "#0d0887"
             ],
             [
              0.1111111111111111,
              "#46039f"
             ],
             [
              0.2222222222222222,
              "#7201a8"
             ],
             [
              0.3333333333333333,
              "#9c179e"
             ],
             [
              0.4444444444444444,
              "#bd3786"
             ],
             [
              0.5555555555555556,
              "#d8576b"
             ],
             [
              0.6666666666666666,
              "#ed7953"
             ],
             [
              0.7777777777777778,
              "#fb9f3a"
             ],
             [
              0.8888888888888888,
              "#fdca26"
             ],
             [
              1,
              "#f0f921"
             ]
            ],
            "type": "heatmapgl"
           }
          ],
          "histogram": [
           {
            "marker": {
             "pattern": {
              "fillmode": "overlay",
              "size": 10,
              "solidity": 0.2
             }
            },
            "type": "histogram"
           }
          ],
          "histogram2d": [
           {
            "colorbar": {
             "outlinewidth": 0,
             "ticks": ""
            },
            "colorscale": [
             [
              0,
              "#0d0887"
             ],
             [
              0.1111111111111111,
              "#46039f"
             ],
             [
              0.2222222222222222,
              "#7201a8"
             ],
             [
              0.3333333333333333,
              "#9c179e"
             ],
             [
              0.4444444444444444,
              "#bd3786"
             ],
             [
              0.5555555555555556,
              "#d8576b"
             ],
             [
              0.6666666666666666,
              "#ed7953"
             ],
             [
              0.7777777777777778,
              "#fb9f3a"
             ],
             [
              0.8888888888888888,
              "#fdca26"
             ],
             [
              1,
              "#f0f921"
             ]
            ],
            "type": "histogram2d"
           }
          ],
          "histogram2dcontour": [
           {
            "colorbar": {
             "outlinewidth": 0,
             "ticks": ""
            },
            "colorscale": [
             [
              0,
              "#0d0887"
             ],
             [
              0.1111111111111111,
              "#46039f"
             ],
             [
              0.2222222222222222,
              "#7201a8"
             ],
             [
              0.3333333333333333,
              "#9c179e"
             ],
             [
              0.4444444444444444,
              "#bd3786"
             ],
             [
              0.5555555555555556,
              "#d8576b"
             ],
             [
              0.6666666666666666,
              "#ed7953"
             ],
             [
              0.7777777777777778,
              "#fb9f3a"
             ],
             [
              0.8888888888888888,
              "#fdca26"
             ],
             [
              1,
              "#f0f921"
             ]
            ],
            "type": "histogram2dcontour"
           }
          ],
          "mesh3d": [
           {
            "colorbar": {
             "outlinewidth": 0,
             "ticks": ""
            },
            "type": "mesh3d"
           }
          ],
          "parcoords": [
           {
            "line": {
             "colorbar": {
              "outlinewidth": 0,
              "ticks": ""
             }
            },
            "type": "parcoords"
           }
          ],
          "pie": [
           {
            "automargin": true,
            "type": "pie"
           }
          ],
          "scatter": [
           {
            "fillpattern": {
             "fillmode": "overlay",
             "size": 10,
             "solidity": 0.2
            },
            "type": "scatter"
           }
          ],
          "scatter3d": [
           {
            "line": {
             "colorbar": {
              "outlinewidth": 0,
              "ticks": ""
             }
            },
            "marker": {
             "colorbar": {
              "outlinewidth": 0,
              "ticks": ""
             }
            },
            "type": "scatter3d"
           }
          ],
          "scattercarpet": [
           {
            "marker": {
             "colorbar": {
              "outlinewidth": 0,
              "ticks": ""
             }
            },
            "type": "scattercarpet"
           }
          ],
          "scattergeo": [
           {
            "marker": {
             "colorbar": {
              "outlinewidth": 0,
              "ticks": ""
             }
            },
            "type": "scattergeo"
           }
          ],
          "scattergl": [
           {
            "marker": {
             "colorbar": {
              "outlinewidth": 0,
              "ticks": ""
             }
            },
            "type": "scattergl"
           }
          ],
          "scattermapbox": [
           {
            "marker": {
             "colorbar": {
              "outlinewidth": 0,
              "ticks": ""
             }
            },
            "type": "scattermapbox"
           }
          ],
          "scatterpolar": [
           {
            "marker": {
             "colorbar": {
              "outlinewidth": 0,
              "ticks": ""
             }
            },
            "type": "scatterpolar"
           }
          ],
          "scatterpolargl": [
           {
            "marker": {
             "colorbar": {
              "outlinewidth": 0,
              "ticks": ""
             }
            },
            "type": "scatterpolargl"
           }
          ],
          "scatterternary": [
           {
            "marker": {
             "colorbar": {
              "outlinewidth": 0,
              "ticks": ""
             }
            },
            "type": "scatterternary"
           }
          ],
          "surface": [
           {
            "colorbar": {
             "outlinewidth": 0,
             "ticks": ""
            },
            "colorscale": [
             [
              0,
              "#0d0887"
             ],
             [
              0.1111111111111111,
              "#46039f"
             ],
             [
              0.2222222222222222,
              "#7201a8"
             ],
             [
              0.3333333333333333,
              "#9c179e"
             ],
             [
              0.4444444444444444,
              "#bd3786"
             ],
             [
              0.5555555555555556,
              "#d8576b"
             ],
             [
              0.6666666666666666,
              "#ed7953"
             ],
             [
              0.7777777777777778,
              "#fb9f3a"
             ],
             [
              0.8888888888888888,
              "#fdca26"
             ],
             [
              1,
              "#f0f921"
             ]
            ],
            "type": "surface"
           }
          ],
          "table": [
           {
            "cells": {
             "fill": {
              "color": "#EBF0F8"
             },
             "line": {
              "color": "white"
             }
            },
            "header": {
             "fill": {
              "color": "#C8D4E3"
             },
             "line": {
              "color": "white"
             }
            },
            "type": "table"
           }
          ]
         },
         "layout": {
          "annotationdefaults": {
           "arrowcolor": "#2a3f5f",
           "arrowhead": 0,
           "arrowwidth": 1
          },
          "autotypenumbers": "strict",
          "coloraxis": {
           "colorbar": {
            "outlinewidth": 0,
            "ticks": ""
           }
          },
          "colorscale": {
           "diverging": [
            [
             0,
             "#8e0152"
            ],
            [
             0.1,
             "#c51b7d"
            ],
            [
             0.2,
             "#de77ae"
            ],
            [
             0.3,
             "#f1b6da"
            ],
            [
             0.4,
             "#fde0ef"
            ],
            [
             0.5,
             "#f7f7f7"
            ],
            [
             0.6,
             "#e6f5d0"
            ],
            [
             0.7,
             "#b8e186"
            ],
            [
             0.8,
             "#7fbc41"
            ],
            [
             0.9,
             "#4d9221"
            ],
            [
             1,
             "#276419"
            ]
           ],
           "sequential": [
            [
             0,
             "#0d0887"
            ],
            [
             0.1111111111111111,
             "#46039f"
            ],
            [
             0.2222222222222222,
             "#7201a8"
            ],
            [
             0.3333333333333333,
             "#9c179e"
            ],
            [
             0.4444444444444444,
             "#bd3786"
            ],
            [
             0.5555555555555556,
             "#d8576b"
            ],
            [
             0.6666666666666666,
             "#ed7953"
            ],
            [
             0.7777777777777778,
             "#fb9f3a"
            ],
            [
             0.8888888888888888,
             "#fdca26"
            ],
            [
             1,
             "#f0f921"
            ]
           ],
           "sequentialminus": [
            [
             0,
             "#0d0887"
            ],
            [
             0.1111111111111111,
             "#46039f"
            ],
            [
             0.2222222222222222,
             "#7201a8"
            ],
            [
             0.3333333333333333,
             "#9c179e"
            ],
            [
             0.4444444444444444,
             "#bd3786"
            ],
            [
             0.5555555555555556,
             "#d8576b"
            ],
            [
             0.6666666666666666,
             "#ed7953"
            ],
            [
             0.7777777777777778,
             "#fb9f3a"
            ],
            [
             0.8888888888888888,
             "#fdca26"
            ],
            [
             1,
             "#f0f921"
            ]
           ]
          },
          "colorway": [
           "#636efa",
           "#EF553B",
           "#00cc96",
           "#ab63fa",
           "#FFA15A",
           "#19d3f3",
           "#FF6692",
           "#B6E880",
           "#FF97FF",
           "#FECB52"
          ],
          "font": {
           "color": "#2a3f5f"
          },
          "geo": {
           "bgcolor": "white",
           "lakecolor": "white",
           "landcolor": "#E5ECF6",
           "showlakes": true,
           "showland": true,
           "subunitcolor": "white"
          },
          "hoverlabel": {
           "align": "left"
          },
          "hovermode": "closest",
          "mapbox": {
           "style": "light"
          },
          "paper_bgcolor": "white",
          "plot_bgcolor": "#E5ECF6",
          "polar": {
           "angularaxis": {
            "gridcolor": "white",
            "linecolor": "white",
            "ticks": ""
           },
           "bgcolor": "#E5ECF6",
           "radialaxis": {
            "gridcolor": "white",
            "linecolor": "white",
            "ticks": ""
           }
          },
          "scene": {
           "xaxis": {
            "backgroundcolor": "#E5ECF6",
            "gridcolor": "white",
            "gridwidth": 2,
            "linecolor": "white",
            "showbackground": true,
            "ticks": "",
            "zerolinecolor": "white"
           },
           "yaxis": {
            "backgroundcolor": "#E5ECF6",
            "gridcolor": "white",
            "gridwidth": 2,
            "linecolor": "white",
            "showbackground": true,
            "ticks": "",
            "zerolinecolor": "white"
           },
           "zaxis": {
            "backgroundcolor": "#E5ECF6",
            "gridcolor": "white",
            "gridwidth": 2,
            "linecolor": "white",
            "showbackground": true,
            "ticks": "",
            "zerolinecolor": "white"
           }
          },
          "shapedefaults": {
           "line": {
            "color": "#2a3f5f"
           }
          },
          "ternary": {
           "aaxis": {
            "gridcolor": "white",
            "linecolor": "white",
            "ticks": ""
           },
           "baxis": {
            "gridcolor": "white",
            "linecolor": "white",
            "ticks": ""
           },
           "bgcolor": "#E5ECF6",
           "caxis": {
            "gridcolor": "white",
            "linecolor": "white",
            "ticks": ""
           }
          },
          "title": {
           "x": 0.05
          },
          "xaxis": {
           "automargin": true,
           "gridcolor": "white",
           "linecolor": "white",
           "ticks": "",
           "title": {
            "standoff": 15
           },
           "zerolinecolor": "white",
           "zerolinewidth": 2
          },
          "yaxis": {
           "automargin": true,
           "gridcolor": "white",
           "linecolor": "white",
           "ticks": "",
           "title": {
            "standoff": 15
           },
           "zerolinecolor": "white",
           "zerolinewidth": 2
          }
         }
        },
        "title": {
         "text": "14T90Q Variation History"
        },
        "width": 500,
        "xaxis": {
         "anchor": "y",
         "domain": [
          0,
          1
         ],
         "tickangle": 70,
         "title": {
          "text": "Ref"
         }
        },
        "yaxis": {
         "anchor": "x",
         "domain": [
          0,
          1
         ],
         "title": {
          "text": "QTY"
         }
        }
       }
      },
      "text/html": [
       "<div>                            <div id=\"d5f31062-309f-44c0-aaca-7a6700112174\" class=\"plotly-graph-div\" style=\"height:400px; width:500px;\"></div>            <script type=\"text/javascript\">                require([\"plotly\"], function(Plotly) {                    window.PLOTLYENV=window.PLOTLYENV || {};                                    if (document.getElementById(\"d5f31062-309f-44c0-aaca-7a6700112174\")) {                    Plotly.newPlot(                        \"d5f31062-309f-44c0-aaca-7a6700112174\",                        [{\"alignmentgroup\":\"True\",\"hovertemplate\":\"Month=2023-04<br>Ref=%{x}<br>QTY=%{y}<extra></extra>\",\"legendgroup\":\"2023-04\",\"marker\":{\"color\":\"#636efa\",\"pattern\":{\"shape\":\"\"}},\"name\":\"2023-04\",\"offsetgroup\":\"2023-04\",\"orientation\":\"v\",\"showlegend\":true,\"textposition\":\"auto\",\"x\":[\"2023-01-02(W01)\",\"2023-01-09(W02)\",\"2023-01-16(W03)\",\"2023-01-23(W04)\",\"2023-01-30(W05)\",\"2023-02-06(W06)\",\"2023-02-13(W07)\",\"2023-02-20(W08)\",\"2023-02-27(W09)\",\"2023-03-06(W10)\",\"2023-03-13(W11)\",\"2023-03-20(W12)\",\"2023-03-27(W13)\",\"2023-04-03(W14)\",\"2023-04-10(W15)\",\"2023-04-17(W16)\"],\"xaxis\":\"x\",\"y\":[0,0,0,0,0,0,0,0,40,40,30,30,30,0,30,30],\"yaxis\":\"y\",\"type\":\"bar\"},{\"alignmentgroup\":\"True\",\"hovertemplate\":\"Month=2023-05<br>Ref=%{x}<br>QTY=%{y}<extra></extra>\",\"legendgroup\":\"2023-05\",\"marker\":{\"color\":\"#EF553B\",\"pattern\":{\"shape\":\"\"}},\"name\":\"2023-05\",\"offsetgroup\":\"2023-05\",\"orientation\":\"v\",\"showlegend\":true,\"textposition\":\"auto\",\"x\":[\"2023-01-02(W01)\",\"2023-01-09(W02)\",\"2023-01-16(W03)\",\"2023-01-23(W04)\",\"2023-01-30(W05)\",\"2023-02-06(W06)\",\"2023-02-13(W07)\",\"2023-02-20(W08)\",\"2023-02-27(W09)\",\"2023-03-06(W10)\",\"2023-03-13(W11)\",\"2023-03-20(W12)\",\"2023-03-27(W13)\",\"2023-04-03(W14)\",\"2023-04-10(W15)\",\"2023-04-17(W16)\"],\"xaxis\":\"x\",\"y\":[5,5,5,5,5,35,35,35,200,360,350,350,350,400,180,180],\"yaxis\":\"y\",\"type\":\"bar\"},{\"alignmentgroup\":\"True\",\"hovertemplate\":\"Month=2023-06<br>Ref=%{x}<br>QTY=%{y}<extra></extra>\",\"legendgroup\":\"2023-06\",\"marker\":{\"color\":\"#00cc96\",\"pattern\":{\"shape\":\"\"}},\"name\":\"2023-06\",\"offsetgroup\":\"2023-06\",\"orientation\":\"v\",\"showlegend\":true,\"textposition\":\"auto\",\"x\":[\"2023-01-02(W01)\",\"2023-01-09(W02)\",\"2023-01-16(W03)\",\"2023-01-23(W04)\",\"2023-01-30(W05)\",\"2023-02-06(W06)\",\"2023-02-13(W07)\",\"2023-02-20(W08)\",\"2023-02-27(W09)\",\"2023-03-06(W10)\",\"2023-03-13(W11)\",\"2023-03-20(W12)\",\"2023-03-27(W13)\",\"2023-04-03(W14)\",\"2023-04-10(W15)\",\"2023-04-17(W16)\"],\"xaxis\":\"x\",\"y\":[0,5,5,5,5,5,5,5,5,645,740,750,740,720,950,950],\"yaxis\":\"y\",\"type\":\"bar\"},{\"alignmentgroup\":\"True\",\"hovertemplate\":\"Month=2023-07<br>Ref=%{x}<br>QTY=%{y}<extra></extra>\",\"legendgroup\":\"2023-07\",\"marker\":{\"color\":\"#ab63fa\",\"pattern\":{\"shape\":\"\"}},\"name\":\"2023-07\",\"offsetgroup\":\"2023-07\",\"orientation\":\"v\",\"showlegend\":true,\"textposition\":\"auto\",\"x\":[\"2023-01-02(W01)\",\"2023-01-09(W02)\",\"2023-01-16(W03)\",\"2023-01-23(W04)\",\"2023-01-30(W05)\",\"2023-02-06(W06)\",\"2023-02-13(W07)\",\"2023-02-20(W08)\",\"2023-02-27(W09)\",\"2023-03-06(W10)\",\"2023-03-13(W11)\",\"2023-03-20(W12)\",\"2023-03-27(W13)\",\"2023-04-03(W14)\",\"2023-04-10(W15)\",\"2023-04-17(W16)\"],\"xaxis\":\"x\",\"y\":[0,0,0,0,0,5,5,5,5,5,0,0,0,0,0,0],\"yaxis\":\"y\",\"type\":\"bar\"},{\"alignmentgroup\":\"True\",\"hovertemplate\":\"Month=2023-08<br>Ref=%{x}<br>QTY=%{y}<extra></extra>\",\"legendgroup\":\"2023-08\",\"marker\":{\"color\":\"#FFA15A\",\"pattern\":{\"shape\":\"\"}},\"name\":\"2023-08\",\"offsetgroup\":\"2023-08\",\"orientation\":\"v\",\"showlegend\":true,\"textposition\":\"auto\",\"x\":[\"2023-01-02(W01)\",\"2023-01-09(W02)\",\"2023-01-16(W03)\",\"2023-01-23(W04)\",\"2023-01-30(W05)\",\"2023-02-06(W06)\",\"2023-02-13(W07)\",\"2023-02-20(W08)\",\"2023-02-27(W09)\",\"2023-03-06(W10)\",\"2023-03-13(W11)\",\"2023-03-20(W12)\",\"2023-03-27(W13)\",\"2023-04-03(W14)\",\"2023-04-10(W15)\",\"2023-04-17(W16)\"],\"xaxis\":\"x\",\"y\":[0,0,0,0,0,0,0,0,0,0,0,0,0,0,0,0],\"yaxis\":\"y\",\"type\":\"bar\"},{\"alignmentgroup\":\"True\",\"hovertemplate\":\"Month=2023-09<br>Ref=%{x}<br>QTY=%{y}<extra></extra>\",\"legendgroup\":\"2023-09\",\"marker\":{\"color\":\"#19d3f3\",\"pattern\":{\"shape\":\"\"}},\"name\":\"2023-09\",\"offsetgroup\":\"2023-09\",\"orientation\":\"v\",\"showlegend\":true,\"textposition\":\"auto\",\"x\":[\"2023-01-02(W01)\",\"2023-01-09(W02)\",\"2023-01-16(W03)\",\"2023-01-23(W04)\",\"2023-01-30(W05)\",\"2023-02-06(W06)\",\"2023-02-13(W07)\",\"2023-02-20(W08)\",\"2023-02-27(W09)\",\"2023-03-06(W10)\",\"2023-03-13(W11)\",\"2023-03-20(W12)\",\"2023-03-27(W13)\",\"2023-04-03(W14)\",\"2023-04-10(W15)\",\"2023-04-17(W16)\"],\"xaxis\":\"x\",\"y\":[0,0,0,0,0,0,0,0,0,0,0,0,0,0,0,0],\"yaxis\":\"y\",\"type\":\"bar\"}],                        {\"template\":{\"data\":{\"histogram2dcontour\":[{\"type\":\"histogram2dcontour\",\"colorbar\":{\"outlinewidth\":0,\"ticks\":\"\"},\"colorscale\":[[0.0,\"#0d0887\"],[0.1111111111111111,\"#46039f\"],[0.2222222222222222,\"#7201a8\"],[0.3333333333333333,\"#9c179e\"],[0.4444444444444444,\"#bd3786\"],[0.5555555555555556,\"#d8576b\"],[0.6666666666666666,\"#ed7953\"],[0.7777777777777778,\"#fb9f3a\"],[0.8888888888888888,\"#fdca26\"],[1.0,\"#f0f921\"]]}],\"choropleth\":[{\"type\":\"choropleth\",\"colorbar\":{\"outlinewidth\":0,\"ticks\":\"\"}}],\"histogram2d\":[{\"type\":\"histogram2d\",\"colorbar\":{\"outlinewidth\":0,\"ticks\":\"\"},\"colorscale\":[[0.0,\"#0d0887\"],[0.1111111111111111,\"#46039f\"],[0.2222222222222222,\"#7201a8\"],[0.3333333333333333,\"#9c179e\"],[0.4444444444444444,\"#bd3786\"],[0.5555555555555556,\"#d8576b\"],[0.6666666666666666,\"#ed7953\"],[0.7777777777777778,\"#fb9f3a\"],[0.8888888888888888,\"#fdca26\"],[1.0,\"#f0f921\"]]}],\"heatmap\":[{\"type\":\"heatmap\",\"colorbar\":{\"outlinewidth\":0,\"ticks\":\"\"},\"colorscale\":[[0.0,\"#0d0887\"],[0.1111111111111111,\"#46039f\"],[0.2222222222222222,\"#7201a8\"],[0.3333333333333333,\"#9c179e\"],[0.4444444444444444,\"#bd3786\"],[0.5555555555555556,\"#d8576b\"],[0.6666666666666666,\"#ed7953\"],[0.7777777777777778,\"#fb9f3a\"],[0.8888888888888888,\"#fdca26\"],[1.0,\"#f0f921\"]]}],\"heatmapgl\":[{\"type\":\"heatmapgl\",\"colorbar\":{\"outlinewidth\":0,\"ticks\":\"\"},\"colorscale\":[[0.0,\"#0d0887\"],[0.1111111111111111,\"#46039f\"],[0.2222222222222222,\"#7201a8\"],[0.3333333333333333,\"#9c179e\"],[0.4444444444444444,\"#bd3786\"],[0.5555555555555556,\"#d8576b\"],[0.6666666666666666,\"#ed7953\"],[0.7777777777777778,\"#fb9f3a\"],[0.8888888888888888,\"#fdca26\"],[1.0,\"#f0f921\"]]}],\"contourcarpet\":[{\"type\":\"contourcarpet\",\"colorbar\":{\"outlinewidth\":0,\"ticks\":\"\"}}],\"contour\":[{\"type\":\"contour\",\"colorbar\":{\"outlinewidth\":0,\"ticks\":\"\"},\"colorscale\":[[0.0,\"#0d0887\"],[0.1111111111111111,\"#46039f\"],[0.2222222222222222,\"#7201a8\"],[0.3333333333333333,\"#9c179e\"],[0.4444444444444444,\"#bd3786\"],[0.5555555555555556,\"#d8576b\"],[0.6666666666666666,\"#ed7953\"],[0.7777777777777778,\"#fb9f3a\"],[0.8888888888888888,\"#fdca26\"],[1.0,\"#f0f921\"]]}],\"surface\":[{\"type\":\"surface\",\"colorbar\":{\"outlinewidth\":0,\"ticks\":\"\"},\"colorscale\":[[0.0,\"#0d0887\"],[0.1111111111111111,\"#46039f\"],[0.2222222222222222,\"#7201a8\"],[0.3333333333333333,\"#9c179e\"],[0.4444444444444444,\"#bd3786\"],[0.5555555555555556,\"#d8576b\"],[0.6666666666666666,\"#ed7953\"],[0.7777777777777778,\"#fb9f3a\"],[0.8888888888888888,\"#fdca26\"],[1.0,\"#f0f921\"]]}],\"mesh3d\":[{\"type\":\"mesh3d\",\"colorbar\":{\"outlinewidth\":0,\"ticks\":\"\"}}],\"scatter\":[{\"fillpattern\":{\"fillmode\":\"overlay\",\"size\":10,\"solidity\":0.2},\"type\":\"scatter\"}],\"parcoords\":[{\"type\":\"parcoords\",\"line\":{\"colorbar\":{\"outlinewidth\":0,\"ticks\":\"\"}}}],\"scatterpolargl\":[{\"type\":\"scatterpolargl\",\"marker\":{\"colorbar\":{\"outlinewidth\":0,\"ticks\":\"\"}}}],\"bar\":[{\"error_x\":{\"color\":\"#2a3f5f\"},\"error_y\":{\"color\":\"#2a3f5f\"},\"marker\":{\"line\":{\"color\":\"#E5ECF6\",\"width\":0.5},\"pattern\":{\"fillmode\":\"overlay\",\"size\":10,\"solidity\":0.2}},\"type\":\"bar\"}],\"scattergeo\":[{\"type\":\"scattergeo\",\"marker\":{\"colorbar\":{\"outlinewidth\":0,\"ticks\":\"\"}}}],\"scatterpolar\":[{\"type\":\"scatterpolar\",\"marker\":{\"colorbar\":{\"outlinewidth\":0,\"ticks\":\"\"}}}],\"histogram\":[{\"marker\":{\"pattern\":{\"fillmode\":\"overlay\",\"size\":10,\"solidity\":0.2}},\"type\":\"histogram\"}],\"scattergl\":[{\"type\":\"scattergl\",\"marker\":{\"colorbar\":{\"outlinewidth\":0,\"ticks\":\"\"}}}],\"scatter3d\":[{\"type\":\"scatter3d\",\"line\":{\"colorbar\":{\"outlinewidth\":0,\"ticks\":\"\"}},\"marker\":{\"colorbar\":{\"outlinewidth\":0,\"ticks\":\"\"}}}],\"scattermapbox\":[{\"type\":\"scattermapbox\",\"marker\":{\"colorbar\":{\"outlinewidth\":0,\"ticks\":\"\"}}}],\"scatterternary\":[{\"type\":\"scatterternary\",\"marker\":{\"colorbar\":{\"outlinewidth\":0,\"ticks\":\"\"}}}],\"scattercarpet\":[{\"type\":\"scattercarpet\",\"marker\":{\"colorbar\":{\"outlinewidth\":0,\"ticks\":\"\"}}}],\"carpet\":[{\"aaxis\":{\"endlinecolor\":\"#2a3f5f\",\"gridcolor\":\"white\",\"linecolor\":\"white\",\"minorgridcolor\":\"white\",\"startlinecolor\":\"#2a3f5f\"},\"baxis\":{\"endlinecolor\":\"#2a3f5f\",\"gridcolor\":\"white\",\"linecolor\":\"white\",\"minorgridcolor\":\"white\",\"startlinecolor\":\"#2a3f5f\"},\"type\":\"carpet\"}],\"table\":[{\"cells\":{\"fill\":{\"color\":\"#EBF0F8\"},\"line\":{\"color\":\"white\"}},\"header\":{\"fill\":{\"color\":\"#C8D4E3\"},\"line\":{\"color\":\"white\"}},\"type\":\"table\"}],\"barpolar\":[{\"marker\":{\"line\":{\"color\":\"#E5ECF6\",\"width\":0.5},\"pattern\":{\"fillmode\":\"overlay\",\"size\":10,\"solidity\":0.2}},\"type\":\"barpolar\"}],\"pie\":[{\"automargin\":true,\"type\":\"pie\"}]},\"layout\":{\"autotypenumbers\":\"strict\",\"colorway\":[\"#636efa\",\"#EF553B\",\"#00cc96\",\"#ab63fa\",\"#FFA15A\",\"#19d3f3\",\"#FF6692\",\"#B6E880\",\"#FF97FF\",\"#FECB52\"],\"font\":{\"color\":\"#2a3f5f\"},\"hovermode\":\"closest\",\"hoverlabel\":{\"align\":\"left\"},\"paper_bgcolor\":\"white\",\"plot_bgcolor\":\"#E5ECF6\",\"polar\":{\"bgcolor\":\"#E5ECF6\",\"angularaxis\":{\"gridcolor\":\"white\",\"linecolor\":\"white\",\"ticks\":\"\"},\"radialaxis\":{\"gridcolor\":\"white\",\"linecolor\":\"white\",\"ticks\":\"\"}},\"ternary\":{\"bgcolor\":\"#E5ECF6\",\"aaxis\":{\"gridcolor\":\"white\",\"linecolor\":\"white\",\"ticks\":\"\"},\"baxis\":{\"gridcolor\":\"white\",\"linecolor\":\"white\",\"ticks\":\"\"},\"caxis\":{\"gridcolor\":\"white\",\"linecolor\":\"white\",\"ticks\":\"\"}},\"coloraxis\":{\"colorbar\":{\"outlinewidth\":0,\"ticks\":\"\"}},\"colorscale\":{\"sequential\":[[0.0,\"#0d0887\"],[0.1111111111111111,\"#46039f\"],[0.2222222222222222,\"#7201a8\"],[0.3333333333333333,\"#9c179e\"],[0.4444444444444444,\"#bd3786\"],[0.5555555555555556,\"#d8576b\"],[0.6666666666666666,\"#ed7953\"],[0.7777777777777778,\"#fb9f3a\"],[0.8888888888888888,\"#fdca26\"],[1.0,\"#f0f921\"]],\"sequentialminus\":[[0.0,\"#0d0887\"],[0.1111111111111111,\"#46039f\"],[0.2222222222222222,\"#7201a8\"],[0.3333333333333333,\"#9c179e\"],[0.4444444444444444,\"#bd3786\"],[0.5555555555555556,\"#d8576b\"],[0.6666666666666666,\"#ed7953\"],[0.7777777777777778,\"#fb9f3a\"],[0.8888888888888888,\"#fdca26\"],[1.0,\"#f0f921\"]],\"diverging\":[[0,\"#8e0152\"],[0.1,\"#c51b7d\"],[0.2,\"#de77ae\"],[0.3,\"#f1b6da\"],[0.4,\"#fde0ef\"],[0.5,\"#f7f7f7\"],[0.6,\"#e6f5d0\"],[0.7,\"#b8e186\"],[0.8,\"#7fbc41\"],[0.9,\"#4d9221\"],[1,\"#276419\"]]},\"xaxis\":{\"gridcolor\":\"white\",\"linecolor\":\"white\",\"ticks\":\"\",\"title\":{\"standoff\":15},\"zerolinecolor\":\"white\",\"automargin\":true,\"zerolinewidth\":2},\"yaxis\":{\"gridcolor\":\"white\",\"linecolor\":\"white\",\"ticks\":\"\",\"title\":{\"standoff\":15},\"zerolinecolor\":\"white\",\"automargin\":true,\"zerolinewidth\":2},\"scene\":{\"xaxis\":{\"backgroundcolor\":\"#E5ECF6\",\"gridcolor\":\"white\",\"linecolor\":\"white\",\"showbackground\":true,\"ticks\":\"\",\"zerolinecolor\":\"white\",\"gridwidth\":2},\"yaxis\":{\"backgroundcolor\":\"#E5ECF6\",\"gridcolor\":\"white\",\"linecolor\":\"white\",\"showbackground\":true,\"ticks\":\"\",\"zerolinecolor\":\"white\",\"gridwidth\":2},\"zaxis\":{\"backgroundcolor\":\"#E5ECF6\",\"gridcolor\":\"white\",\"linecolor\":\"white\",\"showbackground\":true,\"ticks\":\"\",\"zerolinecolor\":\"white\",\"gridwidth\":2}},\"shapedefaults\":{\"line\":{\"color\":\"#2a3f5f\"}},\"annotationdefaults\":{\"arrowcolor\":\"#2a3f5f\",\"arrowhead\":0,\"arrowwidth\":1},\"geo\":{\"bgcolor\":\"white\",\"landcolor\":\"#E5ECF6\",\"subunitcolor\":\"white\",\"showland\":true,\"showlakes\":true,\"lakecolor\":\"white\"},\"title\":{\"x\":0.05},\"mapbox\":{\"style\":\"light\"}}},\"xaxis\":{\"anchor\":\"y\",\"domain\":[0.0,1.0],\"title\":{\"text\":\"Ref\"},\"tickangle\":70},\"yaxis\":{\"anchor\":\"x\",\"domain\":[0.0,1.0],\"title\":{\"text\":\"QTY\"}},\"legend\":{\"title\":{\"text\":\"Month\"},\"tracegroupgap\":0},\"title\":{\"text\":\"14T90Q Variation History\"},\"barmode\":\"relative\",\"height\":400,\"width\":500},                        {\"responsive\": true}                    ).then(function(){\n",
       "                            \n",
       "var gd = document.getElementById('d5f31062-309f-44c0-aaca-7a6700112174');\n",
       "var x = new MutationObserver(function (mutations, observer) {{\n",
       "        var display = window.getComputedStyle(gd).display;\n",
       "        if (!display || display === 'none') {{\n",
       "            console.log([gd, 'removed!']);\n",
       "            Plotly.purge(gd);\n",
       "            observer.disconnect();\n",
       "        }}\n",
       "}});\n",
       "\n",
       "// Listen for the removal of the full notebook cells\n",
       "var notebookContainer = gd.closest('#notebook-container');\n",
       "if (notebookContainer) {{\n",
       "    x.observe(notebookContainer, {childList: true});\n",
       "}}\n",
       "\n",
       "// Listen for the clearing of the current output cell\n",
       "var outputEl = gd.closest('.output');\n",
       "if (outputEl) {{\n",
       "    x.observe(outputEl, {childList: true});\n",
       "}}\n",
       "\n",
       "                        })                };                });            </script>        </div>"
      ]
     },
     "metadata": {},
     "output_type": "display_data"
    }
   ],
   "source": [
    "interval = 20 # 금주 이후 몇주 동안의 변동을 조회할 지 설정\n",
    "period = 20 # 과거 몇주 간의 변동을 조회할 지 설정\n",
    "thisweek = get_weekname(datetime.date.today()) # 이번주의 Weekname 가져옴\n",
    "ver = 'Latest' # Forecast 변동을 조회할 version 설정(Latest, Final, ODM Release)\n",
    "model = r'14T90Q' # Forecast 변동을 조회할 모델 설정(.로 하면 모든 모델)\n",
    "site = r'.' # 조회할 법인명(.로 하면 모든 법인)\n",
    "forecast_period = [get_weekname_from(thisweek, i) for i in range(interval)] # forecast 변동을 보고 싶은 구간 설정\n",
    "history_period = [get_weekname_from(thisweek, i) for i in range(-period, 0, 1)] # Forecast 변동 이력을 조회할 구간 설정\n",
    "\n",
    "with open('D:/Data/GSCP raw data.bin', 'rb') as f:\n",
    "    df = pickle.load(f)\n",
    "\n",
    "df = df[df['Mapping Model.Suffix'].apply(lambda x:x.split('-')[0]).replace(srt_model).str.contains(model)] # 조회할 모델로만 Sorting 함\n",
    "# 데이터프레임 추출 조건 설정\n",
    "c1 = df['Updated_at'].isin(df[['Ref', 'Ver', 'Updated_at']].drop_duplicates().groupby(['Ref', 'Ver'])['Updated_at'].max().unstack()[ver]) # 찾고자 하는 ver별의 가장 최근 update 된 시간으로 조회하기 위한 조건\n",
    "c2 = (df['Ver'] == ver) # 조회할 Version 만 sorting 하기 위한 조건\n",
    "c3 = df['Ref'].isin(history_period) # Forecast 변동 이력을 조회할 구간만 sorting 하기 위한 조건\n",
    "c4 = df['To Site'].str.contains(site)\n",
    "\n",
    "df = df[c1 & c2 & c3 & c4].groupby('Ref').sum()[forecast_period]\n",
    "df = monthly_sum(df, 'Ref').stack().reset_index()\n",
    "df.rename(columns={'level_1':'Month', 0:'QTY'}, inplace=True)\n",
    "fig = px.bar(df, x='Ref', y='QTY', color='Month', width=500, height=400, title=f'{model} Variation History')\n",
    "fig.update_xaxes(tickangle=70)\n",
    "fig.show()"
   ]
  },
  {
   "cell_type": "markdown",
   "id": "659760ae",
   "metadata": {},
   "source": [
    "# 2. 특정모델/특정Site의 과거 특정시점 이후 물동의 변동결과"
   ]
  },
  {
   "cell_type": "code",
   "execution_count": 104,
   "id": "9eae5194",
   "metadata": {},
   "outputs": [
    {
     "name": "stderr",
     "output_type": "stream",
     "text": [
      "C:\\Users\\paul76.lee\\AppData\\Local\\Temp\\ipykernel_3272\\2950904878.py:23: FutureWarning:\n",
      "\n",
      "The default value of numeric_only in DataFrameGroupBy.sum is deprecated. In a future version, numeric_only will default to False. Either specify numeric_only or select only columns which should be valid for the function.\n",
      "\n"
     ]
    },
    {
     "data": {
      "application/vnd.plotly.v1+json": {
       "config": {
        "plotlyServerURL": "https://plot.ly"
       },
       "data": [
        {
         "alignmentgroup": "True",
         "hovertemplate": "Month=2023-01<br>Ref=%{x}<br>QTY=%{y}<extra></extra>",
         "legendgroup": "2023-01",
         "marker": {
          "color": "#636efa",
          "pattern": {
           "shape": ""
          }
         },
         "name": "2023-01",
         "offsetgroup": "2023-01",
         "orientation": "v",
         "showlegend": true,
         "textposition": "auto",
         "type": "bar",
         "x": [
          "2023-01-02(W01)",
          "2023-01-09(W02)",
          "2023-01-16(W03)",
          "2023-01-23(W04)",
          "2023-01-30(W05)",
          "2023-02-06(W06)",
          "2023-02-13(W07)",
          "2023-02-20(W08)",
          "2023-02-27(W09)",
          "2023-03-06(W10)",
          "2023-03-13(W11)",
          "2023-03-20(W12)",
          "2023-03-27(W13)",
          "2023-04-03(W14)",
          "2023-04-10(W15)"
         ],
         "xaxis": "x",
         "y": [
          695,
          695,
          695,
          695,
          215,
          215,
          215,
          215,
          215,
          215,
          215,
          215,
          215,
          215,
          215
         ],
         "yaxis": "y"
        },
        {
         "alignmentgroup": "True",
         "hovertemplate": "Month=2023-02<br>Ref=%{x}<br>QTY=%{y}<extra></extra>",
         "legendgroup": "2023-02",
         "marker": {
          "color": "#EF553B",
          "pattern": {
           "shape": ""
          }
         },
         "name": "2023-02",
         "offsetgroup": "2023-02",
         "orientation": "v",
         "showlegend": true,
         "textposition": "auto",
         "type": "bar",
         "x": [
          "2023-01-02(W01)",
          "2023-01-09(W02)",
          "2023-01-16(W03)",
          "2023-01-23(W04)",
          "2023-01-30(W05)",
          "2023-02-06(W06)",
          "2023-02-13(W07)",
          "2023-02-20(W08)",
          "2023-02-27(W09)",
          "2023-03-06(W10)",
          "2023-03-13(W11)",
          "2023-03-20(W12)",
          "2023-03-27(W13)",
          "2023-04-03(W14)",
          "2023-04-10(W15)"
         ],
         "xaxis": "x",
         "y": [
          90,
          90,
          70,
          85,
          520,
          435,
          435,
          165,
          194,
          194,
          194,
          194,
          194,
          194,
          194
         ],
         "yaxis": "y"
        },
        {
         "alignmentgroup": "True",
         "hovertemplate": "Month=2023-03<br>Ref=%{x}<br>QTY=%{y}<extra></extra>",
         "legendgroup": "2023-03",
         "marker": {
          "color": "#00cc96",
          "pattern": {
           "shape": ""
          }
         },
         "name": "2023-03",
         "offsetgroup": "2023-03",
         "orientation": "v",
         "showlegend": true,
         "textposition": "auto",
         "type": "bar",
         "x": [
          "2023-01-02(W01)",
          "2023-01-09(W02)",
          "2023-01-16(W03)",
          "2023-01-23(W04)",
          "2023-01-30(W05)",
          "2023-02-06(W06)",
          "2023-02-13(W07)",
          "2023-02-20(W08)",
          "2023-02-27(W09)",
          "2023-03-06(W10)",
          "2023-03-13(W11)",
          "2023-03-20(W12)",
          "2023-03-27(W13)",
          "2023-04-03(W14)",
          "2023-04-10(W15)"
         ],
         "xaxis": "x",
         "y": [
          10,
          70,
          120,
          120,
          205,
          160,
          130,
          400,
          366,
          266,
          266,
          266,
          266,
          241,
          241
         ],
         "yaxis": "y"
        },
        {
         "alignmentgroup": "True",
         "hovertemplate": "Month=2023-04<br>Ref=%{x}<br>QTY=%{y}<extra></extra>",
         "legendgroup": "2023-04",
         "marker": {
          "color": "#ab63fa",
          "pattern": {
           "shape": ""
          }
         },
         "name": "2023-04",
         "offsetgroup": "2023-04",
         "orientation": "v",
         "showlegend": true,
         "textposition": "auto",
         "type": "bar",
         "x": [
          "2023-01-02(W01)",
          "2023-01-09(W02)",
          "2023-01-16(W03)",
          "2023-01-23(W04)",
          "2023-01-30(W05)",
          "2023-02-06(W06)",
          "2023-02-13(W07)",
          "2023-02-20(W08)",
          "2023-02-27(W09)",
          "2023-03-06(W10)",
          "2023-03-13(W11)",
          "2023-03-20(W12)",
          "2023-03-27(W13)",
          "2023-04-03(W14)",
          "2023-04-10(W15)"
         ],
         "xaxis": "x",
         "y": [
          5,
          5,
          5,
          5,
          165,
          160,
          190,
          190,
          200,
          300,
          220,
          210,
          210,
          205,
          205
         ],
         "yaxis": "y"
        },
        {
         "alignmentgroup": "True",
         "hovertemplate": "Month=2023-05<br>Ref=%{x}<br>QTY=%{y}<extra></extra>",
         "legendgroup": "2023-05",
         "marker": {
          "color": "#FFA15A",
          "pattern": {
           "shape": ""
          }
         },
         "name": "2023-05",
         "offsetgroup": "2023-05",
         "orientation": "v",
         "showlegend": true,
         "textposition": "auto",
         "type": "bar",
         "x": [
          "2023-01-02(W01)",
          "2023-01-09(W02)",
          "2023-01-16(W03)",
          "2023-01-23(W04)",
          "2023-01-30(W05)",
          "2023-02-06(W06)",
          "2023-02-13(W07)",
          "2023-02-20(W08)",
          "2023-02-27(W09)",
          "2023-03-06(W10)",
          "2023-03-13(W11)",
          "2023-03-20(W12)",
          "2023-03-27(W13)",
          "2023-04-03(W14)",
          "2023-04-10(W15)"
         ],
         "xaxis": "x",
         "y": [
          5,
          5,
          5,
          5,
          5,
          35,
          35,
          35,
          200,
          360,
          350,
          350,
          350,
          400,
          180
         ],
         "yaxis": "y"
        },
        {
         "alignmentgroup": "True",
         "hovertemplate": "Month=2023-06<br>Ref=%{x}<br>QTY=%{y}<extra></extra>",
         "legendgroup": "2023-06",
         "marker": {
          "color": "#19d3f3",
          "pattern": {
           "shape": ""
          }
         },
         "name": "2023-06",
         "offsetgroup": "2023-06",
         "orientation": "v",
         "showlegend": true,
         "textposition": "auto",
         "type": "bar",
         "x": [
          "2023-01-02(W01)",
          "2023-01-09(W02)",
          "2023-01-16(W03)",
          "2023-01-23(W04)",
          "2023-01-30(W05)",
          "2023-02-06(W06)",
          "2023-02-13(W07)",
          "2023-02-20(W08)",
          "2023-02-27(W09)",
          "2023-03-06(W10)",
          "2023-03-13(W11)",
          "2023-03-20(W12)",
          "2023-03-27(W13)",
          "2023-04-03(W14)",
          "2023-04-10(W15)"
         ],
         "xaxis": "x",
         "y": [
          0,
          5,
          5,
          5,
          5,
          5,
          5,
          5,
          5,
          645,
          740,
          750,
          740,
          720,
          950
         ],
         "yaxis": "y"
        },
        {
         "alignmentgroup": "True",
         "hovertemplate": "Month=2023-07<br>Ref=%{x}<br>QTY=%{y}<extra></extra>",
         "legendgroup": "2023-07",
         "marker": {
          "color": "#FF6692",
          "pattern": {
           "shape": ""
          }
         },
         "name": "2023-07",
         "offsetgroup": "2023-07",
         "orientation": "v",
         "showlegend": true,
         "textposition": "auto",
         "type": "bar",
         "x": [
          "2023-01-02(W01)",
          "2023-01-09(W02)",
          "2023-01-16(W03)",
          "2023-01-23(W04)",
          "2023-01-30(W05)",
          "2023-02-06(W06)",
          "2023-02-13(W07)",
          "2023-02-20(W08)",
          "2023-02-27(W09)",
          "2023-03-06(W10)",
          "2023-03-13(W11)",
          "2023-03-20(W12)",
          "2023-03-27(W13)",
          "2023-04-03(W14)",
          "2023-04-10(W15)"
         ],
         "xaxis": "x",
         "y": [
          0,
          0,
          0,
          0,
          0,
          5,
          5,
          5,
          5,
          5,
          0,
          0,
          0,
          0,
          0
         ],
         "yaxis": "y"
        },
        {
         "alignmentgroup": "True",
         "hovertemplate": "Month=2023-08<br>Ref=%{x}<br>QTY=%{y}<extra></extra>",
         "legendgroup": "2023-08",
         "marker": {
          "color": "#B6E880",
          "pattern": {
           "shape": ""
          }
         },
         "name": "2023-08",
         "offsetgroup": "2023-08",
         "orientation": "v",
         "showlegend": true,
         "textposition": "auto",
         "type": "bar",
         "x": [
          "2023-01-02(W01)",
          "2023-01-09(W02)",
          "2023-01-16(W03)",
          "2023-01-23(W04)",
          "2023-01-30(W05)",
          "2023-02-06(W06)",
          "2023-02-13(W07)",
          "2023-02-20(W08)",
          "2023-02-27(W09)",
          "2023-03-06(W10)",
          "2023-03-13(W11)",
          "2023-03-20(W12)",
          "2023-03-27(W13)",
          "2023-04-03(W14)",
          "2023-04-10(W15)"
         ],
         "xaxis": "x",
         "y": [
          0,
          0,
          0,
          0,
          0,
          0,
          0,
          0,
          0,
          0,
          0,
          0,
          0,
          0,
          0
         ],
         "yaxis": "y"
        },
        {
         "alignmentgroup": "True",
         "hovertemplate": "Month=2023-09<br>Ref=%{x}<br>QTY=%{y}<extra></extra>",
         "legendgroup": "2023-09",
         "marker": {
          "color": "#FF97FF",
          "pattern": {
           "shape": ""
          }
         },
         "name": "2023-09",
         "offsetgroup": "2023-09",
         "orientation": "v",
         "showlegend": true,
         "textposition": "auto",
         "type": "bar",
         "x": [
          "2023-01-02(W01)",
          "2023-01-09(W02)",
          "2023-01-16(W03)",
          "2023-01-23(W04)",
          "2023-01-30(W05)",
          "2023-02-06(W06)",
          "2023-02-13(W07)",
          "2023-02-20(W08)",
          "2023-02-27(W09)",
          "2023-03-06(W10)",
          "2023-03-13(W11)",
          "2023-03-20(W12)",
          "2023-03-27(W13)",
          "2023-04-03(W14)",
          "2023-04-10(W15)"
         ],
         "xaxis": "x",
         "y": [
          0,
          0,
          0,
          0,
          0,
          0,
          0,
          0,
          0,
          0,
          0,
          0,
          0,
          0,
          0
         ],
         "yaxis": "y"
        },
        {
         "alignmentgroup": "True",
         "hovertemplate": "Month=2023-10<br>Ref=%{x}<br>QTY=%{y}<extra></extra>",
         "legendgroup": "2023-10",
         "marker": {
          "color": "#FECB52",
          "pattern": {
           "shape": ""
          }
         },
         "name": "2023-10",
         "offsetgroup": "2023-10",
         "orientation": "v",
         "showlegend": true,
         "textposition": "auto",
         "type": "bar",
         "x": [
          "2023-01-02(W01)",
          "2023-01-09(W02)",
          "2023-01-16(W03)",
          "2023-01-23(W04)",
          "2023-01-30(W05)",
          "2023-02-06(W06)",
          "2023-02-13(W07)",
          "2023-02-20(W08)",
          "2023-02-27(W09)",
          "2023-03-06(W10)",
          "2023-03-13(W11)",
          "2023-03-20(W12)",
          "2023-03-27(W13)",
          "2023-04-03(W14)",
          "2023-04-10(W15)"
         ],
         "xaxis": "x",
         "y": [
          0,
          0,
          0,
          0,
          0,
          0,
          0,
          0,
          0,
          0,
          0,
          0,
          0,
          0,
          0
         ],
         "yaxis": "y"
        },
        {
         "alignmentgroup": "True",
         "hovertemplate": "Month=2023-11<br>Ref=%{x}<br>QTY=%{y}<extra></extra>",
         "legendgroup": "2023-11",
         "marker": {
          "color": "#636efa",
          "pattern": {
           "shape": ""
          }
         },
         "name": "2023-11",
         "offsetgroup": "2023-11",
         "orientation": "v",
         "showlegend": true,
         "textposition": "auto",
         "type": "bar",
         "x": [
          "2023-01-02(W01)",
          "2023-01-09(W02)",
          "2023-01-16(W03)",
          "2023-01-23(W04)",
          "2023-01-30(W05)",
          "2023-02-06(W06)",
          "2023-02-13(W07)",
          "2023-02-20(W08)",
          "2023-02-27(W09)",
          "2023-03-06(W10)",
          "2023-03-13(W11)",
          "2023-03-20(W12)",
          "2023-03-27(W13)",
          "2023-04-03(W14)",
          "2023-04-10(W15)"
         ],
         "xaxis": "x",
         "y": [
          0,
          0,
          0,
          0,
          0,
          0,
          0,
          0,
          0,
          0,
          0,
          0,
          0,
          0,
          0
         ],
         "yaxis": "y"
        },
        {
         "alignmentgroup": "True",
         "hovertemplate": "Month=2023-12<br>Ref=%{x}<br>QTY=%{y}<extra></extra>",
         "legendgroup": "2023-12",
         "marker": {
          "color": "#EF553B",
          "pattern": {
           "shape": ""
          }
         },
         "name": "2023-12",
         "offsetgroup": "2023-12",
         "orientation": "v",
         "showlegend": true,
         "textposition": "auto",
         "type": "bar",
         "x": [
          "2023-01-02(W01)",
          "2023-01-09(W02)",
          "2023-01-16(W03)",
          "2023-01-23(W04)",
          "2023-01-30(W05)",
          "2023-02-06(W06)",
          "2023-02-13(W07)",
          "2023-02-20(W08)",
          "2023-02-27(W09)",
          "2023-03-06(W10)",
          "2023-03-13(W11)",
          "2023-03-20(W12)",
          "2023-03-27(W13)",
          "2023-04-03(W14)",
          "2023-04-10(W15)"
         ],
         "xaxis": "x",
         "y": [
          0,
          0,
          0,
          0,
          0,
          0,
          0,
          0,
          0,
          0,
          0,
          0,
          0,
          0,
          0
         ],
         "yaxis": "y"
        }
       ],
       "layout": {
        "barmode": "relative",
        "height": 400,
        "legend": {
         "title": {
          "text": "Month"
         },
         "tracegroupgap": 0
        },
        "template": {
         "data": {
          "bar": [
           {
            "error_x": {
             "color": "#2a3f5f"
            },
            "error_y": {
             "color": "#2a3f5f"
            },
            "marker": {
             "line": {
              "color": "#E5ECF6",
              "width": 0.5
             },
             "pattern": {
              "fillmode": "overlay",
              "size": 10,
              "solidity": 0.2
             }
            },
            "type": "bar"
           }
          ],
          "barpolar": [
           {
            "marker": {
             "line": {
              "color": "#E5ECF6",
              "width": 0.5
             },
             "pattern": {
              "fillmode": "overlay",
              "size": 10,
              "solidity": 0.2
             }
            },
            "type": "barpolar"
           }
          ],
          "carpet": [
           {
            "aaxis": {
             "endlinecolor": "#2a3f5f",
             "gridcolor": "white",
             "linecolor": "white",
             "minorgridcolor": "white",
             "startlinecolor": "#2a3f5f"
            },
            "baxis": {
             "endlinecolor": "#2a3f5f",
             "gridcolor": "white",
             "linecolor": "white",
             "minorgridcolor": "white",
             "startlinecolor": "#2a3f5f"
            },
            "type": "carpet"
           }
          ],
          "choropleth": [
           {
            "colorbar": {
             "outlinewidth": 0,
             "ticks": ""
            },
            "type": "choropleth"
           }
          ],
          "contour": [
           {
            "colorbar": {
             "outlinewidth": 0,
             "ticks": ""
            },
            "colorscale": [
             [
              0,
              "#0d0887"
             ],
             [
              0.1111111111111111,
              "#46039f"
             ],
             [
              0.2222222222222222,
              "#7201a8"
             ],
             [
              0.3333333333333333,
              "#9c179e"
             ],
             [
              0.4444444444444444,
              "#bd3786"
             ],
             [
              0.5555555555555556,
              "#d8576b"
             ],
             [
              0.6666666666666666,
              "#ed7953"
             ],
             [
              0.7777777777777778,
              "#fb9f3a"
             ],
             [
              0.8888888888888888,
              "#fdca26"
             ],
             [
              1,
              "#f0f921"
             ]
            ],
            "type": "contour"
           }
          ],
          "contourcarpet": [
           {
            "colorbar": {
             "outlinewidth": 0,
             "ticks": ""
            },
            "type": "contourcarpet"
           }
          ],
          "heatmap": [
           {
            "colorbar": {
             "outlinewidth": 0,
             "ticks": ""
            },
            "colorscale": [
             [
              0,
              "#0d0887"
             ],
             [
              0.1111111111111111,
              "#46039f"
             ],
             [
              0.2222222222222222,
              "#7201a8"
             ],
             [
              0.3333333333333333,
              "#9c179e"
             ],
             [
              0.4444444444444444,
              "#bd3786"
             ],
             [
              0.5555555555555556,
              "#d8576b"
             ],
             [
              0.6666666666666666,
              "#ed7953"
             ],
             [
              0.7777777777777778,
              "#fb9f3a"
             ],
             [
              0.8888888888888888,
              "#fdca26"
             ],
             [
              1,
              "#f0f921"
             ]
            ],
            "type": "heatmap"
           }
          ],
          "heatmapgl": [
           {
            "colorbar": {
             "outlinewidth": 0,
             "ticks": ""
            },
            "colorscale": [
             [
              0,
              "#0d0887"
             ],
             [
              0.1111111111111111,
              "#46039f"
             ],
             [
              0.2222222222222222,
              "#7201a8"
             ],
             [
              0.3333333333333333,
              "#9c179e"
             ],
             [
              0.4444444444444444,
              "#bd3786"
             ],
             [
              0.5555555555555556,
              "#d8576b"
             ],
             [
              0.6666666666666666,
              "#ed7953"
             ],
             [
              0.7777777777777778,
              "#fb9f3a"
             ],
             [
              0.8888888888888888,
              "#fdca26"
             ],
             [
              1,
              "#f0f921"
             ]
            ],
            "type": "heatmapgl"
           }
          ],
          "histogram": [
           {
            "marker": {
             "pattern": {
              "fillmode": "overlay",
              "size": 10,
              "solidity": 0.2
             }
            },
            "type": "histogram"
           }
          ],
          "histogram2d": [
           {
            "colorbar": {
             "outlinewidth": 0,
             "ticks": ""
            },
            "colorscale": [
             [
              0,
              "#0d0887"
             ],
             [
              0.1111111111111111,
              "#46039f"
             ],
             [
              0.2222222222222222,
              "#7201a8"
             ],
             [
              0.3333333333333333,
              "#9c179e"
             ],
             [
              0.4444444444444444,
              "#bd3786"
             ],
             [
              0.5555555555555556,
              "#d8576b"
             ],
             [
              0.6666666666666666,
              "#ed7953"
             ],
             [
              0.7777777777777778,
              "#fb9f3a"
             ],
             [
              0.8888888888888888,
              "#fdca26"
             ],
             [
              1,
              "#f0f921"
             ]
            ],
            "type": "histogram2d"
           }
          ],
          "histogram2dcontour": [
           {
            "colorbar": {
             "outlinewidth": 0,
             "ticks": ""
            },
            "colorscale": [
             [
              0,
              "#0d0887"
             ],
             [
              0.1111111111111111,
              "#46039f"
             ],
             [
              0.2222222222222222,
              "#7201a8"
             ],
             [
              0.3333333333333333,
              "#9c179e"
             ],
             [
              0.4444444444444444,
              "#bd3786"
             ],
             [
              0.5555555555555556,
              "#d8576b"
             ],
             [
              0.6666666666666666,
              "#ed7953"
             ],
             [
              0.7777777777777778,
              "#fb9f3a"
             ],
             [
              0.8888888888888888,
              "#fdca26"
             ],
             [
              1,
              "#f0f921"
             ]
            ],
            "type": "histogram2dcontour"
           }
          ],
          "mesh3d": [
           {
            "colorbar": {
             "outlinewidth": 0,
             "ticks": ""
            },
            "type": "mesh3d"
           }
          ],
          "parcoords": [
           {
            "line": {
             "colorbar": {
              "outlinewidth": 0,
              "ticks": ""
             }
            },
            "type": "parcoords"
           }
          ],
          "pie": [
           {
            "automargin": true,
            "type": "pie"
           }
          ],
          "scatter": [
           {
            "fillpattern": {
             "fillmode": "overlay",
             "size": 10,
             "solidity": 0.2
            },
            "type": "scatter"
           }
          ],
          "scatter3d": [
           {
            "line": {
             "colorbar": {
              "outlinewidth": 0,
              "ticks": ""
             }
            },
            "marker": {
             "colorbar": {
              "outlinewidth": 0,
              "ticks": ""
             }
            },
            "type": "scatter3d"
           }
          ],
          "scattercarpet": [
           {
            "marker": {
             "colorbar": {
              "outlinewidth": 0,
              "ticks": ""
             }
            },
            "type": "scattercarpet"
           }
          ],
          "scattergeo": [
           {
            "marker": {
             "colorbar": {
              "outlinewidth": 0,
              "ticks": ""
             }
            },
            "type": "scattergeo"
           }
          ],
          "scattergl": [
           {
            "marker": {
             "colorbar": {
              "outlinewidth": 0,
              "ticks": ""
             }
            },
            "type": "scattergl"
           }
          ],
          "scattermapbox": [
           {
            "marker": {
             "colorbar": {
              "outlinewidth": 0,
              "ticks": ""
             }
            },
            "type": "scattermapbox"
           }
          ],
          "scatterpolar": [
           {
            "marker": {
             "colorbar": {
              "outlinewidth": 0,
              "ticks": ""
             }
            },
            "type": "scatterpolar"
           }
          ],
          "scatterpolargl": [
           {
            "marker": {
             "colorbar": {
              "outlinewidth": 0,
              "ticks": ""
             }
            },
            "type": "scatterpolargl"
           }
          ],
          "scatterternary": [
           {
            "marker": {
             "colorbar": {
              "outlinewidth": 0,
              "ticks": ""
             }
            },
            "type": "scatterternary"
           }
          ],
          "surface": [
           {
            "colorbar": {
             "outlinewidth": 0,
             "ticks": ""
            },
            "colorscale": [
             [
              0,
              "#0d0887"
             ],
             [
              0.1111111111111111,
              "#46039f"
             ],
             [
              0.2222222222222222,
              "#7201a8"
             ],
             [
              0.3333333333333333,
              "#9c179e"
             ],
             [
              0.4444444444444444,
              "#bd3786"
             ],
             [
              0.5555555555555556,
              "#d8576b"
             ],
             [
              0.6666666666666666,
              "#ed7953"
             ],
             [
              0.7777777777777778,
              "#fb9f3a"
             ],
             [
              0.8888888888888888,
              "#fdca26"
             ],
             [
              1,
              "#f0f921"
             ]
            ],
            "type": "surface"
           }
          ],
          "table": [
           {
            "cells": {
             "fill": {
              "color": "#EBF0F8"
             },
             "line": {
              "color": "white"
             }
            },
            "header": {
             "fill": {
              "color": "#C8D4E3"
             },
             "line": {
              "color": "white"
             }
            },
            "type": "table"
           }
          ]
         },
         "layout": {
          "annotationdefaults": {
           "arrowcolor": "#2a3f5f",
           "arrowhead": 0,
           "arrowwidth": 1
          },
          "autotypenumbers": "strict",
          "coloraxis": {
           "colorbar": {
            "outlinewidth": 0,
            "ticks": ""
           }
          },
          "colorscale": {
           "diverging": [
            [
             0,
             "#8e0152"
            ],
            [
             0.1,
             "#c51b7d"
            ],
            [
             0.2,
             "#de77ae"
            ],
            [
             0.3,
             "#f1b6da"
            ],
            [
             0.4,
             "#fde0ef"
            ],
            [
             0.5,
             "#f7f7f7"
            ],
            [
             0.6,
             "#e6f5d0"
            ],
            [
             0.7,
             "#b8e186"
            ],
            [
             0.8,
             "#7fbc41"
            ],
            [
             0.9,
             "#4d9221"
            ],
            [
             1,
             "#276419"
            ]
           ],
           "sequential": [
            [
             0,
             "#0d0887"
            ],
            [
             0.1111111111111111,
             "#46039f"
            ],
            [
             0.2222222222222222,
             "#7201a8"
            ],
            [
             0.3333333333333333,
             "#9c179e"
            ],
            [
             0.4444444444444444,
             "#bd3786"
            ],
            [
             0.5555555555555556,
             "#d8576b"
            ],
            [
             0.6666666666666666,
             "#ed7953"
            ],
            [
             0.7777777777777778,
             "#fb9f3a"
            ],
            [
             0.8888888888888888,
             "#fdca26"
            ],
            [
             1,
             "#f0f921"
            ]
           ],
           "sequentialminus": [
            [
             0,
             "#0d0887"
            ],
            [
             0.1111111111111111,
             "#46039f"
            ],
            [
             0.2222222222222222,
             "#7201a8"
            ],
            [
             0.3333333333333333,
             "#9c179e"
            ],
            [
             0.4444444444444444,
             "#bd3786"
            ],
            [
             0.5555555555555556,
             "#d8576b"
            ],
            [
             0.6666666666666666,
             "#ed7953"
            ],
            [
             0.7777777777777778,
             "#fb9f3a"
            ],
            [
             0.8888888888888888,
             "#fdca26"
            ],
            [
             1,
             "#f0f921"
            ]
           ]
          },
          "colorway": [
           "#636efa",
           "#EF553B",
           "#00cc96",
           "#ab63fa",
           "#FFA15A",
           "#19d3f3",
           "#FF6692",
           "#B6E880",
           "#FF97FF",
           "#FECB52"
          ],
          "font": {
           "color": "#2a3f5f"
          },
          "geo": {
           "bgcolor": "white",
           "lakecolor": "white",
           "landcolor": "#E5ECF6",
           "showlakes": true,
           "showland": true,
           "subunitcolor": "white"
          },
          "hoverlabel": {
           "align": "left"
          },
          "hovermode": "closest",
          "mapbox": {
           "style": "light"
          },
          "paper_bgcolor": "white",
          "plot_bgcolor": "#E5ECF6",
          "polar": {
           "angularaxis": {
            "gridcolor": "white",
            "linecolor": "white",
            "ticks": ""
           },
           "bgcolor": "#E5ECF6",
           "radialaxis": {
            "gridcolor": "white",
            "linecolor": "white",
            "ticks": ""
           }
          },
          "scene": {
           "xaxis": {
            "backgroundcolor": "#E5ECF6",
            "gridcolor": "white",
            "gridwidth": 2,
            "linecolor": "white",
            "showbackground": true,
            "ticks": "",
            "zerolinecolor": "white"
           },
           "yaxis": {
            "backgroundcolor": "#E5ECF6",
            "gridcolor": "white",
            "gridwidth": 2,
            "linecolor": "white",
            "showbackground": true,
            "ticks": "",
            "zerolinecolor": "white"
           },
           "zaxis": {
            "backgroundcolor": "#E5ECF6",
            "gridcolor": "white",
            "gridwidth": 2,
            "linecolor": "white",
            "showbackground": true,
            "ticks": "",
            "zerolinecolor": "white"
           }
          },
          "shapedefaults": {
           "line": {
            "color": "#2a3f5f"
           }
          },
          "ternary": {
           "aaxis": {
            "gridcolor": "white",
            "linecolor": "white",
            "ticks": ""
           },
           "baxis": {
            "gridcolor": "white",
            "linecolor": "white",
            "ticks": ""
           },
           "bgcolor": "#E5ECF6",
           "caxis": {
            "gridcolor": "white",
            "linecolor": "white",
            "ticks": ""
           }
          },
          "title": {
           "x": 0.05
          },
          "xaxis": {
           "automargin": true,
           "gridcolor": "white",
           "linecolor": "white",
           "ticks": "",
           "title": {
            "standoff": 15
           },
           "zerolinecolor": "white",
           "zerolinewidth": 2
          },
          "yaxis": {
           "automargin": true,
           "gridcolor": "white",
           "linecolor": "white",
           "ticks": "",
           "title": {
            "standoff": 15
           },
           "zerolinecolor": "white",
           "zerolinewidth": 2
          }
         }
        },
        "title": {
         "text": "14T90Q Variation History"
        },
        "width": 500,
        "xaxis": {
         "anchor": "y",
         "domain": [
          0,
          1
         ],
         "tickangle": 70,
         "title": {
          "text": "Ref"
         }
        },
        "yaxis": {
         "anchor": "x",
         "domain": [
          0,
          1
         ],
         "title": {
          "text": "QTY"
         }
        }
       }
      },
      "text/html": [
       "<div>                            <div id=\"b855ef4c-ed9e-4792-82cb-59f52907b91d\" class=\"plotly-graph-div\" style=\"height:400px; width:500px;\"></div>            <script type=\"text/javascript\">                require([\"plotly\"], function(Plotly) {                    window.PLOTLYENV=window.PLOTLYENV || {};                                    if (document.getElementById(\"b855ef4c-ed9e-4792-82cb-59f52907b91d\")) {                    Plotly.newPlot(                        \"b855ef4c-ed9e-4792-82cb-59f52907b91d\",                        [{\"alignmentgroup\":\"True\",\"hovertemplate\":\"Month=2023-01<br>Ref=%{x}<br>QTY=%{y}<extra></extra>\",\"legendgroup\":\"2023-01\",\"marker\":{\"color\":\"#636efa\",\"pattern\":{\"shape\":\"\"}},\"name\":\"2023-01\",\"offsetgroup\":\"2023-01\",\"orientation\":\"v\",\"showlegend\":true,\"textposition\":\"auto\",\"x\":[\"2023-01-02(W01)\",\"2023-01-09(W02)\",\"2023-01-16(W03)\",\"2023-01-23(W04)\",\"2023-01-30(W05)\",\"2023-02-06(W06)\",\"2023-02-13(W07)\",\"2023-02-20(W08)\",\"2023-02-27(W09)\",\"2023-03-06(W10)\",\"2023-03-13(W11)\",\"2023-03-20(W12)\",\"2023-03-27(W13)\",\"2023-04-03(W14)\",\"2023-04-10(W15)\"],\"xaxis\":\"x\",\"y\":[695,695,695,695,215,215,215,215,215,215,215,215,215,215,215],\"yaxis\":\"y\",\"type\":\"bar\"},{\"alignmentgroup\":\"True\",\"hovertemplate\":\"Month=2023-02<br>Ref=%{x}<br>QTY=%{y}<extra></extra>\",\"legendgroup\":\"2023-02\",\"marker\":{\"color\":\"#EF553B\",\"pattern\":{\"shape\":\"\"}},\"name\":\"2023-02\",\"offsetgroup\":\"2023-02\",\"orientation\":\"v\",\"showlegend\":true,\"textposition\":\"auto\",\"x\":[\"2023-01-02(W01)\",\"2023-01-09(W02)\",\"2023-01-16(W03)\",\"2023-01-23(W04)\",\"2023-01-30(W05)\",\"2023-02-06(W06)\",\"2023-02-13(W07)\",\"2023-02-20(W08)\",\"2023-02-27(W09)\",\"2023-03-06(W10)\",\"2023-03-13(W11)\",\"2023-03-20(W12)\",\"2023-03-27(W13)\",\"2023-04-03(W14)\",\"2023-04-10(W15)\"],\"xaxis\":\"x\",\"y\":[90,90,70,85,520,435,435,165,194,194,194,194,194,194,194],\"yaxis\":\"y\",\"type\":\"bar\"},{\"alignmentgroup\":\"True\",\"hovertemplate\":\"Month=2023-03<br>Ref=%{x}<br>QTY=%{y}<extra></extra>\",\"legendgroup\":\"2023-03\",\"marker\":{\"color\":\"#00cc96\",\"pattern\":{\"shape\":\"\"}},\"name\":\"2023-03\",\"offsetgroup\":\"2023-03\",\"orientation\":\"v\",\"showlegend\":true,\"textposition\":\"auto\",\"x\":[\"2023-01-02(W01)\",\"2023-01-09(W02)\",\"2023-01-16(W03)\",\"2023-01-23(W04)\",\"2023-01-30(W05)\",\"2023-02-06(W06)\",\"2023-02-13(W07)\",\"2023-02-20(W08)\",\"2023-02-27(W09)\",\"2023-03-06(W10)\",\"2023-03-13(W11)\",\"2023-03-20(W12)\",\"2023-03-27(W13)\",\"2023-04-03(W14)\",\"2023-04-10(W15)\"],\"xaxis\":\"x\",\"y\":[10,70,120,120,205,160,130,400,366,266,266,266,266,241,241],\"yaxis\":\"y\",\"type\":\"bar\"},{\"alignmentgroup\":\"True\",\"hovertemplate\":\"Month=2023-04<br>Ref=%{x}<br>QTY=%{y}<extra></extra>\",\"legendgroup\":\"2023-04\",\"marker\":{\"color\":\"#ab63fa\",\"pattern\":{\"shape\":\"\"}},\"name\":\"2023-04\",\"offsetgroup\":\"2023-04\",\"orientation\":\"v\",\"showlegend\":true,\"textposition\":\"auto\",\"x\":[\"2023-01-02(W01)\",\"2023-01-09(W02)\",\"2023-01-16(W03)\",\"2023-01-23(W04)\",\"2023-01-30(W05)\",\"2023-02-06(W06)\",\"2023-02-13(W07)\",\"2023-02-20(W08)\",\"2023-02-27(W09)\",\"2023-03-06(W10)\",\"2023-03-13(W11)\",\"2023-03-20(W12)\",\"2023-03-27(W13)\",\"2023-04-03(W14)\",\"2023-04-10(W15)\"],\"xaxis\":\"x\",\"y\":[5,5,5,5,165,160,190,190,200,300,220,210,210,205,205],\"yaxis\":\"y\",\"type\":\"bar\"},{\"alignmentgroup\":\"True\",\"hovertemplate\":\"Month=2023-05<br>Ref=%{x}<br>QTY=%{y}<extra></extra>\",\"legendgroup\":\"2023-05\",\"marker\":{\"color\":\"#FFA15A\",\"pattern\":{\"shape\":\"\"}},\"name\":\"2023-05\",\"offsetgroup\":\"2023-05\",\"orientation\":\"v\",\"showlegend\":true,\"textposition\":\"auto\",\"x\":[\"2023-01-02(W01)\",\"2023-01-09(W02)\",\"2023-01-16(W03)\",\"2023-01-23(W04)\",\"2023-01-30(W05)\",\"2023-02-06(W06)\",\"2023-02-13(W07)\",\"2023-02-20(W08)\",\"2023-02-27(W09)\",\"2023-03-06(W10)\",\"2023-03-13(W11)\",\"2023-03-20(W12)\",\"2023-03-27(W13)\",\"2023-04-03(W14)\",\"2023-04-10(W15)\"],\"xaxis\":\"x\",\"y\":[5,5,5,5,5,35,35,35,200,360,350,350,350,400,180],\"yaxis\":\"y\",\"type\":\"bar\"},{\"alignmentgroup\":\"True\",\"hovertemplate\":\"Month=2023-06<br>Ref=%{x}<br>QTY=%{y}<extra></extra>\",\"legendgroup\":\"2023-06\",\"marker\":{\"color\":\"#19d3f3\",\"pattern\":{\"shape\":\"\"}},\"name\":\"2023-06\",\"offsetgroup\":\"2023-06\",\"orientation\":\"v\",\"showlegend\":true,\"textposition\":\"auto\",\"x\":[\"2023-01-02(W01)\",\"2023-01-09(W02)\",\"2023-01-16(W03)\",\"2023-01-23(W04)\",\"2023-01-30(W05)\",\"2023-02-06(W06)\",\"2023-02-13(W07)\",\"2023-02-20(W08)\",\"2023-02-27(W09)\",\"2023-03-06(W10)\",\"2023-03-13(W11)\",\"2023-03-20(W12)\",\"2023-03-27(W13)\",\"2023-04-03(W14)\",\"2023-04-10(W15)\"],\"xaxis\":\"x\",\"y\":[0,5,5,5,5,5,5,5,5,645,740,750,740,720,950],\"yaxis\":\"y\",\"type\":\"bar\"},{\"alignmentgroup\":\"True\",\"hovertemplate\":\"Month=2023-07<br>Ref=%{x}<br>QTY=%{y}<extra></extra>\",\"legendgroup\":\"2023-07\",\"marker\":{\"color\":\"#FF6692\",\"pattern\":{\"shape\":\"\"}},\"name\":\"2023-07\",\"offsetgroup\":\"2023-07\",\"orientation\":\"v\",\"showlegend\":true,\"textposition\":\"auto\",\"x\":[\"2023-01-02(W01)\",\"2023-01-09(W02)\",\"2023-01-16(W03)\",\"2023-01-23(W04)\",\"2023-01-30(W05)\",\"2023-02-06(W06)\",\"2023-02-13(W07)\",\"2023-02-20(W08)\",\"2023-02-27(W09)\",\"2023-03-06(W10)\",\"2023-03-13(W11)\",\"2023-03-20(W12)\",\"2023-03-27(W13)\",\"2023-04-03(W14)\",\"2023-04-10(W15)\"],\"xaxis\":\"x\",\"y\":[0,0,0,0,0,5,5,5,5,5,0,0,0,0,0],\"yaxis\":\"y\",\"type\":\"bar\"},{\"alignmentgroup\":\"True\",\"hovertemplate\":\"Month=2023-08<br>Ref=%{x}<br>QTY=%{y}<extra></extra>\",\"legendgroup\":\"2023-08\",\"marker\":{\"color\":\"#B6E880\",\"pattern\":{\"shape\":\"\"}},\"name\":\"2023-08\",\"offsetgroup\":\"2023-08\",\"orientation\":\"v\",\"showlegend\":true,\"textposition\":\"auto\",\"x\":[\"2023-01-02(W01)\",\"2023-01-09(W02)\",\"2023-01-16(W03)\",\"2023-01-23(W04)\",\"2023-01-30(W05)\",\"2023-02-06(W06)\",\"2023-02-13(W07)\",\"2023-02-20(W08)\",\"2023-02-27(W09)\",\"2023-03-06(W10)\",\"2023-03-13(W11)\",\"2023-03-20(W12)\",\"2023-03-27(W13)\",\"2023-04-03(W14)\",\"2023-04-10(W15)\"],\"xaxis\":\"x\",\"y\":[0,0,0,0,0,0,0,0,0,0,0,0,0,0,0],\"yaxis\":\"y\",\"type\":\"bar\"},{\"alignmentgroup\":\"True\",\"hovertemplate\":\"Month=2023-09<br>Ref=%{x}<br>QTY=%{y}<extra></extra>\",\"legendgroup\":\"2023-09\",\"marker\":{\"color\":\"#FF97FF\",\"pattern\":{\"shape\":\"\"}},\"name\":\"2023-09\",\"offsetgroup\":\"2023-09\",\"orientation\":\"v\",\"showlegend\":true,\"textposition\":\"auto\",\"x\":[\"2023-01-02(W01)\",\"2023-01-09(W02)\",\"2023-01-16(W03)\",\"2023-01-23(W04)\",\"2023-01-30(W05)\",\"2023-02-06(W06)\",\"2023-02-13(W07)\",\"2023-02-20(W08)\",\"2023-02-27(W09)\",\"2023-03-06(W10)\",\"2023-03-13(W11)\",\"2023-03-20(W12)\",\"2023-03-27(W13)\",\"2023-04-03(W14)\",\"2023-04-10(W15)\"],\"xaxis\":\"x\",\"y\":[0,0,0,0,0,0,0,0,0,0,0,0,0,0,0],\"yaxis\":\"y\",\"type\":\"bar\"},{\"alignmentgroup\":\"True\",\"hovertemplate\":\"Month=2023-10<br>Ref=%{x}<br>QTY=%{y}<extra></extra>\",\"legendgroup\":\"2023-10\",\"marker\":{\"color\":\"#FECB52\",\"pattern\":{\"shape\":\"\"}},\"name\":\"2023-10\",\"offsetgroup\":\"2023-10\",\"orientation\":\"v\",\"showlegend\":true,\"textposition\":\"auto\",\"x\":[\"2023-01-02(W01)\",\"2023-01-09(W02)\",\"2023-01-16(W03)\",\"2023-01-23(W04)\",\"2023-01-30(W05)\",\"2023-02-06(W06)\",\"2023-02-13(W07)\",\"2023-02-20(W08)\",\"2023-02-27(W09)\",\"2023-03-06(W10)\",\"2023-03-13(W11)\",\"2023-03-20(W12)\",\"2023-03-27(W13)\",\"2023-04-03(W14)\",\"2023-04-10(W15)\"],\"xaxis\":\"x\",\"y\":[0,0,0,0,0,0,0,0,0,0,0,0,0,0,0],\"yaxis\":\"y\",\"type\":\"bar\"},{\"alignmentgroup\":\"True\",\"hovertemplate\":\"Month=2023-11<br>Ref=%{x}<br>QTY=%{y}<extra></extra>\",\"legendgroup\":\"2023-11\",\"marker\":{\"color\":\"#636efa\",\"pattern\":{\"shape\":\"\"}},\"name\":\"2023-11\",\"offsetgroup\":\"2023-11\",\"orientation\":\"v\",\"showlegend\":true,\"textposition\":\"auto\",\"x\":[\"2023-01-02(W01)\",\"2023-01-09(W02)\",\"2023-01-16(W03)\",\"2023-01-23(W04)\",\"2023-01-30(W05)\",\"2023-02-06(W06)\",\"2023-02-13(W07)\",\"2023-02-20(W08)\",\"2023-02-27(W09)\",\"2023-03-06(W10)\",\"2023-03-13(W11)\",\"2023-03-20(W12)\",\"2023-03-27(W13)\",\"2023-04-03(W14)\",\"2023-04-10(W15)\"],\"xaxis\":\"x\",\"y\":[0,0,0,0,0,0,0,0,0,0,0,0,0,0,0],\"yaxis\":\"y\",\"type\":\"bar\"},{\"alignmentgroup\":\"True\",\"hovertemplate\":\"Month=2023-12<br>Ref=%{x}<br>QTY=%{y}<extra></extra>\",\"legendgroup\":\"2023-12\",\"marker\":{\"color\":\"#EF553B\",\"pattern\":{\"shape\":\"\"}},\"name\":\"2023-12\",\"offsetgroup\":\"2023-12\",\"orientation\":\"v\",\"showlegend\":true,\"textposition\":\"auto\",\"x\":[\"2023-01-02(W01)\",\"2023-01-09(W02)\",\"2023-01-16(W03)\",\"2023-01-23(W04)\",\"2023-01-30(W05)\",\"2023-02-06(W06)\",\"2023-02-13(W07)\",\"2023-02-20(W08)\",\"2023-02-27(W09)\",\"2023-03-06(W10)\",\"2023-03-13(W11)\",\"2023-03-20(W12)\",\"2023-03-27(W13)\",\"2023-04-03(W14)\",\"2023-04-10(W15)\"],\"xaxis\":\"x\",\"y\":[0,0,0,0,0,0,0,0,0,0,0,0,0,0,0],\"yaxis\":\"y\",\"type\":\"bar\"}],                        {\"template\":{\"data\":{\"histogram2dcontour\":[{\"type\":\"histogram2dcontour\",\"colorbar\":{\"outlinewidth\":0,\"ticks\":\"\"},\"colorscale\":[[0.0,\"#0d0887\"],[0.1111111111111111,\"#46039f\"],[0.2222222222222222,\"#7201a8\"],[0.3333333333333333,\"#9c179e\"],[0.4444444444444444,\"#bd3786\"],[0.5555555555555556,\"#d8576b\"],[0.6666666666666666,\"#ed7953\"],[0.7777777777777778,\"#fb9f3a\"],[0.8888888888888888,\"#fdca26\"],[1.0,\"#f0f921\"]]}],\"choropleth\":[{\"type\":\"choropleth\",\"colorbar\":{\"outlinewidth\":0,\"ticks\":\"\"}}],\"histogram2d\":[{\"type\":\"histogram2d\",\"colorbar\":{\"outlinewidth\":0,\"ticks\":\"\"},\"colorscale\":[[0.0,\"#0d0887\"],[0.1111111111111111,\"#46039f\"],[0.2222222222222222,\"#7201a8\"],[0.3333333333333333,\"#9c179e\"],[0.4444444444444444,\"#bd3786\"],[0.5555555555555556,\"#d8576b\"],[0.6666666666666666,\"#ed7953\"],[0.7777777777777778,\"#fb9f3a\"],[0.8888888888888888,\"#fdca26\"],[1.0,\"#f0f921\"]]}],\"heatmap\":[{\"type\":\"heatmap\",\"colorbar\":{\"outlinewidth\":0,\"ticks\":\"\"},\"colorscale\":[[0.0,\"#0d0887\"],[0.1111111111111111,\"#46039f\"],[0.2222222222222222,\"#7201a8\"],[0.3333333333333333,\"#9c179e\"],[0.4444444444444444,\"#bd3786\"],[0.5555555555555556,\"#d8576b\"],[0.6666666666666666,\"#ed7953\"],[0.7777777777777778,\"#fb9f3a\"],[0.8888888888888888,\"#fdca26\"],[1.0,\"#f0f921\"]]}],\"heatmapgl\":[{\"type\":\"heatmapgl\",\"colorbar\":{\"outlinewidth\":0,\"ticks\":\"\"},\"colorscale\":[[0.0,\"#0d0887\"],[0.1111111111111111,\"#46039f\"],[0.2222222222222222,\"#7201a8\"],[0.3333333333333333,\"#9c179e\"],[0.4444444444444444,\"#bd3786\"],[0.5555555555555556,\"#d8576b\"],[0.6666666666666666,\"#ed7953\"],[0.7777777777777778,\"#fb9f3a\"],[0.8888888888888888,\"#fdca26\"],[1.0,\"#f0f921\"]]}],\"contourcarpet\":[{\"type\":\"contourcarpet\",\"colorbar\":{\"outlinewidth\":0,\"ticks\":\"\"}}],\"contour\":[{\"type\":\"contour\",\"colorbar\":{\"outlinewidth\":0,\"ticks\":\"\"},\"colorscale\":[[0.0,\"#0d0887\"],[0.1111111111111111,\"#46039f\"],[0.2222222222222222,\"#7201a8\"],[0.3333333333333333,\"#9c179e\"],[0.4444444444444444,\"#bd3786\"],[0.5555555555555556,\"#d8576b\"],[0.6666666666666666,\"#ed7953\"],[0.7777777777777778,\"#fb9f3a\"],[0.8888888888888888,\"#fdca26\"],[1.0,\"#f0f921\"]]}],\"surface\":[{\"type\":\"surface\",\"colorbar\":{\"outlinewidth\":0,\"ticks\":\"\"},\"colorscale\":[[0.0,\"#0d0887\"],[0.1111111111111111,\"#46039f\"],[0.2222222222222222,\"#7201a8\"],[0.3333333333333333,\"#9c179e\"],[0.4444444444444444,\"#bd3786\"],[0.5555555555555556,\"#d8576b\"],[0.6666666666666666,\"#ed7953\"],[0.7777777777777778,\"#fb9f3a\"],[0.8888888888888888,\"#fdca26\"],[1.0,\"#f0f921\"]]}],\"mesh3d\":[{\"type\":\"mesh3d\",\"colorbar\":{\"outlinewidth\":0,\"ticks\":\"\"}}],\"scatter\":[{\"fillpattern\":{\"fillmode\":\"overlay\",\"size\":10,\"solidity\":0.2},\"type\":\"scatter\"}],\"parcoords\":[{\"type\":\"parcoords\",\"line\":{\"colorbar\":{\"outlinewidth\":0,\"ticks\":\"\"}}}],\"scatterpolargl\":[{\"type\":\"scatterpolargl\",\"marker\":{\"colorbar\":{\"outlinewidth\":0,\"ticks\":\"\"}}}],\"bar\":[{\"error_x\":{\"color\":\"#2a3f5f\"},\"error_y\":{\"color\":\"#2a3f5f\"},\"marker\":{\"line\":{\"color\":\"#E5ECF6\",\"width\":0.5},\"pattern\":{\"fillmode\":\"overlay\",\"size\":10,\"solidity\":0.2}},\"type\":\"bar\"}],\"scattergeo\":[{\"type\":\"scattergeo\",\"marker\":{\"colorbar\":{\"outlinewidth\":0,\"ticks\":\"\"}}}],\"scatterpolar\":[{\"type\":\"scatterpolar\",\"marker\":{\"colorbar\":{\"outlinewidth\":0,\"ticks\":\"\"}}}],\"histogram\":[{\"marker\":{\"pattern\":{\"fillmode\":\"overlay\",\"size\":10,\"solidity\":0.2}},\"type\":\"histogram\"}],\"scattergl\":[{\"type\":\"scattergl\",\"marker\":{\"colorbar\":{\"outlinewidth\":0,\"ticks\":\"\"}}}],\"scatter3d\":[{\"type\":\"scatter3d\",\"line\":{\"colorbar\":{\"outlinewidth\":0,\"ticks\":\"\"}},\"marker\":{\"colorbar\":{\"outlinewidth\":0,\"ticks\":\"\"}}}],\"scattermapbox\":[{\"type\":\"scattermapbox\",\"marker\":{\"colorbar\":{\"outlinewidth\":0,\"ticks\":\"\"}}}],\"scatterternary\":[{\"type\":\"scatterternary\",\"marker\":{\"colorbar\":{\"outlinewidth\":0,\"ticks\":\"\"}}}],\"scattercarpet\":[{\"type\":\"scattercarpet\",\"marker\":{\"colorbar\":{\"outlinewidth\":0,\"ticks\":\"\"}}}],\"carpet\":[{\"aaxis\":{\"endlinecolor\":\"#2a3f5f\",\"gridcolor\":\"white\",\"linecolor\":\"white\",\"minorgridcolor\":\"white\",\"startlinecolor\":\"#2a3f5f\"},\"baxis\":{\"endlinecolor\":\"#2a3f5f\",\"gridcolor\":\"white\",\"linecolor\":\"white\",\"minorgridcolor\":\"white\",\"startlinecolor\":\"#2a3f5f\"},\"type\":\"carpet\"}],\"table\":[{\"cells\":{\"fill\":{\"color\":\"#EBF0F8\"},\"line\":{\"color\":\"white\"}},\"header\":{\"fill\":{\"color\":\"#C8D4E3\"},\"line\":{\"color\":\"white\"}},\"type\":\"table\"}],\"barpolar\":[{\"marker\":{\"line\":{\"color\":\"#E5ECF6\",\"width\":0.5},\"pattern\":{\"fillmode\":\"overlay\",\"size\":10,\"solidity\":0.2}},\"type\":\"barpolar\"}],\"pie\":[{\"automargin\":true,\"type\":\"pie\"}]},\"layout\":{\"autotypenumbers\":\"strict\",\"colorway\":[\"#636efa\",\"#EF553B\",\"#00cc96\",\"#ab63fa\",\"#FFA15A\",\"#19d3f3\",\"#FF6692\",\"#B6E880\",\"#FF97FF\",\"#FECB52\"],\"font\":{\"color\":\"#2a3f5f\"},\"hovermode\":\"closest\",\"hoverlabel\":{\"align\":\"left\"},\"paper_bgcolor\":\"white\",\"plot_bgcolor\":\"#E5ECF6\",\"polar\":{\"bgcolor\":\"#E5ECF6\",\"angularaxis\":{\"gridcolor\":\"white\",\"linecolor\":\"white\",\"ticks\":\"\"},\"radialaxis\":{\"gridcolor\":\"white\",\"linecolor\":\"white\",\"ticks\":\"\"}},\"ternary\":{\"bgcolor\":\"#E5ECF6\",\"aaxis\":{\"gridcolor\":\"white\",\"linecolor\":\"white\",\"ticks\":\"\"},\"baxis\":{\"gridcolor\":\"white\",\"linecolor\":\"white\",\"ticks\":\"\"},\"caxis\":{\"gridcolor\":\"white\",\"linecolor\":\"white\",\"ticks\":\"\"}},\"coloraxis\":{\"colorbar\":{\"outlinewidth\":0,\"ticks\":\"\"}},\"colorscale\":{\"sequential\":[[0.0,\"#0d0887\"],[0.1111111111111111,\"#46039f\"],[0.2222222222222222,\"#7201a8\"],[0.3333333333333333,\"#9c179e\"],[0.4444444444444444,\"#bd3786\"],[0.5555555555555556,\"#d8576b\"],[0.6666666666666666,\"#ed7953\"],[0.7777777777777778,\"#fb9f3a\"],[0.8888888888888888,\"#fdca26\"],[1.0,\"#f0f921\"]],\"sequentialminus\":[[0.0,\"#0d0887\"],[0.1111111111111111,\"#46039f\"],[0.2222222222222222,\"#7201a8\"],[0.3333333333333333,\"#9c179e\"],[0.4444444444444444,\"#bd3786\"],[0.5555555555555556,\"#d8576b\"],[0.6666666666666666,\"#ed7953\"],[0.7777777777777778,\"#fb9f3a\"],[0.8888888888888888,\"#fdca26\"],[1.0,\"#f0f921\"]],\"diverging\":[[0,\"#8e0152\"],[0.1,\"#c51b7d\"],[0.2,\"#de77ae\"],[0.3,\"#f1b6da\"],[0.4,\"#fde0ef\"],[0.5,\"#f7f7f7\"],[0.6,\"#e6f5d0\"],[0.7,\"#b8e186\"],[0.8,\"#7fbc41\"],[0.9,\"#4d9221\"],[1,\"#276419\"]]},\"xaxis\":{\"gridcolor\":\"white\",\"linecolor\":\"white\",\"ticks\":\"\",\"title\":{\"standoff\":15},\"zerolinecolor\":\"white\",\"automargin\":true,\"zerolinewidth\":2},\"yaxis\":{\"gridcolor\":\"white\",\"linecolor\":\"white\",\"ticks\":\"\",\"title\":{\"standoff\":15},\"zerolinecolor\":\"white\",\"automargin\":true,\"zerolinewidth\":2},\"scene\":{\"xaxis\":{\"backgroundcolor\":\"#E5ECF6\",\"gridcolor\":\"white\",\"linecolor\":\"white\",\"showbackground\":true,\"ticks\":\"\",\"zerolinecolor\":\"white\",\"gridwidth\":2},\"yaxis\":{\"backgroundcolor\":\"#E5ECF6\",\"gridcolor\":\"white\",\"linecolor\":\"white\",\"showbackground\":true,\"ticks\":\"\",\"zerolinecolor\":\"white\",\"gridwidth\":2},\"zaxis\":{\"backgroundcolor\":\"#E5ECF6\",\"gridcolor\":\"white\",\"linecolor\":\"white\",\"showbackground\":true,\"ticks\":\"\",\"zerolinecolor\":\"white\",\"gridwidth\":2}},\"shapedefaults\":{\"line\":{\"color\":\"#2a3f5f\"}},\"annotationdefaults\":{\"arrowcolor\":\"#2a3f5f\",\"arrowhead\":0,\"arrowwidth\":1},\"geo\":{\"bgcolor\":\"white\",\"landcolor\":\"#E5ECF6\",\"subunitcolor\":\"white\",\"showland\":true,\"showlakes\":true,\"lakecolor\":\"white\"},\"title\":{\"x\":0.05},\"mapbox\":{\"style\":\"light\"}}},\"xaxis\":{\"anchor\":\"y\",\"domain\":[0.0,1.0],\"title\":{\"text\":\"Ref\"},\"tickangle\":70},\"yaxis\":{\"anchor\":\"x\",\"domain\":[0.0,1.0],\"title\":{\"text\":\"QTY\"}},\"legend\":{\"title\":{\"text\":\"Month\"},\"tracegroupgap\":0},\"title\":{\"text\":\"14T90Q Variation History\"},\"barmode\":\"relative\",\"height\":400,\"width\":500},                        {\"responsive\": true}                    ).then(function(){\n",
       "                            \n",
       "var gd = document.getElementById('b855ef4c-ed9e-4792-82cb-59f52907b91d');\n",
       "var x = new MutationObserver(function (mutations, observer) {{\n",
       "        var display = window.getComputedStyle(gd).display;\n",
       "        if (!display || display === 'none') {{\n",
       "            console.log([gd, 'removed!']);\n",
       "            Plotly.purge(gd);\n",
       "            observer.disconnect();\n",
       "        }}\n",
       "}});\n",
       "\n",
       "// Listen for the removal of the full notebook cells\n",
       "var notebookContainer = gd.closest('#notebook-container');\n",
       "if (notebookContainer) {{\n",
       "    x.observe(notebookContainer, {childList: true});\n",
       "}}\n",
       "\n",
       "// Listen for the clearing of the current output cell\n",
       "var outputEl = gd.closest('.output');\n",
       "if (outputEl) {{\n",
       "    x.observe(outputEl, {childList: true});\n",
       "}}\n",
       "\n",
       "                        })                };                });            </script>        </div>"
      ]
     },
     "metadata": {},
     "output_type": "display_data"
    }
   ],
   "source": [
    "starting_date = datetime.date(2023, 1, 3) # 조회 시작할 과거 특정일\n",
    "startweek = get_weekname(starting_date) # 이번주의 Weekname 가져옴\n",
    "# start_month = (starting_date.isocalendar().year, get_month_from_date(starting_date))\n",
    "interval = 50 # 시작주 이후 몇주 동안의 변동을 조회할 지 설정\n",
    "period = 15 # 미래 몇주 간의 변동을 조회할 지 설정\n",
    "ver = 'Latest' # 물동 변동을 조회할 version 설정(Latest, Final, ODM Release)\n",
    "model = r'14T90Q' # Forecast 변동을 조회할 모델 설정(.로 하면 모든 모델)\n",
    "site = r'.' # 조회할 법인명(.로 하면 모든 법인)\n",
    "target_period = [get_weekname_from(startweek, i) for i in range(interval)]\n",
    "variation_period = [get_weekname_from(startweek, i) for i in range(period)]\n",
    "\n",
    "with open('D:/Data/GSCP raw data.bin', 'rb') as f:\n",
    "    df = pickle.load(f)\n",
    "\n",
    "df = df[df['Mapping Model.Suffix'].apply(lambda x:x.split('-')[0]).replace(srt_model).str.contains(model)] # 조회할 모델로만 Sorting 함\n",
    "\n",
    "# 데이터프레임 추출 조건 설정\n",
    "c1 = df['Updated_at'].isin(df[['Ref', 'Ver', 'Updated_at']].drop_duplicates().groupby(['Ref', 'Ver'])['Updated_at'].max().unstack()[ver]) # 찾고자 하는 ver별의 가장 최근 update 된 시간으로 조회하기 위한 조건\n",
    "c2 = (df['Ver'] == ver) # 조회할 Version 만 sorting 하기 위한 조건\n",
    "c3 = df['Ref'].isin(variation_period) # Forecast 변동 이력을 조회할 구간만 sorting 하기 위한 조건\n",
    "c4 = df['To Site'].str.contains(site)\n",
    "\n",
    "df = df[c1 & c2 & c3 & c4].groupby('Ref').sum()[target_period]\n",
    "for wk in df.index:\n",
    "    if (datetime.date.fromisoformat(wk[:10]).isocalendar().year, get_month_from_date(datetime.date.fromisoformat(wk[:10]))) >= (move_month(starting_date.isocalendar()[0], get_month_from_date(starting_date), 2)):\n",
    "        df.loc[wk, startweek:get_weekname_from(get_weeklist_for_certain_month(get_lastmonth(wk)[0], get_lastmonth(wk)[1])[0], -1)] = df.loc[get_weekname_from(wk, -1), startweek:get_weekname_from(get_weeklist_for_certain_month(get_lastmonth(wk)[0], get_lastmonth(wk)[1])[0], -1)]\n",
    "df = monthly_sum(df, 'Ref').stack().reset_index()\n",
    "df.rename(columns={'level_1':'Month', 0:'QTY'}, inplace=True)\n",
    "fig = px.bar(df, x='Ref', y='QTY', color='Month', width=500, height=400, title=f'{model} Variation History')\n",
    "fig.update_xaxes(tickangle=70)\n",
    "fig.show()"
   ]
  },
  {
   "cell_type": "code",
   "execution_count": 86,
   "id": "7a9c5807",
   "metadata": {},
   "outputs": [
    {
     "data": {
      "text/html": [
       "<div>\n",
       "<style scoped>\n",
       "    .dataframe tbody tr th:only-of-type {\n",
       "        vertical-align: middle;\n",
       "    }\n",
       "\n",
       "    .dataframe tbody tr th {\n",
       "        vertical-align: top;\n",
       "    }\n",
       "\n",
       "    .dataframe thead th {\n",
       "        text-align: right;\n",
       "    }\n",
       "</style>\n",
       "<table border=\"1\" class=\"dataframe\">\n",
       "  <thead>\n",
       "    <tr style=\"text-align: right;\">\n",
       "      <th>Month</th>\n",
       "      <th>2023-01</th>\n",
       "      <th>2023-02</th>\n",
       "      <th>2023-03</th>\n",
       "      <th>2023-04</th>\n",
       "      <th>2023-05</th>\n",
       "      <th>2023-06</th>\n",
       "      <th>2023-07</th>\n",
       "      <th>2023-08</th>\n",
       "      <th>2023-09</th>\n",
       "      <th>2023-10</th>\n",
       "    </tr>\n",
       "    <tr>\n",
       "      <th>Ref</th>\n",
       "      <th></th>\n",
       "      <th></th>\n",
       "      <th></th>\n",
       "      <th></th>\n",
       "      <th></th>\n",
       "      <th></th>\n",
       "      <th></th>\n",
       "      <th></th>\n",
       "      <th></th>\n",
       "      <th></th>\n",
       "    </tr>\n",
       "  </thead>\n",
       "  <tbody>\n",
       "    <tr>\n",
       "      <th>2023-01-02(W01)</th>\n",
       "      <td>3872</td>\n",
       "      <td>1200</td>\n",
       "      <td>300</td>\n",
       "      <td>0</td>\n",
       "      <td>0</td>\n",
       "      <td>0</td>\n",
       "      <td>0</td>\n",
       "      <td>0</td>\n",
       "      <td>0</td>\n",
       "      <td>0</td>\n",
       "    </tr>\n",
       "    <tr>\n",
       "      <th>2023-01-09(W02)</th>\n",
       "      <td>3872</td>\n",
       "      <td>1750</td>\n",
       "      <td>300</td>\n",
       "      <td>40</td>\n",
       "      <td>190</td>\n",
       "      <td>120</td>\n",
       "      <td>0</td>\n",
       "      <td>0</td>\n",
       "      <td>0</td>\n",
       "      <td>0</td>\n",
       "    </tr>\n",
       "    <tr>\n",
       "      <th>2023-01-16(W03)</th>\n",
       "      <td>3872</td>\n",
       "      <td>1900</td>\n",
       "      <td>200</td>\n",
       "      <td>40</td>\n",
       "      <td>190</td>\n",
       "      <td>120</td>\n",
       "      <td>0</td>\n",
       "      <td>0</td>\n",
       "      <td>0</td>\n",
       "      <td>0</td>\n",
       "    </tr>\n",
       "    <tr>\n",
       "      <th>2023-01-23(W04)</th>\n",
       "      <td>3772</td>\n",
       "      <td>1725</td>\n",
       "      <td>400</td>\n",
       "      <td>60</td>\n",
       "      <td>215</td>\n",
       "      <td>130</td>\n",
       "      <td>0</td>\n",
       "      <td>0</td>\n",
       "      <td>0</td>\n",
       "      <td>0</td>\n",
       "    </tr>\n",
       "    <tr>\n",
       "      <th>2023-01-30(W05)</th>\n",
       "      <td>40</td>\n",
       "      <td>5447</td>\n",
       "      <td>225</td>\n",
       "      <td>190</td>\n",
       "      <td>215</td>\n",
       "      <td>190</td>\n",
       "      <td>84</td>\n",
       "      <td>0</td>\n",
       "      <td>0</td>\n",
       "      <td>0</td>\n",
       "    </tr>\n",
       "    <tr>\n",
       "      <th>2023-02-06(W06)</th>\n",
       "      <td>40</td>\n",
       "      <td>5447</td>\n",
       "      <td>235</td>\n",
       "      <td>190</td>\n",
       "      <td>215</td>\n",
       "      <td>190</td>\n",
       "      <td>90</td>\n",
       "      <td>0</td>\n",
       "      <td>0</td>\n",
       "      <td>0</td>\n",
       "    </tr>\n",
       "    <tr>\n",
       "      <th>2023-02-13(W07)</th>\n",
       "      <td>40</td>\n",
       "      <td>5447</td>\n",
       "      <td>435</td>\n",
       "      <td>170</td>\n",
       "      <td>210</td>\n",
       "      <td>100</td>\n",
       "      <td>0</td>\n",
       "      <td>0</td>\n",
       "      <td>0</td>\n",
       "      <td>0</td>\n",
       "    </tr>\n",
       "    <tr>\n",
       "      <th>2023-02-20(W08)</th>\n",
       "      <td>40</td>\n",
       "      <td>5447</td>\n",
       "      <td>485</td>\n",
       "      <td>170</td>\n",
       "      <td>235</td>\n",
       "      <td>25</td>\n",
       "      <td>0</td>\n",
       "      <td>0</td>\n",
       "      <td>0</td>\n",
       "      <td>0</td>\n",
       "    </tr>\n",
       "    <tr>\n",
       "      <th>2023-02-27(W09)</th>\n",
       "      <td>40</td>\n",
       "      <td>2644</td>\n",
       "      <td>3213</td>\n",
       "      <td>170</td>\n",
       "      <td>185</td>\n",
       "      <td>165</td>\n",
       "      <td>0</td>\n",
       "      <td>0</td>\n",
       "      <td>0</td>\n",
       "      <td>0</td>\n",
       "    </tr>\n",
       "    <tr>\n",
       "      <th>2023-03-06(W10)</th>\n",
       "      <td>40</td>\n",
       "      <td>2644</td>\n",
       "      <td>3243</td>\n",
       "      <td>420</td>\n",
       "      <td>75</td>\n",
       "      <td>25</td>\n",
       "      <td>0</td>\n",
       "      <td>0</td>\n",
       "      <td>0</td>\n",
       "      <td>0</td>\n",
       "    </tr>\n",
       "    <tr>\n",
       "      <th>2023-03-13(W11)</th>\n",
       "      <td>40</td>\n",
       "      <td>2644</td>\n",
       "      <td>3243</td>\n",
       "      <td>310</td>\n",
       "      <td>100</td>\n",
       "      <td>80</td>\n",
       "      <td>0</td>\n",
       "      <td>0</td>\n",
       "      <td>0</td>\n",
       "      <td>0</td>\n",
       "    </tr>\n",
       "    <tr>\n",
       "      <th>2023-03-20(W12)</th>\n",
       "      <td>40</td>\n",
       "      <td>2644</td>\n",
       "      <td>3243</td>\n",
       "      <td>180</td>\n",
       "      <td>90</td>\n",
       "      <td>0</td>\n",
       "      <td>0</td>\n",
       "      <td>0</td>\n",
       "      <td>0</td>\n",
       "      <td>0</td>\n",
       "    </tr>\n",
       "    <tr>\n",
       "      <th>2023-03-27(W13)</th>\n",
       "      <td>40</td>\n",
       "      <td>2644</td>\n",
       "      <td>2863</td>\n",
       "      <td>590</td>\n",
       "      <td>60</td>\n",
       "      <td>0</td>\n",
       "      <td>0</td>\n",
       "      <td>0</td>\n",
       "      <td>0</td>\n",
       "      <td>0</td>\n",
       "    </tr>\n",
       "    <tr>\n",
       "      <th>2023-04-03(W14)</th>\n",
       "      <td>40</td>\n",
       "      <td>2644</td>\n",
       "      <td>2863</td>\n",
       "      <td>560</td>\n",
       "      <td>90</td>\n",
       "      <td>0</td>\n",
       "      <td>0</td>\n",
       "      <td>0</td>\n",
       "      <td>0</td>\n",
       "      <td>0</td>\n",
       "    </tr>\n",
       "    <tr>\n",
       "      <th>2023-04-10(W15)</th>\n",
       "      <td>40</td>\n",
       "      <td>2644</td>\n",
       "      <td>2863</td>\n",
       "      <td>560</td>\n",
       "      <td>130</td>\n",
       "      <td>60</td>\n",
       "      <td>0</td>\n",
       "      <td>0</td>\n",
       "      <td>0</td>\n",
       "      <td>0</td>\n",
       "    </tr>\n",
       "  </tbody>\n",
       "</table>\n",
       "</div>"
      ],
      "text/plain": [
       "Month            2023-01  2023-02  2023-03  2023-04  2023-05  2023-06  \\\n",
       "Ref                                                                     \n",
       "2023-01-02(W01)     3872     1200      300        0        0        0   \n",
       "2023-01-09(W02)     3872     1750      300       40      190      120   \n",
       "2023-01-16(W03)     3872     1900      200       40      190      120   \n",
       "2023-01-23(W04)     3772     1725      400       60      215      130   \n",
       "2023-01-30(W05)       40     5447      225      190      215      190   \n",
       "2023-02-06(W06)       40     5447      235      190      215      190   \n",
       "2023-02-13(W07)       40     5447      435      170      210      100   \n",
       "2023-02-20(W08)       40     5447      485      170      235       25   \n",
       "2023-02-27(W09)       40     2644     3213      170      185      165   \n",
       "2023-03-06(W10)       40     2644     3243      420       75       25   \n",
       "2023-03-13(W11)       40     2644     3243      310      100       80   \n",
       "2023-03-20(W12)       40     2644     3243      180       90        0   \n",
       "2023-03-27(W13)       40     2644     2863      590       60        0   \n",
       "2023-04-03(W14)       40     2644     2863      560       90        0   \n",
       "2023-04-10(W15)       40     2644     2863      560      130       60   \n",
       "\n",
       "Month            2023-07  2023-08  2023-09  2023-10  \n",
       "Ref                                                  \n",
       "2023-01-02(W01)        0        0        0        0  \n",
       "2023-01-09(W02)        0        0        0        0  \n",
       "2023-01-16(W03)        0        0        0        0  \n",
       "2023-01-23(W04)        0        0        0        0  \n",
       "2023-01-30(W05)       84        0        0        0  \n",
       "2023-02-06(W06)       90        0        0        0  \n",
       "2023-02-13(W07)        0        0        0        0  \n",
       "2023-02-20(W08)        0        0        0        0  \n",
       "2023-02-27(W09)        0        0        0        0  \n",
       "2023-03-06(W10)        0        0        0        0  \n",
       "2023-03-13(W11)        0        0        0        0  \n",
       "2023-03-20(W12)        0        0        0        0  \n",
       "2023-03-27(W13)        0        0        0        0  \n",
       "2023-04-03(W14)        0        0        0        0  \n",
       "2023-04-10(W15)        0        0        0        0  "
      ]
     },
     "execution_count": 86,
     "metadata": {},
     "output_type": "execute_result"
    }
   ],
   "source": [
    "df.pivot_table('QTY', index='Ref', columns='Month', aggfunc=sum)"
   ]
  },
  {
   "cell_type": "code",
   "execution_count": null,
   "id": "29fba54e",
   "metadata": {},
   "outputs": [],
   "source": []
  },
  {
   "cell_type": "code",
   "execution_count": null,
   "id": "35154c09",
   "metadata": {},
   "outputs": [],
   "source": []
  },
  {
   "cell_type": "code",
   "execution_count": null,
   "id": "9a2aaabe",
   "metadata": {},
   "outputs": [],
   "source": []
  },
  {
   "cell_type": "code",
   "execution_count": null,
   "id": "8a785f92",
   "metadata": {},
   "outputs": [],
   "source": []
  },
  {
   "cell_type": "code",
   "execution_count": null,
   "id": "028292ec",
   "metadata": {},
   "outputs": [],
   "source": []
  },
  {
   "cell_type": "code",
   "execution_count": null,
   "id": "e12bc0ef",
   "metadata": {},
   "outputs": [],
   "source": []
  },
  {
   "cell_type": "code",
   "execution_count": 11,
   "id": "71d41baa",
   "metadata": {},
   "outputs": [],
   "source": [
    "thisweek = get_weekname(datetime.date.today())\n",
    "wklist = [get_weekname_from(thisweek, i) for i in range(-5, 1)]"
   ]
  },
  {
   "cell_type": "code",
   "execution_count": 12,
   "id": "a9bd8a2c",
   "metadata": {},
   "outputs": [],
   "source": [
    "# GSCP DB에서 ver, 업체명, 조회할주차, 조회할 모델을 주면 해당 SP의 변동 이력을 출력하는 함수\n",
    "def get_sp_history(ver, vendor, search_week, search_model_list):\n",
    "    sp_history = pd.DataFrame()\n",
    "    for model in search_model_list:\n",
    "        for week in wklist:\n",
    "            sp = get_sp_from_GSCP_DB(week, ver, vendor)\n",
    "            sp.insert(0, 'Ref', week)\n",
    "            sp_history = pd.concat([sp_history, sp[sp['Mapping Model.Suffix'] == model]])\n",
    "    return sp_history.fillna(0)"
   ]
  },
  {
   "cell_type": "code",
   "execution_count": 13,
   "id": "c2cefc7b",
   "metadata": {},
   "outputs": [],
   "source": [
    "ver = 'Final'\n",
    "vendor = 'Quanta'\n",
    "search_models = ['15UG50P-G.AA7FKN', '15UG50P-G.AR3DKN', '15U50P-L.AR2BL']"
   ]
  },
  {
   "cell_type": "code",
   "execution_count": 14,
   "id": "3681f6cc",
   "metadata": {},
   "outputs": [],
   "source": [
    "history = get_sp_history(ver, vendor, wklist, search_models)"
   ]
  },
  {
   "cell_type": "code",
   "execution_count": 15,
   "id": "3881a7ba",
   "metadata": {},
   "outputs": [],
   "source": [
    "history.to_clipboard()"
   ]
  },
  {
   "cell_type": "code",
   "execution_count": 46,
   "id": "06927217",
   "metadata": {
    "scrolled": true
   },
   "outputs": [
    {
     "data": {
      "text/plain": [
       "Index(['Series', 'Model', 'Model.Suffix', 'Marketing Spec.', 'PDR No.',\n",
       "       'Grade', 'Product Variance', 'Bar Code', 'Project Code',\n",
       "       'PDR Description', 'BASE UNIT', 'MECHA ASSY', 'LCD ASSY',\n",
       "       'WIRELESS LAN', 'KEYBOARD', 'BATTERY', 'PEN', 'ADAPTER', 'POWER CORD',\n",
       "       'OS TYPE', 'OS LANGUAGE', 'LAN GENDER', 'MANUAL', 'WARRANTY',\n",
       "       'ACCESSORY KIT', 'PACKING', 'EMERGING MARKET', 'OS DIGITAL KEY',\n",
       "       '3.0 CPU LABEL', '1.0 ID LABEL', '12. WINDOWS LABEL', 'BAG', 'CUSTOMER',\n",
       "       'USB MOUSE', 'MASTER', '1.1 MAIN BOARD', '1.2 SET COLOR',\n",
       "       '2.4 DTS MARK', '1.4 HDMI MARK', '1.5 SET KCC INFORM',\n",
       "       '1.6 MOUSE KCC INFORM', '2.6 PEN KCC INFORM', 'Revision', 'PDR Type',\n",
       "       'Nation', 'Shipping Date', 'Affiliate Code', 'Production Type',\n",
       "       'Customer Model', 'Disabled Status', 'Bill to Customer',\n",
       "       'Producing Center', 'Model Description', 'Sales Model.Suffix',\n",
       "       'Sales Affiliate Code', 'FINGER PRINT', 'SSD', 'SSD2', 'POUCH',\n",
       "       'HDMI GENDER (USB TYPE-C)', '9.2 INTEL IRIS LABEL(Plus,Xe)',\n",
       "       '2.0 COUNTRY_BASE BOX LABEL', 'Image ID', 'OFFICE KEY CARD',\n",
       "       '23. POWER RESET LABEL', '32. ALEXA LABEL', '3.0 CAUTION LABEL',\n",
       "       'HDMI TO VGA GENDER', 'BOX ALEXA LABEL', '1st Production Date',\n",
       "       '15.0 CHINA ENERGY LABEL', '19.0 CHINA CCC LABEL', '1.0 CONFIG LABEL',\n",
       "       'OFFICE DIGITAL KEY', '21.0 DOWNGRADE FR LABEL', 'C to C Cable',\n",
       "       '26. GREEN MARK STICKER FOR LGETT', 'MEMORY (SODIMM)', 'HDD',\n",
       "       '21. HDMI LOGO LABEL', '9.3 RADEON LABEL', 'USB DVD',\n",
       "       '9.0 NVIDIA LABEL', '6.0 SAC LABEL FOR BRAZIL PRODUCTION', 'FAN',\n",
       "       '6.0 ENERGY STAR LABEL', '11.1 OPTANE LABEL', 'DA DIGITAL KEY',\n",
       "       'SPECIAL LABEL', '1.0 POP LABEL'],\n",
       "      dtype='object')"
      ]
     },
     "execution_count": 46,
     "metadata": {},
     "output_type": "execute_result"
    }
   ],
   "source": [
    "get_pdr().columns"
   ]
  },
  {
   "cell_type": "code",
   "execution_count": 47,
   "id": "0fc518f4",
   "metadata": {},
   "outputs": [
    {
     "data": {
      "text/html": [
       "<div>\n",
       "<style scoped>\n",
       "    .dataframe tbody tr th:only-of-type {\n",
       "        vertical-align: middle;\n",
       "    }\n",
       "\n",
       "    .dataframe tbody tr th {\n",
       "        vertical-align: top;\n",
       "    }\n",
       "\n",
       "    .dataframe thead th {\n",
       "        text-align: right;\n",
       "    }\n",
       "</style>\n",
       "<table border=\"1\" class=\"dataframe\">\n",
       "  <thead>\n",
       "    <tr style=\"text-align: right;\">\n",
       "      <th></th>\n",
       "      <th>Mapping Model.Suffix</th>\n",
       "      <th>COLOR</th>\n",
       "    </tr>\n",
       "  </thead>\n",
       "  <tbody>\n",
       "    <tr>\n",
       "      <th>0</th>\n",
       "      <td>11TG50Q-C.AC10KN</td>\n",
       "      <td>GRAY</td>\n",
       "    </tr>\n",
       "    <tr>\n",
       "      <th>1</th>\n",
       "      <td>11TC50Q-E.AC11ML</td>\n",
       "      <td>GRAY</td>\n",
       "    </tr>\n",
       "    <tr>\n",
       "      <th>2</th>\n",
       "      <td>11TG50Q-E.AC10KN</td>\n",
       "      <td>GRAY</td>\n",
       "    </tr>\n",
       "    <tr>\n",
       "      <th>3</th>\n",
       "      <td>11TC50Q-E.AC10ML</td>\n",
       "      <td>GRAY</td>\n",
       "    </tr>\n",
       "    <tr>\n",
       "      <th>4</th>\n",
       "      <td>11TC50Q-E.AC10K</td>\n",
       "      <td>GRAY</td>\n",
       "    </tr>\n",
       "    <tr>\n",
       "      <th>...</th>\n",
       "      <td>...</td>\n",
       "      <td>...</td>\n",
       "    </tr>\n",
       "    <tr>\n",
       "      <th>561</th>\n",
       "      <td>16T90R-G.AP75A3</td>\n",
       "      <td>BLACK</td>\n",
       "    </tr>\n",
       "    <tr>\n",
       "      <th>562</th>\n",
       "      <td>16T90R-G.CD78C</td>\n",
       "      <td>BLACK</td>\n",
       "    </tr>\n",
       "    <tr>\n",
       "      <th>563</th>\n",
       "      <td>16T90R-K.AAC7U1</td>\n",
       "      <td>BLACK</td>\n",
       "    </tr>\n",
       "    <tr>\n",
       "      <th>564</th>\n",
       "      <td>16T90R-K.AAC8U1</td>\n",
       "      <td>BLACK</td>\n",
       "    </tr>\n",
       "    <tr>\n",
       "      <th>565</th>\n",
       "      <td>16T90R-K.ADB9U1</td>\n",
       "      <td>BLACK</td>\n",
       "    </tr>\n",
       "  </tbody>\n",
       "</table>\n",
       "<p>566 rows × 2 columns</p>\n",
       "</div>"
      ],
      "text/plain": [
       "    Mapping Model.Suffix  COLOR\n",
       "0       11TG50Q-C.AC10KN   GRAY\n",
       "1       11TC50Q-E.AC11ML   GRAY\n",
       "2       11TG50Q-E.AC10KN   GRAY\n",
       "3       11TC50Q-E.AC10ML   GRAY\n",
       "4        11TC50Q-E.AC10K   GRAY\n",
       "..                   ...    ...\n",
       "561      16T90R-G.AP75A3  BLACK\n",
       "562       16T90R-G.CD78C  BLACK\n",
       "563      16T90R-K.AAC7U1  BLACK\n",
       "564      16T90R-K.AAC8U1  BLACK\n",
       "565      16T90R-K.ADB9U1  BLACK\n",
       "\n",
       "[566 rows x 2 columns]"
      ]
     },
     "execution_count": 47,
     "metadata": {},
     "output_type": "execute_result"
    }
   ],
   "source": [
    "pdr = get_pdr()[['Model.Suffix', '1.2 SET COLOR']]\n",
    "pdr = pdr.rename(columns={'Model.Suffix':'Mapping Model.Suffix', '1.2 SET COLOR':'COLOR'})\n",
    "pdr"
   ]
  },
  {
   "cell_type": "code",
   "execution_count": 50,
   "id": "e11c9416",
   "metadata": {},
   "outputs": [],
   "source": [
    "history.merge(pdr).to_clipboard()"
   ]
  },
  {
   "cell_type": "code",
   "execution_count": 2,
   "id": "b6402cdf",
   "metadata": {},
   "outputs": [],
   "source": [
    "# general options\n",
    "pd.set_option('display.max_columns',100)\n",
    "pd.set_option('display.max_rows',30)"
   ]
  },
  {
   "cell_type": "code",
   "execution_count": 9,
   "id": "1b44b1c6",
   "metadata": {},
   "outputs": [
    {
     "data": {
      "text/plain": [
       "2022-10-03(W40)       0\n",
       "2022-10-10(W41)       0\n",
       "2022-10-17(W42)       0\n",
       "2022-10-24(W43)       0\n",
       "2022-10-31(W44)    1010\n",
       "                   ... \n",
       "2023-10-09(W41)       0\n",
       "2023-10-16(W42)       0\n",
       "2023-10-23(W43)       0\n",
       "2023-10-30(W44)       0\n",
       "2023-11-06(W45)       0\n",
       "Length: 58, dtype: int64"
      ]
     },
     "execution_count": 9,
     "metadata": {},
     "output_type": "execute_result"
    }
   ],
   "source": [
    "get_difference_table(sp1, sp2, '-\\d\\d').sum()"
   ]
  },
  {
   "cell_type": "code",
   "execution_count": 4,
   "id": "015b441a",
   "metadata": {
    "scrolled": true
   },
   "outputs": [
    {
     "name": "stdout",
     "output_type": "stream",
     "text": [
      "1. 기준이 되는 SP는 Quanta의 2022-11-07(W45) 주차의 Final 버전\n",
      "2. 비교할 대상 SP는 Quanta의 2022-11-07(W45) 주차의 ODM Release 버전\n"
     ]
    },
    {
     "ename": "TypeError",
     "evalue": "cannot do slice indexing on Index with these indexers [nan] of type float",
     "output_type": "error",
     "traceback": [
      "\u001b[1;31m---------------------------------------------------------------------------\u001b[0m",
      "\u001b[1;31mTypeError\u001b[0m                                 Traceback (most recent call last)",
      "\u001b[1;32m~\\AppData\\Local\\Temp/ipykernel_2748/4176670374.py\u001b[0m in \u001b[0;36m<module>\u001b[1;34m\u001b[0m\n\u001b[0;32m     17\u001b[0m \u001b[0mstart_col\u001b[0m \u001b[1;33m=\u001b[0m \u001b[0mcategory_sum\u001b[0m\u001b[1;33m(\u001b[0m\u001b[0msp1\u001b[0m\u001b[1;33m)\u001b[0m\u001b[1;33m.\u001b[0m\u001b[0mcolumns\u001b[0m\u001b[1;33m[\u001b[0m\u001b[1;36m0\u001b[0m\u001b[1;33m]\u001b[0m\u001b[1;33m\u001b[0m\u001b[1;33m\u001b[0m\u001b[0m\n\u001b[0;32m     18\u001b[0m \u001b[0mend_col\u001b[0m \u001b[1;33m=\u001b[0m \u001b[0mmon_sum\u001b[0m\u001b[1;33m.\u001b[0m\u001b[0mloc\u001b[0m\u001b[1;33m[\u001b[0m\u001b[1;33m:\u001b[0m\u001b[1;33m,\u001b[0m \u001b[0mmon_sum\u001b[0m\u001b[1;33m.\u001b[0m\u001b[0msum\u001b[0m\u001b[1;33m(\u001b[0m\u001b[1;33m)\u001b[0m \u001b[1;33m!=\u001b[0m \u001b[1;36m0\u001b[0m\u001b[1;33m]\u001b[0m\u001b[1;33m.\u001b[0m\u001b[0mcolumns\u001b[0m\u001b[1;33m.\u001b[0m\u001b[0mmax\u001b[0m\u001b[1;33m(\u001b[0m\u001b[1;33m)\u001b[0m\u001b[1;33m\u001b[0m\u001b[1;33m\u001b[0m\u001b[0m\n\u001b[1;32m---> 19\u001b[1;33m \u001b[0mmon_sum\u001b[0m \u001b[1;33m=\u001b[0m \u001b[0mmon_sum\u001b[0m\u001b[1;33m.\u001b[0m\u001b[0mloc\u001b[0m\u001b[1;33m[\u001b[0m\u001b[1;33m:\u001b[0m\u001b[1;33m,\u001b[0m \u001b[0mstart_col\u001b[0m\u001b[1;33m:\u001b[0m\u001b[0mend_col\u001b[0m\u001b[1;33m]\u001b[0m\u001b[1;33m\u001b[0m\u001b[1;33m\u001b[0m\u001b[0m\n\u001b[0m\u001b[0;32m     20\u001b[0m \u001b[0mmon_sum\u001b[0m\u001b[1;33m.\u001b[0m\u001b[0mloc\u001b[0m\u001b[1;33m[\u001b[0m\u001b[1;33m:\u001b[0m\u001b[1;33m,\u001b[0m \u001b[1;34m'Total'\u001b[0m\u001b[1;33m]\u001b[0m \u001b[1;33m=\u001b[0m \u001b[0mmon_sum\u001b[0m\u001b[1;33m.\u001b[0m\u001b[0msum\u001b[0m\u001b[1;33m(\u001b[0m\u001b[0maxis\u001b[0m\u001b[1;33m=\u001b[0m\u001b[1;36m1\u001b[0m\u001b[1;33m)\u001b[0m\u001b[1;33m\u001b[0m\u001b[1;33m\u001b[0m\u001b[0m\n\u001b[0;32m     21\u001b[0m \u001b[0mmon_sum\u001b[0m\u001b[1;33m\u001b[0m\u001b[1;33m\u001b[0m\u001b[0m\n",
      "\u001b[1;32mC:\\Python\\Python39\\lib\\site-packages\\pandas\\core\\indexing.py\u001b[0m in \u001b[0;36m__getitem__\u001b[1;34m(self, key)\u001b[0m\n\u001b[0;32m    923\u001b[0m                 \u001b[1;32mwith\u001b[0m \u001b[0msuppress\u001b[0m\u001b[1;33m(\u001b[0m\u001b[0mKeyError\u001b[0m\u001b[1;33m,\u001b[0m \u001b[0mIndexError\u001b[0m\u001b[1;33m)\u001b[0m\u001b[1;33m:\u001b[0m\u001b[1;33m\u001b[0m\u001b[1;33m\u001b[0m\u001b[0m\n\u001b[0;32m    924\u001b[0m                     \u001b[1;32mreturn\u001b[0m \u001b[0mself\u001b[0m\u001b[1;33m.\u001b[0m\u001b[0mobj\u001b[0m\u001b[1;33m.\u001b[0m\u001b[0m_get_value\u001b[0m\u001b[1;33m(\u001b[0m\u001b[1;33m*\u001b[0m\u001b[0mkey\u001b[0m\u001b[1;33m,\u001b[0m \u001b[0mtakeable\u001b[0m\u001b[1;33m=\u001b[0m\u001b[0mself\u001b[0m\u001b[1;33m.\u001b[0m\u001b[0m_takeable\u001b[0m\u001b[1;33m)\u001b[0m\u001b[1;33m\u001b[0m\u001b[1;33m\u001b[0m\u001b[0m\n\u001b[1;32m--> 925\u001b[1;33m             \u001b[1;32mreturn\u001b[0m \u001b[0mself\u001b[0m\u001b[1;33m.\u001b[0m\u001b[0m_getitem_tuple\u001b[0m\u001b[1;33m(\u001b[0m\u001b[0mkey\u001b[0m\u001b[1;33m)\u001b[0m\u001b[1;33m\u001b[0m\u001b[1;33m\u001b[0m\u001b[0m\n\u001b[0m\u001b[0;32m    926\u001b[0m         \u001b[1;32melse\u001b[0m\u001b[1;33m:\u001b[0m\u001b[1;33m\u001b[0m\u001b[1;33m\u001b[0m\u001b[0m\n\u001b[0;32m    927\u001b[0m             \u001b[1;31m# we by definition only have the 0th axis\u001b[0m\u001b[1;33m\u001b[0m\u001b[1;33m\u001b[0m\u001b[0m\n",
      "\u001b[1;32mC:\\Python\\Python39\\lib\\site-packages\\pandas\\core\\indexing.py\u001b[0m in \u001b[0;36m_getitem_tuple\u001b[1;34m(self, tup)\u001b[0m\n\u001b[0;32m   1107\u001b[0m             \u001b[1;32mreturn\u001b[0m \u001b[0mself\u001b[0m\u001b[1;33m.\u001b[0m\u001b[0m_multi_take\u001b[0m\u001b[1;33m(\u001b[0m\u001b[0mtup\u001b[0m\u001b[1;33m)\u001b[0m\u001b[1;33m\u001b[0m\u001b[1;33m\u001b[0m\u001b[0m\n\u001b[0;32m   1108\u001b[0m \u001b[1;33m\u001b[0m\u001b[0m\n\u001b[1;32m-> 1109\u001b[1;33m         \u001b[1;32mreturn\u001b[0m \u001b[0mself\u001b[0m\u001b[1;33m.\u001b[0m\u001b[0m_getitem_tuple_same_dim\u001b[0m\u001b[1;33m(\u001b[0m\u001b[0mtup\u001b[0m\u001b[1;33m)\u001b[0m\u001b[1;33m\u001b[0m\u001b[1;33m\u001b[0m\u001b[0m\n\u001b[0m\u001b[0;32m   1110\u001b[0m \u001b[1;33m\u001b[0m\u001b[0m\n\u001b[0;32m   1111\u001b[0m     \u001b[1;32mdef\u001b[0m \u001b[0m_get_label\u001b[0m\u001b[1;33m(\u001b[0m\u001b[0mself\u001b[0m\u001b[1;33m,\u001b[0m \u001b[0mlabel\u001b[0m\u001b[1;33m,\u001b[0m \u001b[0maxis\u001b[0m\u001b[1;33m:\u001b[0m \u001b[0mint\u001b[0m\u001b[1;33m)\u001b[0m\u001b[1;33m:\u001b[0m\u001b[1;33m\u001b[0m\u001b[1;33m\u001b[0m\u001b[0m\n",
      "\u001b[1;32mC:\\Python\\Python39\\lib\\site-packages\\pandas\\core\\indexing.py\u001b[0m in \u001b[0;36m_getitem_tuple_same_dim\u001b[1;34m(self, tup)\u001b[0m\n\u001b[0;32m    804\u001b[0m                 \u001b[1;32mcontinue\u001b[0m\u001b[1;33m\u001b[0m\u001b[1;33m\u001b[0m\u001b[0m\n\u001b[0;32m    805\u001b[0m \u001b[1;33m\u001b[0m\u001b[0m\n\u001b[1;32m--> 806\u001b[1;33m             \u001b[0mretval\u001b[0m \u001b[1;33m=\u001b[0m \u001b[0mgetattr\u001b[0m\u001b[1;33m(\u001b[0m\u001b[0mretval\u001b[0m\u001b[1;33m,\u001b[0m \u001b[0mself\u001b[0m\u001b[1;33m.\u001b[0m\u001b[0mname\u001b[0m\u001b[1;33m)\u001b[0m\u001b[1;33m.\u001b[0m\u001b[0m_getitem_axis\u001b[0m\u001b[1;33m(\u001b[0m\u001b[0mkey\u001b[0m\u001b[1;33m,\u001b[0m \u001b[0maxis\u001b[0m\u001b[1;33m=\u001b[0m\u001b[0mi\u001b[0m\u001b[1;33m)\u001b[0m\u001b[1;33m\u001b[0m\u001b[1;33m\u001b[0m\u001b[0m\n\u001b[0m\u001b[0;32m    807\u001b[0m             \u001b[1;31m# We should never have retval.ndim < self.ndim, as that should\u001b[0m\u001b[1;33m\u001b[0m\u001b[1;33m\u001b[0m\u001b[0m\n\u001b[0;32m    808\u001b[0m             \u001b[1;31m#  be handled by the _getitem_lowerdim call above.\u001b[0m\u001b[1;33m\u001b[0m\u001b[1;33m\u001b[0m\u001b[0m\n",
      "\u001b[1;32mC:\\Python\\Python39\\lib\\site-packages\\pandas\\core\\indexing.py\u001b[0m in \u001b[0;36m_getitem_axis\u001b[1;34m(self, key, axis)\u001b[0m\n\u001b[0;32m   1140\u001b[0m         \u001b[1;32mif\u001b[0m \u001b[0misinstance\u001b[0m\u001b[1;33m(\u001b[0m\u001b[0mkey\u001b[0m\u001b[1;33m,\u001b[0m \u001b[0mslice\u001b[0m\u001b[1;33m)\u001b[0m\u001b[1;33m:\u001b[0m\u001b[1;33m\u001b[0m\u001b[1;33m\u001b[0m\u001b[0m\n\u001b[0;32m   1141\u001b[0m             \u001b[0mself\u001b[0m\u001b[1;33m.\u001b[0m\u001b[0m_validate_key\u001b[0m\u001b[1;33m(\u001b[0m\u001b[0mkey\u001b[0m\u001b[1;33m,\u001b[0m \u001b[0maxis\u001b[0m\u001b[1;33m)\u001b[0m\u001b[1;33m\u001b[0m\u001b[1;33m\u001b[0m\u001b[0m\n\u001b[1;32m-> 1142\u001b[1;33m             \u001b[1;32mreturn\u001b[0m \u001b[0mself\u001b[0m\u001b[1;33m.\u001b[0m\u001b[0m_get_slice_axis\u001b[0m\u001b[1;33m(\u001b[0m\u001b[0mkey\u001b[0m\u001b[1;33m,\u001b[0m \u001b[0maxis\u001b[0m\u001b[1;33m=\u001b[0m\u001b[0maxis\u001b[0m\u001b[1;33m)\u001b[0m\u001b[1;33m\u001b[0m\u001b[1;33m\u001b[0m\u001b[0m\n\u001b[0m\u001b[0;32m   1143\u001b[0m         \u001b[1;32melif\u001b[0m \u001b[0mcom\u001b[0m\u001b[1;33m.\u001b[0m\u001b[0mis_bool_indexer\u001b[0m\u001b[1;33m(\u001b[0m\u001b[0mkey\u001b[0m\u001b[1;33m)\u001b[0m\u001b[1;33m:\u001b[0m\u001b[1;33m\u001b[0m\u001b[1;33m\u001b[0m\u001b[0m\n\u001b[0;32m   1144\u001b[0m             \u001b[1;32mreturn\u001b[0m \u001b[0mself\u001b[0m\u001b[1;33m.\u001b[0m\u001b[0m_getbool_axis\u001b[0m\u001b[1;33m(\u001b[0m\u001b[0mkey\u001b[0m\u001b[1;33m,\u001b[0m \u001b[0maxis\u001b[0m\u001b[1;33m=\u001b[0m\u001b[0maxis\u001b[0m\u001b[1;33m)\u001b[0m\u001b[1;33m\u001b[0m\u001b[1;33m\u001b[0m\u001b[0m\n",
      "\u001b[1;32mC:\\Python\\Python39\\lib\\site-packages\\pandas\\core\\indexing.py\u001b[0m in \u001b[0;36m_get_slice_axis\u001b[1;34m(self, slice_obj, axis)\u001b[0m\n\u001b[0;32m   1174\u001b[0m \u001b[1;33m\u001b[0m\u001b[0m\n\u001b[0;32m   1175\u001b[0m         \u001b[0mlabels\u001b[0m \u001b[1;33m=\u001b[0m \u001b[0mobj\u001b[0m\u001b[1;33m.\u001b[0m\u001b[0m_get_axis\u001b[0m\u001b[1;33m(\u001b[0m\u001b[0maxis\u001b[0m\u001b[1;33m)\u001b[0m\u001b[1;33m\u001b[0m\u001b[1;33m\u001b[0m\u001b[0m\n\u001b[1;32m-> 1176\u001b[1;33m         \u001b[0mindexer\u001b[0m \u001b[1;33m=\u001b[0m \u001b[0mlabels\u001b[0m\u001b[1;33m.\u001b[0m\u001b[0mslice_indexer\u001b[0m\u001b[1;33m(\u001b[0m\u001b[0mslice_obj\u001b[0m\u001b[1;33m.\u001b[0m\u001b[0mstart\u001b[0m\u001b[1;33m,\u001b[0m \u001b[0mslice_obj\u001b[0m\u001b[1;33m.\u001b[0m\u001b[0mstop\u001b[0m\u001b[1;33m,\u001b[0m \u001b[0mslice_obj\u001b[0m\u001b[1;33m.\u001b[0m\u001b[0mstep\u001b[0m\u001b[1;33m)\u001b[0m\u001b[1;33m\u001b[0m\u001b[1;33m\u001b[0m\u001b[0m\n\u001b[0m\u001b[0;32m   1177\u001b[0m \u001b[1;33m\u001b[0m\u001b[0m\n\u001b[0;32m   1178\u001b[0m         \u001b[1;32mif\u001b[0m \u001b[0misinstance\u001b[0m\u001b[1;33m(\u001b[0m\u001b[0mindexer\u001b[0m\u001b[1;33m,\u001b[0m \u001b[0mslice\u001b[0m\u001b[1;33m)\u001b[0m\u001b[1;33m:\u001b[0m\u001b[1;33m\u001b[0m\u001b[1;33m\u001b[0m\u001b[0m\n",
      "\u001b[1;32mC:\\Python\\Python39\\lib\\site-packages\\pandas\\core\\indexes\\base.py\u001b[0m in \u001b[0;36mslice_indexer\u001b[1;34m(self, start, end, step, kind)\u001b[0m\n\u001b[0;32m   5684\u001b[0m         \u001b[0mslice\u001b[0m\u001b[1;33m(\u001b[0m\u001b[1;36m1\u001b[0m\u001b[1;33m,\u001b[0m \u001b[1;36m3\u001b[0m\u001b[1;33m,\u001b[0m \u001b[1;32mNone\u001b[0m\u001b[1;33m)\u001b[0m\u001b[1;33m\u001b[0m\u001b[1;33m\u001b[0m\u001b[0m\n\u001b[0;32m   5685\u001b[0m         \"\"\"\n\u001b[1;32m-> 5686\u001b[1;33m         \u001b[0mstart_slice\u001b[0m\u001b[1;33m,\u001b[0m \u001b[0mend_slice\u001b[0m \u001b[1;33m=\u001b[0m \u001b[0mself\u001b[0m\u001b[1;33m.\u001b[0m\u001b[0mslice_locs\u001b[0m\u001b[1;33m(\u001b[0m\u001b[0mstart\u001b[0m\u001b[1;33m,\u001b[0m \u001b[0mend\u001b[0m\u001b[1;33m,\u001b[0m \u001b[0mstep\u001b[0m\u001b[1;33m=\u001b[0m\u001b[0mstep\u001b[0m\u001b[1;33m)\u001b[0m\u001b[1;33m\u001b[0m\u001b[1;33m\u001b[0m\u001b[0m\n\u001b[0m\u001b[0;32m   5687\u001b[0m \u001b[1;33m\u001b[0m\u001b[0m\n\u001b[0;32m   5688\u001b[0m         \u001b[1;31m# return a slice\u001b[0m\u001b[1;33m\u001b[0m\u001b[1;33m\u001b[0m\u001b[0m\n",
      "\u001b[1;32mC:\\Python\\Python39\\lib\\site-packages\\pandas\\core\\indexes\\base.py\u001b[0m in \u001b[0;36mslice_locs\u001b[1;34m(self, start, end, step, kind)\u001b[0m\n\u001b[0;32m   5892\u001b[0m         \u001b[0mend_slice\u001b[0m \u001b[1;33m=\u001b[0m \u001b[1;32mNone\u001b[0m\u001b[1;33m\u001b[0m\u001b[1;33m\u001b[0m\u001b[0m\n\u001b[0;32m   5893\u001b[0m         \u001b[1;32mif\u001b[0m \u001b[0mend\u001b[0m \u001b[1;32mis\u001b[0m \u001b[1;32mnot\u001b[0m \u001b[1;32mNone\u001b[0m\u001b[1;33m:\u001b[0m\u001b[1;33m\u001b[0m\u001b[1;33m\u001b[0m\u001b[0m\n\u001b[1;32m-> 5894\u001b[1;33m             \u001b[0mend_slice\u001b[0m \u001b[1;33m=\u001b[0m \u001b[0mself\u001b[0m\u001b[1;33m.\u001b[0m\u001b[0mget_slice_bound\u001b[0m\u001b[1;33m(\u001b[0m\u001b[0mend\u001b[0m\u001b[1;33m,\u001b[0m \u001b[1;34m\"right\"\u001b[0m\u001b[1;33m)\u001b[0m\u001b[1;33m\u001b[0m\u001b[1;33m\u001b[0m\u001b[0m\n\u001b[0m\u001b[0;32m   5895\u001b[0m         \u001b[1;32mif\u001b[0m \u001b[0mend_slice\u001b[0m \u001b[1;32mis\u001b[0m \u001b[1;32mNone\u001b[0m\u001b[1;33m:\u001b[0m\u001b[1;33m\u001b[0m\u001b[1;33m\u001b[0m\u001b[0m\n\u001b[0;32m   5896\u001b[0m             \u001b[0mend_slice\u001b[0m \u001b[1;33m=\u001b[0m \u001b[0mlen\u001b[0m\u001b[1;33m(\u001b[0m\u001b[0mself\u001b[0m\u001b[1;33m)\u001b[0m\u001b[1;33m\u001b[0m\u001b[1;33m\u001b[0m\u001b[0m\n",
      "\u001b[1;32mC:\\Python\\Python39\\lib\\site-packages\\pandas\\core\\indexes\\base.py\u001b[0m in \u001b[0;36mget_slice_bound\u001b[1;34m(self, label, side, kind)\u001b[0m\n\u001b[0;32m   5796\u001b[0m         \u001b[1;31m# For datetime indices label may be a string that has to be converted\u001b[0m\u001b[1;33m\u001b[0m\u001b[1;33m\u001b[0m\u001b[0m\n\u001b[0;32m   5797\u001b[0m         \u001b[1;31m# to datetime boundary according to its resolution.\u001b[0m\u001b[1;33m\u001b[0m\u001b[1;33m\u001b[0m\u001b[0m\n\u001b[1;32m-> 5798\u001b[1;33m         \u001b[0mlabel\u001b[0m \u001b[1;33m=\u001b[0m \u001b[0mself\u001b[0m\u001b[1;33m.\u001b[0m\u001b[0m_maybe_cast_slice_bound\u001b[0m\u001b[1;33m(\u001b[0m\u001b[0mlabel\u001b[0m\u001b[1;33m,\u001b[0m \u001b[0mside\u001b[0m\u001b[1;33m)\u001b[0m\u001b[1;33m\u001b[0m\u001b[1;33m\u001b[0m\u001b[0m\n\u001b[0m\u001b[0;32m   5799\u001b[0m \u001b[1;33m\u001b[0m\u001b[0m\n\u001b[0;32m   5800\u001b[0m         \u001b[1;31m# we need to look up the label\u001b[0m\u001b[1;33m\u001b[0m\u001b[1;33m\u001b[0m\u001b[0m\n",
      "\u001b[1;32mC:\\Python\\Python39\\lib\\site-packages\\pandas\\core\\indexes\\base.py\u001b[0m in \u001b[0;36m_maybe_cast_slice_bound\u001b[1;34m(self, label, side, kind)\u001b[0m\n\u001b[0;32m   5748\u001b[0m         \u001b[1;31m# reject them, if index does not contain label\u001b[0m\u001b[1;33m\u001b[0m\u001b[1;33m\u001b[0m\u001b[0m\n\u001b[0;32m   5749\u001b[0m         \u001b[1;32mif\u001b[0m \u001b[1;33m(\u001b[0m\u001b[0mis_float\u001b[0m\u001b[1;33m(\u001b[0m\u001b[0mlabel\u001b[0m\u001b[1;33m)\u001b[0m \u001b[1;32mor\u001b[0m \u001b[0mis_integer\u001b[0m\u001b[1;33m(\u001b[0m\u001b[0mlabel\u001b[0m\u001b[1;33m)\u001b[0m\u001b[1;33m)\u001b[0m \u001b[1;32mand\u001b[0m \u001b[0mlabel\u001b[0m \u001b[1;32mnot\u001b[0m \u001b[1;32min\u001b[0m \u001b[0mself\u001b[0m\u001b[1;33m.\u001b[0m\u001b[0m_values\u001b[0m\u001b[1;33m:\u001b[0m\u001b[1;33m\u001b[0m\u001b[1;33m\u001b[0m\u001b[0m\n\u001b[1;32m-> 5750\u001b[1;33m             \u001b[1;32mraise\u001b[0m \u001b[0mself\u001b[0m\u001b[1;33m.\u001b[0m\u001b[0m_invalid_indexer\u001b[0m\u001b[1;33m(\u001b[0m\u001b[1;34m\"slice\"\u001b[0m\u001b[1;33m,\u001b[0m \u001b[0mlabel\u001b[0m\u001b[1;33m)\u001b[0m\u001b[1;33m\u001b[0m\u001b[1;33m\u001b[0m\u001b[0m\n\u001b[0m\u001b[0;32m   5751\u001b[0m \u001b[1;33m\u001b[0m\u001b[0m\n\u001b[0;32m   5752\u001b[0m         \u001b[1;32mreturn\u001b[0m \u001b[0mlabel\u001b[0m\u001b[1;33m\u001b[0m\u001b[1;33m\u001b[0m\u001b[0m\n",
      "\u001b[1;31mTypeError\u001b[0m: cannot do slice indexing on Index with these indexers [nan] of type float"
     ]
    }
   ],
   "source": [
    "today = datetime.date(2022, 11, 7)\n",
    "sp1_week = get_weekname(today)\n",
    "sp2_week = get_weekname_from(sp1_week, 0)\n",
    "sp1_ver = 'Final'\n",
    "sp2_ver = 'ODM Release'\n",
    "vendor = 'Quanta'\n",
    "print(f'1. 기준이 되는 SP는 {vendor}의 {sp1_week} 주차의 {sp1_ver} 버전')\n",
    "print(f'2. 비교할 대상 SP는 {vendor}의 {sp2_week} 주차의 {sp2_ver} 버전')\n",
    "\n",
    "sp1 = get_sp_from_GSCP_DB(sp1_week, sp1_ver, vendor)\n",
    "sp2 = get_sp_from_GSCP_DB(sp2_week, sp2_ver, vendor)\n",
    "if vendor == 'Wanlida':\n",
    "    mon_sum = category_sum(get_difference_table(sp1, sp2, '-\\d\\d').reset_index().rename(columns={'level_0':'Mapping Model.Suffix'}).groupby('Mapping Model.Suffix').sum())\n",
    "else:\n",
    "    mon_sum = category_sum(get_difference_table(sp1, sp2, '-\\d\\d').reset_index().rename(columns={'level_0':'Series'}).groupby('Series').sum())\n",
    "mon_sum.loc['Total'] = mon_sum.sum()\n",
    "start_col = category_sum(sp1).columns[0]\n",
    "end_col = mon_sum.loc[:, mon_sum.sum() != 0].columns.max()\n",
    "mon_sum = mon_sum.loc[:, start_col:end_col]\n",
    "mon_sum.loc[:, 'Total'] = mon_sum.sum(axis=1)\n",
    "mon_sum"
   ]
  },
  {
   "cell_type": "code",
   "execution_count": 12,
   "id": "37d3c32b",
   "metadata": {},
   "outputs": [
    {
     "data": {
      "text/html": [
       "<div>\n",
       "<style scoped>\n",
       "    .dataframe tbody tr th:only-of-type {\n",
       "        vertical-align: middle;\n",
       "    }\n",
       "\n",
       "    .dataframe tbody tr th {\n",
       "        vertical-align: top;\n",
       "    }\n",
       "\n",
       "    .dataframe thead th {\n",
       "        text-align: right;\n",
       "    }\n",
       "</style>\n",
       "<table border=\"1\" class=\"dataframe\">\n",
       "  <thead>\n",
       "    <tr style=\"text-align: right;\">\n",
       "      <th></th>\n",
       "      <th>2022-11-07(W45)</th>\n",
       "      <th>2022-10-31(W44)</th>\n",
       "      <th>2022-10-24(W43)</th>\n",
       "      <th>2022-10-17(W42)</th>\n",
       "      <th>Sum</th>\n",
       "    </tr>\n",
       "  </thead>\n",
       "  <tbody>\n",
       "    <tr>\n",
       "      <th>2022-10</th>\n",
       "      <td>43.0</td>\n",
       "      <td>43.0</td>\n",
       "      <td>43.0</td>\n",
       "      <td>43.0</td>\n",
       "      <td>172</td>\n",
       "    </tr>\n",
       "    <tr>\n",
       "      <th>2022-11</th>\n",
       "      <td>600.0</td>\n",
       "      <td>600.0</td>\n",
       "      <td>0.0</td>\n",
       "      <td>0.0</td>\n",
       "      <td>1200</td>\n",
       "    </tr>\n",
       "    <tr>\n",
       "      <th>2022-12</th>\n",
       "      <td>320.0</td>\n",
       "      <td>260.0</td>\n",
       "      <td>220.0</td>\n",
       "      <td>190.0</td>\n",
       "      <td>990</td>\n",
       "    </tr>\n",
       "    <tr>\n",
       "      <th>2023-01</th>\n",
       "      <td>230.0</td>\n",
       "      <td>230.0</td>\n",
       "      <td>230.0</td>\n",
       "      <td>270.0</td>\n",
       "      <td>960</td>\n",
       "    </tr>\n",
       "    <tr>\n",
       "      <th>2023-02</th>\n",
       "      <td>200.0</td>\n",
       "      <td>200.0</td>\n",
       "      <td>200.0</td>\n",
       "      <td>160.0</td>\n",
       "      <td>760</td>\n",
       "    </tr>\n",
       "    <tr>\n",
       "      <th>2023-03</th>\n",
       "      <td>120.0</td>\n",
       "      <td>120.0</td>\n",
       "      <td>120.0</td>\n",
       "      <td>120.0</td>\n",
       "      <td>480</td>\n",
       "    </tr>\n",
       "    <tr>\n",
       "      <th>Sum</th>\n",
       "      <td>1513.0</td>\n",
       "      <td>1453.0</td>\n",
       "      <td>813.0</td>\n",
       "      <td>783.0</td>\n",
       "      <td>4562</td>\n",
       "    </tr>\n",
       "  </tbody>\n",
       "</table>\n",
       "</div>"
      ],
      "text/plain": [
       "         2022-11-07(W45)  2022-10-31(W44)  2022-10-24(W43)  2022-10-17(W42)  \\\n",
       "2022-10             43.0             43.0             43.0             43.0   \n",
       "2022-11            600.0            600.0              0.0              0.0   \n",
       "2022-12            320.0            260.0            220.0            190.0   \n",
       "2023-01            230.0            230.0            230.0            270.0   \n",
       "2023-02            200.0            200.0            200.0            160.0   \n",
       "2023-03            120.0            120.0            120.0            120.0   \n",
       "Sum               1513.0           1453.0            813.0            783.0   \n",
       "\n",
       "          Sum  \n",
       "2022-10   172  \n",
       "2022-11  1200  \n",
       "2022-12   990  \n",
       "2023-01   960  \n",
       "2023-02   760  \n",
       "2023-03   480  \n",
       "Sum      4562  "
      ]
     },
     "execution_count": 12,
     "metadata": {},
     "output_type": "execute_result"
    }
   ],
   "source": [
    "name = '11T50Q'\n",
    "vendor = 'Quanta'\n",
    "ver = 'Final'\n",
    "\n",
    "df = make_forecast_change_for_certain_model(-1, 4, name, ver, vendor)\n",
    "df.loc[:, 'Total'] = df.sum(axis=1)\n",
    "end_value = df[df['Total'] != 0].index.max()\n",
    "df = df.loc[:end_value, :].drop(columns='Total')\n",
    "df['Sum'] = df.sum(axis=1)\n",
    "df.loc['Sum'] = df.sum()\n",
    "df = df.convert_dtypes()\n",
    "df"
   ]
  },
  {
   "cell_type": "code",
   "execution_count": 6,
   "id": "ece97750",
   "metadata": {},
   "outputs": [
    {
     "data": {
      "image/png": "[encoded data removed]",
      "text/plain": [
       "<Figure size 1080x576 with 1 Axes>"
      ]
     },
     "metadata": {
      "needs_background": "light"
     },
     "output_type": "display_data"
    }
   ],
   "source": [
    "plot_forecast_change(df, f'{vendor} {name}')"
   ]
  },
  {
   "cell_type": "code",
   "execution_count": 7,
   "id": "d796eb8f",
   "metadata": {},
   "outputs": [
    {
     "data": {
      "text/plain": [
       "['2023-01-02(W01)',\n",
       " '2023-01-09(W02)',\n",
       " '2023-01-16(W03)',\n",
       " '2023-01-23(W04)',\n",
       " '2023-01-30(W05)',\n",
       " '2023-02-06(W06)',\n",
       " '2023-02-13(W07)']"
      ]
     },
     "execution_count": 7,
     "metadata": {},
     "output_type": "execute_result"
    }
   ],
   "source": [
    "wklist = get_weeklist_for_certain_month(2023, 1) + get_weeklist_for_certain_month(2023, 2)\n",
    "wklist = wklist[:-1]\n",
    "wklist"
   ]
  },
  {
   "cell_type": "code",
   "execution_count": 10,
   "id": "b8904dd5",
   "metadata": {},
   "outputs": [
    {
     "data": {
      "text/html": [
       "<div>\n",
       "<style scoped>\n",
       "    .dataframe tbody tr th:only-of-type {\n",
       "        vertical-align: middle;\n",
       "    }\n",
       "\n",
       "    .dataframe tbody tr th {\n",
       "        vertical-align: top;\n",
       "    }\n",
       "\n",
       "    .dataframe thead th {\n",
       "        text-align: right;\n",
       "    }\n",
       "</style>\n",
       "<table border=\"1\" class=\"dataframe\">\n",
       "  <thead>\n",
       "    <tr style=\"text-align: right;\">\n",
       "      <th></th>\n",
       "      <th>Series</th>\n",
       "      <th>Mapping Model.Suffix</th>\n",
       "      <th>Region</th>\n",
       "      <th>Country</th>\n",
       "      <th>To Site</th>\n",
       "      <th>2022-11-28(W48)</th>\n",
       "      <th>2022-12-05(W49)</th>\n",
       "      <th>2022-12-12(W50)</th>\n",
       "      <th>2022-12-19(W51)</th>\n",
       "      <th>2022-12-26(W52)</th>\n",
       "      <th>...</th>\n",
       "      <th>2023-12-11(W50)</th>\n",
       "      <th>2023-12-18(W51)</th>\n",
       "      <th>2023-12-25(W52)</th>\n",
       "      <th>2024-01-01(W01)</th>\n",
       "      <th>2024-01-08(W02)</th>\n",
       "      <th>2024-01-15(W03)</th>\n",
       "      <th>2024-01-22(W04)</th>\n",
       "      <th>2024-01-29(W05)</th>\n",
       "      <th>2024-02-05(W06)</th>\n",
       "      <th>Ref</th>\n",
       "    </tr>\n",
       "  </thead>\n",
       "  <tbody>\n",
       "    <tr>\n",
       "      <th>0</th>\n",
       "      <td>11T50Q</td>\n",
       "      <td>11TG50Q-C.AC10KN</td>\n",
       "      <td>KOREA</td>\n",
       "      <td>Korea</td>\n",
       "      <td>EKHQ</td>\n",
       "      <td>0</td>\n",
       "      <td>0</td>\n",
       "      <td>0</td>\n",
       "      <td>0</td>\n",
       "      <td>7</td>\n",
       "      <td>...</td>\n",
       "      <td>0</td>\n",
       "      <td>0</td>\n",
       "      <td>0</td>\n",
       "      <td>0</td>\n",
       "      <td>0</td>\n",
       "      <td>0</td>\n",
       "      <td>0</td>\n",
       "      <td>0</td>\n",
       "      <td>0</td>\n",
       "      <td>2023-01-02(W01)</td>\n",
       "    </tr>\n",
       "    <tr>\n",
       "      <th>1</th>\n",
       "      <td>11T50Q</td>\n",
       "      <td>11TG50Q-E.AC10KN</td>\n",
       "      <td>KOREA</td>\n",
       "      <td>Korea</td>\n",
       "      <td>EKHQ</td>\n",
       "      <td>0</td>\n",
       "      <td>0</td>\n",
       "      <td>120</td>\n",
       "      <td>576</td>\n",
       "      <td>0</td>\n",
       "      <td>...</td>\n",
       "      <td>0</td>\n",
       "      <td>0</td>\n",
       "      <td>0</td>\n",
       "      <td>0</td>\n",
       "      <td>0</td>\n",
       "      <td>0</td>\n",
       "      <td>0</td>\n",
       "      <td>0</td>\n",
       "      <td>0</td>\n",
       "      <td>2023-01-02(W01)</td>\n",
       "    </tr>\n",
       "    <tr>\n",
       "      <th>2</th>\n",
       "      <td>14T90P</td>\n",
       "      <td>14T90P-G.ARTGK</td>\n",
       "      <td>KOREA</td>\n",
       "      <td>Korea</td>\n",
       "      <td>EKHQ</td>\n",
       "      <td>0</td>\n",
       "      <td>0</td>\n",
       "      <td>0</td>\n",
       "      <td>0</td>\n",
       "      <td>0</td>\n",
       "      <td>...</td>\n",
       "      <td>0</td>\n",
       "      <td>0</td>\n",
       "      <td>0</td>\n",
       "      <td>0</td>\n",
       "      <td>0</td>\n",
       "      <td>0</td>\n",
       "      <td>0</td>\n",
       "      <td>0</td>\n",
       "      <td>0</td>\n",
       "      <td>2023-01-02(W01)</td>\n",
       "    </tr>\n",
       "    <tr>\n",
       "      <th>3</th>\n",
       "      <td>14T90Q</td>\n",
       "      <td>14T90Q-G.AA55A3</td>\n",
       "      <td>SEA</td>\n",
       "      <td>Singapore</td>\n",
       "      <td>EASL</td>\n",
       "      <td>0</td>\n",
       "      <td>0</td>\n",
       "      <td>0</td>\n",
       "      <td>5</td>\n",
       "      <td>0</td>\n",
       "      <td>...</td>\n",
       "      <td>0</td>\n",
       "      <td>0</td>\n",
       "      <td>0</td>\n",
       "      <td>0</td>\n",
       "      <td>0</td>\n",
       "      <td>0</td>\n",
       "      <td>0</td>\n",
       "      <td>0</td>\n",
       "      <td>0</td>\n",
       "      <td>2023-01-02(W01)</td>\n",
       "    </tr>\n",
       "    <tr>\n",
       "      <th>4</th>\n",
       "      <td>14T90Q</td>\n",
       "      <td>14T90Q-G.AA55Y</td>\n",
       "      <td>EU</td>\n",
       "      <td>Poland</td>\n",
       "      <td>EEPL</td>\n",
       "      <td>0</td>\n",
       "      <td>0</td>\n",
       "      <td>20</td>\n",
       "      <td>0</td>\n",
       "      <td>0</td>\n",
       "      <td>...</td>\n",
       "      <td>0</td>\n",
       "      <td>0</td>\n",
       "      <td>0</td>\n",
       "      <td>0</td>\n",
       "      <td>0</td>\n",
       "      <td>0</td>\n",
       "      <td>0</td>\n",
       "      <td>0</td>\n",
       "      <td>0</td>\n",
       "      <td>2023-01-02(W01)</td>\n",
       "    </tr>\n",
       "    <tr>\n",
       "      <th>...</th>\n",
       "      <td>...</td>\n",
       "      <td>...</td>\n",
       "      <td>...</td>\n",
       "      <td>...</td>\n",
       "      <td>...</td>\n",
       "      <td>...</td>\n",
       "      <td>...</td>\n",
       "      <td>...</td>\n",
       "      <td>...</td>\n",
       "      <td>...</td>\n",
       "      <td>...</td>\n",
       "      <td>...</td>\n",
       "      <td>...</td>\n",
       "      <td>...</td>\n",
       "      <td>...</td>\n",
       "      <td>...</td>\n",
       "      <td>...</td>\n",
       "      <td>...</td>\n",
       "      <td>...</td>\n",
       "      <td>...</td>\n",
       "      <td>...</td>\n",
       "    </tr>\n",
       "    <tr>\n",
       "      <th>140</th>\n",
       "      <td>16T90Q</td>\n",
       "      <td>16TD90Q-G.AX70K</td>\n",
       "      <td>KOREA</td>\n",
       "      <td>Korea</td>\n",
       "      <td>EKHQ</td>\n",
       "      <td>&lt;NA&gt;</td>\n",
       "      <td>&lt;NA&gt;</td>\n",
       "      <td>&lt;NA&gt;</td>\n",
       "      <td>&lt;NA&gt;</td>\n",
       "      <td>&lt;NA&gt;</td>\n",
       "      <td>...</td>\n",
       "      <td>0</td>\n",
       "      <td>0</td>\n",
       "      <td>0</td>\n",
       "      <td>0</td>\n",
       "      <td>0</td>\n",
       "      <td>0</td>\n",
       "      <td>0</td>\n",
       "      <td>0</td>\n",
       "      <td>0</td>\n",
       "      <td>2023-02-13(W07)</td>\n",
       "    </tr>\n",
       "    <tr>\n",
       "      <th>141</th>\n",
       "      <td>16T90R</td>\n",
       "      <td>16TD90R-G.AX56K</td>\n",
       "      <td>KOREA</td>\n",
       "      <td>Korea</td>\n",
       "      <td>EKHQ</td>\n",
       "      <td>&lt;NA&gt;</td>\n",
       "      <td>&lt;NA&gt;</td>\n",
       "      <td>&lt;NA&gt;</td>\n",
       "      <td>&lt;NA&gt;</td>\n",
       "      <td>&lt;NA&gt;</td>\n",
       "      <td>...</td>\n",
       "      <td>0</td>\n",
       "      <td>0</td>\n",
       "      <td>0</td>\n",
       "      <td>0</td>\n",
       "      <td>0</td>\n",
       "      <td>0</td>\n",
       "      <td>0</td>\n",
       "      <td>0</td>\n",
       "      <td>0</td>\n",
       "      <td>2023-02-13(W07)</td>\n",
       "    </tr>\n",
       "    <tr>\n",
       "      <th>142</th>\n",
       "      <td>16T90R</td>\n",
       "      <td>16TD90R-G.AX76K</td>\n",
       "      <td>KOREA</td>\n",
       "      <td>Korea</td>\n",
       "      <td>EKHQ</td>\n",
       "      <td>&lt;NA&gt;</td>\n",
       "      <td>&lt;NA&gt;</td>\n",
       "      <td>&lt;NA&gt;</td>\n",
       "      <td>&lt;NA&gt;</td>\n",
       "      <td>&lt;NA&gt;</td>\n",
       "      <td>...</td>\n",
       "      <td>0</td>\n",
       "      <td>0</td>\n",
       "      <td>0</td>\n",
       "      <td>0</td>\n",
       "      <td>0</td>\n",
       "      <td>0</td>\n",
       "      <td>0</td>\n",
       "      <td>0</td>\n",
       "      <td>0</td>\n",
       "      <td>2023-02-13(W07)</td>\n",
       "    </tr>\n",
       "    <tr>\n",
       "      <th>143</th>\n",
       "      <td>16T90Q</td>\n",
       "      <td>16TG90Q-G.AA75KN</td>\n",
       "      <td>KOREA</td>\n",
       "      <td>Korea</td>\n",
       "      <td>EKHQ</td>\n",
       "      <td>&lt;NA&gt;</td>\n",
       "      <td>&lt;NA&gt;</td>\n",
       "      <td>&lt;NA&gt;</td>\n",
       "      <td>&lt;NA&gt;</td>\n",
       "      <td>&lt;NA&gt;</td>\n",
       "      <td>...</td>\n",
       "      <td>0</td>\n",
       "      <td>0</td>\n",
       "      <td>0</td>\n",
       "      <td>0</td>\n",
       "      <td>0</td>\n",
       "      <td>0</td>\n",
       "      <td>0</td>\n",
       "      <td>0</td>\n",
       "      <td>0</td>\n",
       "      <td>2023-02-13(W07)</td>\n",
       "    </tr>\n",
       "    <tr>\n",
       "      <th>144</th>\n",
       "      <td>16T90Q</td>\n",
       "      <td>16TG90Q-G.AR55KN</td>\n",
       "      <td>KOREA</td>\n",
       "      <td>Korea</td>\n",
       "      <td>EKHQ</td>\n",
       "      <td>&lt;NA&gt;</td>\n",
       "      <td>&lt;NA&gt;</td>\n",
       "      <td>&lt;NA&gt;</td>\n",
       "      <td>&lt;NA&gt;</td>\n",
       "      <td>&lt;NA&gt;</td>\n",
       "      <td>...</td>\n",
       "      <td>0</td>\n",
       "      <td>0</td>\n",
       "      <td>0</td>\n",
       "      <td>0</td>\n",
       "      <td>0</td>\n",
       "      <td>0</td>\n",
       "      <td>0</td>\n",
       "      <td>0</td>\n",
       "      <td>0</td>\n",
       "      <td>2023-02-13(W07)</td>\n",
       "    </tr>\n",
       "  </tbody>\n",
       "</table>\n",
       "<p>1033 rows × 69 columns</p>\n",
       "</div>"
      ],
      "text/plain": [
       "     Series Mapping Model.Suffix Region    Country To Site  2022-11-28(W48)  \\\n",
       "0    11T50Q     11TG50Q-C.AC10KN  KOREA      Korea    EKHQ                0   \n",
       "1    11T50Q     11TG50Q-E.AC10KN  KOREA      Korea    EKHQ                0   \n",
       "2    14T90P       14T90P-G.ARTGK  KOREA      Korea    EKHQ                0   \n",
       "3    14T90Q      14T90Q-G.AA55A3    SEA  Singapore    EASL                0   \n",
       "4    14T90Q       14T90Q-G.AA55Y     EU     Poland    EEPL                0   \n",
       "..      ...                  ...    ...        ...     ...              ...   \n",
       "140  16T90Q      16TD90Q-G.AX70K  KOREA      Korea    EKHQ             <NA>   \n",
       "141  16T90R      16TD90R-G.AX56K  KOREA      Korea    EKHQ             <NA>   \n",
       "142  16T90R      16TD90R-G.AX76K  KOREA      Korea    EKHQ             <NA>   \n",
       "143  16T90Q     16TG90Q-G.AA75KN  KOREA      Korea    EKHQ             <NA>   \n",
       "144  16T90Q     16TG90Q-G.AR55KN  KOREA      Korea    EKHQ             <NA>   \n",
       "\n",
       "     2022-12-05(W49)  2022-12-12(W50)  2022-12-19(W51)  2022-12-26(W52)  ...  \\\n",
       "0                  0                0                0                7  ...   \n",
       "1                  0              120              576                0  ...   \n",
       "2                  0                0                0                0  ...   \n",
       "3                  0                0                5                0  ...   \n",
       "4                  0               20                0                0  ...   \n",
       "..               ...              ...              ...              ...  ...   \n",
       "140             <NA>             <NA>             <NA>             <NA>  ...   \n",
       "141             <NA>             <NA>             <NA>             <NA>  ...   \n",
       "142             <NA>             <NA>             <NA>             <NA>  ...   \n",
       "143             <NA>             <NA>             <NA>             <NA>  ...   \n",
       "144             <NA>             <NA>             <NA>             <NA>  ...   \n",
       "\n",
       "     2023-12-11(W50)  2023-12-18(W51)  2023-12-25(W52)  2024-01-01(W01)  \\\n",
       "0                  0                0                0                0   \n",
       "1                  0                0                0                0   \n",
       "2                  0                0                0                0   \n",
       "3                  0                0                0                0   \n",
       "4                  0                0                0                0   \n",
       "..               ...              ...              ...              ...   \n",
       "140                0                0                0                0   \n",
       "141                0                0                0                0   \n",
       "142                0                0                0                0   \n",
       "143                0                0                0                0   \n",
       "144                0                0                0                0   \n",
       "\n",
       "     2024-01-08(W02)  2024-01-15(W03)  2024-01-22(W04)  2024-01-29(W05)  \\\n",
       "0                  0                0                0                0   \n",
       "1                  0                0                0                0   \n",
       "2                  0                0                0                0   \n",
       "3                  0                0                0                0   \n",
       "4                  0                0                0                0   \n",
       "..               ...              ...              ...              ...   \n",
       "140                0                0                0                0   \n",
       "141                0                0                0                0   \n",
       "142                0                0                0                0   \n",
       "143                0                0                0                0   \n",
       "144                0                0                0                0   \n",
       "\n",
       "     2024-02-05(W06)              Ref  \n",
       "0                  0  2023-01-02(W01)  \n",
       "1                  0  2023-01-02(W01)  \n",
       "2                  0  2023-01-02(W01)  \n",
       "3                  0  2023-01-02(W01)  \n",
       "4                  0  2023-01-02(W01)  \n",
       "..               ...              ...  \n",
       "140                0  2023-02-13(W07)  \n",
       "141                0  2023-02-13(W07)  \n",
       "142                0  2023-02-13(W07)  \n",
       "143                0  2023-02-13(W07)  \n",
       "144                0  2023-02-13(W07)  \n",
       "\n",
       "[1033 rows x 69 columns]"
      ]
     },
     "execution_count": 10,
     "metadata": {},
     "output_type": "execute_result"
    }
   ],
   "source": [
    "sp_all = pd.DataFrame()\n",
    "for wk in wklist:\n",
    "    sp = get_sp_from_GSCP_DB(wk, 'Latest', 'Quanta')\n",
    "    sp['Ref'] = wk\n",
    "    sp_all = pd.concat([sp_all, sp])\n",
    "sp_all"
   ]
  },
  {
   "cell_type": "code",
   "execution_count": 14,
   "id": "01c1c40e",
   "metadata": {},
   "outputs": [],
   "source": [
    "sp_all[sp_all['Mapping Model.Suffix'] == '16T90R-G.AA5CK'].to_clipboard()"
   ]
  },
  {
   "cell_type": "markdown",
   "id": "b34444d7",
   "metadata": {},
   "source": [
    "### Quanta Forecast"
   ]
  },
  {
   "cell_type": "code",
   "execution_count": 3,
   "id": "5e9a7d95",
   "metadata": {},
   "outputs": [],
   "source": [
    "with open('D:/Data/Quanta forecast.bin', 'rb') as f:\n",
    "    df = pickle.load(f)"
   ]
  },
  {
   "cell_type": "code",
   "execution_count": 4,
   "id": "5cd134e1",
   "metadata": {},
   "outputs": [],
   "source": [
    "df = df[df['Series'] == '11T50Q']"
   ]
  },
  {
   "cell_type": "code",
   "execution_count": 34,
   "id": "9eb6bf62",
   "metadata": {},
   "outputs": [],
   "source": [
    "df = df[df['Mapping Model.Suffix'] == '11TG50Q-E.AC10KN']"
   ]
  },
  {
   "cell_type": "code",
   "execution_count": 5,
   "id": "f629531b",
   "metadata": {},
   "outputs": [],
   "source": [
    "df.groupby(['Ref_week', 'Mapping Model.Suffix']).sum().to_excel('d:/Python result/a.xlsx')"
   ]
  },
  {
   "cell_type": "code",
   "execution_count": 30,
   "id": "8070667f",
   "metadata": {},
   "outputs": [
    {
     "data": {
      "text/html": [
       "<div>\n",
       "<style scoped>\n",
       "    .dataframe tbody tr th:only-of-type {\n",
       "        vertical-align: middle;\n",
       "    }\n",
       "\n",
       "    .dataframe tbody tr th {\n",
       "        vertical-align: top;\n",
       "    }\n",
       "\n",
       "    .dataframe thead th {\n",
       "        text-align: right;\n",
       "    }\n",
       "</style>\n",
       "<table border=\"1\" class=\"dataframe\">\n",
       "  <thead>\n",
       "    <tr style=\"text-align: right;\">\n",
       "      <th></th>\n",
       "      <th>Ref_week</th>\n",
       "      <th>Mapping Model.Suffix</th>\n",
       "      <th>Week</th>\n",
       "      <th>QTY</th>\n",
       "    </tr>\n",
       "  </thead>\n",
       "  <tbody>\n",
       "    <tr>\n",
       "      <th>0</th>\n",
       "      <td>2022-01-03(W01)</td>\n",
       "      <td>11TG50Q-E.AC10KN</td>\n",
       "      <td>2021-11-29(W48)</td>\n",
       "      <td>0</td>\n",
       "    </tr>\n",
       "    <tr>\n",
       "      <th>1</th>\n",
       "      <td>2022-01-03(W01)</td>\n",
       "      <td>11TG50Q-E.AC10KN</td>\n",
       "      <td>2021-12-06(W49)</td>\n",
       "      <td>7</td>\n",
       "    </tr>\n",
       "    <tr>\n",
       "      <th>2</th>\n",
       "      <td>2022-01-03(W01)</td>\n",
       "      <td>11TG50Q-E.AC10KN</td>\n",
       "      <td>2021-12-13(W50)</td>\n",
       "      <td>0</td>\n",
       "    </tr>\n",
       "    <tr>\n",
       "      <th>3</th>\n",
       "      <td>2022-01-03(W01)</td>\n",
       "      <td>11TG50Q-E.AC10KN</td>\n",
       "      <td>2021-12-20(W51)</td>\n",
       "      <td>0</td>\n",
       "    </tr>\n",
       "    <tr>\n",
       "      <th>4</th>\n",
       "      <td>2022-01-03(W01)</td>\n",
       "      <td>11TG50Q-E.AC10KN</td>\n",
       "      <td>2021-12-27(W52)</td>\n",
       "      <td>0</td>\n",
       "    </tr>\n",
       "    <tr>\n",
       "      <th>...</th>\n",
       "      <td>...</td>\n",
       "      <td>...</td>\n",
       "      <td>...</td>\n",
       "      <td>...</td>\n",
       "    </tr>\n",
       "    <tr>\n",
       "      <th>1363</th>\n",
       "      <td>2022-06-13(W24)</td>\n",
       "      <td>11TG50Q-E.AC10KN</td>\n",
       "      <td>2022-11-28(W48)</td>\n",
       "      <td>100</td>\n",
       "    </tr>\n",
       "    <tr>\n",
       "      <th>1364</th>\n",
       "      <td>2022-06-13(W24)</td>\n",
       "      <td>11TG50Q-E.AC10KN</td>\n",
       "      <td>2022-12-05(W49)</td>\n",
       "      <td>95</td>\n",
       "    </tr>\n",
       "    <tr>\n",
       "      <th>1365</th>\n",
       "      <td>2022-06-13(W24)</td>\n",
       "      <td>11TG50Q-E.AC10KN</td>\n",
       "      <td>2022-12-12(W50)</td>\n",
       "      <td>100</td>\n",
       "    </tr>\n",
       "    <tr>\n",
       "      <th>1366</th>\n",
       "      <td>2022-06-13(W24)</td>\n",
       "      <td>11TG50Q-E.AC10KN</td>\n",
       "      <td>2022-12-19(W51)</td>\n",
       "      <td>100</td>\n",
       "    </tr>\n",
       "    <tr>\n",
       "      <th>1367</th>\n",
       "      <td>2022-06-13(W24)</td>\n",
       "      <td>11TG50Q-E.AC10KN</td>\n",
       "      <td>2022-12-26(W52)</td>\n",
       "      <td>0</td>\n",
       "    </tr>\n",
       "  </tbody>\n",
       "</table>\n",
       "<p>1368 rows × 4 columns</p>\n",
       "</div>"
      ],
      "text/plain": [
       "             Ref_week Mapping Model.Suffix             Week  QTY\n",
       "0     2022-01-03(W01)     11TG50Q-E.AC10KN  2021-11-29(W48)    0\n",
       "1     2022-01-03(W01)     11TG50Q-E.AC10KN  2021-12-06(W49)    7\n",
       "2     2022-01-03(W01)     11TG50Q-E.AC10KN  2021-12-13(W50)    0\n",
       "3     2022-01-03(W01)     11TG50Q-E.AC10KN  2021-12-20(W51)    0\n",
       "4     2022-01-03(W01)     11TG50Q-E.AC10KN  2021-12-27(W52)    0\n",
       "...               ...                  ...              ...  ...\n",
       "1363  2022-06-13(W24)     11TG50Q-E.AC10KN  2022-11-28(W48)  100\n",
       "1364  2022-06-13(W24)     11TG50Q-E.AC10KN  2022-12-05(W49)   95\n",
       "1365  2022-06-13(W24)     11TG50Q-E.AC10KN  2022-12-12(W50)  100\n",
       "1366  2022-06-13(W24)     11TG50Q-E.AC10KN  2022-12-19(W51)  100\n",
       "1367  2022-06-13(W24)     11TG50Q-E.AC10KN  2022-12-26(W52)    0\n",
       "\n",
       "[1368 rows x 4 columns]"
      ]
     },
     "execution_count": 30,
     "metadata": {},
     "output_type": "execute_result"
    }
   ],
   "source": [
    "df = df.groupby(['Ref_week', 'Mapping Model.Suffix']).sum().stack().reset_index()\n",
    "df.rename(columns={'level_2':'Week', 0:'QTY'}, inplace=True)\n",
    "df"
   ]
  },
  {
   "cell_type": "code",
   "execution_count": 4,
   "id": "7448d97e",
   "metadata": {},
   "outputs": [],
   "source": [
    "df = category_sum(df.groupby(['Ref_week', 'Series']).sum())"
   ]
  },
  {
   "cell_type": "code",
   "execution_count": 5,
   "id": "f53cb7ed",
   "metadata": {},
   "outputs": [
    {
     "data": {
      "text/html": [
       "<div>\n",
       "<style scoped>\n",
       "    .dataframe tbody tr th:only-of-type {\n",
       "        vertical-align: middle;\n",
       "    }\n",
       "\n",
       "    .dataframe tbody tr th {\n",
       "        vertical-align: top;\n",
       "    }\n",
       "\n",
       "    .dataframe thead th {\n",
       "        text-align: right;\n",
       "    }\n",
       "</style>\n",
       "<table border=\"1\" class=\"dataframe\">\n",
       "  <thead>\n",
       "    <tr style=\"text-align: right;\">\n",
       "      <th></th>\n",
       "      <th>Ref_week</th>\n",
       "      <th>Series</th>\n",
       "      <th>Month</th>\n",
       "      <th>0</th>\n",
       "    </tr>\n",
       "  </thead>\n",
       "  <tbody>\n",
       "    <tr>\n",
       "      <th>0</th>\n",
       "      <td>2022-01-03(W01)</td>\n",
       "      <td>11T50Q</td>\n",
       "      <td>2021-12</td>\n",
       "      <td>7</td>\n",
       "    </tr>\n",
       "    <tr>\n",
       "      <th>1</th>\n",
       "      <td>2022-01-03(W01)</td>\n",
       "      <td>11T50Q</td>\n",
       "      <td>2022-01</td>\n",
       "      <td>350</td>\n",
       "    </tr>\n",
       "    <tr>\n",
       "      <th>2</th>\n",
       "      <td>2022-01-03(W01)</td>\n",
       "      <td>11T50Q</td>\n",
       "      <td>2022-02</td>\n",
       "      <td>1970</td>\n",
       "    </tr>\n",
       "    <tr>\n",
       "      <th>3</th>\n",
       "      <td>2022-01-03(W01)</td>\n",
       "      <td>11T50Q</td>\n",
       "      <td>2022-03</td>\n",
       "      <td>950</td>\n",
       "    </tr>\n",
       "    <tr>\n",
       "      <th>4</th>\n",
       "      <td>2022-01-03(W01)</td>\n",
       "      <td>11T50Q</td>\n",
       "      <td>2022-04</td>\n",
       "      <td>0</td>\n",
       "    </tr>\n",
       "    <tr>\n",
       "      <th>...</th>\n",
       "      <td>...</td>\n",
       "      <td>...</td>\n",
       "      <td>...</td>\n",
       "      <td>...</td>\n",
       "    </tr>\n",
       "    <tr>\n",
       "      <th>3401</th>\n",
       "      <td>2022-06-13(W24)</td>\n",
       "      <td>16T90Q</td>\n",
       "      <td>2022-08</td>\n",
       "      <td>3145</td>\n",
       "    </tr>\n",
       "    <tr>\n",
       "      <th>3402</th>\n",
       "      <td>2022-06-13(W24)</td>\n",
       "      <td>16T90Q</td>\n",
       "      <td>2022-09</td>\n",
       "      <td>7675</td>\n",
       "    </tr>\n",
       "    <tr>\n",
       "      <th>3403</th>\n",
       "      <td>2022-06-13(W24)</td>\n",
       "      <td>16T90Q</td>\n",
       "      <td>2022-10</td>\n",
       "      <td>9530</td>\n",
       "    </tr>\n",
       "    <tr>\n",
       "      <th>3404</th>\n",
       "      <td>2022-06-13(W24)</td>\n",
       "      <td>16T90Q</td>\n",
       "      <td>2022-11</td>\n",
       "      <td>6725</td>\n",
       "    </tr>\n",
       "    <tr>\n",
       "      <th>3405</th>\n",
       "      <td>2022-06-13(W24)</td>\n",
       "      <td>16T90Q</td>\n",
       "      <td>2022-12</td>\n",
       "      <td>2911</td>\n",
       "    </tr>\n",
       "  </tbody>\n",
       "</table>\n",
       "<p>3406 rows × 4 columns</p>\n",
       "</div>"
      ],
      "text/plain": [
       "             Ref_week  Series    Month     0\n",
       "0     2022-01-03(W01)  11T50Q  2021-12     7\n",
       "1     2022-01-03(W01)  11T50Q  2022-01   350\n",
       "2     2022-01-03(W01)  11T50Q  2022-02  1970\n",
       "3     2022-01-03(W01)  11T50Q  2022-03   950\n",
       "4     2022-01-03(W01)  11T50Q  2022-04     0\n",
       "...               ...     ...      ...   ...\n",
       "3401  2022-06-13(W24)  16T90Q  2022-08  3145\n",
       "3402  2022-06-13(W24)  16T90Q  2022-09  7675\n",
       "3403  2022-06-13(W24)  16T90Q  2022-10  9530\n",
       "3404  2022-06-13(W24)  16T90Q  2022-11  6725\n",
       "3405  2022-06-13(W24)  16T90Q  2022-12  2911\n",
       "\n",
       "[3406 rows x 4 columns]"
      ]
     },
     "execution_count": 5,
     "metadata": {},
     "output_type": "execute_result"
    }
   ],
   "source": [
    "df = df.stack().reset_index()\n",
    "df.rename(columns={'level_2':'Month'})"
   ]
  },
  {
   "cell_type": "code",
   "execution_count": 6,
   "id": "05d0b9f7",
   "metadata": {},
   "outputs": [],
   "source": [
    "df = df.rename(columns={'level_2':'Month'})"
   ]
  },
  {
   "cell_type": "code",
   "execution_count": 7,
   "id": "21498614",
   "metadata": {},
   "outputs": [],
   "source": [
    "df = df.rename(columns={0:'QTY'})"
   ]
  },
  {
   "cell_type": "code",
   "execution_count": 24,
   "id": "10810e86",
   "metadata": {},
   "outputs": [],
   "source": [
    "import seaborn as sns"
   ]
  },
  {
   "cell_type": "code",
   "execution_count": 10,
   "id": "ab5260a4",
   "metadata": {},
   "outputs": [],
   "source": [
    "cond2 = df['Ref_week'].isin(df['Ref_week'].unique()[-4:])"
   ]
  },
  {
   "cell_type": "code",
   "execution_count": 31,
   "id": "8e6a3ad5",
   "metadata": {},
   "outputs": [
    {
     "data": {
      "text/plain": [
       "<AxesSubplot:xlabel='Week', ylabel='QTY'>"
      ]
     },
     "execution_count": 31,
     "metadata": {},
     "output_type": "execute_result"
    },
    {
     "data": {
      "image/png": "[encoded data removed]",
      "text/plain": [
       "<Figure size 432x288 with 1 Axes>"
      ]
     },
     "metadata": {
      "needs_background": "light"
     },
     "output_type": "display_data"
    }
   ],
   "source": [
    "sns.lineplot(x='Week', y='QTY', data=df, hue='Ref_week')"
   ]
  },
  {
   "cell_type": "code",
   "execution_count": 6,
   "id": "4548a720",
   "metadata": {
    "scrolled": true
   },
   "outputs": [
    {
     "data": {
      "text/html": [
       "<div>\n",
       "<style scoped>\n",
       "    .dataframe tbody tr th:only-of-type {\n",
       "        vertical-align: middle;\n",
       "    }\n",
       "\n",
       "    .dataframe tbody tr th {\n",
       "        vertical-align: top;\n",
       "    }\n",
       "\n",
       "    .dataframe thead th {\n",
       "        text-align: right;\n",
       "    }\n",
       "</style>\n",
       "<table border=\"1\" class=\"dataframe\">\n",
       "  <thead>\n",
       "    <tr style=\"text-align: right;\">\n",
       "      <th></th>\n",
       "      <th></th>\n",
       "      <th></th>\n",
       "      <th></th>\n",
       "      <th></th>\n",
       "      <th>2021-11-29(W48)</th>\n",
       "      <th>2021-12-06(W49)</th>\n",
       "      <th>2021-12-13(W50)</th>\n",
       "      <th>2021-12-20(W51)</th>\n",
       "      <th>2021-12-27(W52)</th>\n",
       "      <th>2022-01-03(W01)</th>\n",
       "      <th>2022-01-10(W02)</th>\n",
       "      <th>2022-01-17(W03)</th>\n",
       "      <th>2022-01-24(W04)</th>\n",
       "      <th>2022-01-31(W05)</th>\n",
       "      <th>2022-02-07(W06)</th>\n",
       "      <th>2022-02-14(W07)</th>\n",
       "      <th>2022-02-21(W08)</th>\n",
       "      <th>2022-02-28(W09)</th>\n",
       "      <th>2022-03-07(W10)</th>\n",
       "      <th>2022-03-14(W11)</th>\n",
       "      <th>2022-03-21(W12)</th>\n",
       "      <th>2022-03-28(W13)</th>\n",
       "      <th>2022-04-04(W14)</th>\n",
       "      <th>2022-04-11(W15)</th>\n",
       "      <th>2022-04-18(W16)</th>\n",
       "      <th>2022-04-25(W17)</th>\n",
       "      <th>2022-05-02(W18)</th>\n",
       "      <th>2022-05-09(W19)</th>\n",
       "      <th>2022-05-16(W20)</th>\n",
       "      <th>2022-05-23(W21)</th>\n",
       "      <th>2022-05-30(W22)</th>\n",
       "      <th>2022-06-06(W23)</th>\n",
       "      <th>2022-06-13(W24)</th>\n",
       "      <th>2022-06-20(W25)</th>\n",
       "      <th>2022-06-27(W26)</th>\n",
       "      <th>2022-07-04(W27)</th>\n",
       "      <th>2022-07-11(W28)</th>\n",
       "      <th>2022-07-18(W29)</th>\n",
       "      <th>2022-07-25(W30)</th>\n",
       "      <th>2022-08-01(W31)</th>\n",
       "      <th>2022-08-08(W32)</th>\n",
       "      <th>2022-08-15(W33)</th>\n",
       "      <th>2022-08-22(W34)</th>\n",
       "      <th>2022-08-29(W35)</th>\n",
       "      <th>2022-09-05(W36)</th>\n",
       "      <th>2022-09-12(W37)</th>\n",
       "      <th>2022-09-19(W38)</th>\n",
       "      <th>2022-09-26(W39)</th>\n",
       "      <th>2022-10-03(W40)</th>\n",
       "      <th>2022-10-10(W41)</th>\n",
       "      <th>2022-10-17(W42)</th>\n",
       "      <th>2022-10-24(W43)</th>\n",
       "      <th>2022-10-31(W44)</th>\n",
       "      <th>2022-11-07(W45)</th>\n",
       "      <th>2022-11-14(W46)</th>\n",
       "      <th>2022-11-21(W47)</th>\n",
       "      <th>2022-11-28(W48)</th>\n",
       "      <th>2022-12-05(W49)</th>\n",
       "      <th>2022-12-12(W50)</th>\n",
       "      <th>2022-12-19(W51)</th>\n",
       "      <th>2022-12-26(W52)</th>\n",
       "    </tr>\n",
       "    <tr>\n",
       "      <th>Ref_week</th>\n",
       "      <th>Series</th>\n",
       "      <th>Region</th>\n",
       "      <th>To Site</th>\n",
       "      <th>Model.Suffix</th>\n",
       "      <th></th>\n",
       "      <th></th>\n",
       "      <th></th>\n",
       "      <th></th>\n",
       "      <th></th>\n",
       "      <th></th>\n",
       "      <th></th>\n",
       "      <th></th>\n",
       "      <th></th>\n",
       "      <th></th>\n",
       "      <th></th>\n",
       "      <th></th>\n",
       "      <th></th>\n",
       "      <th></th>\n",
       "      <th></th>\n",
       "      <th></th>\n",
       "      <th></th>\n",
       "      <th></th>\n",
       "      <th></th>\n",
       "      <th></th>\n",
       "      <th></th>\n",
       "      <th></th>\n",
       "      <th></th>\n",
       "      <th></th>\n",
       "      <th></th>\n",
       "      <th></th>\n",
       "      <th></th>\n",
       "      <th></th>\n",
       "      <th></th>\n",
       "      <th></th>\n",
       "      <th></th>\n",
       "      <th></th>\n",
       "      <th></th>\n",
       "      <th></th>\n",
       "      <th></th>\n",
       "      <th></th>\n",
       "      <th></th>\n",
       "      <th></th>\n",
       "      <th></th>\n",
       "      <th></th>\n",
       "      <th></th>\n",
       "      <th></th>\n",
       "      <th></th>\n",
       "      <th></th>\n",
       "      <th></th>\n",
       "      <th></th>\n",
       "      <th></th>\n",
       "      <th></th>\n",
       "      <th></th>\n",
       "      <th></th>\n",
       "      <th></th>\n",
       "      <th></th>\n",
       "      <th></th>\n",
       "      <th></th>\n",
       "      <th></th>\n",
       "      <th></th>\n",
       "      <th></th>\n",
       "    </tr>\n",
       "  </thead>\n",
       "  <tbody>\n",
       "    <tr>\n",
       "      <th rowspan=\"5\" valign=\"top\">2022-01-03(W01)</th>\n",
       "      <th rowspan=\"2\" valign=\"top\">11T50Q</th>\n",
       "      <th rowspan=\"2\" valign=\"top\">KOREA</th>\n",
       "      <th rowspan=\"2\" valign=\"top\">EKHQ</th>\n",
       "      <th>11TC50Q-E.AC10K</th>\n",
       "      <td>0</td>\n",
       "      <td>0</td>\n",
       "      <td>0</td>\n",
       "      <td>0</td>\n",
       "      <td>0</td>\n",
       "      <td>0</td>\n",
       "      <td>0</td>\n",
       "      <td>0</td>\n",
       "      <td>0</td>\n",
       "      <td>1400</td>\n",
       "      <td>0</td>\n",
       "      <td>520</td>\n",
       "      <td>0</td>\n",
       "      <td>400</td>\n",
       "      <td>200</td>\n",
       "      <td>200</td>\n",
       "      <td>0</td>\n",
       "      <td>0</td>\n",
       "      <td>0</td>\n",
       "      <td>0</td>\n",
       "      <td>0</td>\n",
       "      <td>0</td>\n",
       "      <td>0</td>\n",
       "      <td>0</td>\n",
       "      <td>0</td>\n",
       "      <td>0</td>\n",
       "      <td>0</td>\n",
       "      <td>0</td>\n",
       "      <td>0</td>\n",
       "      <td>0</td>\n",
       "      <td>0</td>\n",
       "      <td>0</td>\n",
       "      <td>0</td>\n",
       "      <td>0</td>\n",
       "      <td>0</td>\n",
       "      <td>0</td>\n",
       "      <td>0</td>\n",
       "      <td>0</td>\n",
       "      <td>0</td>\n",
       "      <td>0</td>\n",
       "      <td>0</td>\n",
       "      <td>0</td>\n",
       "      <td>0</td>\n",
       "      <td>0</td>\n",
       "      <td>0</td>\n",
       "      <td>0</td>\n",
       "      <td>0</td>\n",
       "      <td>0</td>\n",
       "      <td>0</td>\n",
       "      <td>0</td>\n",
       "      <td>0</td>\n",
       "      <td>0</td>\n",
       "      <td>0</td>\n",
       "      <td>0</td>\n",
       "      <td>0</td>\n",
       "      <td>0</td>\n",
       "      <td>0</td>\n",
       "    </tr>\n",
       "    <tr>\n",
       "      <th>11TG50Q-E.AC10KN</th>\n",
       "      <td>0</td>\n",
       "      <td>7</td>\n",
       "      <td>0</td>\n",
       "      <td>0</td>\n",
       "      <td>0</td>\n",
       "      <td>0</td>\n",
       "      <td>0</td>\n",
       "      <td>150</td>\n",
       "      <td>200</td>\n",
       "      <td>0</td>\n",
       "      <td>0</td>\n",
       "      <td>0</td>\n",
       "      <td>50</td>\n",
       "      <td>50</td>\n",
       "      <td>50</td>\n",
       "      <td>50</td>\n",
       "      <td>0</td>\n",
       "      <td>0</td>\n",
       "      <td>0</td>\n",
       "      <td>0</td>\n",
       "      <td>0</td>\n",
       "      <td>0</td>\n",
       "      <td>0</td>\n",
       "      <td>0</td>\n",
       "      <td>0</td>\n",
       "      <td>0</td>\n",
       "      <td>0</td>\n",
       "      <td>0</td>\n",
       "      <td>0</td>\n",
       "      <td>0</td>\n",
       "      <td>0</td>\n",
       "      <td>0</td>\n",
       "      <td>0</td>\n",
       "      <td>0</td>\n",
       "      <td>0</td>\n",
       "      <td>0</td>\n",
       "      <td>0</td>\n",
       "      <td>0</td>\n",
       "      <td>0</td>\n",
       "      <td>0</td>\n",
       "      <td>0</td>\n",
       "      <td>0</td>\n",
       "      <td>0</td>\n",
       "      <td>0</td>\n",
       "      <td>0</td>\n",
       "      <td>0</td>\n",
       "      <td>0</td>\n",
       "      <td>0</td>\n",
       "      <td>0</td>\n",
       "      <td>0</td>\n",
       "      <td>0</td>\n",
       "      <td>0</td>\n",
       "      <td>0</td>\n",
       "      <td>0</td>\n",
       "      <td>0</td>\n",
       "      <td>0</td>\n",
       "      <td>0</td>\n",
       "    </tr>\n",
       "    <tr>\n",
       "      <th rowspan=\"3\" valign=\"top\">14T90P</th>\n",
       "      <th rowspan=\"2\" valign=\"top\">CHINA</th>\n",
       "      <th rowspan=\"2\" valign=\"top\">ECNT_P</th>\n",
       "      <th>14T90P-G.AA54C</th>\n",
       "      <td>0</td>\n",
       "      <td>0</td>\n",
       "      <td>0</td>\n",
       "      <td>0</td>\n",
       "      <td>0</td>\n",
       "      <td>60</td>\n",
       "      <td>0</td>\n",
       "      <td>0</td>\n",
       "      <td>0</td>\n",
       "      <td>0</td>\n",
       "      <td>0</td>\n",
       "      <td>0</td>\n",
       "      <td>0</td>\n",
       "      <td>0</td>\n",
       "      <td>0</td>\n",
       "      <td>0</td>\n",
       "      <td>0</td>\n",
       "      <td>0</td>\n",
       "      <td>0</td>\n",
       "      <td>0</td>\n",
       "      <td>0</td>\n",
       "      <td>0</td>\n",
       "      <td>0</td>\n",
       "      <td>0</td>\n",
       "      <td>0</td>\n",
       "      <td>0</td>\n",
       "      <td>0</td>\n",
       "      <td>0</td>\n",
       "      <td>0</td>\n",
       "      <td>0</td>\n",
       "      <td>0</td>\n",
       "      <td>0</td>\n",
       "      <td>0</td>\n",
       "      <td>0</td>\n",
       "      <td>0</td>\n",
       "      <td>0</td>\n",
       "      <td>0</td>\n",
       "      <td>0</td>\n",
       "      <td>0</td>\n",
       "      <td>0</td>\n",
       "      <td>0</td>\n",
       "      <td>0</td>\n",
       "      <td>0</td>\n",
       "      <td>0</td>\n",
       "      <td>0</td>\n",
       "      <td>0</td>\n",
       "      <td>0</td>\n",
       "      <td>0</td>\n",
       "      <td>0</td>\n",
       "      <td>0</td>\n",
       "      <td>0</td>\n",
       "      <td>0</td>\n",
       "      <td>0</td>\n",
       "      <td>0</td>\n",
       "      <td>0</td>\n",
       "      <td>0</td>\n",
       "      <td>0</td>\n",
       "    </tr>\n",
       "    <tr>\n",
       "      <th>14T90P-G.AA77C</th>\n",
       "      <td>0</td>\n",
       "      <td>0</td>\n",
       "      <td>0</td>\n",
       "      <td>0</td>\n",
       "      <td>0</td>\n",
       "      <td>80</td>\n",
       "      <td>0</td>\n",
       "      <td>0</td>\n",
       "      <td>0</td>\n",
       "      <td>0</td>\n",
       "      <td>0</td>\n",
       "      <td>0</td>\n",
       "      <td>0</td>\n",
       "      <td>0</td>\n",
       "      <td>0</td>\n",
       "      <td>0</td>\n",
       "      <td>0</td>\n",
       "      <td>0</td>\n",
       "      <td>0</td>\n",
       "      <td>0</td>\n",
       "      <td>0</td>\n",
       "      <td>0</td>\n",
       "      <td>0</td>\n",
       "      <td>0</td>\n",
       "      <td>0</td>\n",
       "      <td>0</td>\n",
       "      <td>0</td>\n",
       "      <td>0</td>\n",
       "      <td>0</td>\n",
       "      <td>0</td>\n",
       "      <td>0</td>\n",
       "      <td>0</td>\n",
       "      <td>0</td>\n",
       "      <td>0</td>\n",
       "      <td>0</td>\n",
       "      <td>0</td>\n",
       "      <td>0</td>\n",
       "      <td>0</td>\n",
       "      <td>0</td>\n",
       "      <td>0</td>\n",
       "      <td>0</td>\n",
       "      <td>0</td>\n",
       "      <td>0</td>\n",
       "      <td>0</td>\n",
       "      <td>0</td>\n",
       "      <td>0</td>\n",
       "      <td>0</td>\n",
       "      <td>0</td>\n",
       "      <td>0</td>\n",
       "      <td>0</td>\n",
       "      <td>0</td>\n",
       "      <td>0</td>\n",
       "      <td>0</td>\n",
       "      <td>0</td>\n",
       "      <td>0</td>\n",
       "      <td>0</td>\n",
       "      <td>0</td>\n",
       "    </tr>\n",
       "    <tr>\n",
       "      <th>EU</th>\n",
       "      <th>EEES</th>\n",
       "      <th>14T90P-G.AA78B</th>\n",
       "      <td>0</td>\n",
       "      <td>0</td>\n",
       "      <td>0</td>\n",
       "      <td>0</td>\n",
       "      <td>0</td>\n",
       "      <td>20</td>\n",
       "      <td>0</td>\n",
       "      <td>40</td>\n",
       "      <td>0</td>\n",
       "      <td>0</td>\n",
       "      <td>0</td>\n",
       "      <td>0</td>\n",
       "      <td>0</td>\n",
       "      <td>0</td>\n",
       "      <td>0</td>\n",
       "      <td>20</td>\n",
       "      <td>0</td>\n",
       "      <td>0</td>\n",
       "      <td>0</td>\n",
       "      <td>0</td>\n",
       "      <td>0</td>\n",
       "      <td>0</td>\n",
       "      <td>0</td>\n",
       "      <td>0</td>\n",
       "      <td>0</td>\n",
       "      <td>20</td>\n",
       "      <td>0</td>\n",
       "      <td>0</td>\n",
       "      <td>0</td>\n",
       "      <td>0</td>\n",
       "      <td>20</td>\n",
       "      <td>0</td>\n",
       "      <td>0</td>\n",
       "      <td>0</td>\n",
       "      <td>0</td>\n",
       "      <td>15</td>\n",
       "      <td>0</td>\n",
       "      <td>0</td>\n",
       "      <td>0</td>\n",
       "      <td>0</td>\n",
       "      <td>0</td>\n",
       "      <td>0</td>\n",
       "      <td>0</td>\n",
       "      <td>0</td>\n",
       "      <td>0</td>\n",
       "      <td>0</td>\n",
       "      <td>0</td>\n",
       "      <td>0</td>\n",
       "      <td>0</td>\n",
       "      <td>0</td>\n",
       "      <td>0</td>\n",
       "      <td>0</td>\n",
       "      <td>0</td>\n",
       "      <td>0</td>\n",
       "      <td>0</td>\n",
       "      <td>0</td>\n",
       "      <td>0</td>\n",
       "    </tr>\n",
       "    <tr>\n",
       "      <th>...</th>\n",
       "      <th>...</th>\n",
       "      <th>...</th>\n",
       "      <th>...</th>\n",
       "      <th>...</th>\n",
       "      <td>...</td>\n",
       "      <td>...</td>\n",
       "      <td>...</td>\n",
       "      <td>...</td>\n",
       "      <td>...</td>\n",
       "      <td>...</td>\n",
       "      <td>...</td>\n",
       "      <td>...</td>\n",
       "      <td>...</td>\n",
       "      <td>...</td>\n",
       "      <td>...</td>\n",
       "      <td>...</td>\n",
       "      <td>...</td>\n",
       "      <td>...</td>\n",
       "      <td>...</td>\n",
       "      <td>...</td>\n",
       "      <td>...</td>\n",
       "      <td>...</td>\n",
       "      <td>...</td>\n",
       "      <td>...</td>\n",
       "      <td>...</td>\n",
       "      <td>...</td>\n",
       "      <td>...</td>\n",
       "      <td>...</td>\n",
       "      <td>...</td>\n",
       "      <td>...</td>\n",
       "      <td>...</td>\n",
       "      <td>...</td>\n",
       "      <td>...</td>\n",
       "      <td>...</td>\n",
       "      <td>...</td>\n",
       "      <td>...</td>\n",
       "      <td>...</td>\n",
       "      <td>...</td>\n",
       "      <td>...</td>\n",
       "      <td>...</td>\n",
       "      <td>...</td>\n",
       "      <td>...</td>\n",
       "      <td>...</td>\n",
       "      <td>...</td>\n",
       "      <td>...</td>\n",
       "      <td>...</td>\n",
       "      <td>...</td>\n",
       "      <td>...</td>\n",
       "      <td>...</td>\n",
       "      <td>...</td>\n",
       "      <td>...</td>\n",
       "      <td>...</td>\n",
       "      <td>...</td>\n",
       "      <td>...</td>\n",
       "      <td>...</td>\n",
       "      <td>...</td>\n",
       "      <td>...</td>\n",
       "      <td>...</td>\n",
       "      <td>...</td>\n",
       "      <td>...</td>\n",
       "      <td>...</td>\n",
       "    </tr>\n",
       "    <tr>\n",
       "      <th rowspan=\"5\" valign=\"top\">2022-06-06(W23)</th>\n",
       "      <th rowspan=\"5\" valign=\"top\">16T90Q</th>\n",
       "      <th rowspan=\"5\" valign=\"top\">SEA</th>\n",
       "      <th rowspan=\"3\" valign=\"top\">EHAP_LGS</th>\n",
       "      <th>16T90Q-G.AA55A</th>\n",
       "      <td>0</td>\n",
       "      <td>0</td>\n",
       "      <td>0</td>\n",
       "      <td>0</td>\n",
       "      <td>0</td>\n",
       "      <td>0</td>\n",
       "      <td>0</td>\n",
       "      <td>0</td>\n",
       "      <td>0</td>\n",
       "      <td>0</td>\n",
       "      <td>0</td>\n",
       "      <td>0</td>\n",
       "      <td>0</td>\n",
       "      <td>0</td>\n",
       "      <td>0</td>\n",
       "      <td>0</td>\n",
       "      <td>0</td>\n",
       "      <td>0</td>\n",
       "      <td>0</td>\n",
       "      <td>0</td>\n",
       "      <td>0</td>\n",
       "      <td>0</td>\n",
       "      <td>0</td>\n",
       "      <td>0</td>\n",
       "      <td>0</td>\n",
       "      <td>0</td>\n",
       "      <td>0</td>\n",
       "      <td>0</td>\n",
       "      <td>0</td>\n",
       "      <td>0</td>\n",
       "      <td>0</td>\n",
       "      <td>60</td>\n",
       "      <td>0</td>\n",
       "      <td>70</td>\n",
       "      <td>0</td>\n",
       "      <td>0</td>\n",
       "      <td>0</td>\n",
       "      <td>0</td>\n",
       "      <td>25</td>\n",
       "      <td>0</td>\n",
       "      <td>0</td>\n",
       "      <td>0</td>\n",
       "      <td>0</td>\n",
       "      <td>0</td>\n",
       "      <td>0</td>\n",
       "      <td>0</td>\n",
       "      <td>0</td>\n",
       "      <td>0</td>\n",
       "      <td>0</td>\n",
       "      <td>0</td>\n",
       "      <td>10</td>\n",
       "      <td>0</td>\n",
       "      <td>0</td>\n",
       "      <td>0</td>\n",
       "      <td>0</td>\n",
       "      <td>0</td>\n",
       "      <td>0</td>\n",
       "    </tr>\n",
       "    <tr>\n",
       "      <th>16T90Q-G.AA75A</th>\n",
       "      <td>0</td>\n",
       "      <td>0</td>\n",
       "      <td>0</td>\n",
       "      <td>0</td>\n",
       "      <td>0</td>\n",
       "      <td>0</td>\n",
       "      <td>0</td>\n",
       "      <td>0</td>\n",
       "      <td>0</td>\n",
       "      <td>0</td>\n",
       "      <td>0</td>\n",
       "      <td>0</td>\n",
       "      <td>0</td>\n",
       "      <td>0</td>\n",
       "      <td>0</td>\n",
       "      <td>0</td>\n",
       "      <td>0</td>\n",
       "      <td>0</td>\n",
       "      <td>0</td>\n",
       "      <td>0</td>\n",
       "      <td>0</td>\n",
       "      <td>0</td>\n",
       "      <td>0</td>\n",
       "      <td>0</td>\n",
       "      <td>0</td>\n",
       "      <td>0</td>\n",
       "      <td>0</td>\n",
       "      <td>0</td>\n",
       "      <td>0</td>\n",
       "      <td>0</td>\n",
       "      <td>0</td>\n",
       "      <td>0</td>\n",
       "      <td>0</td>\n",
       "      <td>0</td>\n",
       "      <td>0</td>\n",
       "      <td>0</td>\n",
       "      <td>0</td>\n",
       "      <td>0</td>\n",
       "      <td>0</td>\n",
       "      <td>0</td>\n",
       "      <td>0</td>\n",
       "      <td>0</td>\n",
       "      <td>0</td>\n",
       "      <td>0</td>\n",
       "      <td>0</td>\n",
       "      <td>0</td>\n",
       "      <td>0</td>\n",
       "      <td>0</td>\n",
       "      <td>0</td>\n",
       "      <td>0</td>\n",
       "      <td>10</td>\n",
       "      <td>0</td>\n",
       "      <td>0</td>\n",
       "      <td>0</td>\n",
       "      <td>0</td>\n",
       "      <td>0</td>\n",
       "      <td>0</td>\n",
       "    </tr>\n",
       "    <tr>\n",
       "      <th>16T90Q-G.AA78A</th>\n",
       "      <td>0</td>\n",
       "      <td>0</td>\n",
       "      <td>0</td>\n",
       "      <td>0</td>\n",
       "      <td>0</td>\n",
       "      <td>0</td>\n",
       "      <td>0</td>\n",
       "      <td>0</td>\n",
       "      <td>0</td>\n",
       "      <td>0</td>\n",
       "      <td>0</td>\n",
       "      <td>0</td>\n",
       "      <td>0</td>\n",
       "      <td>0</td>\n",
       "      <td>0</td>\n",
       "      <td>0</td>\n",
       "      <td>0</td>\n",
       "      <td>0</td>\n",
       "      <td>0</td>\n",
       "      <td>0</td>\n",
       "      <td>0</td>\n",
       "      <td>0</td>\n",
       "      <td>0</td>\n",
       "      <td>0</td>\n",
       "      <td>0</td>\n",
       "      <td>0</td>\n",
       "      <td>0</td>\n",
       "      <td>0</td>\n",
       "      <td>0</td>\n",
       "      <td>0</td>\n",
       "      <td>0</td>\n",
       "      <td>50</td>\n",
       "      <td>0</td>\n",
       "      <td>0</td>\n",
       "      <td>20</td>\n",
       "      <td>0</td>\n",
       "      <td>0</td>\n",
       "      <td>0</td>\n",
       "      <td>20</td>\n",
       "      <td>0</td>\n",
       "      <td>0</td>\n",
       "      <td>0</td>\n",
       "      <td>30</td>\n",
       "      <td>0</td>\n",
       "      <td>0</td>\n",
       "      <td>0</td>\n",
       "      <td>0</td>\n",
       "      <td>30</td>\n",
       "      <td>0</td>\n",
       "      <td>0</td>\n",
       "      <td>0</td>\n",
       "      <td>0</td>\n",
       "      <td>0</td>\n",
       "      <td>0</td>\n",
       "      <td>0</td>\n",
       "      <td>0</td>\n",
       "      <td>0</td>\n",
       "    </tr>\n",
       "    <tr>\n",
       "      <th rowspan=\"2\" valign=\"top\">EJJP</th>\n",
       "      <th>16T90Q-K.AA75J</th>\n",
       "      <td>0</td>\n",
       "      <td>0</td>\n",
       "      <td>0</td>\n",
       "      <td>0</td>\n",
       "      <td>0</td>\n",
       "      <td>0</td>\n",
       "      <td>0</td>\n",
       "      <td>0</td>\n",
       "      <td>0</td>\n",
       "      <td>0</td>\n",
       "      <td>0</td>\n",
       "      <td>0</td>\n",
       "      <td>0</td>\n",
       "      <td>0</td>\n",
       "      <td>0</td>\n",
       "      <td>0</td>\n",
       "      <td>0</td>\n",
       "      <td>0</td>\n",
       "      <td>0</td>\n",
       "      <td>0</td>\n",
       "      <td>0</td>\n",
       "      <td>0</td>\n",
       "      <td>0</td>\n",
       "      <td>0</td>\n",
       "      <td>0</td>\n",
       "      <td>0</td>\n",
       "      <td>0</td>\n",
       "      <td>0</td>\n",
       "      <td>0</td>\n",
       "      <td>0</td>\n",
       "      <td>0</td>\n",
       "      <td>20</td>\n",
       "      <td>0</td>\n",
       "      <td>0</td>\n",
       "      <td>0</td>\n",
       "      <td>0</td>\n",
       "      <td>0</td>\n",
       "      <td>20</td>\n",
       "      <td>0</td>\n",
       "      <td>0</td>\n",
       "      <td>0</td>\n",
       "      <td>0</td>\n",
       "      <td>0</td>\n",
       "      <td>0</td>\n",
       "      <td>20</td>\n",
       "      <td>0</td>\n",
       "      <td>0</td>\n",
       "      <td>0</td>\n",
       "      <td>45</td>\n",
       "      <td>0</td>\n",
       "      <td>20</td>\n",
       "      <td>0</td>\n",
       "      <td>0</td>\n",
       "      <td>0</td>\n",
       "      <td>0</td>\n",
       "      <td>0</td>\n",
       "      <td>0</td>\n",
       "    </tr>\n",
       "    <tr>\n",
       "      <th>16T90Q-K.AA78J</th>\n",
       "      <td>0</td>\n",
       "      <td>0</td>\n",
       "      <td>0</td>\n",
       "      <td>0</td>\n",
       "      <td>0</td>\n",
       "      <td>0</td>\n",
       "      <td>0</td>\n",
       "      <td>0</td>\n",
       "      <td>0</td>\n",
       "      <td>0</td>\n",
       "      <td>0</td>\n",
       "      <td>0</td>\n",
       "      <td>0</td>\n",
       "      <td>0</td>\n",
       "      <td>0</td>\n",
       "      <td>0</td>\n",
       "      <td>0</td>\n",
       "      <td>0</td>\n",
       "      <td>0</td>\n",
       "      <td>0</td>\n",
       "      <td>0</td>\n",
       "      <td>0</td>\n",
       "      <td>0</td>\n",
       "      <td>0</td>\n",
       "      <td>0</td>\n",
       "      <td>0</td>\n",
       "      <td>0</td>\n",
       "      <td>0</td>\n",
       "      <td>0</td>\n",
       "      <td>0</td>\n",
       "      <td>0</td>\n",
       "      <td>0</td>\n",
       "      <td>0</td>\n",
       "      <td>0</td>\n",
       "      <td>0</td>\n",
       "      <td>0</td>\n",
       "      <td>45</td>\n",
       "      <td>0</td>\n",
       "      <td>30</td>\n",
       "      <td>0</td>\n",
       "      <td>0</td>\n",
       "      <td>0</td>\n",
       "      <td>0</td>\n",
       "      <td>0</td>\n",
       "      <td>30</td>\n",
       "      <td>0</td>\n",
       "      <td>0</td>\n",
       "      <td>0</td>\n",
       "      <td>0</td>\n",
       "      <td>30</td>\n",
       "      <td>0</td>\n",
       "      <td>0</td>\n",
       "      <td>0</td>\n",
       "      <td>0</td>\n",
       "      <td>0</td>\n",
       "      <td>0</td>\n",
       "      <td>0</td>\n",
       "    </tr>\n",
       "  </tbody>\n",
       "</table>\n",
       "<p>4939 rows × 57 columns</p>\n",
       "</div>"
      ],
      "text/plain": [
       "                                                         2021-11-29(W48)  \\\n",
       "Ref_week        Series Region To Site  Model.Suffix                        \n",
       "2022-01-03(W01) 11T50Q KOREA  EKHQ     11TC50Q-E.AC10K                 0   \n",
       "                                       11TG50Q-E.AC10KN                0   \n",
       "                14T90P CHINA  ECNT_P   14T90P-G.AA54C                  0   \n",
       "                                       14T90P-G.AA77C                  0   \n",
       "                       EU     EEES     14T90P-G.AA78B                  0   \n",
       "...                                                                  ...   \n",
       "2022-06-06(W23) 16T90Q SEA    EHAP_LGS 16T90Q-G.AA55A                  0   \n",
       "                                       16T90Q-G.AA75A                  0   \n",
       "                                       16T90Q-G.AA78A                  0   \n",
       "                              EJJP     16T90Q-K.AA75J                  0   \n",
       "                                       16T90Q-K.AA78J                  0   \n",
       "\n",
       "                                                         2021-12-06(W49)  \\\n",
       "Ref_week        Series Region To Site  Model.Suffix                        \n",
       "2022-01-03(W01) 11T50Q KOREA  EKHQ     11TC50Q-E.AC10K                 0   \n",
       "                                       11TG50Q-E.AC10KN                7   \n",
       "                14T90P CHINA  ECNT_P   14T90P-G.AA54C                  0   \n",
       "                                       14T90P-G.AA77C                  0   \n",
       "                       EU     EEES     14T90P-G.AA78B                  0   \n",
       "...                                                                  ...   \n",
       "2022-06-06(W23) 16T90Q SEA    EHAP_LGS 16T90Q-G.AA55A                  0   \n",
       "                                       16T90Q-G.AA75A                  0   \n",
       "                                       16T90Q-G.AA78A                  0   \n",
       "                              EJJP     16T90Q-K.AA75J                  0   \n",
       "                                       16T90Q-K.AA78J                  0   \n",
       "\n",
       "                                                         2021-12-13(W50)  \\\n",
       "Ref_week        Series Region To Site  Model.Suffix                        \n",
       "2022-01-03(W01) 11T50Q KOREA  EKHQ     11TC50Q-E.AC10K                 0   \n",
       "                                       11TG50Q-E.AC10KN                0   \n",
       "                14T90P CHINA  ECNT_P   14T90P-G.AA54C                  0   \n",
       "                                       14T90P-G.AA77C                  0   \n",
       "                       EU     EEES     14T90P-G.AA78B                  0   \n",
       "...                                                                  ...   \n",
       "2022-06-06(W23) 16T90Q SEA    EHAP_LGS 16T90Q-G.AA55A                  0   \n",
       "                                       16T90Q-G.AA75A                  0   \n",
       "                                       16T90Q-G.AA78A                  0   \n",
       "                              EJJP     16T90Q-K.AA75J                  0   \n",
       "                                       16T90Q-K.AA78J                  0   \n",
       "\n",
       "                                                         2021-12-20(W51)  \\\n",
       "Ref_week        Series Region To Site  Model.Suffix                        \n",
       "2022-01-03(W01) 11T50Q KOREA  EKHQ     11TC50Q-E.AC10K                 0   \n",
       "                                       11TG50Q-E.AC10KN                0   \n",
       "                14T90P CHINA  ECNT_P   14T90P-G.AA54C                  0   \n",
       "                                       14T90P-G.AA77C                  0   \n",
       "                       EU     EEES     14T90P-G.AA78B                  0   \n",
       "...                                                                  ...   \n",
       "2022-06-06(W23) 16T90Q SEA    EHAP_LGS 16T90Q-G.AA55A                  0   \n",
       "                                       16T90Q-G.AA75A                  0   \n",
       "                                       16T90Q-G.AA78A                  0   \n",
       "                              EJJP     16T90Q-K.AA75J                  0   \n",
       "                                       16T90Q-K.AA78J                  0   \n",
       "\n",
       "                                                         2021-12-27(W52)  \\\n",
       "Ref_week        Series Region To Site  Model.Suffix                        \n",
       "2022-01-03(W01) 11T50Q KOREA  EKHQ     11TC50Q-E.AC10K                 0   \n",
       "                                       11TG50Q-E.AC10KN                0   \n",
       "                14T90P CHINA  ECNT_P   14T90P-G.AA54C                  0   \n",
       "                                       14T90P-G.AA77C                  0   \n",
       "                       EU     EEES     14T90P-G.AA78B                  0   \n",
       "...                                                                  ...   \n",
       "2022-06-06(W23) 16T90Q SEA    EHAP_LGS 16T90Q-G.AA55A                  0   \n",
       "                                       16T90Q-G.AA75A                  0   \n",
       "                                       16T90Q-G.AA78A                  0   \n",
       "                              EJJP     16T90Q-K.AA75J                  0   \n",
       "                                       16T90Q-K.AA78J                  0   \n",
       "\n",
       "                                                         2022-01-03(W01)  \\\n",
       "Ref_week        Series Region To Site  Model.Suffix                        \n",
       "2022-01-03(W01) 11T50Q KOREA  EKHQ     11TC50Q-E.AC10K                 0   \n",
       "                                       11TG50Q-E.AC10KN                0   \n",
       "                14T90P CHINA  ECNT_P   14T90P-G.AA54C                 60   \n",
       "                                       14T90P-G.AA77C                 80   \n",
       "                       EU     EEES     14T90P-G.AA78B                 20   \n",
       "...                                                                  ...   \n",
       "2022-06-06(W23) 16T90Q SEA    EHAP_LGS 16T90Q-G.AA55A                  0   \n",
       "                                       16T90Q-G.AA75A                  0   \n",
       "                                       16T90Q-G.AA78A                  0   \n",
       "                              EJJP     16T90Q-K.AA75J                  0   \n",
       "                                       16T90Q-K.AA78J                  0   \n",
       "\n",
       "                                                         2022-01-10(W02)  \\\n",
       "Ref_week        Series Region To Site  Model.Suffix                        \n",
       "2022-01-03(W01) 11T50Q KOREA  EKHQ     11TC50Q-E.AC10K                 0   \n",
       "                                       11TG50Q-E.AC10KN                0   \n",
       "                14T90P CHINA  ECNT_P   14T90P-G.AA54C                  0   \n",
       "                                       14T90P-G.AA77C                  0   \n",
       "                       EU     EEES     14T90P-G.AA78B                  0   \n",
       "...                                                                  ...   \n",
       "2022-06-06(W23) 16T90Q SEA    EHAP_LGS 16T90Q-G.AA55A                  0   \n",
       "                                       16T90Q-G.AA75A                  0   \n",
       "                                       16T90Q-G.AA78A                  0   \n",
       "                              EJJP     16T90Q-K.AA75J                  0   \n",
       "                                       16T90Q-K.AA78J                  0   \n",
       "\n",
       "                                                         2022-01-17(W03)  \\\n",
       "Ref_week        Series Region To Site  Model.Suffix                        \n",
       "2022-01-03(W01) 11T50Q KOREA  EKHQ     11TC50Q-E.AC10K                 0   \n",
       "                                       11TG50Q-E.AC10KN              150   \n",
       "                14T90P CHINA  ECNT_P   14T90P-G.AA54C                  0   \n",
       "                                       14T90P-G.AA77C                  0   \n",
       "                       EU     EEES     14T90P-G.AA78B                 40   \n",
       "...                                                                  ...   \n",
       "2022-06-06(W23) 16T90Q SEA    EHAP_LGS 16T90Q-G.AA55A                  0   \n",
       "                                       16T90Q-G.AA75A                  0   \n",
       "                                       16T90Q-G.AA78A                  0   \n",
       "                              EJJP     16T90Q-K.AA75J                  0   \n",
       "                                       16T90Q-K.AA78J                  0   \n",
       "\n",
       "                                                         2022-01-24(W04)  \\\n",
       "Ref_week        Series Region To Site  Model.Suffix                        \n",
       "2022-01-03(W01) 11T50Q KOREA  EKHQ     11TC50Q-E.AC10K                 0   \n",
       "                                       11TG50Q-E.AC10KN              200   \n",
       "                14T90P CHINA  ECNT_P   14T90P-G.AA54C                  0   \n",
       "                                       14T90P-G.AA77C                  0   \n",
       "                       EU     EEES     14T90P-G.AA78B                  0   \n",
       "...                                                                  ...   \n",
       "2022-06-06(W23) 16T90Q SEA    EHAP_LGS 16T90Q-G.AA55A                  0   \n",
       "                                       16T90Q-G.AA75A                  0   \n",
       "                                       16T90Q-G.AA78A                  0   \n",
       "                              EJJP     16T90Q-K.AA75J                  0   \n",
       "                                       16T90Q-K.AA78J                  0   \n",
       "\n",
       "                                                         2022-01-31(W05)  \\\n",
       "Ref_week        Series Region To Site  Model.Suffix                        \n",
       "2022-01-03(W01) 11T50Q KOREA  EKHQ     11TC50Q-E.AC10K              1400   \n",
       "                                       11TG50Q-E.AC10KN                0   \n",
       "                14T90P CHINA  ECNT_P   14T90P-G.AA54C                  0   \n",
       "                                       14T90P-G.AA77C                  0   \n",
       "                       EU     EEES     14T90P-G.AA78B                  0   \n",
       "...                                                                  ...   \n",
       "2022-06-06(W23) 16T90Q SEA    EHAP_LGS 16T90Q-G.AA55A                  0   \n",
       "                                       16T90Q-G.AA75A                  0   \n",
       "                                       16T90Q-G.AA78A                  0   \n",
       "                              EJJP     16T90Q-K.AA75J                  0   \n",
       "                                       16T90Q-K.AA78J                  0   \n",
       "\n",
       "                                                         2022-02-07(W06)  \\\n",
       "Ref_week        Series Region To Site  Model.Suffix                        \n",
       "2022-01-03(W01) 11T50Q KOREA  EKHQ     11TC50Q-E.AC10K                 0   \n",
       "                                       11TG50Q-E.AC10KN                0   \n",
       "                14T90P CHINA  ECNT_P   14T90P-G.AA54C                  0   \n",
       "                                       14T90P-G.AA77C                  0   \n",
       "                       EU     EEES     14T90P-G.AA78B                  0   \n",
       "...                                                                  ...   \n",
       "2022-06-06(W23) 16T90Q SEA    EHAP_LGS 16T90Q-G.AA55A                  0   \n",
       "                                       16T90Q-G.AA75A                  0   \n",
       "                                       16T90Q-G.AA78A                  0   \n",
       "                              EJJP     16T90Q-K.AA75J                  0   \n",
       "                                       16T90Q-K.AA78J                  0   \n",
       "\n",
       "                                                         2022-02-14(W07)  \\\n",
       "Ref_week        Series Region To Site  Model.Suffix                        \n",
       "2022-01-03(W01) 11T50Q KOREA  EKHQ     11TC50Q-E.AC10K               520   \n",
       "                                       11TG50Q-E.AC10KN                0   \n",
       "                14T90P CHINA  ECNT_P   14T90P-G.AA54C                  0   \n",
       "                                       14T90P-G.AA77C                  0   \n",
       "                       EU     EEES     14T90P-G.AA78B                  0   \n",
       "...                                                                  ...   \n",
       "2022-06-06(W23) 16T90Q SEA    EHAP_LGS 16T90Q-G.AA55A                  0   \n",
       "                                       16T90Q-G.AA75A                  0   \n",
       "                                       16T90Q-G.AA78A                  0   \n",
       "                              EJJP     16T90Q-K.AA75J                  0   \n",
       "                                       16T90Q-K.AA78J                  0   \n",
       "\n",
       "                                                         2022-02-21(W08)  \\\n",
       "Ref_week        Series Region To Site  Model.Suffix                        \n",
       "2022-01-03(W01) 11T50Q KOREA  EKHQ     11TC50Q-E.AC10K                 0   \n",
       "                                       11TG50Q-E.AC10KN               50   \n",
       "                14T90P CHINA  ECNT_P   14T90P-G.AA54C                  0   \n",
       "                                       14T90P-G.AA77C                  0   \n",
       "                       EU     EEES     14T90P-G.AA78B                  0   \n",
       "...                                                                  ...   \n",
       "2022-06-06(W23) 16T90Q SEA    EHAP_LGS 16T90Q-G.AA55A                  0   \n",
       "                                       16T90Q-G.AA75A                  0   \n",
       "                                       16T90Q-G.AA78A                  0   \n",
       "                              EJJP     16T90Q-K.AA75J                  0   \n",
       "                                       16T90Q-K.AA78J                  0   \n",
       "\n",
       "                                                         2022-02-28(W09)  \\\n",
       "Ref_week        Series Region To Site  Model.Suffix                        \n",
       "2022-01-03(W01) 11T50Q KOREA  EKHQ     11TC50Q-E.AC10K               400   \n",
       "                                       11TG50Q-E.AC10KN               50   \n",
       "                14T90P CHINA  ECNT_P   14T90P-G.AA54C                  0   \n",
       "                                       14T90P-G.AA77C                  0   \n",
       "                       EU     EEES     14T90P-G.AA78B                  0   \n",
       "...                                                                  ...   \n",
       "2022-06-06(W23) 16T90Q SEA    EHAP_LGS 16T90Q-G.AA55A                  0   \n",
       "                                       16T90Q-G.AA75A                  0   \n",
       "                                       16T90Q-G.AA78A                  0   \n",
       "                              EJJP     16T90Q-K.AA75J                  0   \n",
       "                                       16T90Q-K.AA78J                  0   \n",
       "\n",
       "                                                         2022-03-07(W10)  \\\n",
       "Ref_week        Series Region To Site  Model.Suffix                        \n",
       "2022-01-03(W01) 11T50Q KOREA  EKHQ     11TC50Q-E.AC10K               200   \n",
       "                                       11TG50Q-E.AC10KN               50   \n",
       "                14T90P CHINA  ECNT_P   14T90P-G.AA54C                  0   \n",
       "                                       14T90P-G.AA77C                  0   \n",
       "                       EU     EEES     14T90P-G.AA78B                  0   \n",
       "...                                                                  ...   \n",
       "2022-06-06(W23) 16T90Q SEA    EHAP_LGS 16T90Q-G.AA55A                  0   \n",
       "                                       16T90Q-G.AA75A                  0   \n",
       "                                       16T90Q-G.AA78A                  0   \n",
       "                              EJJP     16T90Q-K.AA75J                  0   \n",
       "                                       16T90Q-K.AA78J                  0   \n",
       "\n",
       "                                                         2022-03-14(W11)  \\\n",
       "Ref_week        Series Region To Site  Model.Suffix                        \n",
       "2022-01-03(W01) 11T50Q KOREA  EKHQ     11TC50Q-E.AC10K               200   \n",
       "                                       11TG50Q-E.AC10KN               50   \n",
       "                14T90P CHINA  ECNT_P   14T90P-G.AA54C                  0   \n",
       "                                       14T90P-G.AA77C                  0   \n",
       "                       EU     EEES     14T90P-G.AA78B                 20   \n",
       "...                                                                  ...   \n",
       "2022-06-06(W23) 16T90Q SEA    EHAP_LGS 16T90Q-G.AA55A                  0   \n",
       "                                       16T90Q-G.AA75A                  0   \n",
       "                                       16T90Q-G.AA78A                  0   \n",
       "                              EJJP     16T90Q-K.AA75J                  0   \n",
       "                                       16T90Q-K.AA78J                  0   \n",
       "\n",
       "                                                         2022-03-21(W12)  \\\n",
       "Ref_week        Series Region To Site  Model.Suffix                        \n",
       "2022-01-03(W01) 11T50Q KOREA  EKHQ     11TC50Q-E.AC10K                 0   \n",
       "                                       11TG50Q-E.AC10KN                0   \n",
       "                14T90P CHINA  ECNT_P   14T90P-G.AA54C                  0   \n",
       "                                       14T90P-G.AA77C                  0   \n",
       "                       EU     EEES     14T90P-G.AA78B                  0   \n",
       "...                                                                  ...   \n",
       "2022-06-06(W23) 16T90Q SEA    EHAP_LGS 16T90Q-G.AA55A                  0   \n",
       "                                       16T90Q-G.AA75A                  0   \n",
       "                                       16T90Q-G.AA78A                  0   \n",
       "                              EJJP     16T90Q-K.AA75J                  0   \n",
       "                                       16T90Q-K.AA78J                  0   \n",
       "\n",
       "                                                         2022-03-28(W13)  \\\n",
       "Ref_week        Series Region To Site  Model.Suffix                        \n",
       "2022-01-03(W01) 11T50Q KOREA  EKHQ     11TC50Q-E.AC10K                 0   \n",
       "                                       11TG50Q-E.AC10KN                0   \n",
       "                14T90P CHINA  ECNT_P   14T90P-G.AA54C                  0   \n",
       "                                       14T90P-G.AA77C                  0   \n",
       "                       EU     EEES     14T90P-G.AA78B                  0   \n",
       "...                                                                  ...   \n",
       "2022-06-06(W23) 16T90Q SEA    EHAP_LGS 16T90Q-G.AA55A                  0   \n",
       "                                       16T90Q-G.AA75A                  0   \n",
       "                                       16T90Q-G.AA78A                  0   \n",
       "                              EJJP     16T90Q-K.AA75J                  0   \n",
       "                                       16T90Q-K.AA78J                  0   \n",
       "\n",
       "                                                         2022-04-04(W14)  \\\n",
       "Ref_week        Series Region To Site  Model.Suffix                        \n",
       "2022-01-03(W01) 11T50Q KOREA  EKHQ     11TC50Q-E.AC10K                 0   \n",
       "                                       11TG50Q-E.AC10KN                0   \n",
       "                14T90P CHINA  ECNT_P   14T90P-G.AA54C                  0   \n",
       "                                       14T90P-G.AA77C                  0   \n",
       "                       EU     EEES     14T90P-G.AA78B                  0   \n",
       "...                                                                  ...   \n",
       "2022-06-06(W23) 16T90Q SEA    EHAP_LGS 16T90Q-G.AA55A                  0   \n",
       "                                       16T90Q-G.AA75A                  0   \n",
       "                                       16T90Q-G.AA78A                  0   \n",
       "                              EJJP     16T90Q-K.AA75J                  0   \n",
       "                                       16T90Q-K.AA78J                  0   \n",
       "\n",
       "                                                         2022-04-11(W15)  \\\n",
       "Ref_week        Series Region To Site  Model.Suffix                        \n",
       "2022-01-03(W01) 11T50Q KOREA  EKHQ     11TC50Q-E.AC10K                 0   \n",
       "                                       11TG50Q-E.AC10KN                0   \n",
       "                14T90P CHINA  ECNT_P   14T90P-G.AA54C                  0   \n",
       "                                       14T90P-G.AA77C                  0   \n",
       "                       EU     EEES     14T90P-G.AA78B                  0   \n",
       "...                                                                  ...   \n",
       "2022-06-06(W23) 16T90Q SEA    EHAP_LGS 16T90Q-G.AA55A                  0   \n",
       "                                       16T90Q-G.AA75A                  0   \n",
       "                                       16T90Q-G.AA78A                  0   \n",
       "                              EJJP     16T90Q-K.AA75J                  0   \n",
       "                                       16T90Q-K.AA78J                  0   \n",
       "\n",
       "                                                         2022-04-18(W16)  \\\n",
       "Ref_week        Series Region To Site  Model.Suffix                        \n",
       "2022-01-03(W01) 11T50Q KOREA  EKHQ     11TC50Q-E.AC10K                 0   \n",
       "                                       11TG50Q-E.AC10KN                0   \n",
       "                14T90P CHINA  ECNT_P   14T90P-G.AA54C                  0   \n",
       "                                       14T90P-G.AA77C                  0   \n",
       "                       EU     EEES     14T90P-G.AA78B                  0   \n",
       "...                                                                  ...   \n",
       "2022-06-06(W23) 16T90Q SEA    EHAP_LGS 16T90Q-G.AA55A                  0   \n",
       "                                       16T90Q-G.AA75A                  0   \n",
       "                                       16T90Q-G.AA78A                  0   \n",
       "                              EJJP     16T90Q-K.AA75J                  0   \n",
       "                                       16T90Q-K.AA78J                  0   \n",
       "\n",
       "                                                         2022-04-25(W17)  \\\n",
       "Ref_week        Series Region To Site  Model.Suffix                        \n",
       "2022-01-03(W01) 11T50Q KOREA  EKHQ     11TC50Q-E.AC10K                 0   \n",
       "                                       11TG50Q-E.AC10KN                0   \n",
       "                14T90P CHINA  ECNT_P   14T90P-G.AA54C                  0   \n",
       "                                       14T90P-G.AA77C                  0   \n",
       "                       EU     EEES     14T90P-G.AA78B                  0   \n",
       "...                                                                  ...   \n",
       "2022-06-06(W23) 16T90Q SEA    EHAP_LGS 16T90Q-G.AA55A                  0   \n",
       "                                       16T90Q-G.AA75A                  0   \n",
       "                                       16T90Q-G.AA78A                  0   \n",
       "                              EJJP     16T90Q-K.AA75J                  0   \n",
       "                                       16T90Q-K.AA78J                  0   \n",
       "\n",
       "                                                         2022-05-02(W18)  \\\n",
       "Ref_week        Series Region To Site  Model.Suffix                        \n",
       "2022-01-03(W01) 11T50Q KOREA  EKHQ     11TC50Q-E.AC10K                 0   \n",
       "                                       11TG50Q-E.AC10KN                0   \n",
       "                14T90P CHINA  ECNT_P   14T90P-G.AA54C                  0   \n",
       "                                       14T90P-G.AA77C                  0   \n",
       "                       EU     EEES     14T90P-G.AA78B                  0   \n",
       "...                                                                  ...   \n",
       "2022-06-06(W23) 16T90Q SEA    EHAP_LGS 16T90Q-G.AA55A                  0   \n",
       "                                       16T90Q-G.AA75A                  0   \n",
       "                                       16T90Q-G.AA78A                  0   \n",
       "                              EJJP     16T90Q-K.AA75J                  0   \n",
       "                                       16T90Q-K.AA78J                  0   \n",
       "\n",
       "                                                         2022-05-09(W19)  \\\n",
       "Ref_week        Series Region To Site  Model.Suffix                        \n",
       "2022-01-03(W01) 11T50Q KOREA  EKHQ     11TC50Q-E.AC10K                 0   \n",
       "                                       11TG50Q-E.AC10KN                0   \n",
       "                14T90P CHINA  ECNT_P   14T90P-G.AA54C                  0   \n",
       "                                       14T90P-G.AA77C                  0   \n",
       "                       EU     EEES     14T90P-G.AA78B                  0   \n",
       "...                                                                  ...   \n",
       "2022-06-06(W23) 16T90Q SEA    EHAP_LGS 16T90Q-G.AA55A                  0   \n",
       "                                       16T90Q-G.AA75A                  0   \n",
       "                                       16T90Q-G.AA78A                  0   \n",
       "                              EJJP     16T90Q-K.AA75J                  0   \n",
       "                                       16T90Q-K.AA78J                  0   \n",
       "\n",
       "                                                         2022-05-16(W20)  \\\n",
       "Ref_week        Series Region To Site  Model.Suffix                        \n",
       "2022-01-03(W01) 11T50Q KOREA  EKHQ     11TC50Q-E.AC10K                 0   \n",
       "                                       11TG50Q-E.AC10KN                0   \n",
       "                14T90P CHINA  ECNT_P   14T90P-G.AA54C                  0   \n",
       "                                       14T90P-G.AA77C                  0   \n",
       "                       EU     EEES     14T90P-G.AA78B                  0   \n",
       "...                                                                  ...   \n",
       "2022-06-06(W23) 16T90Q SEA    EHAP_LGS 16T90Q-G.AA55A                  0   \n",
       "                                       16T90Q-G.AA75A                  0   \n",
       "                                       16T90Q-G.AA78A                  0   \n",
       "                              EJJP     16T90Q-K.AA75J                  0   \n",
       "                                       16T90Q-K.AA78J                  0   \n",
       "\n",
       "                                                         2022-05-23(W21)  \\\n",
       "Ref_week        Series Region To Site  Model.Suffix                        \n",
       "2022-01-03(W01) 11T50Q KOREA  EKHQ     11TC50Q-E.AC10K                 0   \n",
       "                                       11TG50Q-E.AC10KN                0   \n",
       "                14T90P CHINA  ECNT_P   14T90P-G.AA54C                  0   \n",
       "                                       14T90P-G.AA77C                  0   \n",
       "                       EU     EEES     14T90P-G.AA78B                 20   \n",
       "...                                                                  ...   \n",
       "2022-06-06(W23) 16T90Q SEA    EHAP_LGS 16T90Q-G.AA55A                  0   \n",
       "                                       16T90Q-G.AA75A                  0   \n",
       "                                       16T90Q-G.AA78A                  0   \n",
       "                              EJJP     16T90Q-K.AA75J                  0   \n",
       "                                       16T90Q-K.AA78J                  0   \n",
       "\n",
       "                                                         2022-05-30(W22)  \\\n",
       "Ref_week        Series Region To Site  Model.Suffix                        \n",
       "2022-01-03(W01) 11T50Q KOREA  EKHQ     11TC50Q-E.AC10K                 0   \n",
       "                                       11TG50Q-E.AC10KN                0   \n",
       "                14T90P CHINA  ECNT_P   14T90P-G.AA54C                  0   \n",
       "                                       14T90P-G.AA77C                  0   \n",
       "                       EU     EEES     14T90P-G.AA78B                  0   \n",
       "...                                                                  ...   \n",
       "2022-06-06(W23) 16T90Q SEA    EHAP_LGS 16T90Q-G.AA55A                  0   \n",
       "                                       16T90Q-G.AA75A                  0   \n",
       "                                       16T90Q-G.AA78A                  0   \n",
       "                              EJJP     16T90Q-K.AA75J                  0   \n",
       "                                       16T90Q-K.AA78J                  0   \n",
       "\n",
       "                                                         2022-06-06(W23)  \\\n",
       "Ref_week        Series Region To Site  Model.Suffix                        \n",
       "2022-01-03(W01) 11T50Q KOREA  EKHQ     11TC50Q-E.AC10K                 0   \n",
       "                                       11TG50Q-E.AC10KN                0   \n",
       "                14T90P CHINA  ECNT_P   14T90P-G.AA54C                  0   \n",
       "                                       14T90P-G.AA77C                  0   \n",
       "                       EU     EEES     14T90P-G.AA78B                  0   \n",
       "...                                                                  ...   \n",
       "2022-06-06(W23) 16T90Q SEA    EHAP_LGS 16T90Q-G.AA55A                  0   \n",
       "                                       16T90Q-G.AA75A                  0   \n",
       "                                       16T90Q-G.AA78A                  0   \n",
       "                              EJJP     16T90Q-K.AA75J                  0   \n",
       "                                       16T90Q-K.AA78J                  0   \n",
       "\n",
       "                                                         2022-06-13(W24)  \\\n",
       "Ref_week        Series Region To Site  Model.Suffix                        \n",
       "2022-01-03(W01) 11T50Q KOREA  EKHQ     11TC50Q-E.AC10K                 0   \n",
       "                                       11TG50Q-E.AC10KN                0   \n",
       "                14T90P CHINA  ECNT_P   14T90P-G.AA54C                  0   \n",
       "                                       14T90P-G.AA77C                  0   \n",
       "                       EU     EEES     14T90P-G.AA78B                  0   \n",
       "...                                                                  ...   \n",
       "2022-06-06(W23) 16T90Q SEA    EHAP_LGS 16T90Q-G.AA55A                  0   \n",
       "                                       16T90Q-G.AA75A                  0   \n",
       "                                       16T90Q-G.AA78A                  0   \n",
       "                              EJJP     16T90Q-K.AA75J                  0   \n",
       "                                       16T90Q-K.AA78J                  0   \n",
       "\n",
       "                                                         2022-06-20(W25)  \\\n",
       "Ref_week        Series Region To Site  Model.Suffix                        \n",
       "2022-01-03(W01) 11T50Q KOREA  EKHQ     11TC50Q-E.AC10K                 0   \n",
       "                                       11TG50Q-E.AC10KN                0   \n",
       "                14T90P CHINA  ECNT_P   14T90P-G.AA54C                  0   \n",
       "                                       14T90P-G.AA77C                  0   \n",
       "                       EU     EEES     14T90P-G.AA78B                  0   \n",
       "...                                                                  ...   \n",
       "2022-06-06(W23) 16T90Q SEA    EHAP_LGS 16T90Q-G.AA55A                  0   \n",
       "                                       16T90Q-G.AA75A                  0   \n",
       "                                       16T90Q-G.AA78A                  0   \n",
       "                              EJJP     16T90Q-K.AA75J                  0   \n",
       "                                       16T90Q-K.AA78J                  0   \n",
       "\n",
       "                                                         2022-06-27(W26)  \\\n",
       "Ref_week        Series Region To Site  Model.Suffix                        \n",
       "2022-01-03(W01) 11T50Q KOREA  EKHQ     11TC50Q-E.AC10K                 0   \n",
       "                                       11TG50Q-E.AC10KN                0   \n",
       "                14T90P CHINA  ECNT_P   14T90P-G.AA54C                  0   \n",
       "                                       14T90P-G.AA77C                  0   \n",
       "                       EU     EEES     14T90P-G.AA78B                 20   \n",
       "...                                                                  ...   \n",
       "2022-06-06(W23) 16T90Q SEA    EHAP_LGS 16T90Q-G.AA55A                  0   \n",
       "                                       16T90Q-G.AA75A                  0   \n",
       "                                       16T90Q-G.AA78A                  0   \n",
       "                              EJJP     16T90Q-K.AA75J                  0   \n",
       "                                       16T90Q-K.AA78J                  0   \n",
       "\n",
       "                                                         2022-07-04(W27)  \\\n",
       "Ref_week        Series Region To Site  Model.Suffix                        \n",
       "2022-01-03(W01) 11T50Q KOREA  EKHQ     11TC50Q-E.AC10K                 0   \n",
       "                                       11TG50Q-E.AC10KN                0   \n",
       "                14T90P CHINA  ECNT_P   14T90P-G.AA54C                  0   \n",
       "                                       14T90P-G.AA77C                  0   \n",
       "                       EU     EEES     14T90P-G.AA78B                  0   \n",
       "...                                                                  ...   \n",
       "2022-06-06(W23) 16T90Q SEA    EHAP_LGS 16T90Q-G.AA55A                 60   \n",
       "                                       16T90Q-G.AA75A                  0   \n",
       "                                       16T90Q-G.AA78A                 50   \n",
       "                              EJJP     16T90Q-K.AA75J                 20   \n",
       "                                       16T90Q-K.AA78J                  0   \n",
       "\n",
       "                                                         2022-07-11(W28)  \\\n",
       "Ref_week        Series Region To Site  Model.Suffix                        \n",
       "2022-01-03(W01) 11T50Q KOREA  EKHQ     11TC50Q-E.AC10K                 0   \n",
       "                                       11TG50Q-E.AC10KN                0   \n",
       "                14T90P CHINA  ECNT_P   14T90P-G.AA54C                  0   \n",
       "                                       14T90P-G.AA77C                  0   \n",
       "                       EU     EEES     14T90P-G.AA78B                  0   \n",
       "...                                                                  ...   \n",
       "2022-06-06(W23) 16T90Q SEA    EHAP_LGS 16T90Q-G.AA55A                  0   \n",
       "                                       16T90Q-G.AA75A                  0   \n",
       "                                       16T90Q-G.AA78A                  0   \n",
       "                              EJJP     16T90Q-K.AA75J                  0   \n",
       "                                       16T90Q-K.AA78J                  0   \n",
       "\n",
       "                                                         2022-07-18(W29)  \\\n",
       "Ref_week        Series Region To Site  Model.Suffix                        \n",
       "2022-01-03(W01) 11T50Q KOREA  EKHQ     11TC50Q-E.AC10K                 0   \n",
       "                                       11TG50Q-E.AC10KN                0   \n",
       "                14T90P CHINA  ECNT_P   14T90P-G.AA54C                  0   \n",
       "                                       14T90P-G.AA77C                  0   \n",
       "                       EU     EEES     14T90P-G.AA78B                  0   \n",
       "...                                                                  ...   \n",
       "2022-06-06(W23) 16T90Q SEA    EHAP_LGS 16T90Q-G.AA55A                 70   \n",
       "                                       16T90Q-G.AA75A                  0   \n",
       "                                       16T90Q-G.AA78A                  0   \n",
       "                              EJJP     16T90Q-K.AA75J                  0   \n",
       "                                       16T90Q-K.AA78J                  0   \n",
       "\n",
       "                                                         2022-07-25(W30)  \\\n",
       "Ref_week        Series Region To Site  Model.Suffix                        \n",
       "2022-01-03(W01) 11T50Q KOREA  EKHQ     11TC50Q-E.AC10K                 0   \n",
       "                                       11TG50Q-E.AC10KN                0   \n",
       "                14T90P CHINA  ECNT_P   14T90P-G.AA54C                  0   \n",
       "                                       14T90P-G.AA77C                  0   \n",
       "                       EU     EEES     14T90P-G.AA78B                  0   \n",
       "...                                                                  ...   \n",
       "2022-06-06(W23) 16T90Q SEA    EHAP_LGS 16T90Q-G.AA55A                  0   \n",
       "                                       16T90Q-G.AA75A                  0   \n",
       "                                       16T90Q-G.AA78A                 20   \n",
       "                              EJJP     16T90Q-K.AA75J                  0   \n",
       "                                       16T90Q-K.AA78J                  0   \n",
       "\n",
       "                                                         2022-08-01(W31)  \\\n",
       "Ref_week        Series Region To Site  Model.Suffix                        \n",
       "2022-01-03(W01) 11T50Q KOREA  EKHQ     11TC50Q-E.AC10K                 0   \n",
       "                                       11TG50Q-E.AC10KN                0   \n",
       "                14T90P CHINA  ECNT_P   14T90P-G.AA54C                  0   \n",
       "                                       14T90P-G.AA77C                  0   \n",
       "                       EU     EEES     14T90P-G.AA78B                 15   \n",
       "...                                                                  ...   \n",
       "2022-06-06(W23) 16T90Q SEA    EHAP_LGS 16T90Q-G.AA55A                  0   \n",
       "                                       16T90Q-G.AA75A                  0   \n",
       "                                       16T90Q-G.AA78A                  0   \n",
       "                              EJJP     16T90Q-K.AA75J                  0   \n",
       "                                       16T90Q-K.AA78J                  0   \n",
       "\n",
       "                                                         2022-08-08(W32)  \\\n",
       "Ref_week        Series Region To Site  Model.Suffix                        \n",
       "2022-01-03(W01) 11T50Q KOREA  EKHQ     11TC50Q-E.AC10K                 0   \n",
       "                                       11TG50Q-E.AC10KN                0   \n",
       "                14T90P CHINA  ECNT_P   14T90P-G.AA54C                  0   \n",
       "                                       14T90P-G.AA77C                  0   \n",
       "                       EU     EEES     14T90P-G.AA78B                  0   \n",
       "...                                                                  ...   \n",
       "2022-06-06(W23) 16T90Q SEA    EHAP_LGS 16T90Q-G.AA55A                  0   \n",
       "                                       16T90Q-G.AA75A                  0   \n",
       "                                       16T90Q-G.AA78A                  0   \n",
       "                              EJJP     16T90Q-K.AA75J                  0   \n",
       "                                       16T90Q-K.AA78J                 45   \n",
       "\n",
       "                                                         2022-08-15(W33)  \\\n",
       "Ref_week        Series Region To Site  Model.Suffix                        \n",
       "2022-01-03(W01) 11T50Q KOREA  EKHQ     11TC50Q-E.AC10K                 0   \n",
       "                                       11TG50Q-E.AC10KN                0   \n",
       "                14T90P CHINA  ECNT_P   14T90P-G.AA54C                  0   \n",
       "                                       14T90P-G.AA77C                  0   \n",
       "                       EU     EEES     14T90P-G.AA78B                  0   \n",
       "...                                                                  ...   \n",
       "2022-06-06(W23) 16T90Q SEA    EHAP_LGS 16T90Q-G.AA55A                  0   \n",
       "                                       16T90Q-G.AA75A                  0   \n",
       "                                       16T90Q-G.AA78A                  0   \n",
       "                              EJJP     16T90Q-K.AA75J                 20   \n",
       "                                       16T90Q-K.AA78J                  0   \n",
       "\n",
       "                                                         2022-08-22(W34)  \\\n",
       "Ref_week        Series Region To Site  Model.Suffix                        \n",
       "2022-01-03(W01) 11T50Q KOREA  EKHQ     11TC50Q-E.AC10K                 0   \n",
       "                                       11TG50Q-E.AC10KN                0   \n",
       "                14T90P CHINA  ECNT_P   14T90P-G.AA54C                  0   \n",
       "                                       14T90P-G.AA77C                  0   \n",
       "                       EU     EEES     14T90P-G.AA78B                  0   \n",
       "...                                                                  ...   \n",
       "2022-06-06(W23) 16T90Q SEA    EHAP_LGS 16T90Q-G.AA55A                 25   \n",
       "                                       16T90Q-G.AA75A                  0   \n",
       "                                       16T90Q-G.AA78A                 20   \n",
       "                              EJJP     16T90Q-K.AA75J                  0   \n",
       "                                       16T90Q-K.AA78J                 30   \n",
       "\n",
       "                                                         2022-08-29(W35)  \\\n",
       "Ref_week        Series Region To Site  Model.Suffix                        \n",
       "2022-01-03(W01) 11T50Q KOREA  EKHQ     11TC50Q-E.AC10K                 0   \n",
       "                                       11TG50Q-E.AC10KN                0   \n",
       "                14T90P CHINA  ECNT_P   14T90P-G.AA54C                  0   \n",
       "                                       14T90P-G.AA77C                  0   \n",
       "                       EU     EEES     14T90P-G.AA78B                  0   \n",
       "...                                                                  ...   \n",
       "2022-06-06(W23) 16T90Q SEA    EHAP_LGS 16T90Q-G.AA55A                  0   \n",
       "                                       16T90Q-G.AA75A                  0   \n",
       "                                       16T90Q-G.AA78A                  0   \n",
       "                              EJJP     16T90Q-K.AA75J                  0   \n",
       "                                       16T90Q-K.AA78J                  0   \n",
       "\n",
       "                                                         2022-09-05(W36)  \\\n",
       "Ref_week        Series Region To Site  Model.Suffix                        \n",
       "2022-01-03(W01) 11T50Q KOREA  EKHQ     11TC50Q-E.AC10K                 0   \n",
       "                                       11TG50Q-E.AC10KN                0   \n",
       "                14T90P CHINA  ECNT_P   14T90P-G.AA54C                  0   \n",
       "                                       14T90P-G.AA77C                  0   \n",
       "                       EU     EEES     14T90P-G.AA78B                  0   \n",
       "...                                                                  ...   \n",
       "2022-06-06(W23) 16T90Q SEA    EHAP_LGS 16T90Q-G.AA55A                  0   \n",
       "                                       16T90Q-G.AA75A                  0   \n",
       "                                       16T90Q-G.AA78A                  0   \n",
       "                              EJJP     16T90Q-K.AA75J                  0   \n",
       "                                       16T90Q-K.AA78J                  0   \n",
       "\n",
       "                                                         2022-09-12(W37)  \\\n",
       "Ref_week        Series Region To Site  Model.Suffix                        \n",
       "2022-01-03(W01) 11T50Q KOREA  EKHQ     11TC50Q-E.AC10K                 0   \n",
       "                                       11TG50Q-E.AC10KN                0   \n",
       "                14T90P CHINA  ECNT_P   14T90P-G.AA54C                  0   \n",
       "                                       14T90P-G.AA77C                  0   \n",
       "                       EU     EEES     14T90P-G.AA78B                  0   \n",
       "...                                                                  ...   \n",
       "2022-06-06(W23) 16T90Q SEA    EHAP_LGS 16T90Q-G.AA55A                  0   \n",
       "                                       16T90Q-G.AA75A                  0   \n",
       "                                       16T90Q-G.AA78A                  0   \n",
       "                              EJJP     16T90Q-K.AA75J                  0   \n",
       "                                       16T90Q-K.AA78J                  0   \n",
       "\n",
       "                                                         2022-09-19(W38)  \\\n",
       "Ref_week        Series Region To Site  Model.Suffix                        \n",
       "2022-01-03(W01) 11T50Q KOREA  EKHQ     11TC50Q-E.AC10K                 0   \n",
       "                                       11TG50Q-E.AC10KN                0   \n",
       "                14T90P CHINA  ECNT_P   14T90P-G.AA54C                  0   \n",
       "                                       14T90P-G.AA77C                  0   \n",
       "                       EU     EEES     14T90P-G.AA78B                  0   \n",
       "...                                                                  ...   \n",
       "2022-06-06(W23) 16T90Q SEA    EHAP_LGS 16T90Q-G.AA55A                  0   \n",
       "                                       16T90Q-G.AA75A                  0   \n",
       "                                       16T90Q-G.AA78A                 30   \n",
       "                              EJJP     16T90Q-K.AA75J                  0   \n",
       "                                       16T90Q-K.AA78J                  0   \n",
       "\n",
       "                                                         2022-09-26(W39)  \\\n",
       "Ref_week        Series Region To Site  Model.Suffix                        \n",
       "2022-01-03(W01) 11T50Q KOREA  EKHQ     11TC50Q-E.AC10K                 0   \n",
       "                                       11TG50Q-E.AC10KN                0   \n",
       "                14T90P CHINA  ECNT_P   14T90P-G.AA54C                  0   \n",
       "                                       14T90P-G.AA77C                  0   \n",
       "                       EU     EEES     14T90P-G.AA78B                  0   \n",
       "...                                                                  ...   \n",
       "2022-06-06(W23) 16T90Q SEA    EHAP_LGS 16T90Q-G.AA55A                  0   \n",
       "                                       16T90Q-G.AA75A                  0   \n",
       "                                       16T90Q-G.AA78A                  0   \n",
       "                              EJJP     16T90Q-K.AA75J                  0   \n",
       "                                       16T90Q-K.AA78J                  0   \n",
       "\n",
       "                                                         2022-10-03(W40)  \\\n",
       "Ref_week        Series Region To Site  Model.Suffix                        \n",
       "2022-01-03(W01) 11T50Q KOREA  EKHQ     11TC50Q-E.AC10K                 0   \n",
       "                                       11TG50Q-E.AC10KN                0   \n",
       "                14T90P CHINA  ECNT_P   14T90P-G.AA54C                  0   \n",
       "                                       14T90P-G.AA77C                  0   \n",
       "                       EU     EEES     14T90P-G.AA78B                  0   \n",
       "...                                                                  ...   \n",
       "2022-06-06(W23) 16T90Q SEA    EHAP_LGS 16T90Q-G.AA55A                  0   \n",
       "                                       16T90Q-G.AA75A                  0   \n",
       "                                       16T90Q-G.AA78A                  0   \n",
       "                              EJJP     16T90Q-K.AA75J                 20   \n",
       "                                       16T90Q-K.AA78J                 30   \n",
       "\n",
       "                                                         2022-10-10(W41)  \\\n",
       "Ref_week        Series Region To Site  Model.Suffix                        \n",
       "2022-01-03(W01) 11T50Q KOREA  EKHQ     11TC50Q-E.AC10K                 0   \n",
       "                                       11TG50Q-E.AC10KN                0   \n",
       "                14T90P CHINA  ECNT_P   14T90P-G.AA54C                  0   \n",
       "                                       14T90P-G.AA77C                  0   \n",
       "                       EU     EEES     14T90P-G.AA78B                  0   \n",
       "...                                                                  ...   \n",
       "2022-06-06(W23) 16T90Q SEA    EHAP_LGS 16T90Q-G.AA55A                  0   \n",
       "                                       16T90Q-G.AA75A                  0   \n",
       "                                       16T90Q-G.AA78A                  0   \n",
       "                              EJJP     16T90Q-K.AA75J                  0   \n",
       "                                       16T90Q-K.AA78J                  0   \n",
       "\n",
       "                                                         2022-10-17(W42)  \\\n",
       "Ref_week        Series Region To Site  Model.Suffix                        \n",
       "2022-01-03(W01) 11T50Q KOREA  EKHQ     11TC50Q-E.AC10K                 0   \n",
       "                                       11TG50Q-E.AC10KN                0   \n",
       "                14T90P CHINA  ECNT_P   14T90P-G.AA54C                  0   \n",
       "                                       14T90P-G.AA77C                  0   \n",
       "                       EU     EEES     14T90P-G.AA78B                  0   \n",
       "...                                                                  ...   \n",
       "2022-06-06(W23) 16T90Q SEA    EHAP_LGS 16T90Q-G.AA55A                  0   \n",
       "                                       16T90Q-G.AA75A                  0   \n",
       "                                       16T90Q-G.AA78A                  0   \n",
       "                              EJJP     16T90Q-K.AA75J                  0   \n",
       "                                       16T90Q-K.AA78J                  0   \n",
       "\n",
       "                                                         2022-10-24(W43)  \\\n",
       "Ref_week        Series Region To Site  Model.Suffix                        \n",
       "2022-01-03(W01) 11T50Q KOREA  EKHQ     11TC50Q-E.AC10K                 0   \n",
       "                                       11TG50Q-E.AC10KN                0   \n",
       "                14T90P CHINA  ECNT_P   14T90P-G.AA54C                  0   \n",
       "                                       14T90P-G.AA77C                  0   \n",
       "                       EU     EEES     14T90P-G.AA78B                  0   \n",
       "...                                                                  ...   \n",
       "2022-06-06(W23) 16T90Q SEA    EHAP_LGS 16T90Q-G.AA55A                  0   \n",
       "                                       16T90Q-G.AA75A                  0   \n",
       "                                       16T90Q-G.AA78A                 30   \n",
       "                              EJJP     16T90Q-K.AA75J                  0   \n",
       "                                       16T90Q-K.AA78J                  0   \n",
       "\n",
       "                                                         2022-10-31(W44)  \\\n",
       "Ref_week        Series Region To Site  Model.Suffix                        \n",
       "2022-01-03(W01) 11T50Q KOREA  EKHQ     11TC50Q-E.AC10K                 0   \n",
       "                                       11TG50Q-E.AC10KN                0   \n",
       "                14T90P CHINA  ECNT_P   14T90P-G.AA54C                  0   \n",
       "                                       14T90P-G.AA77C                  0   \n",
       "                       EU     EEES     14T90P-G.AA78B                  0   \n",
       "...                                                                  ...   \n",
       "2022-06-06(W23) 16T90Q SEA    EHAP_LGS 16T90Q-G.AA55A                  0   \n",
       "                                       16T90Q-G.AA75A                  0   \n",
       "                                       16T90Q-G.AA78A                  0   \n",
       "                              EJJP     16T90Q-K.AA75J                 45   \n",
       "                                       16T90Q-K.AA78J                  0   \n",
       "\n",
       "                                                         2022-11-07(W45)  \\\n",
       "Ref_week        Series Region To Site  Model.Suffix                        \n",
       "2022-01-03(W01) 11T50Q KOREA  EKHQ     11TC50Q-E.AC10K                 0   \n",
       "                                       11TG50Q-E.AC10KN                0   \n",
       "                14T90P CHINA  ECNT_P   14T90P-G.AA54C                  0   \n",
       "                                       14T90P-G.AA77C                  0   \n",
       "                       EU     EEES     14T90P-G.AA78B                  0   \n",
       "...                                                                  ...   \n",
       "2022-06-06(W23) 16T90Q SEA    EHAP_LGS 16T90Q-G.AA55A                  0   \n",
       "                                       16T90Q-G.AA75A                  0   \n",
       "                                       16T90Q-G.AA78A                  0   \n",
       "                              EJJP     16T90Q-K.AA75J                  0   \n",
       "                                       16T90Q-K.AA78J                 30   \n",
       "\n",
       "                                                         2022-11-14(W46)  \\\n",
       "Ref_week        Series Region To Site  Model.Suffix                        \n",
       "2022-01-03(W01) 11T50Q KOREA  EKHQ     11TC50Q-E.AC10K                 0   \n",
       "                                       11TG50Q-E.AC10KN                0   \n",
       "                14T90P CHINA  ECNT_P   14T90P-G.AA54C                  0   \n",
       "                                       14T90P-G.AA77C                  0   \n",
       "                       EU     EEES     14T90P-G.AA78B                  0   \n",
       "...                                                                  ...   \n",
       "2022-06-06(W23) 16T90Q SEA    EHAP_LGS 16T90Q-G.AA55A                 10   \n",
       "                                       16T90Q-G.AA75A                 10   \n",
       "                                       16T90Q-G.AA78A                  0   \n",
       "                              EJJP     16T90Q-K.AA75J                 20   \n",
       "                                       16T90Q-K.AA78J                  0   \n",
       "\n",
       "                                                         2022-11-21(W47)  \\\n",
       "Ref_week        Series Region To Site  Model.Suffix                        \n",
       "2022-01-03(W01) 11T50Q KOREA  EKHQ     11TC50Q-E.AC10K                 0   \n",
       "                                       11TG50Q-E.AC10KN                0   \n",
       "                14T90P CHINA  ECNT_P   14T90P-G.AA54C                  0   \n",
       "                                       14T90P-G.AA77C                  0   \n",
       "                       EU     EEES     14T90P-G.AA78B                  0   \n",
       "...                                                                  ...   \n",
       "2022-06-06(W23) 16T90Q SEA    EHAP_LGS 16T90Q-G.AA55A                  0   \n",
       "                                       16T90Q-G.AA75A                  0   \n",
       "                                       16T90Q-G.AA78A                  0   \n",
       "                              EJJP     16T90Q-K.AA75J                  0   \n",
       "                                       16T90Q-K.AA78J                  0   \n",
       "\n",
       "                                                         2022-11-28(W48)  \\\n",
       "Ref_week        Series Region To Site  Model.Suffix                        \n",
       "2022-01-03(W01) 11T50Q KOREA  EKHQ     11TC50Q-E.AC10K                 0   \n",
       "                                       11TG50Q-E.AC10KN                0   \n",
       "                14T90P CHINA  ECNT_P   14T90P-G.AA54C                  0   \n",
       "                                       14T90P-G.AA77C                  0   \n",
       "                       EU     EEES     14T90P-G.AA78B                  0   \n",
       "...                                                                  ...   \n",
       "2022-06-06(W23) 16T90Q SEA    EHAP_LGS 16T90Q-G.AA55A                  0   \n",
       "                                       16T90Q-G.AA75A                  0   \n",
       "                                       16T90Q-G.AA78A                  0   \n",
       "                              EJJP     16T90Q-K.AA75J                  0   \n",
       "                                       16T90Q-K.AA78J                  0   \n",
       "\n",
       "                                                         2022-12-05(W49)  \\\n",
       "Ref_week        Series Region To Site  Model.Suffix                        \n",
       "2022-01-03(W01) 11T50Q KOREA  EKHQ     11TC50Q-E.AC10K                 0   \n",
       "                                       11TG50Q-E.AC10KN                0   \n",
       "                14T90P CHINA  ECNT_P   14T90P-G.AA54C                  0   \n",
       "                                       14T90P-G.AA77C                  0   \n",
       "                       EU     EEES     14T90P-G.AA78B                  0   \n",
       "...                                                                  ...   \n",
       "2022-06-06(W23) 16T90Q SEA    EHAP_LGS 16T90Q-G.AA55A                  0   \n",
       "                                       16T90Q-G.AA75A                  0   \n",
       "                                       16T90Q-G.AA78A                  0   \n",
       "                              EJJP     16T90Q-K.AA75J                  0   \n",
       "                                       16T90Q-K.AA78J                  0   \n",
       "\n",
       "                                                         2022-12-12(W50)  \\\n",
       "Ref_week        Series Region To Site  Model.Suffix                        \n",
       "2022-01-03(W01) 11T50Q KOREA  EKHQ     11TC50Q-E.AC10K                 0   \n",
       "                                       11TG50Q-E.AC10KN                0   \n",
       "                14T90P CHINA  ECNT_P   14T90P-G.AA54C                  0   \n",
       "                                       14T90P-G.AA77C                  0   \n",
       "                       EU     EEES     14T90P-G.AA78B                  0   \n",
       "...                                                                  ...   \n",
       "2022-06-06(W23) 16T90Q SEA    EHAP_LGS 16T90Q-G.AA55A                  0   \n",
       "                                       16T90Q-G.AA75A                  0   \n",
       "                                       16T90Q-G.AA78A                  0   \n",
       "                              EJJP     16T90Q-K.AA75J                  0   \n",
       "                                       16T90Q-K.AA78J                  0   \n",
       "\n",
       "                                                         2022-12-19(W51)  \\\n",
       "Ref_week        Series Region To Site  Model.Suffix                        \n",
       "2022-01-03(W01) 11T50Q KOREA  EKHQ     11TC50Q-E.AC10K                 0   \n",
       "                                       11TG50Q-E.AC10KN                0   \n",
       "                14T90P CHINA  ECNT_P   14T90P-G.AA54C                  0   \n",
       "                                       14T90P-G.AA77C                  0   \n",
       "                       EU     EEES     14T90P-G.AA78B                  0   \n",
       "...                                                                  ...   \n",
       "2022-06-06(W23) 16T90Q SEA    EHAP_LGS 16T90Q-G.AA55A                  0   \n",
       "                                       16T90Q-G.AA75A                  0   \n",
       "                                       16T90Q-G.AA78A                  0   \n",
       "                              EJJP     16T90Q-K.AA75J                  0   \n",
       "                                       16T90Q-K.AA78J                  0   \n",
       "\n",
       "                                                         2022-12-26(W52)  \n",
       "Ref_week        Series Region To Site  Model.Suffix                       \n",
       "2022-01-03(W01) 11T50Q KOREA  EKHQ     11TC50Q-E.AC10K                 0  \n",
       "                                       11TG50Q-E.AC10KN                0  \n",
       "                14T90P CHINA  ECNT_P   14T90P-G.AA54C                  0  \n",
       "                                       14T90P-G.AA77C                  0  \n",
       "                       EU     EEES     14T90P-G.AA78B                  0  \n",
       "...                                                                  ...  \n",
       "2022-06-06(W23) 16T90Q SEA    EHAP_LGS 16T90Q-G.AA55A                  0  \n",
       "                                       16T90Q-G.AA75A                  0  \n",
       "                                       16T90Q-G.AA78A                  0  \n",
       "                              EJJP     16T90Q-K.AA75J                  0  \n",
       "                                       16T90Q-K.AA78J                  0  \n",
       "\n",
       "[4939 rows x 57 columns]"
      ]
     },
     "execution_count": 6,
     "metadata": {},
     "output_type": "execute_result"
    }
   ],
   "source": [
    "df = df.groupby(['Ref_week','Series', 'Region', 'To Site', 'Model.Suffix']).sum()\n",
    "df"
   ]
  },
  {
   "cell_type": "code",
   "execution_count": 7,
   "id": "ffe77856",
   "metadata": {},
   "outputs": [],
   "source": [
    "df = df.reset_index()"
   ]
  },
  {
   "cell_type": "code",
   "execution_count": 9,
   "id": "2f5bd9c8",
   "metadata": {},
   "outputs": [],
   "source": [
    "cond1 = (df['Series'] == '15U50Q')"
   ]
  },
  {
   "cell_type": "code",
   "execution_count": 10,
   "id": "8018d860",
   "metadata": {},
   "outputs": [
    {
     "data": {
      "text/html": [
       "<div>\n",
       "<style scoped>\n",
       "    .dataframe tbody tr th:only-of-type {\n",
       "        vertical-align: middle;\n",
       "    }\n",
       "\n",
       "    .dataframe tbody tr th {\n",
       "        vertical-align: top;\n",
       "    }\n",
       "\n",
       "    .dataframe thead th {\n",
       "        text-align: right;\n",
       "    }\n",
       "</style>\n",
       "<table border=\"1\" class=\"dataframe\">\n",
       "  <thead>\n",
       "    <tr style=\"text-align: right;\">\n",
       "      <th></th>\n",
       "      <th>Ref_week</th>\n",
       "      <th>Series</th>\n",
       "      <th>Region</th>\n",
       "      <th>To Site</th>\n",
       "      <th>Model.Suffix</th>\n",
       "      <th>2021-11-29(W48)</th>\n",
       "      <th>2021-12-06(W49)</th>\n",
       "      <th>2021-12-13(W50)</th>\n",
       "      <th>2021-12-20(W51)</th>\n",
       "      <th>2021-12-27(W52)</th>\n",
       "      <th>2022-01-03(W01)</th>\n",
       "      <th>2022-01-10(W02)</th>\n",
       "      <th>2022-01-17(W03)</th>\n",
       "      <th>2022-01-24(W04)</th>\n",
       "      <th>2022-01-31(W05)</th>\n",
       "      <th>2022-02-07(W06)</th>\n",
       "      <th>2022-02-14(W07)</th>\n",
       "      <th>2022-02-21(W08)</th>\n",
       "      <th>2022-02-28(W09)</th>\n",
       "      <th>2022-03-07(W10)</th>\n",
       "      <th>2022-03-14(W11)</th>\n",
       "      <th>2022-03-21(W12)</th>\n",
       "      <th>2022-03-28(W13)</th>\n",
       "      <th>2022-04-04(W14)</th>\n",
       "      <th>2022-04-11(W15)</th>\n",
       "      <th>2022-04-18(W16)</th>\n",
       "      <th>2022-04-25(W17)</th>\n",
       "      <th>2022-05-02(W18)</th>\n",
       "      <th>2022-05-09(W19)</th>\n",
       "      <th>2022-05-16(W20)</th>\n",
       "      <th>2022-05-23(W21)</th>\n",
       "      <th>2022-05-30(W22)</th>\n",
       "      <th>2022-06-06(W23)</th>\n",
       "      <th>2022-06-13(W24)</th>\n",
       "      <th>2022-06-20(W25)</th>\n",
       "      <th>2022-06-27(W26)</th>\n",
       "      <th>2022-07-04(W27)</th>\n",
       "      <th>2022-07-11(W28)</th>\n",
       "      <th>2022-07-18(W29)</th>\n",
       "      <th>2022-07-25(W30)</th>\n",
       "      <th>2022-08-01(W31)</th>\n",
       "      <th>2022-08-08(W32)</th>\n",
       "      <th>2022-08-15(W33)</th>\n",
       "      <th>2022-08-22(W34)</th>\n",
       "      <th>2022-08-29(W35)</th>\n",
       "      <th>2022-09-05(W36)</th>\n",
       "      <th>2022-09-12(W37)</th>\n",
       "      <th>2022-09-19(W38)</th>\n",
       "      <th>2022-09-26(W39)</th>\n",
       "      <th>2022-10-03(W40)</th>\n",
       "      <th>2022-10-10(W41)</th>\n",
       "      <th>2022-10-17(W42)</th>\n",
       "      <th>2022-10-24(W43)</th>\n",
       "      <th>2022-10-31(W44)</th>\n",
       "      <th>2022-11-07(W45)</th>\n",
       "      <th>2022-11-14(W46)</th>\n",
       "      <th>2022-11-21(W47)</th>\n",
       "      <th>2022-11-28(W48)</th>\n",
       "      <th>2022-12-05(W49)</th>\n",
       "      <th>2022-12-12(W50)</th>\n",
       "      <th>2022-12-19(W51)</th>\n",
       "      <th>2022-12-26(W52)</th>\n",
       "    </tr>\n",
       "  </thead>\n",
       "  <tbody>\n",
       "    <tr>\n",
       "      <th>283</th>\n",
       "      <td>2022-01-10(W02)</td>\n",
       "      <td>15U50Q</td>\n",
       "      <td>KOREA</td>\n",
       "      <td>EKHQ</td>\n",
       "      <td>15U50Q</td>\n",
       "      <td>0</td>\n",
       "      <td>0</td>\n",
       "      <td>0</td>\n",
       "      <td>0</td>\n",
       "      <td>0</td>\n",
       "      <td>0</td>\n",
       "      <td>0</td>\n",
       "      <td>0</td>\n",
       "      <td>0</td>\n",
       "      <td>0</td>\n",
       "      <td>0</td>\n",
       "      <td>0</td>\n",
       "      <td>0</td>\n",
       "      <td>0</td>\n",
       "      <td>0</td>\n",
       "      <td>0</td>\n",
       "      <td>0</td>\n",
       "      <td>0</td>\n",
       "      <td>0</td>\n",
       "      <td>0</td>\n",
       "      <td>4700</td>\n",
       "      <td>0</td>\n",
       "      <td>0</td>\n",
       "      <td>0</td>\n",
       "      <td>6700</td>\n",
       "      <td>0</td>\n",
       "      <td>0</td>\n",
       "      <td>0</td>\n",
       "      <td>0</td>\n",
       "      <td>8300</td>\n",
       "      <td>0</td>\n",
       "      <td>0</td>\n",
       "      <td>0</td>\n",
       "      <td>9500</td>\n",
       "      <td>0</td>\n",
       "      <td>0</td>\n",
       "      <td>0</td>\n",
       "      <td>9500</td>\n",
       "      <td>0</td>\n",
       "      <td>0</td>\n",
       "      <td>0</td>\n",
       "      <td>8500</td>\n",
       "      <td>0</td>\n",
       "      <td>0</td>\n",
       "      <td>0</td>\n",
       "      <td>0</td>\n",
       "      <td>0</td>\n",
       "      <td>0</td>\n",
       "      <td>0</td>\n",
       "      <td>0</td>\n",
       "      <td>0</td>\n",
       "      <td>0</td>\n",
       "      <td>0</td>\n",
       "      <td>0</td>\n",
       "      <td>0</td>\n",
       "      <td>0</td>\n",
       "      <td>0</td>\n",
       "    </tr>\n",
       "    <tr>\n",
       "      <th>646</th>\n",
       "      <td>2022-01-24(W04)</td>\n",
       "      <td>15U50Q</td>\n",
       "      <td>KOREA</td>\n",
       "      <td>EKHQ</td>\n",
       "      <td>15U50Q-G.AA3IK</td>\n",
       "      <td>0</td>\n",
       "      <td>0</td>\n",
       "      <td>0</td>\n",
       "      <td>0</td>\n",
       "      <td>0</td>\n",
       "      <td>0</td>\n",
       "      <td>0</td>\n",
       "      <td>0</td>\n",
       "      <td>0</td>\n",
       "      <td>0</td>\n",
       "      <td>0</td>\n",
       "      <td>0</td>\n",
       "      <td>0</td>\n",
       "      <td>0</td>\n",
       "      <td>0</td>\n",
       "      <td>0</td>\n",
       "      <td>0</td>\n",
       "      <td>200</td>\n",
       "      <td>100</td>\n",
       "      <td>100</td>\n",
       "      <td>0</td>\n",
       "      <td>100</td>\n",
       "      <td>0</td>\n",
       "      <td>100</td>\n",
       "      <td>0</td>\n",
       "      <td>100</td>\n",
       "      <td>0</td>\n",
       "      <td>100</td>\n",
       "      <td>0</td>\n",
       "      <td>100</td>\n",
       "      <td>0</td>\n",
       "      <td>0</td>\n",
       "      <td>100</td>\n",
       "      <td>0</td>\n",
       "      <td>0</td>\n",
       "      <td>16</td>\n",
       "      <td>36</td>\n",
       "      <td>36</td>\n",
       "      <td>74</td>\n",
       "      <td>38</td>\n",
       "      <td>38</td>\n",
       "      <td>38</td>\n",
       "      <td>37</td>\n",
       "      <td>0</td>\n",
       "      <td>0</td>\n",
       "      <td>0</td>\n",
       "      <td>0</td>\n",
       "      <td>0</td>\n",
       "      <td>0</td>\n",
       "      <td>0</td>\n",
       "      <td>0</td>\n",
       "      <td>0</td>\n",
       "      <td>0</td>\n",
       "      <td>0</td>\n",
       "      <td>0</td>\n",
       "      <td>0</td>\n",
       "      <td>0</td>\n",
       "    </tr>\n",
       "    <tr>\n",
       "      <th>647</th>\n",
       "      <td>2022-01-24(W04)</td>\n",
       "      <td>15U50Q</td>\n",
       "      <td>KOREA</td>\n",
       "      <td>EKHQ</td>\n",
       "      <td>15U50Q-G.AA56K</td>\n",
       "      <td>0</td>\n",
       "      <td>0</td>\n",
       "      <td>0</td>\n",
       "      <td>0</td>\n",
       "      <td>0</td>\n",
       "      <td>0</td>\n",
       "      <td>0</td>\n",
       "      <td>0</td>\n",
       "      <td>0</td>\n",
       "      <td>0</td>\n",
       "      <td>0</td>\n",
       "      <td>0</td>\n",
       "      <td>0</td>\n",
       "      <td>0</td>\n",
       "      <td>0</td>\n",
       "      <td>0</td>\n",
       "      <td>0</td>\n",
       "      <td>0</td>\n",
       "      <td>0</td>\n",
       "      <td>0</td>\n",
       "      <td>0</td>\n",
       "      <td>100</td>\n",
       "      <td>0</td>\n",
       "      <td>0</td>\n",
       "      <td>0</td>\n",
       "      <td>100</td>\n",
       "      <td>0</td>\n",
       "      <td>0</td>\n",
       "      <td>0</td>\n",
       "      <td>0</td>\n",
       "      <td>100</td>\n",
       "      <td>0</td>\n",
       "      <td>0</td>\n",
       "      <td>0</td>\n",
       "      <td>0</td>\n",
       "      <td>0</td>\n",
       "      <td>0</td>\n",
       "      <td>0</td>\n",
       "      <td>26</td>\n",
       "      <td>16</td>\n",
       "      <td>15</td>\n",
       "      <td>14</td>\n",
       "      <td>14</td>\n",
       "      <td>0</td>\n",
       "      <td>0</td>\n",
       "      <td>0</td>\n",
       "      <td>0</td>\n",
       "      <td>0</td>\n",
       "      <td>0</td>\n",
       "      <td>0</td>\n",
       "      <td>0</td>\n",
       "      <td>0</td>\n",
       "      <td>0</td>\n",
       "      <td>0</td>\n",
       "      <td>0</td>\n",
       "      <td>0</td>\n",
       "      <td>0</td>\n",
       "    </tr>\n",
       "    <tr>\n",
       "      <th>648</th>\n",
       "      <td>2022-01-24(W04)</td>\n",
       "      <td>15U50Q</td>\n",
       "      <td>KOREA</td>\n",
       "      <td>EKHQ</td>\n",
       "      <td>15U50Q-G.AA5IK</td>\n",
       "      <td>0</td>\n",
       "      <td>0</td>\n",
       "      <td>0</td>\n",
       "      <td>0</td>\n",
       "      <td>0</td>\n",
       "      <td>0</td>\n",
       "      <td>0</td>\n",
       "      <td>0</td>\n",
       "      <td>0</td>\n",
       "      <td>0</td>\n",
       "      <td>0</td>\n",
       "      <td>0</td>\n",
       "      <td>0</td>\n",
       "      <td>0</td>\n",
       "      <td>0</td>\n",
       "      <td>0</td>\n",
       "      <td>0</td>\n",
       "      <td>600</td>\n",
       "      <td>300</td>\n",
       "      <td>200</td>\n",
       "      <td>0</td>\n",
       "      <td>300</td>\n",
       "      <td>300</td>\n",
       "      <td>300</td>\n",
       "      <td>200</td>\n",
       "      <td>200</td>\n",
       "      <td>200</td>\n",
       "      <td>200</td>\n",
       "      <td>100</td>\n",
       "      <td>100</td>\n",
       "      <td>100</td>\n",
       "      <td>100</td>\n",
       "      <td>100</td>\n",
       "      <td>90</td>\n",
       "      <td>128</td>\n",
       "      <td>128</td>\n",
       "      <td>128</td>\n",
       "      <td>128</td>\n",
       "      <td>261</td>\n",
       "      <td>135</td>\n",
       "      <td>134</td>\n",
       "      <td>132</td>\n",
       "      <td>132</td>\n",
       "      <td>0</td>\n",
       "      <td>0</td>\n",
       "      <td>0</td>\n",
       "      <td>0</td>\n",
       "      <td>0</td>\n",
       "      <td>0</td>\n",
       "      <td>0</td>\n",
       "      <td>0</td>\n",
       "      <td>0</td>\n",
       "      <td>0</td>\n",
       "      <td>0</td>\n",
       "      <td>0</td>\n",
       "      <td>0</td>\n",
       "      <td>0</td>\n",
       "    </tr>\n",
       "    <tr>\n",
       "      <th>649</th>\n",
       "      <td>2022-01-24(W04)</td>\n",
       "      <td>15U50Q</td>\n",
       "      <td>KOREA</td>\n",
       "      <td>EKHQ</td>\n",
       "      <td>15U50Q-G.AR30K</td>\n",
       "      <td>0</td>\n",
       "      <td>0</td>\n",
       "      <td>0</td>\n",
       "      <td>0</td>\n",
       "      <td>0</td>\n",
       "      <td>0</td>\n",
       "      <td>0</td>\n",
       "      <td>0</td>\n",
       "      <td>0</td>\n",
       "      <td>0</td>\n",
       "      <td>0</td>\n",
       "      <td>0</td>\n",
       "      <td>0</td>\n",
       "      <td>0</td>\n",
       "      <td>0</td>\n",
       "      <td>0</td>\n",
       "      <td>0</td>\n",
       "      <td>400</td>\n",
       "      <td>200</td>\n",
       "      <td>200</td>\n",
       "      <td>0</td>\n",
       "      <td>200</td>\n",
       "      <td>200</td>\n",
       "      <td>200</td>\n",
       "      <td>200</td>\n",
       "      <td>100</td>\n",
       "      <td>100</td>\n",
       "      <td>100</td>\n",
       "      <td>100</td>\n",
       "      <td>100</td>\n",
       "      <td>100</td>\n",
       "      <td>0</td>\n",
       "      <td>100</td>\n",
       "      <td>0</td>\n",
       "      <td>54</td>\n",
       "      <td>74</td>\n",
       "      <td>74</td>\n",
       "      <td>72</td>\n",
       "      <td>148</td>\n",
       "      <td>77</td>\n",
       "      <td>76</td>\n",
       "      <td>76</td>\n",
       "      <td>75</td>\n",
       "      <td>0</td>\n",
       "      <td>0</td>\n",
       "      <td>0</td>\n",
       "      <td>0</td>\n",
       "      <td>0</td>\n",
       "      <td>0</td>\n",
       "      <td>0</td>\n",
       "      <td>0</td>\n",
       "      <td>0</td>\n",
       "      <td>0</td>\n",
       "      <td>0</td>\n",
       "      <td>0</td>\n",
       "      <td>0</td>\n",
       "      <td>0</td>\n",
       "    </tr>\n",
       "    <tr>\n",
       "      <th>...</th>\n",
       "      <td>...</td>\n",
       "      <td>...</td>\n",
       "      <td>...</td>\n",
       "      <td>...</td>\n",
       "      <td>...</td>\n",
       "      <td>...</td>\n",
       "      <td>...</td>\n",
       "      <td>...</td>\n",
       "      <td>...</td>\n",
       "      <td>...</td>\n",
       "      <td>...</td>\n",
       "      <td>...</td>\n",
       "      <td>...</td>\n",
       "      <td>...</td>\n",
       "      <td>...</td>\n",
       "      <td>...</td>\n",
       "      <td>...</td>\n",
       "      <td>...</td>\n",
       "      <td>...</td>\n",
       "      <td>...</td>\n",
       "      <td>...</td>\n",
       "      <td>...</td>\n",
       "      <td>...</td>\n",
       "      <td>...</td>\n",
       "      <td>...</td>\n",
       "      <td>...</td>\n",
       "      <td>...</td>\n",
       "      <td>...</td>\n",
       "      <td>...</td>\n",
       "      <td>...</td>\n",
       "      <td>...</td>\n",
       "      <td>...</td>\n",
       "      <td>...</td>\n",
       "      <td>...</td>\n",
       "      <td>...</td>\n",
       "      <td>...</td>\n",
       "      <td>...</td>\n",
       "      <td>...</td>\n",
       "      <td>...</td>\n",
       "      <td>...</td>\n",
       "      <td>...</td>\n",
       "      <td>...</td>\n",
       "      <td>...</td>\n",
       "      <td>...</td>\n",
       "      <td>...</td>\n",
       "      <td>...</td>\n",
       "      <td>...</td>\n",
       "      <td>...</td>\n",
       "      <td>...</td>\n",
       "      <td>...</td>\n",
       "      <td>...</td>\n",
       "      <td>...</td>\n",
       "      <td>...</td>\n",
       "      <td>...</td>\n",
       "      <td>...</td>\n",
       "      <td>...</td>\n",
       "      <td>...</td>\n",
       "      <td>...</td>\n",
       "      <td>...</td>\n",
       "      <td>...</td>\n",
       "      <td>...</td>\n",
       "      <td>...</td>\n",
       "    </tr>\n",
       "    <tr>\n",
       "      <th>4844</th>\n",
       "      <td>2022-06-06(W23)</td>\n",
       "      <td>15U50Q</td>\n",
       "      <td>KOREA</td>\n",
       "      <td>EKHQ</td>\n",
       "      <td>15U50Q-G.AR50K</td>\n",
       "      <td>0</td>\n",
       "      <td>0</td>\n",
       "      <td>0</td>\n",
       "      <td>0</td>\n",
       "      <td>0</td>\n",
       "      <td>0</td>\n",
       "      <td>0</td>\n",
       "      <td>0</td>\n",
       "      <td>0</td>\n",
       "      <td>0</td>\n",
       "      <td>0</td>\n",
       "      <td>0</td>\n",
       "      <td>0</td>\n",
       "      <td>0</td>\n",
       "      <td>0</td>\n",
       "      <td>0</td>\n",
       "      <td>0</td>\n",
       "      <td>0</td>\n",
       "      <td>0</td>\n",
       "      <td>0</td>\n",
       "      <td>0</td>\n",
       "      <td>0</td>\n",
       "      <td>75</td>\n",
       "      <td>0</td>\n",
       "      <td>0</td>\n",
       "      <td>75</td>\n",
       "      <td>0</td>\n",
       "      <td>50</td>\n",
       "      <td>0</td>\n",
       "      <td>0</td>\n",
       "      <td>0</td>\n",
       "      <td>0</td>\n",
       "      <td>0</td>\n",
       "      <td>0</td>\n",
       "      <td>0</td>\n",
       "      <td>0</td>\n",
       "      <td>0</td>\n",
       "      <td>0</td>\n",
       "      <td>0</td>\n",
       "      <td>0</td>\n",
       "      <td>0</td>\n",
       "      <td>0</td>\n",
       "      <td>0</td>\n",
       "      <td>0</td>\n",
       "      <td>0</td>\n",
       "      <td>0</td>\n",
       "      <td>0</td>\n",
       "      <td>50</td>\n",
       "      <td>0</td>\n",
       "      <td>0</td>\n",
       "      <td>0</td>\n",
       "      <td>50</td>\n",
       "      <td>0</td>\n",
       "      <td>0</td>\n",
       "      <td>0</td>\n",
       "      <td>0</td>\n",
       "      <td>0</td>\n",
       "    </tr>\n",
       "    <tr>\n",
       "      <th>4845</th>\n",
       "      <td>2022-06-06(W23)</td>\n",
       "      <td>15U50Q</td>\n",
       "      <td>KOREA</td>\n",
       "      <td>EKHQ</td>\n",
       "      <td>15U50Q-G.AR50ML</td>\n",
       "      <td>0</td>\n",
       "      <td>0</td>\n",
       "      <td>0</td>\n",
       "      <td>0</td>\n",
       "      <td>0</td>\n",
       "      <td>0</td>\n",
       "      <td>0</td>\n",
       "      <td>0</td>\n",
       "      <td>0</td>\n",
       "      <td>0</td>\n",
       "      <td>0</td>\n",
       "      <td>0</td>\n",
       "      <td>0</td>\n",
       "      <td>0</td>\n",
       "      <td>0</td>\n",
       "      <td>0</td>\n",
       "      <td>0</td>\n",
       "      <td>0</td>\n",
       "      <td>0</td>\n",
       "      <td>0</td>\n",
       "      <td>0</td>\n",
       "      <td>0</td>\n",
       "      <td>0</td>\n",
       "      <td>0</td>\n",
       "      <td>0</td>\n",
       "      <td>0</td>\n",
       "      <td>0</td>\n",
       "      <td>0</td>\n",
       "      <td>0</td>\n",
       "      <td>0</td>\n",
       "      <td>0</td>\n",
       "      <td>30</td>\n",
       "      <td>0</td>\n",
       "      <td>0</td>\n",
       "      <td>0</td>\n",
       "      <td>0</td>\n",
       "      <td>0</td>\n",
       "      <td>0</td>\n",
       "      <td>0</td>\n",
       "      <td>0</td>\n",
       "      <td>0</td>\n",
       "      <td>0</td>\n",
       "      <td>0</td>\n",
       "      <td>0</td>\n",
       "      <td>0</td>\n",
       "      <td>0</td>\n",
       "      <td>0</td>\n",
       "      <td>0</td>\n",
       "      <td>0</td>\n",
       "      <td>0</td>\n",
       "      <td>0</td>\n",
       "      <td>0</td>\n",
       "      <td>0</td>\n",
       "      <td>0</td>\n",
       "      <td>0</td>\n",
       "      <td>0</td>\n",
       "      <td>0</td>\n",
       "    </tr>\n",
       "    <tr>\n",
       "      <th>4846</th>\n",
       "      <td>2022-06-06(W23)</td>\n",
       "      <td>15U50Q</td>\n",
       "      <td>KOREA</td>\n",
       "      <td>EKHQ</td>\n",
       "      <td>15U50Q-G.AS50ML</td>\n",
       "      <td>0</td>\n",
       "      <td>0</td>\n",
       "      <td>0</td>\n",
       "      <td>0</td>\n",
       "      <td>0</td>\n",
       "      <td>0</td>\n",
       "      <td>0</td>\n",
       "      <td>0</td>\n",
       "      <td>0</td>\n",
       "      <td>0</td>\n",
       "      <td>0</td>\n",
       "      <td>0</td>\n",
       "      <td>0</td>\n",
       "      <td>0</td>\n",
       "      <td>0</td>\n",
       "      <td>0</td>\n",
       "      <td>0</td>\n",
       "      <td>0</td>\n",
       "      <td>0</td>\n",
       "      <td>0</td>\n",
       "      <td>0</td>\n",
       "      <td>0</td>\n",
       "      <td>0</td>\n",
       "      <td>0</td>\n",
       "      <td>0</td>\n",
       "      <td>0</td>\n",
       "      <td>0</td>\n",
       "      <td>0</td>\n",
       "      <td>0</td>\n",
       "      <td>0</td>\n",
       "      <td>0</td>\n",
       "      <td>30</td>\n",
       "      <td>0</td>\n",
       "      <td>0</td>\n",
       "      <td>0</td>\n",
       "      <td>0</td>\n",
       "      <td>0</td>\n",
       "      <td>0</td>\n",
       "      <td>0</td>\n",
       "      <td>0</td>\n",
       "      <td>0</td>\n",
       "      <td>0</td>\n",
       "      <td>0</td>\n",
       "      <td>0</td>\n",
       "      <td>0</td>\n",
       "      <td>0</td>\n",
       "      <td>0</td>\n",
       "      <td>0</td>\n",
       "      <td>0</td>\n",
       "      <td>0</td>\n",
       "      <td>0</td>\n",
       "      <td>0</td>\n",
       "      <td>0</td>\n",
       "      <td>0</td>\n",
       "      <td>0</td>\n",
       "      <td>0</td>\n",
       "      <td>0</td>\n",
       "    </tr>\n",
       "    <tr>\n",
       "      <th>4847</th>\n",
       "      <td>2022-06-06(W23)</td>\n",
       "      <td>15U50Q</td>\n",
       "      <td>KOREA</td>\n",
       "      <td>EKHQ</td>\n",
       "      <td>15UD50Q-G.AX30K</td>\n",
       "      <td>0</td>\n",
       "      <td>0</td>\n",
       "      <td>0</td>\n",
       "      <td>0</td>\n",
       "      <td>0</td>\n",
       "      <td>0</td>\n",
       "      <td>0</td>\n",
       "      <td>0</td>\n",
       "      <td>0</td>\n",
       "      <td>0</td>\n",
       "      <td>0</td>\n",
       "      <td>0</td>\n",
       "      <td>0</td>\n",
       "      <td>0</td>\n",
       "      <td>0</td>\n",
       "      <td>0</td>\n",
       "      <td>0</td>\n",
       "      <td>0</td>\n",
       "      <td>0</td>\n",
       "      <td>0</td>\n",
       "      <td>0</td>\n",
       "      <td>0</td>\n",
       "      <td>0</td>\n",
       "      <td>0</td>\n",
       "      <td>0</td>\n",
       "      <td>0</td>\n",
       "      <td>0</td>\n",
       "      <td>0</td>\n",
       "      <td>0</td>\n",
       "      <td>0</td>\n",
       "      <td>0</td>\n",
       "      <td>200</td>\n",
       "      <td>0</td>\n",
       "      <td>0</td>\n",
       "      <td>100</td>\n",
       "      <td>50</td>\n",
       "      <td>100</td>\n",
       "      <td>50</td>\n",
       "      <td>0</td>\n",
       "      <td>100</td>\n",
       "      <td>50</td>\n",
       "      <td>100</td>\n",
       "      <td>150</td>\n",
       "      <td>50</td>\n",
       "      <td>100</td>\n",
       "      <td>50</td>\n",
       "      <td>50</td>\n",
       "      <td>150</td>\n",
       "      <td>50</td>\n",
       "      <td>50</td>\n",
       "      <td>50</td>\n",
       "      <td>150</td>\n",
       "      <td>0</td>\n",
       "      <td>0</td>\n",
       "      <td>20</td>\n",
       "      <td>80</td>\n",
       "      <td>0</td>\n",
       "    </tr>\n",
       "    <tr>\n",
       "      <th>4848</th>\n",
       "      <td>2022-06-06(W23)</td>\n",
       "      <td>15U50Q</td>\n",
       "      <td>KOREA</td>\n",
       "      <td>EKHQ</td>\n",
       "      <td>15UD50Q-G.AX50K</td>\n",
       "      <td>0</td>\n",
       "      <td>0</td>\n",
       "      <td>0</td>\n",
       "      <td>0</td>\n",
       "      <td>0</td>\n",
       "      <td>0</td>\n",
       "      <td>0</td>\n",
       "      <td>0</td>\n",
       "      <td>0</td>\n",
       "      <td>0</td>\n",
       "      <td>0</td>\n",
       "      <td>0</td>\n",
       "      <td>0</td>\n",
       "      <td>0</td>\n",
       "      <td>0</td>\n",
       "      <td>0</td>\n",
       "      <td>0</td>\n",
       "      <td>0</td>\n",
       "      <td>0</td>\n",
       "      <td>0</td>\n",
       "      <td>0</td>\n",
       "      <td>0</td>\n",
       "      <td>0</td>\n",
       "      <td>0</td>\n",
       "      <td>0</td>\n",
       "      <td>16</td>\n",
       "      <td>0</td>\n",
       "      <td>934</td>\n",
       "      <td>0</td>\n",
       "      <td>0</td>\n",
       "      <td>0</td>\n",
       "      <td>100</td>\n",
       "      <td>0</td>\n",
       "      <td>0</td>\n",
       "      <td>100</td>\n",
       "      <td>150</td>\n",
       "      <td>100</td>\n",
       "      <td>150</td>\n",
       "      <td>0</td>\n",
       "      <td>100</td>\n",
       "      <td>150</td>\n",
       "      <td>100</td>\n",
       "      <td>300</td>\n",
       "      <td>200</td>\n",
       "      <td>150</td>\n",
       "      <td>150</td>\n",
       "      <td>200</td>\n",
       "      <td>350</td>\n",
       "      <td>200</td>\n",
       "      <td>200</td>\n",
       "      <td>200</td>\n",
       "      <td>400</td>\n",
       "      <td>100</td>\n",
       "      <td>200</td>\n",
       "      <td>200</td>\n",
       "      <td>200</td>\n",
       "      <td>0</td>\n",
       "    </tr>\n",
       "  </tbody>\n",
       "</table>\n",
       "<p>141 rows × 62 columns</p>\n",
       "</div>"
      ],
      "text/plain": [
       "             Ref_week  Series Region To Site     Model.Suffix  \\\n",
       "283   2022-01-10(W02)  15U50Q  KOREA    EKHQ           15U50Q   \n",
       "646   2022-01-24(W04)  15U50Q  KOREA    EKHQ   15U50Q-G.AA3IK   \n",
       "647   2022-01-24(W04)  15U50Q  KOREA    EKHQ   15U50Q-G.AA56K   \n",
       "648   2022-01-24(W04)  15U50Q  KOREA    EKHQ   15U50Q-G.AA5IK   \n",
       "649   2022-01-24(W04)  15U50Q  KOREA    EKHQ   15U50Q-G.AR30K   \n",
       "...               ...     ...    ...     ...              ...   \n",
       "4844  2022-06-06(W23)  15U50Q  KOREA    EKHQ   15U50Q-G.AR50K   \n",
       "4845  2022-06-06(W23)  15U50Q  KOREA    EKHQ  15U50Q-G.AR50ML   \n",
       "4846  2022-06-06(W23)  15U50Q  KOREA    EKHQ  15U50Q-G.AS50ML   \n",
       "4847  2022-06-06(W23)  15U50Q  KOREA    EKHQ  15UD50Q-G.AX30K   \n",
       "4848  2022-06-06(W23)  15U50Q  KOREA    EKHQ  15UD50Q-G.AX50K   \n",
       "\n",
       "      2021-11-29(W48)  2021-12-06(W49)  2021-12-13(W50)  2021-12-20(W51)  \\\n",
       "283                 0                0                0                0   \n",
       "646                 0                0                0                0   \n",
       "647                 0                0                0                0   \n",
       "648                 0                0                0                0   \n",
       "649                 0                0                0                0   \n",
       "...               ...              ...              ...              ...   \n",
       "4844                0                0                0                0   \n",
       "4845                0                0                0                0   \n",
       "4846                0                0                0                0   \n",
       "4847                0                0                0                0   \n",
       "4848                0                0                0                0   \n",
       "\n",
       "      2021-12-27(W52)  2022-01-03(W01)  2022-01-10(W02)  2022-01-17(W03)  \\\n",
       "283                 0                0                0                0   \n",
       "646                 0                0                0                0   \n",
       "647                 0                0                0                0   \n",
       "648                 0                0                0                0   \n",
       "649                 0                0                0                0   \n",
       "...               ...              ...              ...              ...   \n",
       "4844                0                0                0                0   \n",
       "4845                0                0                0                0   \n",
       "4846                0                0                0                0   \n",
       "4847                0                0                0                0   \n",
       "4848                0                0                0                0   \n",
       "\n",
       "      2022-01-24(W04)  2022-01-31(W05)  2022-02-07(W06)  2022-02-14(W07)  \\\n",
       "283                 0                0                0                0   \n",
       "646                 0                0                0                0   \n",
       "647                 0                0                0                0   \n",
       "648                 0                0                0                0   \n",
       "649                 0                0                0                0   \n",
       "...               ...              ...              ...              ...   \n",
       "4844                0                0                0                0   \n",
       "4845                0                0                0                0   \n",
       "4846                0                0                0                0   \n",
       "4847                0                0                0                0   \n",
       "4848                0                0                0                0   \n",
       "\n",
       "      2022-02-21(W08)  2022-02-28(W09)  2022-03-07(W10)  2022-03-14(W11)  \\\n",
       "283                 0                0                0                0   \n",
       "646                 0                0                0                0   \n",
       "647                 0                0                0                0   \n",
       "648                 0                0                0                0   \n",
       "649                 0                0                0                0   \n",
       "...               ...              ...              ...              ...   \n",
       "4844                0                0                0                0   \n",
       "4845                0                0                0                0   \n",
       "4846                0                0                0                0   \n",
       "4847                0                0                0                0   \n",
       "4848                0                0                0                0   \n",
       "\n",
       "      2022-03-21(W12)  2022-03-28(W13)  2022-04-04(W14)  2022-04-11(W15)  \\\n",
       "283                 0                0                0                0   \n",
       "646                 0              200              100              100   \n",
       "647                 0                0                0                0   \n",
       "648                 0              600              300              200   \n",
       "649                 0              400              200              200   \n",
       "...               ...              ...              ...              ...   \n",
       "4844                0                0                0                0   \n",
       "4845                0                0                0                0   \n",
       "4846                0                0                0                0   \n",
       "4847                0                0                0                0   \n",
       "4848                0                0                0                0   \n",
       "\n",
       "      2022-04-18(W16)  2022-04-25(W17)  2022-05-02(W18)  2022-05-09(W19)  \\\n",
       "283              4700                0                0                0   \n",
       "646                 0              100                0              100   \n",
       "647                 0              100                0                0   \n",
       "648                 0              300              300              300   \n",
       "649                 0              200              200              200   \n",
       "...               ...              ...              ...              ...   \n",
       "4844                0                0               75                0   \n",
       "4845                0                0                0                0   \n",
       "4846                0                0                0                0   \n",
       "4847                0                0                0                0   \n",
       "4848                0                0                0                0   \n",
       "\n",
       "      2022-05-16(W20)  2022-05-23(W21)  2022-05-30(W22)  2022-06-06(W23)  \\\n",
       "283              6700                0                0                0   \n",
       "646                 0              100                0              100   \n",
       "647                 0              100                0                0   \n",
       "648               200              200              200              200   \n",
       "649               200              100              100              100   \n",
       "...               ...              ...              ...              ...   \n",
       "4844                0               75                0               50   \n",
       "4845                0                0                0                0   \n",
       "4846                0                0                0                0   \n",
       "4847                0                0                0                0   \n",
       "4848                0               16                0              934   \n",
       "\n",
       "      2022-06-13(W24)  2022-06-20(W25)  2022-06-27(W26)  2022-07-04(W27)  \\\n",
       "283                 0             8300                0                0   \n",
       "646                 0              100                0                0   \n",
       "647                 0                0              100                0   \n",
       "648               100              100              100              100   \n",
       "649               100              100              100                0   \n",
       "...               ...              ...              ...              ...   \n",
       "4844                0                0                0                0   \n",
       "4845                0                0                0               30   \n",
       "4846                0                0                0               30   \n",
       "4847                0                0                0              200   \n",
       "4848                0                0                0              100   \n",
       "\n",
       "      2022-07-11(W28)  2022-07-18(W29)  2022-07-25(W30)  2022-08-01(W31)  \\\n",
       "283                 0             9500                0                0   \n",
       "646               100                0                0               16   \n",
       "647                 0                0                0                0   \n",
       "648               100               90              128              128   \n",
       "649               100                0               54               74   \n",
       "...               ...              ...              ...              ...   \n",
       "4844                0                0                0                0   \n",
       "4845                0                0                0                0   \n",
       "4846                0                0                0                0   \n",
       "4847                0                0              100               50   \n",
       "4848                0                0              100              150   \n",
       "\n",
       "      2022-08-08(W32)  2022-08-15(W33)  2022-08-22(W34)  2022-08-29(W35)  \\\n",
       "283                 0             9500                0                0   \n",
       "646                36               36               74               38   \n",
       "647                 0                0               26               16   \n",
       "648               128              128              261              135   \n",
       "649                74               72              148               77   \n",
       "...               ...              ...              ...              ...   \n",
       "4844                0                0                0                0   \n",
       "4845                0                0                0                0   \n",
       "4846                0                0                0                0   \n",
       "4847              100               50                0              100   \n",
       "4848              100              150                0              100   \n",
       "\n",
       "      2022-09-05(W36)  2022-09-12(W37)  2022-09-19(W38)  2022-09-26(W39)  \\\n",
       "283                 0             8500                0                0   \n",
       "646                38               38               37                0   \n",
       "647                15               14               14                0   \n",
       "648               134              132              132                0   \n",
       "649                76               76               75                0   \n",
       "...               ...              ...              ...              ...   \n",
       "4844                0                0                0                0   \n",
       "4845                0                0                0                0   \n",
       "4846                0                0                0                0   \n",
       "4847               50              100              150               50   \n",
       "4848              150              100              300              200   \n",
       "\n",
       "      2022-10-03(W40)  2022-10-10(W41)  2022-10-17(W42)  2022-10-24(W43)  \\\n",
       "283                 0                0                0                0   \n",
       "646                 0                0                0                0   \n",
       "647                 0                0                0                0   \n",
       "648                 0                0                0                0   \n",
       "649                 0                0                0                0   \n",
       "...               ...              ...              ...              ...   \n",
       "4844                0                0                0               50   \n",
       "4845                0                0                0                0   \n",
       "4846                0                0                0                0   \n",
       "4847              100               50               50              150   \n",
       "4848              150              150              200              350   \n",
       "\n",
       "      2022-10-31(W44)  2022-11-07(W45)  2022-11-14(W46)  2022-11-21(W47)  \\\n",
       "283                 0                0                0                0   \n",
       "646                 0                0                0                0   \n",
       "647                 0                0                0                0   \n",
       "648                 0                0                0                0   \n",
       "649                 0                0                0                0   \n",
       "...               ...              ...              ...              ...   \n",
       "4844                0                0                0               50   \n",
       "4845                0                0                0                0   \n",
       "4846                0                0                0                0   \n",
       "4847               50               50               50              150   \n",
       "4848              200              200              200              400   \n",
       "\n",
       "      2022-11-28(W48)  2022-12-05(W49)  2022-12-12(W50)  2022-12-19(W51)  \\\n",
       "283                 0                0                0                0   \n",
       "646                 0                0                0                0   \n",
       "647                 0                0                0                0   \n",
       "648                 0                0                0                0   \n",
       "649                 0                0                0                0   \n",
       "...               ...              ...              ...              ...   \n",
       "4844                0                0                0                0   \n",
       "4845                0                0                0                0   \n",
       "4846                0                0                0                0   \n",
       "4847                0                0               20               80   \n",
       "4848              100              200              200              200   \n",
       "\n",
       "      2022-12-26(W52)  \n",
       "283                 0  \n",
       "646                 0  \n",
       "647                 0  \n",
       "648                 0  \n",
       "649                 0  \n",
       "...               ...  \n",
       "4844                0  \n",
       "4845                0  \n",
       "4846                0  \n",
       "4847                0  \n",
       "4848                0  \n",
       "\n",
       "[141 rows x 62 columns]"
      ]
     },
     "execution_count": 10,
     "metadata": {},
     "output_type": "execute_result"
    }
   ],
   "source": [
    "df[cond1]"
   ]
  },
  {
   "cell_type": "code",
   "execution_count": 4,
   "id": "664543da",
   "metadata": {},
   "outputs": [],
   "source": [
    "df_sum = monthly_sum(df, ['Ref_week', 'Series', 'Nation', 'Model.Suffix'])"
   ]
  },
  {
   "cell_type": "code",
   "execution_count": 5,
   "id": "94e38b6d",
   "metadata": {},
   "outputs": [],
   "source": [
    "df_sum['Sum'] = df_sum.sum(axis=1)\n",
    "df_sum.to_excel('D:/Python result/Quanta Forecast waterfall.xlsx', merge_cells=False)"
   ]
  },
  {
   "cell_type": "markdown",
   "id": "c89c337f",
   "metadata": {},
   "source": [
    "### Pegatron Forecast"
   ]
  },
  {
   "cell_type": "code",
   "execution_count": 3,
   "id": "c03e742e",
   "metadata": {},
   "outputs": [],
   "source": [
    "thisweek = get_weekname(datetime.date.today())"
   ]
  },
  {
   "cell_type": "code",
   "execution_count": 4,
   "id": "cc732894",
   "metadata": {},
   "outputs": [],
   "source": [
    "with open('D:/Data/Pegatron forecast.bin', 'rb') as f:\n",
    "    df = pickle.load(f)"
   ]
  },
  {
   "cell_type": "code",
   "execution_count": 29,
   "id": "1ec21342",
   "metadata": {},
   "outputs": [],
   "source": [
    "df_sum = monthly_sum(df, ['Ref_week', 'Series', 'Nation'])\n",
    "df_sum['Sum'] = df_sum.sum(axis=1)"
   ]
  },
  {
   "cell_type": "code",
   "execution_count": 30,
   "id": "d70e0a3f",
   "metadata": {},
   "outputs": [],
   "source": [
    "df_sum.to_excel('D:/Python result/Pegatron Forecast waterfall.xlsx', merge_cells=False)"
   ]
  },
  {
   "cell_type": "code",
   "execution_count": 28,
   "id": "a1329e36",
   "metadata": {},
   "outputs": [],
   "source": [
    "with open('D:/Data/Pegatron forecast.bin', 'wb') as f:\n",
    "    pickle.dump(df, f)"
   ]
  }
 ],
 "metadata": {
  "kernelspec": {
   "display_name": "Python 3 (ipykernel)",
   "language": "python",
   "name": "python3"
  },
  "language_info": {
   "codemirror_mode": {
    "name": "ipython",
    "version": 3
   },
   "file_extension": ".py",
   "mimetype": "text/x-python",
   "name": "python",
   "nbconvert_exporter": "python",
   "pygments_lexer": "ipython3",
   "version": "3.10.9"
  }
 },
 "nbformat": 4,
 "nbformat_minor": 5
}
