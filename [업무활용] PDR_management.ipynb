{
 "cells": [
  {
   "cell_type": "code",
   "execution_count": 1,
   "id": "e64298fa",
   "metadata": {},
   "outputs": [],
   "source": [
    "from tool import *\n",
    "from tqdm import tqdm"
   ]
  },
  {
   "cell_type": "code",
   "execution_count": 7,
   "id": "bd0f791d",
   "metadata": {
    "scrolled": true
   },
   "outputs": [
    {
     "name": "stderr",
     "output_type": "stream",
     "text": [
      "100%|██████████████████████████████████████████████████████████████████████████████████| 16/16 [03:36<00:00, 13.52s/it]"
     ]
    },
    {
     "name": "stdout",
     "output_type": "stream",
     "text": [
      "Updated Time : 2023-04-27-09:17\n"
     ]
    },
    {
     "name": "stderr",
     "output_type": "stream",
     "text": [
      "\n"
     ]
    }
   ],
   "source": [
    "os.chdir('D:/Quanta/Quanta PDR') # PDR 이 저장되어 있는 폴더로 이동\n",
    "dr_list = os.listdir() # PDR 폴더내의 각 모델별 하위 폴더들을 리스트로 저장\n",
    "\n",
    "# PDR 디렉토리 하위 디렉토리를 차례로 돌면서 가장 최근의 PDR 파일로 대표모델의 전체 Suffix에 대해 PDR 정보를 데이티프레임화한후, CSV로 저장함\n",
    "for dr in tqdm(dr_list):\n",
    "    os.chdir('D:/Quanta/Quanta PDR/'+dr)\n",
    "    filelist = os.listdir()\n",
    "    df = make_all_PDR_data_from_certain_model(filelist[-1]) # 각 모델별 폴더의 가장 마지막 파일(가장 최신 파일)에서 PDR 정보를 만듬\n",
    "#     df.to_csv('D:/Python result/Quanta PDRDB/'+dr+'.csv', encoding = 'cp949')\n",
    "    df.to_csv('D:/Python result/Quanta PDRDB/'+dr+'.csv')\n",
    "print(f\"Updated Time : {datetime.datetime.today().strftime('%Y-%m-%d-%H:%M')}\")"
   ]
  },
  {
   "cell_type": "code",
   "execution_count": 8,
   "id": "30db738a",
   "metadata": {},
   "outputs": [
    {
     "name": "stderr",
     "output_type": "stream",
     "text": [
      "100%|██████████████████████████████████████████████████████████████████████████████████| 16/16 [00:00<00:00, 41.39it/s]\n"
     ]
    }
   ],
   "source": [
    "df = pd.DataFrame()\n",
    "os.chdir('D:/Python result/Quanta PDRDB/')\n",
    "filelist = os.listdir()\n",
    "for file in tqdm(filelist):\n",
    "#     temp = pd.read_csv(file, encoding='cp949')\n",
    "    temp = pd.read_csv(file)\n",
    "    df = pd.concat([df, temp])\n",
    "\n",
    "df.insert(0, 'Model', df['Model.Suffix'].apply(lambda x:x.split('-')[0]))\n",
    "df.insert(0, 'Series', df['Model'].replace(srt_model))\n",
    "df.reset_index(inplace=True, drop=True)\n",
    "df.to_excel('D:/Python result/Quanta PDR database.xlsx', index=False)"
   ]
  },
  {
   "cell_type": "markdown",
   "id": "1a67a655",
   "metadata": {},
   "source": [
    "### 신규 PDR을 기존 PDR 엑셀파일에 추가"
   ]
  },
  {
   "cell_type": "code",
   "execution_count": 2,
   "id": "28886873",
   "metadata": {},
   "outputs": [],
   "source": [
    "import win32com.client"
   ]
  },
  {
   "cell_type": "code",
   "execution_count": 3,
   "id": "1629facc",
   "metadata": {},
   "outputs": [],
   "source": [
    "excel = win32com.client.Dispatch('Excel.Application')\n",
    "excel.Visible = True"
   ]
  },
  {
   "cell_type": "code",
   "execution_count": 4,
   "id": "e5072df4",
   "metadata": {
    "scrolled": false
   },
   "outputs": [
    {
     "data": {
      "text/plain": [
       "['PDR DETAIL(15U40Q-G AA5HK).xlsx', 'PDR DETAIL(15U40Q-G AR5MK).xlsx']"
      ]
     },
     "execution_count": 4,
     "metadata": {},
     "output_type": "execute_result"
    }
   ],
   "source": [
    "os.chdir('D:/Downloads/PDRs') # 복사할 PDR이 들어있는 폴더로 이동한 후 PDR 파일을 리스트로 만듬\n",
    "copy_list = os.listdir()\n",
    "copy_list"
   ]
  },
  {
   "cell_type": "code",
   "execution_count": 5,
   "id": "e37df24b",
   "metadata": {},
   "outputs": [],
   "source": [
    "def change_model_name(name):\n",
    "    try:\n",
    "        return srt_model[name]\n",
    "    except:\n",
    "        return name"
   ]
  },
  {
   "cell_type": "code",
   "execution_count": 6,
   "id": "843bcee9",
   "metadata": {},
   "outputs": [],
   "source": [
    "for i, file in enumerate(copy_list):\n",
    "    wb1 = excel.Workbooks.Open('D:/Downloads/PDRs' + '/' + copy_list[i])\n",
    "    ws1 = wb1.Activesheet\n",
    "    folder_name = change_model_name(copy_list[i].split(' ')[1].split('(')[1].split('-')[0]) +'_' + supplier_model_map[change_model_name(copy_list[i].split(' ')[1].split('(')[1].split('-')[0])]\n",
    "    file_path = 'D:/Quanta/Quanta PDR/' + folder_name\n",
    "    os.chdir(file_path)\n",
    "    filename2 = os.listdir()[-1]\n",
    "    wb2 = excel.Workbooks.Open(file_path + '/' + filename2)\n",
    "    ws1.Copy(Before=wb2.Worksheets('List'))\n",
    "    wb1.Close()\n",
    "    wb2.Close()"
   ]
  },
  {
   "cell_type": "code",
   "execution_count": null,
   "id": "8bf83ee9",
   "metadata": {},
   "outputs": [],
   "source": []
  }
 ],
 "metadata": {
  "kernelspec": {
   "display_name": "Python 3 (ipykernel)",
   "language": "python",
   "name": "python3"
  },
  "language_info": {
   "codemirror_mode": {
    "name": "ipython",
    "version": 3
   },
   "file_extension": ".py",
   "mimetype": "text/x-python",
   "name": "python",
   "nbconvert_exporter": "python",
   "pygments_lexer": "ipython3",
   "version": "3.10.9"
  }
 },
 "nbformat": 4,
 "nbformat_minor": 5
}
