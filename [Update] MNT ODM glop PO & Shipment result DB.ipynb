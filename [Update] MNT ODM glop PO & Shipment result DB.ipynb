{
 "cells": [
  {
   "cell_type": "code",
   "execution_count": 1,
   "id": "c54742d5",
   "metadata": {},
   "outputs": [],
   "source": [
    "from tool import *\n",
    "import pyautogui\n",
    "import sys\n",
    "\n",
    "# general options\n",
    "pd.set_option('display.max_columns',100)\n",
    "pd.set_option('display.max_rows',100)"
   ]
  },
  {
   "cell_type": "markdown",
   "id": "221fc516",
   "metadata": {},
   "source": [
    "## PO DB 업데이트"
   ]
  },
  {
   "cell_type": "code",
   "execution_count": 2,
   "id": "4625dde4",
   "metadata": {},
   "outputs": [
    {
     "name": "stdout",
     "output_type": "stream",
     "text": [
      "D:/Downloads/poshThru_20230905091210.xls\n"
     ]
    }
   ],
   "source": [
    "filepath = 'D:/Downloads/' + [file for file in os.listdir('D:/Downloads/') if 'poshThru' in file][-1] # 파일이름에 poshThru가 들어가는 파일 중에 가장 최신 파일을 선택함\n",
    "print(filepath)\n",
    "df = pd.read_excel(filepath, sheet_name='DataSet').iloc[:, :48]\n",
    "df = df[['Model', 'PO No.', 'Ship To', 'Shipping', 'Cancel', 'PO', 'OQC Report', 'OQC Date', 'OQC Result', 'Ship', 'Issued Date', 'RSD','Ship Date', 'BL No', 'BL Status', 'Method', 'Price Term', 'Unit Price', 'Currency', 'Payment Term', 'PO1 No', 'SO No.', 'Final Destination']]\n",
    "df.loc[df['PO1 No'].notnull(), 'PO1 No'] = df.loc[df['PO1 No'].notnull(),'PO1 No'].astype('int').astype('str')\n",
    "df.loc[df['SO No.'].notnull(), 'SO No.'] = df.loc[df['SO No.'].notnull(), 'SO No.'].astype('int').astype('str')\n",
    "df['Ship'].fillna(0, inplace=True)\n",
    "df['Ship'] = df['Ship'].astype('int')\n",
    "df['Issued Date'] = pd.to_datetime(df['Issued Date'])\n",
    "df['RSD'] = pd.to_datetime(df['RSD']) # PO의 RSD를 Datetime 형식으로 변경\n",
    "df.rename(columns={'Model':'Mapping Model.Suffix', 'Ship To':'To Site'}, inplace=True)\n",
    "df1 = df.groupby(['PO No.', 'Cancel', 'Issued Date', 'Mapping Model.Suffix', 'To Site', 'RSD', 'Method', 'Price Term', 'Unit Price', 'Currency', 'Payment Term', 'PO1 No', 'SO No.', 'Final Destination'], dropna=False)[['PO']].sum().reset_index().set_index('PO No.')"
   ]
  },
  {
   "cell_type": "code",
   "execution_count": 3,
   "id": "49dccb1a",
   "metadata": {},
   "outputs": [],
   "source": [
    "with open('D:/Data/TCL PO.db', 'rb') as f:\n",
    "    po_db = pickle.load(f)"
   ]
  },
  {
   "cell_type": "code",
   "execution_count": 4,
   "id": "db1a2edc",
   "metadata": {},
   "outputs": [],
   "source": [
    "po_db1 = po_db.copy()"
   ]
  },
  {
   "cell_type": "code",
   "execution_count": 5,
   "id": "bb691459",
   "metadata": {},
   "outputs": [
    {
     "data": {
      "text/plain": [
       "21"
      ]
     },
     "execution_count": 5,
     "metadata": {},
     "output_type": "execute_result"
    }
   ],
   "source": [
    "prev_po = po_db.shape[0]\n",
    "prev_po"
   ]
  },
  {
   "cell_type": "code",
   "execution_count": 6,
   "id": "da9f024d",
   "metadata": {},
   "outputs": [],
   "source": [
    "for i in df1.index:\n",
    "    po_db.loc[i, :] = df1.loc[i, :]"
   ]
  },
  {
   "cell_type": "code",
   "execution_count": 7,
   "id": "1481037f",
   "metadata": {},
   "outputs": [
    {
     "data": {
      "text/plain": [
       "21"
      ]
     },
     "execution_count": 7,
     "metadata": {},
     "output_type": "execute_result"
    }
   ],
   "source": [
    "updated_po = po_db.shape[0]\n",
    "updated_po"
   ]
  },
  {
   "cell_type": "code",
   "execution_count": 8,
   "id": "03d71e6a",
   "metadata": {},
   "outputs": [],
   "source": [
    "add_po = po_db.drop(index=po_db1.index)"
   ]
  },
  {
   "cell_type": "code",
   "execution_count": 9,
   "id": "42bab5a1",
   "metadata": {},
   "outputs": [
    {
     "name": "stdout",
     "output_type": "stream",
     "text": [
      "TCL의 PO DB를 업데이트 하였습니다. PO는 0 건 추가 되었습니다. \n"
     ]
    },
    {
     "data": {
      "text/html": [
       "<div>\n",
       "<style scoped>\n",
       "    .dataframe tbody tr th:only-of-type {\n",
       "        vertical-align: middle;\n",
       "    }\n",
       "\n",
       "    .dataframe tbody tr th {\n",
       "        vertical-align: top;\n",
       "    }\n",
       "\n",
       "    .dataframe thead th {\n",
       "        text-align: right;\n",
       "    }\n",
       "</style>\n",
       "<table border=\"1\" class=\"dataframe\">\n",
       "  <thead>\n",
       "    <tr style=\"text-align: right;\">\n",
       "      <th>RSD Week</th>\n",
       "      <th>PO No.</th>\n",
       "      <th>To Site</th>\n",
       "      <th>Mapping Model.Suffix</th>\n",
       "    </tr>\n",
       "  </thead>\n",
       "  <tbody>\n",
       "  </tbody>\n",
       "</table>\n",
       "</div>"
      ],
      "text/plain": [
       "Empty DataFrame\n",
       "Columns: [PO No., To Site, Mapping Model.Suffix]\n",
       "Index: []"
      ]
     },
     "execution_count": 9,
     "metadata": {},
     "output_type": "execute_result"
    }
   ],
   "source": [
    "print(f\"TCL의 PO DB를 업데이트 하였습니다. PO는 {updated_po - prev_po} 건 추가 되었습니다. \")\n",
    "add_po['RSD Week'] = add_po['RSD'].map(get_weekname)\n",
    "add_po.pivot_table('PO', index=['PO No.', 'To Site', 'Mapping Model.Suffix'], columns='RSD Week', aggfunc=sum).reset_index()"
   ]
  },
  {
   "cell_type": "code",
   "execution_count": 10,
   "id": "68c90c14",
   "metadata": {},
   "outputs": [],
   "source": [
    "with open('D:/Data/TCL PO.db', 'wb') as f:\n",
    "    pickle.dump(po_db, f)\n",
    "with open('D:/Data/DB backup/TCL PO.db', 'wb') as f: # PO DB 백업용\n",
    "    pickle.dump(po_db, f)"
   ]
  },
  {
   "cell_type": "markdown",
   "id": "4ddc6316",
   "metadata": {},
   "source": [
    "## Shipment result DB 업데이트"
   ]
  },
  {
   "cell_type": "code",
   "execution_count": 12,
   "id": "cdbca351",
   "metadata": {},
   "outputs": [],
   "source": [
    "with open('D:/Data/TCL shipment result.db', 'rb') as f:\n",
    "    SR_df = pickle.load(f)\n",
    "SR_df1 = SR_df.copy()\n",
    "df = df[df['Ship Date'].notnull()]\n",
    "df['Ship Date'] = pd.to_datetime(df['Ship Date'])\n",
    "df = df.set_index(['PO No.', 'BL No'])\n",
    "\n",
    "prev_sr = SR_df.shape[0]\n",
    "for i in df.index:\n",
    "    SR_df.loc[i, :] = df.loc[i, :]\n",
    "updated_sr = SR_df.shape[0]"
   ]
  },
  {
   "cell_type": "code",
   "execution_count": 13,
   "id": "ad70e82c",
   "metadata": {},
   "outputs": [],
   "source": [
    "PO = po_db[po_db['Cancel']=='N']\n",
    "df = pd.concat([po_db[po_db['Cancel'] == 'N']['PO'], SR_df.groupby('PO No.').sum('Ship')['Ship']], axis=1)\n",
    "df.fillna(0, inplace=True)\n",
    "df['Open'] = df['PO'] - df['Ship']"
   ]
  },
  {
   "cell_type": "code",
   "execution_count": 14,
   "id": "4f4ff21f",
   "metadata": {},
   "outputs": [
    {
     "name": "stdout",
     "output_type": "stream",
     "text": [
      "TCL의 SR DB를 업데이트 하였습니다. 선적은 0 건 추가 되었습니다. \n"
     ]
    }
   ],
   "source": [
    "if df[df['Open'] < 0].shape[0] > 0:\n",
    "    print(df)\n",
    "    sys.exit()\n",
    "else:\n",
    "    with open('D:/Data/TCL shipment result.db', 'wb') as f:\n",
    "        pickle.dump(SR_df, f)\n",
    "    with open('D:/Data/DB backup/TCL shipment result.db', 'wb') as f:\n",
    "        pickle.dump(SR_df, f)\n",
    "    print(f\"TCL의 SR DB를 업데이트 하였습니다. 선적은 {updated_sr - prev_sr} 건 추가 되었습니다. \")"
   ]
  },
  {
   "cell_type": "code",
   "execution_count": 15,
   "id": "460a7f93",
   "metadata": {},
   "outputs": [],
   "source": [
    "with open('D:/Data/sitemap.db', 'rb') as f:\n",
    "    sitemap = pickle.load(f)"
   ]
  },
  {
   "cell_type": "code",
   "execution_count": 16,
   "id": "997a4096",
   "metadata": {
    "scrolled": false
   },
   "outputs": [
    {
     "name": "stdout",
     "output_type": "stream",
     "text": [
      "No shipment added\n"
     ]
    }
   ],
   "source": [
    "add_sr = SR_df.drop(index=SR_df1.index)\n",
    "if add_sr.shape[0] == 0:\n",
    "    print('No shipment added')\n",
    "else:\n",
    "    add_sr = pd.merge(add_sr.reset_index(), sitemap[['To Site', 'Region', 'Country']], how='left')\n",
    "    add_sr['Ship Week'] = add_sr['Ship Date'].map(get_weekname)\n",
    "    print(add_sr.pivot_table('Ship', index=['Region', 'Country', 'BL No', 'Mapping Model.Suffix', 'PO No.'], columns=['Ship Week', 'Ship Date'], aggfunc=sum).fillna(0)) # 추가된 선적 실적"
   ]
  },
  {
   "cell_type": "code",
   "execution_count": null,
   "id": "cd3f6097",
   "metadata": {},
   "outputs": [],
   "source": []
  },
  {
   "cell_type": "code",
   "execution_count": null,
   "id": "0af85fc5",
   "metadata": {},
   "outputs": [],
   "source": []
  }
 ],
 "metadata": {
  "kernelspec": {
   "display_name": "Python 3 (ipykernel)",
   "language": "python",
   "name": "python3"
  },
  "language_info": {
   "codemirror_mode": {
    "name": "ipython",
    "version": 3
   },
   "file_extension": ".py",
   "mimetype": "text/x-python",
   "name": "python",
   "nbconvert_exporter": "python",
   "pygments_lexer": "ipython3",
   "version": "3.10.9"
  }
 },
 "nbformat": 4,
 "nbformat_minor": 5
}
