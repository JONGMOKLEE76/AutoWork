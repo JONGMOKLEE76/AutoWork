{
 "cells": [
  {
   "cell_type": "markdown",
   "id": "30321fcc",
   "metadata": {},
   "source": [
    "# ODM 선적 실적 보기"
   ]
  },
  {
   "cell_type": "code",
   "execution_count": 1,
   "id": "f48b18da",
   "metadata": {},
   "outputs": [],
   "source": [
    "from tool import *"
   ]
  },
  {
   "cell_type": "code",
   "execution_count": 2,
   "id": "da7e3662",
   "metadata": {},
   "outputs": [],
   "source": [
    "# general options\n",
    "pd.set_option('display.max_columns',100)\n",
    "pd.set_option('display.max_rows',50)"
   ]
  },
  {
   "cell_type": "markdown",
   "id": "6ac5836b",
   "metadata": {},
   "source": [
    "# 검색조건 설정"
   ]
  },
  {
   "cell_type": "code",
   "execution_count": 3,
   "id": "16ae8f88",
   "metadata": {},
   "outputs": [],
   "source": [
    "today = datetime.date.today()\n",
    "vendor = 'Quanta'\n",
    "model = '.'\n",
    "ship_year = '2023'\n",
    "ship_month = '2'\n",
    "buyer= '.'\n",
    "week = '.'\n",
    "region = '.'\n",
    "country = '.'\n",
    "bl = '.'\n",
    "bl_status = '.'"
   ]
  },
  {
   "cell_type": "code",
   "execution_count": 4,
   "id": "6b227cbe",
   "metadata": {},
   "outputs": [],
   "source": [
    "with open(f'D:/Data/{vendor} shipment result DB.bin', 'rb') as f:\n",
    "     SR_df = pickle.load(f)\n",
    "SR_df.reset_index(inplace=True)"
   ]
  },
  {
   "cell_type": "code",
   "execution_count": 5,
   "id": "7f370e9c",
   "metadata": {},
   "outputs": [],
   "source": [
    "cond1 = SR_df['Mapping Model.Suffix'].str.contains(model, na=True)\n",
    "cond2 = SR_df['Ship Week year'].astype(str).str.contains(ship_year, na=True)\n",
    "cond3 = SR_df['Ship Month'].astype(str).str.contains(ship_month, na=True)\n",
    "cond4 = SR_df['Ship To'].str.contains(buyer, na=True)\n",
    "cond5 = SR_df['Week Name'].str.contains(week)\n",
    "cond6 = SR_df['Country'].str.contains(country, na=True)\n",
    "cond7 = SR_df['BL No'].astype(str).str.contains(bl, na=True)\n",
    "cond8 = SR_df['Region'].str.contains(region, na=True)\n",
    "cond9 = SR_df['BL Status'].str.contains(bl_status, na=True)"
   ]
  },
  {
   "cell_type": "markdown",
   "id": "8a0dc8a1",
   "metadata": {},
   "source": [
    "## 임시함수 작성"
   ]
  },
  {
   "cell_type": "code",
   "execution_count": 9,
   "id": "934c1bca",
   "metadata": {},
   "outputs": [],
   "source": [
    "# 매출화 요청시 대상 리스트 출력\n",
    "SR_df[cond1 & cond2 & cond3 & cond4 & cond5 & cond6 & cond7 & cond8 & cond9].pivot_table(\n",
    "    'Ship', index=['Country', 'Ship To', 'Mapping Model.Suffix', 'PO No.', 'BL No', 'Ship Date', 'PO1 No', 'SO No.', 'Final Destination', 'BL Status'],\n",
    "    aggfunc=sum).to_clipboard()"
   ]
  },
  {
   "cell_type": "code",
   "execution_count": 10,
   "id": "13ace7c7",
   "metadata": {},
   "outputs": [],
   "source": [
    "SR_df[cond1 & cond2 & cond3 & cond4 & cond5 & cond6 & cond7 & cond8].pivot_table('Ship', index=['Country', 'Mapping Model.Suffix' ], columns=['Ship Year', 'Ship Month', 'Week Name'], aggfunc=sum, margins=True).to_clipboard()"
   ]
  },
  {
   "cell_type": "code",
   "execution_count": 11,
   "id": "195e21d6",
   "metadata": {},
   "outputs": [
    {
     "data": {
      "text/plain": [
       "Index(['PO No.', 'BL No', 'Mapping Model.Suffix', 'Ship To', 'Shipping',\n",
       "       'Cancel', 'PO', 'OQC Report', 'OQC Date', 'OQC Result', 'Ship',\n",
       "       'Issued Date', 'RSD', 'Ship Date', 'BL Status', 'Method', 'Price Term',\n",
       "       'Unit Price', 'Currency', 'Payment Term', 'PO1 No', 'SO No.',\n",
       "       'Final Destination', 'PO Week', 'PO Month', 'PO Year', 'RSD Week',\n",
       "       'RSD Month', 'RSD Year', 'RSD Week Year', 'RSD Week Month',\n",
       "       'RSD Week Day', 'RSD Week Name', 'Country', 'Region', 'Ship Week',\n",
       "       'Ship Month', 'Ship Year', 'Ship Week month', 'Ship Week day',\n",
       "       'Ship Week year', 'Week Name'],\n",
       "      dtype='object')"
      ]
     },
     "execution_count": 11,
     "metadata": {},
     "output_type": "execute_result"
    }
   ],
   "source": [
    "SR_df.columns"
   ]
  },
  {
   "cell_type": "code",
   "execution_count": 12,
   "id": "f9f671d6",
   "metadata": {
    "scrolled": true
   },
   "outputs": [
    {
     "data": {
      "text/html": [
       "<div>\n",
       "<style scoped>\n",
       "    .dataframe tbody tr th:only-of-type {\n",
       "        vertical-align: middle;\n",
       "    }\n",
       "\n",
       "    .dataframe tbody tr th {\n",
       "        vertical-align: top;\n",
       "    }\n",
       "\n",
       "    .dataframe thead th {\n",
       "        text-align: right;\n",
       "    }\n",
       "</style>\n",
       "<table border=\"1\" class=\"dataframe\">\n",
       "  <thead>\n",
       "    <tr style=\"text-align: right;\">\n",
       "      <th></th>\n",
       "      <th></th>\n",
       "      <th></th>\n",
       "      <th></th>\n",
       "      <th></th>\n",
       "      <th>Ship Month</th>\n",
       "      <th>10.0</th>\n",
       "    </tr>\n",
       "    <tr>\n",
       "      <th>Country</th>\n",
       "      <th>Ship To</th>\n",
       "      <th>Mapping Model.Suffix</th>\n",
       "      <th>PO No.</th>\n",
       "      <th>BL No</th>\n",
       "      <th>Ship Date</th>\n",
       "      <th></th>\n",
       "    </tr>\n",
       "  </thead>\n",
       "  <tbody>\n",
       "    <tr>\n",
       "      <th rowspan=\"2\" valign=\"top\">Spain</th>\n",
       "      <th rowspan=\"2\" valign=\"top\">EEES</th>\n",
       "      <th rowspan=\"2\" valign=\"top\">PH30N.AEUQ</th>\n",
       "      <th>JGMZ22024435</th>\n",
       "      <th>PLISZ2D01194</th>\n",
       "      <th>2022-10-30</th>\n",
       "      <td>100.0</td>\n",
       "    </tr>\n",
       "    <tr>\n",
       "      <th>JGMZ22024938</th>\n",
       "      <th>PLISZ2D01194</th>\n",
       "      <th>2022-10-30</th>\n",
       "      <td>100.0</td>\n",
       "    </tr>\n",
       "  </tbody>\n",
       "</table>\n",
       "</div>"
      ],
      "text/plain": [
       "Ship Month                                                                  10.0\n",
       "Country Ship To Mapping Model.Suffix PO No.       BL No        Ship Date        \n",
       "Spain   EEES    PH30N.AEUQ           JGMZ22024435 PLISZ2D01194 2022-10-30  100.0\n",
       "                                     JGMZ22024938 PLISZ2D01194 2022-10-30  100.0"
      ]
     },
     "execution_count": 12,
     "metadata": {},
     "output_type": "execute_result"
    }
   ],
   "source": [
    "SR_df[cond1 & cond2 & cond3 & cond4 & cond5 & cond6 & cond7 & cond8].pivot_table('Ship', index=['Country', 'Ship To', 'Mapping Model.Suffix', 'PO No.', 'BL No', 'Ship Date'], columns='Ship Month', aggfunc=sum)"
   ]
  },
  {
   "cell_type": "code",
   "execution_count": 16,
   "id": "8de33b08",
   "metadata": {},
   "outputs": [],
   "source": [
    "SR_df['Amt'] = SR_df['Unit Price'] * SR_df['Ship']"
   ]
  },
  {
   "cell_type": "code",
   "execution_count": 17,
   "id": "01a1183c",
   "metadata": {},
   "outputs": [
    {
     "data": {
      "text/html": [
       "<div>\n",
       "<style scoped>\n",
       "    .dataframe tbody tr th:only-of-type {\n",
       "        vertical-align: middle;\n",
       "    }\n",
       "\n",
       "    .dataframe tbody tr th {\n",
       "        vertical-align: top;\n",
       "    }\n",
       "\n",
       "    .dataframe thead tr th {\n",
       "        text-align: left;\n",
       "    }\n",
       "\n",
       "    .dataframe thead tr:last-of-type th {\n",
       "        text-align: right;\n",
       "    }\n",
       "</style>\n",
       "<table border=\"1\" class=\"dataframe\">\n",
       "  <thead>\n",
       "    <tr>\n",
       "      <th></th>\n",
       "      <th>2022</th>\n",
       "      <th>All</th>\n",
       "    </tr>\n",
       "    <tr>\n",
       "      <th></th>\n",
       "      <th>10.0</th>\n",
       "      <th></th>\n",
       "    </tr>\n",
       "    <tr>\n",
       "      <th></th>\n",
       "      <th>2022-10-10(W41)</th>\n",
       "      <th></th>\n",
       "    </tr>\n",
       "    <tr>\n",
       "      <th>Mapping Model.Suffix</th>\n",
       "      <th></th>\n",
       "      <th></th>\n",
       "    </tr>\n",
       "  </thead>\n",
       "  <tbody>\n",
       "    <tr>\n",
       "      <th>PH30N.AEUQ</th>\n",
       "      <td>9029.72</td>\n",
       "      <td>9029.72</td>\n",
       "    </tr>\n",
       "    <tr>\n",
       "      <th>All</th>\n",
       "      <td>9029.72</td>\n",
       "      <td>9029.72</td>\n",
       "    </tr>\n",
       "  </tbody>\n",
       "</table>\n",
       "</div>"
      ],
      "text/plain": [
       "                                2022      All\n",
       "                                10.0         \n",
       "                     2022-10-10(W41)         \n",
       "Mapping Model.Suffix                         \n",
       "PH30N.AEUQ                   9029.72  9029.72\n",
       "All                          9029.72  9029.72"
      ]
     },
     "execution_count": 17,
     "metadata": {},
     "output_type": "execute_result"
    }
   ],
   "source": [
    "SR_df[cond1 & cond2 & cond3 & cond4 & cond5 & cond6 & cond7 & cond8].pivot_table('Amt', index='Mapping Model.Suffix', columns=['Ship Year', 'Ship Month', 'Week Name'], aggfunc=sum, margins=True).fillna(0).convert_dtypes()"
   ]
  },
  {
   "cell_type": "code",
   "execution_count": null,
   "id": "92915b18",
   "metadata": {},
   "outputs": [],
   "source": []
  },
  {
   "cell_type": "markdown",
   "id": "be408dfc",
   "metadata": {},
   "source": [
    "# 조회"
   ]
  },
  {
   "cell_type": "code",
   "execution_count": 18,
   "id": "3fe8b711",
   "metadata": {},
   "outputs": [],
   "source": [
    "with open(f'D:/Data/{vendor} shipment result DB.bin', 'rb') as f:\n",
    "     SR_df = pickle.load(f)"
   ]
  },
  {
   "cell_type": "code",
   "execution_count": 19,
   "id": "e5ee2e1a",
   "metadata": {},
   "outputs": [
    {
     "ename": "KeyError",
     "evalue": "'JPCZ22006821'",
     "output_type": "error",
     "traceback": [
      "\u001b[1;31m---------------------------------------------------------------------------\u001b[0m",
      "\u001b[1;31mKeyError\u001b[0m                                  Traceback (most recent call last)",
      "\u001b[1;32mC:\\Python\\Python39\\lib\\site-packages\\pandas\\core\\indexes\\base.py\u001b[0m in \u001b[0;36mget_loc\u001b[1;34m(self, key, method, tolerance)\u001b[0m\n\u001b[0;32m   3360\u001b[0m             \u001b[1;32mtry\u001b[0m\u001b[1;33m:\u001b[0m\u001b[1;33m\u001b[0m\u001b[1;33m\u001b[0m\u001b[0m\n\u001b[1;32m-> 3361\u001b[1;33m                 \u001b[1;32mreturn\u001b[0m \u001b[0mself\u001b[0m\u001b[1;33m.\u001b[0m\u001b[0m_engine\u001b[0m\u001b[1;33m.\u001b[0m\u001b[0mget_loc\u001b[0m\u001b[1;33m(\u001b[0m\u001b[0mcasted_key\u001b[0m\u001b[1;33m)\u001b[0m\u001b[1;33m\u001b[0m\u001b[1;33m\u001b[0m\u001b[0m\n\u001b[0m\u001b[0;32m   3362\u001b[0m             \u001b[1;32mexcept\u001b[0m \u001b[0mKeyError\u001b[0m \u001b[1;32mas\u001b[0m \u001b[0merr\u001b[0m\u001b[1;33m:\u001b[0m\u001b[1;33m\u001b[0m\u001b[1;33m\u001b[0m\u001b[0m\n",
      "\u001b[1;32mC:\\Python\\Python39\\lib\\site-packages\\pandas\\_libs\\index.pyx\u001b[0m in \u001b[0;36mpandas._libs.index.IndexEngine.get_loc\u001b[1;34m()\u001b[0m\n",
      "\u001b[1;32mC:\\Python\\Python39\\lib\\site-packages\\pandas\\_libs\\index.pyx\u001b[0m in \u001b[0;36mpandas._libs.index.IndexEngine.get_loc\u001b[1;34m()\u001b[0m\n",
      "\u001b[1;32mpandas\\_libs\\hashtable_class_helper.pxi\u001b[0m in \u001b[0;36mpandas._libs.hashtable.PyObjectHashTable.get_item\u001b[1;34m()\u001b[0m\n",
      "\u001b[1;32mpandas\\_libs\\hashtable_class_helper.pxi\u001b[0m in \u001b[0;36mpandas._libs.hashtable.PyObjectHashTable.get_item\u001b[1;34m()\u001b[0m\n",
      "\u001b[1;31mKeyError\u001b[0m: 'JPCZ22006821'",
      "\nThe above exception was the direct cause of the following exception:\n",
      "\u001b[1;31mKeyError\u001b[0m                                  Traceback (most recent call last)",
      "\u001b[1;32m~\\AppData\\Local\\Temp/ipykernel_13784/1531062821.py\u001b[0m in \u001b[0;36m<module>\u001b[1;34m\u001b[0m\n\u001b[1;32m----> 1\u001b[1;33m \u001b[0mSR_df\u001b[0m\u001b[1;33m.\u001b[0m\u001b[0mloc\u001b[0m\u001b[1;33m[\u001b[0m\u001b[1;34m'JPCZ22006821'\u001b[0m\u001b[1;33m]\u001b[0m\u001b[1;33m\u001b[0m\u001b[1;33m\u001b[0m\u001b[0m\n\u001b[0m",
      "\u001b[1;32mC:\\Python\\Python39\\lib\\site-packages\\pandas\\core\\indexing.py\u001b[0m in \u001b[0;36m__getitem__\u001b[1;34m(self, key)\u001b[0m\n\u001b[0;32m    929\u001b[0m \u001b[1;33m\u001b[0m\u001b[0m\n\u001b[0;32m    930\u001b[0m             \u001b[0mmaybe_callable\u001b[0m \u001b[1;33m=\u001b[0m \u001b[0mcom\u001b[0m\u001b[1;33m.\u001b[0m\u001b[0mapply_if_callable\u001b[0m\u001b[1;33m(\u001b[0m\u001b[0mkey\u001b[0m\u001b[1;33m,\u001b[0m \u001b[0mself\u001b[0m\u001b[1;33m.\u001b[0m\u001b[0mobj\u001b[0m\u001b[1;33m)\u001b[0m\u001b[1;33m\u001b[0m\u001b[1;33m\u001b[0m\u001b[0m\n\u001b[1;32m--> 931\u001b[1;33m             \u001b[1;32mreturn\u001b[0m \u001b[0mself\u001b[0m\u001b[1;33m.\u001b[0m\u001b[0m_getitem_axis\u001b[0m\u001b[1;33m(\u001b[0m\u001b[0mmaybe_callable\u001b[0m\u001b[1;33m,\u001b[0m \u001b[0maxis\u001b[0m\u001b[1;33m=\u001b[0m\u001b[0maxis\u001b[0m\u001b[1;33m)\u001b[0m\u001b[1;33m\u001b[0m\u001b[1;33m\u001b[0m\u001b[0m\n\u001b[0m\u001b[0;32m    932\u001b[0m \u001b[1;33m\u001b[0m\u001b[0m\n\u001b[0;32m    933\u001b[0m     \u001b[1;32mdef\u001b[0m \u001b[0m_is_scalar_access\u001b[0m\u001b[1;33m(\u001b[0m\u001b[0mself\u001b[0m\u001b[1;33m,\u001b[0m \u001b[0mkey\u001b[0m\u001b[1;33m:\u001b[0m \u001b[0mtuple\u001b[0m\u001b[1;33m)\u001b[0m\u001b[1;33m:\u001b[0m\u001b[1;33m\u001b[0m\u001b[1;33m\u001b[0m\u001b[0m\n",
      "\u001b[1;32mC:\\Python\\Python39\\lib\\site-packages\\pandas\\core\\indexing.py\u001b[0m in \u001b[0;36m_getitem_axis\u001b[1;34m(self, key, axis)\u001b[0m\n\u001b[0;32m   1162\u001b[0m         \u001b[1;31m# fall thru to straight lookup\u001b[0m\u001b[1;33m\u001b[0m\u001b[1;33m\u001b[0m\u001b[0m\n\u001b[0;32m   1163\u001b[0m         \u001b[0mself\u001b[0m\u001b[1;33m.\u001b[0m\u001b[0m_validate_key\u001b[0m\u001b[1;33m(\u001b[0m\u001b[0mkey\u001b[0m\u001b[1;33m,\u001b[0m \u001b[0maxis\u001b[0m\u001b[1;33m)\u001b[0m\u001b[1;33m\u001b[0m\u001b[1;33m\u001b[0m\u001b[0m\n\u001b[1;32m-> 1164\u001b[1;33m         \u001b[1;32mreturn\u001b[0m \u001b[0mself\u001b[0m\u001b[1;33m.\u001b[0m\u001b[0m_get_label\u001b[0m\u001b[1;33m(\u001b[0m\u001b[0mkey\u001b[0m\u001b[1;33m,\u001b[0m \u001b[0maxis\u001b[0m\u001b[1;33m=\u001b[0m\u001b[0maxis\u001b[0m\u001b[1;33m)\u001b[0m\u001b[1;33m\u001b[0m\u001b[1;33m\u001b[0m\u001b[0m\n\u001b[0m\u001b[0;32m   1165\u001b[0m \u001b[1;33m\u001b[0m\u001b[0m\n\u001b[0;32m   1166\u001b[0m     \u001b[1;32mdef\u001b[0m \u001b[0m_get_slice_axis\u001b[0m\u001b[1;33m(\u001b[0m\u001b[0mself\u001b[0m\u001b[1;33m,\u001b[0m \u001b[0mslice_obj\u001b[0m\u001b[1;33m:\u001b[0m \u001b[0mslice\u001b[0m\u001b[1;33m,\u001b[0m \u001b[0maxis\u001b[0m\u001b[1;33m:\u001b[0m \u001b[0mint\u001b[0m\u001b[1;33m)\u001b[0m\u001b[1;33m:\u001b[0m\u001b[1;33m\u001b[0m\u001b[1;33m\u001b[0m\u001b[0m\n",
      "\u001b[1;32mC:\\Python\\Python39\\lib\\site-packages\\pandas\\core\\indexing.py\u001b[0m in \u001b[0;36m_get_label\u001b[1;34m(self, label, axis)\u001b[0m\n\u001b[0;32m   1111\u001b[0m     \u001b[1;32mdef\u001b[0m \u001b[0m_get_label\u001b[0m\u001b[1;33m(\u001b[0m\u001b[0mself\u001b[0m\u001b[1;33m,\u001b[0m \u001b[0mlabel\u001b[0m\u001b[1;33m,\u001b[0m \u001b[0maxis\u001b[0m\u001b[1;33m:\u001b[0m \u001b[0mint\u001b[0m\u001b[1;33m)\u001b[0m\u001b[1;33m:\u001b[0m\u001b[1;33m\u001b[0m\u001b[1;33m\u001b[0m\u001b[0m\n\u001b[0;32m   1112\u001b[0m         \u001b[1;31m# GH#5667 this will fail if the label is not present in the axis.\u001b[0m\u001b[1;33m\u001b[0m\u001b[1;33m\u001b[0m\u001b[0m\n\u001b[1;32m-> 1113\u001b[1;33m         \u001b[1;32mreturn\u001b[0m \u001b[0mself\u001b[0m\u001b[1;33m.\u001b[0m\u001b[0mobj\u001b[0m\u001b[1;33m.\u001b[0m\u001b[0mxs\u001b[0m\u001b[1;33m(\u001b[0m\u001b[0mlabel\u001b[0m\u001b[1;33m,\u001b[0m \u001b[0maxis\u001b[0m\u001b[1;33m=\u001b[0m\u001b[0maxis\u001b[0m\u001b[1;33m)\u001b[0m\u001b[1;33m\u001b[0m\u001b[1;33m\u001b[0m\u001b[0m\n\u001b[0m\u001b[0;32m   1114\u001b[0m \u001b[1;33m\u001b[0m\u001b[0m\n\u001b[0;32m   1115\u001b[0m     \u001b[1;32mdef\u001b[0m \u001b[0m_handle_lowerdim_multi_index_axis0\u001b[0m\u001b[1;33m(\u001b[0m\u001b[0mself\u001b[0m\u001b[1;33m,\u001b[0m \u001b[0mtup\u001b[0m\u001b[1;33m:\u001b[0m \u001b[0mtuple\u001b[0m\u001b[1;33m)\u001b[0m\u001b[1;33m:\u001b[0m\u001b[1;33m\u001b[0m\u001b[1;33m\u001b[0m\u001b[0m\n",
      "\u001b[1;32mC:\\Python\\Python39\\lib\\site-packages\\pandas\\core\\generic.py\u001b[0m in \u001b[0;36mxs\u001b[1;34m(self, key, axis, level, drop_level)\u001b[0m\n\u001b[0;32m   3768\u001b[0m         \u001b[1;32mif\u001b[0m \u001b[0misinstance\u001b[0m\u001b[1;33m(\u001b[0m\u001b[0mindex\u001b[0m\u001b[1;33m,\u001b[0m \u001b[0mMultiIndex\u001b[0m\u001b[1;33m)\u001b[0m\u001b[1;33m:\u001b[0m\u001b[1;33m\u001b[0m\u001b[1;33m\u001b[0m\u001b[0m\n\u001b[0;32m   3769\u001b[0m             \u001b[1;32mtry\u001b[0m\u001b[1;33m:\u001b[0m\u001b[1;33m\u001b[0m\u001b[1;33m\u001b[0m\u001b[0m\n\u001b[1;32m-> 3770\u001b[1;33m                 loc, new_index = index._get_loc_level(\n\u001b[0m\u001b[0;32m   3771\u001b[0m                     \u001b[0mkey\u001b[0m\u001b[1;33m,\u001b[0m \u001b[0mlevel\u001b[0m\u001b[1;33m=\u001b[0m\u001b[1;36m0\u001b[0m\u001b[1;33m,\u001b[0m \u001b[0mdrop_level\u001b[0m\u001b[1;33m=\u001b[0m\u001b[0mdrop_level\u001b[0m\u001b[1;33m\u001b[0m\u001b[1;33m\u001b[0m\u001b[0m\n\u001b[0;32m   3772\u001b[0m                 )\n",
      "\u001b[1;32mC:\\Python\\Python39\\lib\\site-packages\\pandas\\core\\indexes\\multi.py\u001b[0m in \u001b[0;36m_get_loc_level\u001b[1;34m(self, key, level, drop_level)\u001b[0m\n\u001b[0;32m   3110\u001b[0m                 \u001b[1;32mreturn\u001b[0m \u001b[0mindexer\u001b[0m\u001b[1;33m,\u001b[0m \u001b[0mmaybe_mi_droplevels\u001b[0m\u001b[1;33m(\u001b[0m\u001b[0mindexer\u001b[0m\u001b[1;33m,\u001b[0m \u001b[0milevels\u001b[0m\u001b[1;33m,\u001b[0m \u001b[0mdrop_level\u001b[0m\u001b[1;33m)\u001b[0m\u001b[1;33m\u001b[0m\u001b[1;33m\u001b[0m\u001b[0m\n\u001b[0;32m   3111\u001b[0m         \u001b[1;32melse\u001b[0m\u001b[1;33m:\u001b[0m\u001b[1;33m\u001b[0m\u001b[1;33m\u001b[0m\u001b[0m\n\u001b[1;32m-> 3112\u001b[1;33m             \u001b[0mindexer\u001b[0m \u001b[1;33m=\u001b[0m \u001b[0mself\u001b[0m\u001b[1;33m.\u001b[0m\u001b[0m_get_level_indexer\u001b[0m\u001b[1;33m(\u001b[0m\u001b[0mkey\u001b[0m\u001b[1;33m,\u001b[0m \u001b[0mlevel\u001b[0m\u001b[1;33m=\u001b[0m\u001b[0mlevel\u001b[0m\u001b[1;33m)\u001b[0m\u001b[1;33m\u001b[0m\u001b[1;33m\u001b[0m\u001b[0m\n\u001b[0m\u001b[0;32m   3113\u001b[0m             \u001b[1;32mreturn\u001b[0m \u001b[0mindexer\u001b[0m\u001b[1;33m,\u001b[0m \u001b[0mmaybe_mi_droplevels\u001b[0m\u001b[1;33m(\u001b[0m\u001b[0mindexer\u001b[0m\u001b[1;33m,\u001b[0m \u001b[1;33m[\u001b[0m\u001b[0mlevel\u001b[0m\u001b[1;33m]\u001b[0m\u001b[1;33m,\u001b[0m \u001b[0mdrop_level\u001b[0m\u001b[1;33m)\u001b[0m\u001b[1;33m\u001b[0m\u001b[1;33m\u001b[0m\u001b[0m\n\u001b[0;32m   3114\u001b[0m \u001b[1;33m\u001b[0m\u001b[0m\n",
      "\u001b[1;32mC:\\Python\\Python39\\lib\\site-packages\\pandas\\core\\indexes\\multi.py\u001b[0m in \u001b[0;36m_get_level_indexer\u001b[1;34m(self, key, level, indexer)\u001b[0m\n\u001b[0;32m   3202\u001b[0m         \u001b[1;32melse\u001b[0m\u001b[1;33m:\u001b[0m\u001b[1;33m\u001b[0m\u001b[1;33m\u001b[0m\u001b[0m\n\u001b[0;32m   3203\u001b[0m \u001b[1;33m\u001b[0m\u001b[0m\n\u001b[1;32m-> 3204\u001b[1;33m             \u001b[0midx\u001b[0m \u001b[1;33m=\u001b[0m \u001b[0mself\u001b[0m\u001b[1;33m.\u001b[0m\u001b[0m_get_loc_single_level_index\u001b[0m\u001b[1;33m(\u001b[0m\u001b[0mlevel_index\u001b[0m\u001b[1;33m,\u001b[0m \u001b[0mkey\u001b[0m\u001b[1;33m)\u001b[0m\u001b[1;33m\u001b[0m\u001b[1;33m\u001b[0m\u001b[0m\n\u001b[0m\u001b[0;32m   3205\u001b[0m \u001b[1;33m\u001b[0m\u001b[0m\n\u001b[0;32m   3206\u001b[0m             \u001b[1;32mif\u001b[0m \u001b[0mlevel\u001b[0m \u001b[1;33m>\u001b[0m \u001b[1;36m0\u001b[0m \u001b[1;32mor\u001b[0m \u001b[0mself\u001b[0m\u001b[1;33m.\u001b[0m\u001b[0m_lexsort_depth\u001b[0m \u001b[1;33m==\u001b[0m \u001b[1;36m0\u001b[0m\u001b[1;33m:\u001b[0m\u001b[1;33m\u001b[0m\u001b[1;33m\u001b[0m\u001b[0m\n",
      "\u001b[1;32mC:\\Python\\Python39\\lib\\site-packages\\pandas\\core\\indexes\\multi.py\u001b[0m in \u001b[0;36m_get_loc_single_level_index\u001b[1;34m(self, level_index, key)\u001b[0m\n\u001b[0;32m   2853\u001b[0m             \u001b[1;32mreturn\u001b[0m \u001b[1;33m-\u001b[0m\u001b[1;36m1\u001b[0m\u001b[1;33m\u001b[0m\u001b[1;33m\u001b[0m\u001b[0m\n\u001b[0;32m   2854\u001b[0m         \u001b[1;32melse\u001b[0m\u001b[1;33m:\u001b[0m\u001b[1;33m\u001b[0m\u001b[1;33m\u001b[0m\u001b[0m\n\u001b[1;32m-> 2855\u001b[1;33m             \u001b[1;32mreturn\u001b[0m \u001b[0mlevel_index\u001b[0m\u001b[1;33m.\u001b[0m\u001b[0mget_loc\u001b[0m\u001b[1;33m(\u001b[0m\u001b[0mkey\u001b[0m\u001b[1;33m)\u001b[0m\u001b[1;33m\u001b[0m\u001b[1;33m\u001b[0m\u001b[0m\n\u001b[0m\u001b[0;32m   2856\u001b[0m \u001b[1;33m\u001b[0m\u001b[0m\n\u001b[0;32m   2857\u001b[0m     \u001b[1;32mdef\u001b[0m \u001b[0mget_loc\u001b[0m\u001b[1;33m(\u001b[0m\u001b[0mself\u001b[0m\u001b[1;33m,\u001b[0m \u001b[0mkey\u001b[0m\u001b[1;33m,\u001b[0m \u001b[0mmethod\u001b[0m\u001b[1;33m=\u001b[0m\u001b[1;32mNone\u001b[0m\u001b[1;33m)\u001b[0m\u001b[1;33m:\u001b[0m\u001b[1;33m\u001b[0m\u001b[1;33m\u001b[0m\u001b[0m\n",
      "\u001b[1;32mC:\\Python\\Python39\\lib\\site-packages\\pandas\\core\\indexes\\base.py\u001b[0m in \u001b[0;36mget_loc\u001b[1;34m(self, key, method, tolerance)\u001b[0m\n\u001b[0;32m   3361\u001b[0m                 \u001b[1;32mreturn\u001b[0m \u001b[0mself\u001b[0m\u001b[1;33m.\u001b[0m\u001b[0m_engine\u001b[0m\u001b[1;33m.\u001b[0m\u001b[0mget_loc\u001b[0m\u001b[1;33m(\u001b[0m\u001b[0mcasted_key\u001b[0m\u001b[1;33m)\u001b[0m\u001b[1;33m\u001b[0m\u001b[1;33m\u001b[0m\u001b[0m\n\u001b[0;32m   3362\u001b[0m             \u001b[1;32mexcept\u001b[0m \u001b[0mKeyError\u001b[0m \u001b[1;32mas\u001b[0m \u001b[0merr\u001b[0m\u001b[1;33m:\u001b[0m\u001b[1;33m\u001b[0m\u001b[1;33m\u001b[0m\u001b[0m\n\u001b[1;32m-> 3363\u001b[1;33m                 \u001b[1;32mraise\u001b[0m \u001b[0mKeyError\u001b[0m\u001b[1;33m(\u001b[0m\u001b[0mkey\u001b[0m\u001b[1;33m)\u001b[0m \u001b[1;32mfrom\u001b[0m \u001b[0merr\u001b[0m\u001b[1;33m\u001b[0m\u001b[1;33m\u001b[0m\u001b[0m\n\u001b[0m\u001b[0;32m   3364\u001b[0m \u001b[1;33m\u001b[0m\u001b[0m\n\u001b[0;32m   3365\u001b[0m         \u001b[1;32mif\u001b[0m \u001b[0mis_scalar\u001b[0m\u001b[1;33m(\u001b[0m\u001b[0mkey\u001b[0m\u001b[1;33m)\u001b[0m \u001b[1;32mand\u001b[0m \u001b[0misna\u001b[0m\u001b[1;33m(\u001b[0m\u001b[0mkey\u001b[0m\u001b[1;33m)\u001b[0m \u001b[1;32mand\u001b[0m \u001b[1;32mnot\u001b[0m \u001b[0mself\u001b[0m\u001b[1;33m.\u001b[0m\u001b[0mhasnans\u001b[0m\u001b[1;33m:\u001b[0m\u001b[1;33m\u001b[0m\u001b[1;33m\u001b[0m\u001b[0m\n",
      "\u001b[1;31mKeyError\u001b[0m: 'JPCZ22006821'"
     ]
    }
   ],
   "source": [
    "SR_df.loc['JPCZ22006821']"
   ]
  },
  {
   "cell_type": "code",
   "execution_count": null,
   "id": "bec4f8d5",
   "metadata": {},
   "outputs": [],
   "source": [
    "SR_df.shape"
   ]
  },
  {
   "cell_type": "code",
   "execution_count": null,
   "id": "380e0a08",
   "metadata": {},
   "outputs": [],
   "source": [
    "SR_df = SR_df.drop(('JPCZ22006821', 'UTOC500381')).shape"
   ]
  },
  {
   "cell_type": "code",
   "execution_count": null,
   "id": "f95ce783",
   "metadata": {},
   "outputs": [],
   "source": [
    "SR_df[cond1 & cond2 & cond3 & cond4 & cond5 & cond6 & cond7 & cond8].to_clipboard()"
   ]
  },
  {
   "cell_type": "code",
   "execution_count": null,
   "id": "2780d4c3",
   "metadata": {},
   "outputs": [],
   "source": [
    "pd.pivot_table(SR_df[cond1 & cond2 & cond3 & cond4 & cond5 & cond6 & cond7 & cond8],\n",
    "              index=['Country', 'Mapping Model.Suffix'], columns = 'Week Name', values = 'Ship',\n",
    "              aggfunc=sum).fillna('-').to_clipboard()"
   ]
  },
  {
   "cell_type": "code",
   "execution_count": null,
   "id": "5a47687d",
   "metadata": {},
   "outputs": [],
   "source": [
    "pd.pivot_table(SR_df[cond1 & cond2 & cond3 & cond4 & cond5 & cond6 & cond7 & cond8],\n",
    "               index=['BL Status', 'Country', 'Mapping Model.Suffix', 'Ship Date', 'BL No'], columns = ['Week Name'], values = 'Ship', aggfunc=sum).fillna('-').tail(20)"
   ]
  },
  {
   "cell_type": "markdown",
   "id": "5c7c3ed6",
   "metadata": {},
   "source": [
    "## 주의) 변경된 SR DB를 저장"
   ]
  },
  {
   "cell_type": "code",
   "execution_count": null,
   "id": "9e38ecc0",
   "metadata": {},
   "outputs": [],
   "source": [
    "with open('D:/Data/Quanta shipment result DB.bin', 'wb') as f:\n",
    "    pickle.dump(SR_df, f)"
   ]
  },
  {
   "cell_type": "markdown",
   "id": "a135ad69",
   "metadata": {},
   "source": [
    "## 1-1) Quanta 실적"
   ]
  },
  {
   "cell_type": "code",
   "execution_count": null,
   "id": "952720ce",
   "metadata": {},
   "outputs": [],
   "source": [
    "with open('D:/Data/Quanta shipment result DB.bin', 'rb') as f:\n",
    "     SR_df = pickle.load(f)"
   ]
  },
  {
   "cell_type": "code",
   "execution_count": null,
   "id": "b3ddcfd8",
   "metadata": {},
   "outputs": [],
   "source": [
    "SR_df.reset_index(inplace=True)"
   ]
  },
  {
   "cell_type": "code",
   "execution_count": null,
   "id": "0c34d962",
   "metadata": {},
   "outputs": [],
   "source": [
    "search_year = '2022'\n",
    "search_month = '.'\n",
    "thisweek = '.'\n",
    "model_name = '.'\n",
    "site = 'EK'\n",
    "country = '.'\n",
    "bl = '22026000'\n",
    "\n",
    "cond1 = (SR_df['Ship Year'].astype(str).str.contains(search_year, na=True))\n",
    "cond2 = (SR_df['Ship Week month'].astype(str).str.contains(search_month, na=True))\n",
    "cond3 = (SR_df['Week Name'].str.contains(thisweek, na=True))\n",
    "cond4 = (SR_df['Mapping Model.Suffix'].str.contains(model_name, na=True))\n",
    "cond5 = (SR_df['Ship To'].str.contains(site, na=True))\n",
    "cond6 = (SR_df['Country'].str.contains(country, na=True))\n",
    "cond7 = (SR_df['BL No'].astype(str).str.contains(bl, na=True))"
   ]
  },
  {
   "cell_type": "code",
   "execution_count": null,
   "id": "ba383f4d",
   "metadata": {},
   "outputs": [],
   "source": [
    "SR_df[cond1 & cond2 & cond3 & cond4 & cond5 & cond6 & cond7]"
   ]
  },
  {
   "cell_type": "code",
   "execution_count": null,
   "id": "1de85676",
   "metadata": {},
   "outputs": [],
   "source": [
    "# 모델명으로 조회\n",
    "SR_df[SR_df['Mapping Model.Suffix'] == '11TC50Q-E.AC10ML']"
   ]
  },
  {
   "cell_type": "code",
   "execution_count": null,
   "id": "70c2fce9",
   "metadata": {},
   "outputs": [],
   "source": [
    "# 특정 BL 번호로 조회\n",
    "SR_df.swaplevel(0,1).loc[''].groupby(['Mapping Model.Suffix', 'PO No.', 'Ship Date'])['Ship'].sum().reset_index()"
   ]
  },
  {
   "cell_type": "code",
   "execution_count": null,
   "id": "3b18c24d",
   "metadata": {
    "scrolled": true
   },
   "outputs": [],
   "source": [
    "# 특정 년도, 월의 선적 실적 출력\n",
    "SR_df[(SR_df['Ship Year'] == 2020) & (SR_df['Ship Month'] == 3)].sort_values(by='Ship Date')"
   ]
  },
  {
   "cell_type": "code",
   "execution_count": null,
   "id": "84c85cf5",
   "metadata": {},
   "outputs": [],
   "source": [
    "# 테이블로 출력\n",
    "pd.pivot_table(SR_df[(SR_df['Ship Year']==2022) & (SR_df['Series'] == '15U40Q') & (SR_df['Ship Month']<13)], index=['Region', 'Country', 'Ship To', 'Mapping Model.Suffix'], columns=['Ship Year', 'Ship Month', 'Week Name'], values = 'Ship', aggfunc=sum).fillna('-')"
   ]
  },
  {
   "cell_type": "code",
   "execution_count": null,
   "id": "98d9bbfe",
   "metadata": {
    "scrolled": true
   },
   "outputs": [],
   "source": [
    "# 이번주, 지난 주 선적 실적 보기\n",
    "today = datetime.date.today()\n",
    "seven_day_ago = today - datetime.timedelta(days=7)\n",
    "this_week = f'{getfirstdate_year(today)}-{getfirstdate_month(today)}-{getfirstdate_day(today)}(W{today.isocalendar()[1]:02d})'\n",
    "last_week = f'{getfirstdate_year(seven_day_ago)}-{getfirstdate_month(seven_day_ago)}-{getfirstdate_day(seven_day_ago)}(W{seven_day_ago.isocalendar()[1]:02d})'\n",
    "pd.pivot_table(SR_df[(SR_df['Ship Year']==2022) & (SR_df['Ship Month'] == 3) & (SR_df['Week Name'] == this_week) ], index=['Region', 'BL No', 'BL Status', 'Country', 'Ship To', 'Mapping Model.Suffix', 'PO No.','Ship Date'], columns=['Ship Year', 'Ship Month', 'Week Name'], values = 'Ship', aggfunc=sum).fillna('-')"
   ]
  },
  {
   "cell_type": "code",
   "execution_count": null,
   "id": "690084d4",
   "metadata": {},
   "outputs": [],
   "source": [
    "pdr_df = get_pdr()"
   ]
  },
  {
   "cell_type": "code",
   "execution_count": null,
   "id": "f358bcac",
   "metadata": {},
   "outputs": [],
   "source": [
    "pd.pivot_table(SR_df[SR_df['Ship Year'] == 2022] , index=['Country', 'Ship To', 'Series', 'Mapping Model.Suffix'], columns=['Ship Year', 'Ship Month', 'Week Name'], values=['Ship']).fillna('-').droplevel([0,1,2], axis=1).reset_index()"
   ]
  },
  {
   "cell_type": "code",
   "execution_count": null,
   "id": "87dc35e0",
   "metadata": {},
   "outputs": [],
   "source": [
    "# 지역별, 모델별, 월별, 선적실적 보기\n",
    "pd.merge(pd.pivot_table(SR_df[SR_df['Ship Year'] == 2022] , index=['Country', 'Ship To', 'Series', 'Mapping Model.Suffix'], columns=['Ship Year', 'Ship Month', 'Week Name'], values=['Ship'], aggfunc=sum).fillna('-').droplevel([0,1,2], axis=1).reset_index(), pdr_df, how='left', left_on='Mapping Model.Suffix', right_on='Model.Suffix').to_excel('D:/Python result/res2.xlsx')"
   ]
  },
  {
   "cell_type": "markdown",
   "id": "3898198e",
   "metadata": {},
   "source": [
    "## 1-2) Quanta Open PO 구하기"
   ]
  },
  {
   "cell_type": "code",
   "execution_count": null,
   "id": "ab220e25",
   "metadata": {},
   "outputs": [],
   "source": [
    "with open('D:/Data/Quanta PO DB.bin', 'rb') as f:\n",
    "    df = pickle.load(f)"
   ]
  },
  {
   "cell_type": "code",
   "execution_count": null,
   "id": "7fc22c71",
   "metadata": {},
   "outputs": [],
   "source": [
    "df.head(1)"
   ]
  },
  {
   "cell_type": "code",
   "execution_count": null,
   "id": "6a677b12",
   "metadata": {},
   "outputs": [],
   "source": [
    "df.loc['YPCZ21003095']"
   ]
  },
  {
   "cell_type": "code",
   "execution_count": null,
   "id": "2bd09ca3",
   "metadata": {},
   "outputs": [],
   "source": [
    "df[df['Mapping Model.Suffix'].str.contains('15UD470')]"
   ]
  },
  {
   "cell_type": "code",
   "execution_count": null,
   "id": "027fc7bd",
   "metadata": {},
   "outputs": [],
   "source": [
    "df['Mapping Model.Suffix'].unique()"
   ]
  },
  {
   "cell_type": "code",
   "execution_count": null,
   "id": "88d8a9ed",
   "metadata": {},
   "outputs": [],
   "source": [
    "with open('D:/Data/Quanta PO DB.bin', 'rb') as f:\n",
    "    PO_df = pickle.load(f)\n",
    "with open('D:/Data/Quanta shipment result DB.bin', 'rb') as f:\n",
    "    SR_df = pickle.load(f)\n",
    "\n",
    "open_po_info = {} # Open PO 정보를 dictionary 형태로 저장\n",
    "grouped = SR_df.groupby('PO No.')\n",
    "for i in PO_df.index:\n",
    "    try:\n",
    "        shipped_qty = grouped.get_group(i)['Ship'].sum()\n",
    "    except:\n",
    "        shipped_qty = 0\n",
    "    open_po_qty = PO_df.loc[i, 'PO'] - shipped_qty\n",
    "    if open_po_qty > 0:\n",
    "        open_po_info[i] = open_po_qty\n",
    "\n",
    "open_po_df = PO_df.loc[open_po_info.keys()]\n",
    "open_po_df['open qty'] = open_po_info.values()"
   ]
  },
  {
   "cell_type": "code",
   "execution_count": null,
   "id": "d55dc6a1",
   "metadata": {},
   "outputs": [],
   "source": [
    "pd.pivot_table(open_po_df[open_po_df['Cancel'] == 'N'], index=['Series', 'Ship To', 'Mapping Model.Suffix'], columns=['RSD Week Name'], values=['open qty'], aggfunc=sum).fillna('-').to_excel('c.xlsx')"
   ]
  },
  {
   "cell_type": "markdown",
   "id": "5a9fa479",
   "metadata": {},
   "source": [
    "## 2-1) Pegatron 실적"
   ]
  },
  {
   "cell_type": "code",
   "execution_count": null,
   "id": "49c7bca8",
   "metadata": {},
   "outputs": [],
   "source": [
    "with open('D:/Data/Pegatron shipment result DB.bin', 'rb') as f:\n",
    "     SR_df = pickle.load(f)"
   ]
  },
  {
   "cell_type": "code",
   "execution_count": null,
   "id": "bd915528",
   "metadata": {},
   "outputs": [],
   "source": [
    "SR_df.columns"
   ]
  },
  {
   "cell_type": "code",
   "execution_count": null,
   "id": "460f0c57",
   "metadata": {},
   "outputs": [],
   "source": [
    "pd.pivot_table(SR_df, index=['Series'], columns=['Ship Year', 'Ship Month'], values='Ship', aggfunc=sum).fillna('-').to_excel('D:/Python result/pegatron ship result.xlsx')"
   ]
  },
  {
   "cell_type": "code",
   "execution_count": null,
   "id": "847eb724",
   "metadata": {},
   "outputs": [],
   "source": [
    "pd.pivot_table(SR_df[(SR_df['Ship Year']==2022) & (SR_df['Ship Month']==4)], index=['Region', 'Country', 'Ship To', 'Mapping Model.Suffix', 'BL No'], columns=['Ship Year', 'Ship Month', 'Week Name'], values = 'Ship', aggfunc=sum).fillna('-')"
   ]
  },
  {
   "cell_type": "code",
   "execution_count": null,
   "id": "c157ee4e",
   "metadata": {},
   "outputs": [],
   "source": [
    "# 이번주, 지난 주 선적 실적 보기\n",
    "today = datetime.date.today()\n",
    "seven_day_ago = today - datetime.timedelta(days=7)\n",
    "this_week = f'{getfirstdate_year(today)}-{getfirstdate_month(today)}-{getfirstdate_day(today)}(W{today.isocalendar()[1]:02d})'\n",
    "last_week = f'{getfirstdate_year(seven_day_ago)}-{getfirstdate_month(seven_day_ago)}-{getfirstdate_day(seven_day_ago)}(W{seven_day_ago.isocalendar()[1]:02d})'\n",
    "pd.pivot_table(SR_df[(SR_df['Ship Year']==2022) & (SR_df['Ship Month'] == 4) & (SR_df['Week Name'] == this_week) ], index=['Region', 'BL No', 'BL Status', 'Country', 'Ship To', 'Mapping Model.Suffix', 'PO No.','Ship Date'], columns=['Ship Year', 'Ship Month', 'Week Name'], values = 'Ship', aggfunc=sum).fillna('-')"
   ]
  },
  {
   "cell_type": "markdown",
   "id": "829d80bb",
   "metadata": {},
   "source": [
    "## 2-2) Pegatron OPEN PO 구하기"
   ]
  },
  {
   "cell_type": "code",
   "execution_count": null,
   "id": "8aa16b1f",
   "metadata": {},
   "outputs": [],
   "source": [
    "with open('D:/Data/Pegatron PO DB.bin', 'rb') as f:\n",
    "    PO_df = pickle.load(f)\n",
    "with open('D:/Data/Pegatron shipment result DB.bin', 'rb') as f:\n",
    "    SR_df = pickle.load(f)\n",
    "\n",
    "open_po_info = {} # Open PO 정보를 dictionary 형태로 저장\n",
    "grouped = SR_df.groupby('PO No.')\n",
    "for i in PO_df.index:\n",
    "    try:\n",
    "        shipped_qty = grouped.get_group(i)['Ship'].sum()\n",
    "    except:\n",
    "        shipped_qty = 0\n",
    "    open_po_qty = PO_df.loc[i, 'PO'] - shipped_qty\n",
    "    if open_po_qty > 0:\n",
    "        open_po_info[i] = open_po_qty\n",
    "\n",
    "open_po_df = PO_df.loc[open_po_info.keys()]\n",
    "open_po_df['open qty'] = open_po_info.values()\n",
    "pd.pivot_table(open_po_df[open_po_df['Cancel'] == 'N'], index=['Series', 'Ship To', 'Mapping Model.Suffix'], \n",
    "               columns=['RSD Week Name'], values=['open qty'], aggfunc=sum).fillna('-')"
   ]
  },
  {
   "cell_type": "markdown",
   "id": "c3623601",
   "metadata": {},
   "source": [
    "## 3-1) Wanlida 실적"
   ]
  },
  {
   "cell_type": "code",
   "execution_count": null,
   "id": "1b06b5d3",
   "metadata": {},
   "outputs": [],
   "source": [
    "with open('D:/Data/Wanlida shipment result DB.bin', 'rb') as f:\n",
    "     SR_df = pickle.load(f)"
   ]
  },
  {
   "cell_type": "markdown",
   "id": "57fc1037",
   "metadata": {},
   "source": [
    "## 검색 조건 설정"
   ]
  },
  {
   "cell_type": "code",
   "execution_count": null,
   "id": "9b20f0bb",
   "metadata": {},
   "outputs": [],
   "source": [
    "today = datetime.date.today()\n",
    "search_year = '2022'\n",
    "search_month = '.'\n",
    "week = '.'\n",
    "model_name = '.'\n",
    "site = 'GF'\n",
    "country = '.'\n",
    "\n",
    "cond1 = (SR_df['Ship Year'].astype(str).str.contains(search_year, na=True))\n",
    "cond2 = (SR_df['Ship Week month'].astype(str).str.contains(search_month, na=True))\n",
    "cond3 = (SR_df['Week Name'].str.contains(week))\n",
    "cond4 = (SR_df['Mapping Model.Suffix'].str.contains(model_name, na=True))\n",
    "cond5 = (SR_df['Ship To'].str.contains(site, na=True))\n",
    "cond6 = (SR_df['Country'].str.contains(country, na=True))"
   ]
  },
  {
   "cell_type": "code",
   "execution_count": null,
   "id": "659cab8d",
   "metadata": {},
   "outputs": [],
   "source": [
    "SR_df[cond1 & cond2 & cond3 & cond4 & cond5 & cond6]"
   ]
  },
  {
   "cell_type": "code",
   "execution_count": null,
   "id": "c049d102",
   "metadata": {},
   "outputs": [],
   "source": [
    "pd.pivot_table( SR_df[cond1 & cond2 & cond3 & cond4 & cond5 & cond6], index=['BL No', 'Ship Date', 'Final Destination', 'Ship To', 'Mapping Model.Suffix'], values = 'Ship', aggfunc=sum )"
   ]
  },
  {
   "cell_type": "code",
   "execution_count": null,
   "id": "992fea90",
   "metadata": {},
   "outputs": [],
   "source": [
    "\n",
    "pd.pivot_table(SR_df[(SR_df['Ship Year']==2022) & (SR_df['Ship Month'] == 4) & (SR_df['Week Name'] == thisweek) ], index=['Region', 'BL No', 'BL Status', 'Country', 'Ship To', 'Mapping Model.Suffix', 'PO No.','Ship Date', 'Unit Price'], columns=['Ship Year', 'Ship Month', 'Week Name'], values = 'Ship', aggfunc=sum).fillna('-')"
   ]
  },
  {
   "cell_type": "code",
   "execution_count": null,
   "id": "4dd66ba5",
   "metadata": {},
   "outputs": [],
   "source": [
    "SR_df.swaplevel(0,1).loc['PLISZ2D00333', ['Region', 'Country', 'Ship To', 'Mapping Model.Suffix', 'Ship', 'PO1 No', 'SO No.', 'Final Destination']]"
   ]
  },
  {
   "cell_type": "code",
   "execution_count": null,
   "id": "fc3ccdaa",
   "metadata": {},
   "outputs": [],
   "source": [
    "pd.pivot_table(SR_df[(SR_df['Ship Year']==2022) & (SR_df['Ship Month']==3)], index=['Region', 'Country', 'Ship To', 'Mapping Model.Suffix', 'BL No'], columns=['Ship Year', 'Ship Month', 'Week Name'], values = 'Ship', aggfunc=sum).fillna('-')"
   ]
  },
  {
   "cell_type": "markdown",
   "id": "f70f0a7b",
   "metadata": {},
   "source": [
    "## 3-2) Wanlida OPEN PO 구하기"
   ]
  },
  {
   "cell_type": "code",
   "execution_count": null,
   "id": "26a610df",
   "metadata": {},
   "outputs": [],
   "source": [
    "open_po_df = get_open_po('Wanlida')\n",
    "pd.pivot_table(open_po_df[open_po_df['Cancel'] == 'N'], index=['Ship To', 'Mapping Model.Suffix'], \n",
    "               columns=['RSD Month', 'RSD Week Name'], values=['Open_Qty'], aggfunc=sum)"
   ]
  },
  {
   "cell_type": "code",
   "execution_count": null,
   "id": "d0c1f2ba",
   "metadata": {},
   "outputs": [],
   "source": [
    "open_po_df[open_po_df['Ship To'].str.contains('GF')]"
   ]
  },
  {
   "cell_type": "markdown",
   "id": "849c7155",
   "metadata": {},
   "source": [
    "## 4) PC ODM 월별 선적 실적 보기"
   ]
  },
  {
   "cell_type": "code",
   "execution_count": 10,
   "id": "2d42cc66",
   "metadata": {},
   "outputs": [
    {
     "data": {
      "text/html": [
       "<div>\n",
       "<style scoped>\n",
       "    .dataframe tbody tr th:only-of-type {\n",
       "        vertical-align: middle;\n",
       "    }\n",
       "\n",
       "    .dataframe tbody tr th {\n",
       "        vertical-align: top;\n",
       "    }\n",
       "\n",
       "    .dataframe thead th {\n",
       "        text-align: right;\n",
       "    }\n",
       "</style>\n",
       "<table border=\"1\" class=\"dataframe\">\n",
       "  <thead>\n",
       "    <tr style=\"text-align: right;\">\n",
       "      <th>Ship Month</th>\n",
       "      <th>From Site</th>\n",
       "      <th>Country</th>\n",
       "      <th>Series</th>\n",
       "      <th>1.0</th>\n",
       "      <th>2.0</th>\n",
       "    </tr>\n",
       "  </thead>\n",
       "  <tbody>\n",
       "    <tr>\n",
       "      <th>0</th>\n",
       "      <td>Quanta</td>\n",
       "      <td>Austrailia</td>\n",
       "      <td>16T90Q</td>\n",
       "      <td>25.0</td>\n",
       "      <td>0.0</td>\n",
       "    </tr>\n",
       "    <tr>\n",
       "      <th>1</th>\n",
       "      <td>Quanta</td>\n",
       "      <td>Canada</td>\n",
       "      <td>16T90Q</td>\n",
       "      <td>40.0</td>\n",
       "      <td>0.0</td>\n",
       "    </tr>\n",
       "    <tr>\n",
       "      <th>2</th>\n",
       "      <td>Quanta</td>\n",
       "      <td>Germany</td>\n",
       "      <td>16T90Q</td>\n",
       "      <td>90.0</td>\n",
       "      <td>25.0</td>\n",
       "    </tr>\n",
       "    <tr>\n",
       "      <th>3</th>\n",
       "      <td>Quanta</td>\n",
       "      <td>Korea</td>\n",
       "      <td>11T50Q</td>\n",
       "      <td>57.0</td>\n",
       "      <td>0.0</td>\n",
       "    </tr>\n",
       "    <tr>\n",
       "      <th>4</th>\n",
       "      <td>Quanta</td>\n",
       "      <td>Korea</td>\n",
       "      <td>14T90Q</td>\n",
       "      <td>5.0</td>\n",
       "      <td>0.0</td>\n",
       "    </tr>\n",
       "    <tr>\n",
       "      <th>5</th>\n",
       "      <td>Quanta</td>\n",
       "      <td>Korea</td>\n",
       "      <td>15U40Q</td>\n",
       "      <td>950.0</td>\n",
       "      <td>0.0</td>\n",
       "    </tr>\n",
       "    <tr>\n",
       "      <th>6</th>\n",
       "      <td>Quanta</td>\n",
       "      <td>Korea</td>\n",
       "      <td>15U40R</td>\n",
       "      <td>3435.0</td>\n",
       "      <td>15.0</td>\n",
       "    </tr>\n",
       "    <tr>\n",
       "      <th>7</th>\n",
       "      <td>Quanta</td>\n",
       "      <td>Korea</td>\n",
       "      <td>15U50P</td>\n",
       "      <td>867.0</td>\n",
       "      <td>284.0</td>\n",
       "    </tr>\n",
       "    <tr>\n",
       "      <th>8</th>\n",
       "      <td>Quanta</td>\n",
       "      <td>Korea</td>\n",
       "      <td>15U50Q</td>\n",
       "      <td>7153.0</td>\n",
       "      <td>4128.0</td>\n",
       "    </tr>\n",
       "    <tr>\n",
       "      <th>9</th>\n",
       "      <td>Quanta</td>\n",
       "      <td>Korea</td>\n",
       "      <td>16T90Q</td>\n",
       "      <td>764.0</td>\n",
       "      <td>122.0</td>\n",
       "    </tr>\n",
       "    <tr>\n",
       "      <th>10</th>\n",
       "      <td>Quanta</td>\n",
       "      <td>Korea</td>\n",
       "      <td>16T90R</td>\n",
       "      <td>30.0</td>\n",
       "      <td>0.0</td>\n",
       "    </tr>\n",
       "    <tr>\n",
       "      <th>11</th>\n",
       "      <td>Quanta</td>\n",
       "      <td>Poland</td>\n",
       "      <td>16T90Q</td>\n",
       "      <td>10.0</td>\n",
       "      <td>0.0</td>\n",
       "    </tr>\n",
       "    <tr>\n",
       "      <th>12</th>\n",
       "      <td>Quanta</td>\n",
       "      <td>Singapore</td>\n",
       "      <td>14T90Q</td>\n",
       "      <td>15.0</td>\n",
       "      <td>0.0</td>\n",
       "    </tr>\n",
       "    <tr>\n",
       "      <th>13</th>\n",
       "      <td>Quanta</td>\n",
       "      <td>Singapore</td>\n",
       "      <td>16T90Q</td>\n",
       "      <td>20.0</td>\n",
       "      <td>0.0</td>\n",
       "    </tr>\n",
       "    <tr>\n",
       "      <th>14</th>\n",
       "      <td>Quanta</td>\n",
       "      <td>Spain</td>\n",
       "      <td>14T90Q</td>\n",
       "      <td>40.0</td>\n",
       "      <td>0.0</td>\n",
       "    </tr>\n",
       "    <tr>\n",
       "      <th>15</th>\n",
       "      <td>Quanta</td>\n",
       "      <td>Taiwan</td>\n",
       "      <td>16T90Q</td>\n",
       "      <td>10.0</td>\n",
       "      <td>0.0</td>\n",
       "    </tr>\n",
       "    <tr>\n",
       "      <th>16</th>\n",
       "      <td>Quanta</td>\n",
       "      <td>UK</td>\n",
       "      <td>14T90Q</td>\n",
       "      <td>10.0</td>\n",
       "      <td>0.0</td>\n",
       "    </tr>\n",
       "    <tr>\n",
       "      <th>17</th>\n",
       "      <td>Quanta</td>\n",
       "      <td>UK</td>\n",
       "      <td>16T90Q</td>\n",
       "      <td>5.0</td>\n",
       "      <td>0.0</td>\n",
       "    </tr>\n",
       "    <tr>\n",
       "      <th>18</th>\n",
       "      <td>Quanta</td>\n",
       "      <td>US</td>\n",
       "      <td>14T90Q</td>\n",
       "      <td>145.0</td>\n",
       "      <td>0.0</td>\n",
       "    </tr>\n",
       "    <tr>\n",
       "      <th>19</th>\n",
       "      <td>Quanta</td>\n",
       "      <td>US</td>\n",
       "      <td>16T90Q</td>\n",
       "      <td>755.0</td>\n",
       "      <td>0.0</td>\n",
       "    </tr>\n",
       "    <tr>\n",
       "      <th>20</th>\n",
       "      <td>Pegatron</td>\n",
       "      <td>Canada</td>\n",
       "      <td>17U70Q</td>\n",
       "      <td>5.0</td>\n",
       "      <td>NaN</td>\n",
       "    </tr>\n",
       "    <tr>\n",
       "      <th>21</th>\n",
       "      <td>Pegatron</td>\n",
       "      <td>Germany</td>\n",
       "      <td>CL600</td>\n",
       "      <td>1330.0</td>\n",
       "      <td>NaN</td>\n",
       "    </tr>\n",
       "    <tr>\n",
       "      <th>22</th>\n",
       "      <td>Pegatron</td>\n",
       "      <td>Korea</td>\n",
       "      <td>14T30Q</td>\n",
       "      <td>870.0</td>\n",
       "      <td>NaN</td>\n",
       "    </tr>\n",
       "    <tr>\n",
       "      <th>23</th>\n",
       "      <td>Pegatron</td>\n",
       "      <td>Korea</td>\n",
       "      <td>17U70P</td>\n",
       "      <td>310.0</td>\n",
       "      <td>NaN</td>\n",
       "    </tr>\n",
       "    <tr>\n",
       "      <th>24</th>\n",
       "      <td>Pegatron</td>\n",
       "      <td>Korea</td>\n",
       "      <td>17U70Q</td>\n",
       "      <td>20.0</td>\n",
       "      <td>NaN</td>\n",
       "    </tr>\n",
       "    <tr>\n",
       "      <th>25</th>\n",
       "      <td>Pegatron</td>\n",
       "      <td>Korea</td>\n",
       "      <td>CL600</td>\n",
       "      <td>80.0</td>\n",
       "      <td>NaN</td>\n",
       "    </tr>\n",
       "    <tr>\n",
       "      <th>26</th>\n",
       "      <td>Pegatron</td>\n",
       "      <td>Spain</td>\n",
       "      <td>13U70Q</td>\n",
       "      <td>30.0</td>\n",
       "      <td>NaN</td>\n",
       "    </tr>\n",
       "    <tr>\n",
       "      <th>27</th>\n",
       "      <td>Pegatron</td>\n",
       "      <td>UK</td>\n",
       "      <td>CL600</td>\n",
       "      <td>140.0</td>\n",
       "      <td>NaN</td>\n",
       "    </tr>\n",
       "    <tr>\n",
       "      <th>28</th>\n",
       "      <td>Pegatron</td>\n",
       "      <td>US</td>\n",
       "      <td>17U70Q</td>\n",
       "      <td>15.0</td>\n",
       "      <td>NaN</td>\n",
       "    </tr>\n",
       "    <tr>\n",
       "      <th>29</th>\n",
       "      <td>Pegatron</td>\n",
       "      <td>US</td>\n",
       "      <td>CL600</td>\n",
       "      <td>955.0</td>\n",
       "      <td>NaN</td>\n",
       "    </tr>\n",
       "    <tr>\n",
       "      <th>30</th>\n",
       "      <td>Wingtech</td>\n",
       "      <td>Korea</td>\n",
       "      <td>10A30Q</td>\n",
       "      <td>1860.0</td>\n",
       "      <td>NaN</td>\n",
       "    </tr>\n",
       "  </tbody>\n",
       "</table>\n",
       "</div>"
      ],
      "text/plain": [
       "Ship Month From Site     Country  Series     1.0     2.0\n",
       "0             Quanta  Austrailia  16T90Q    25.0     0.0\n",
       "1             Quanta      Canada  16T90Q    40.0     0.0\n",
       "2             Quanta     Germany  16T90Q    90.0    25.0\n",
       "3             Quanta       Korea  11T50Q    57.0     0.0\n",
       "4             Quanta       Korea  14T90Q     5.0     0.0\n",
       "5             Quanta       Korea  15U40Q   950.0     0.0\n",
       "6             Quanta       Korea  15U40R  3435.0    15.0\n",
       "7             Quanta       Korea  15U50P   867.0   284.0\n",
       "8             Quanta       Korea  15U50Q  7153.0  4128.0\n",
       "9             Quanta       Korea  16T90Q   764.0   122.0\n",
       "10            Quanta       Korea  16T90R    30.0     0.0\n",
       "11            Quanta      Poland  16T90Q    10.0     0.0\n",
       "12            Quanta   Singapore  14T90Q    15.0     0.0\n",
       "13            Quanta   Singapore  16T90Q    20.0     0.0\n",
       "14            Quanta       Spain  14T90Q    40.0     0.0\n",
       "15            Quanta      Taiwan  16T90Q    10.0     0.0\n",
       "16            Quanta          UK  14T90Q    10.0     0.0\n",
       "17            Quanta          UK  16T90Q     5.0     0.0\n",
       "18            Quanta          US  14T90Q   145.0     0.0\n",
       "19            Quanta          US  16T90Q   755.0     0.0\n",
       "20          Pegatron      Canada  17U70Q     5.0     NaN\n",
       "21          Pegatron     Germany   CL600  1330.0     NaN\n",
       "22          Pegatron       Korea  14T30Q   870.0     NaN\n",
       "23          Pegatron       Korea  17U70P   310.0     NaN\n",
       "24          Pegatron       Korea  17U70Q    20.0     NaN\n",
       "25          Pegatron       Korea   CL600    80.0     NaN\n",
       "26          Pegatron       Spain  13U70Q    30.0     NaN\n",
       "27          Pegatron          UK   CL600   140.0     NaN\n",
       "28          Pegatron          US  17U70Q    15.0     NaN\n",
       "29          Pegatron          US   CL600   955.0     NaN\n",
       "30          Wingtech       Korea  10A30Q  1860.0     NaN"
      ]
     },
     "execution_count": 10,
     "metadata": {},
     "output_type": "execute_result"
    }
   ],
   "source": [
    "with open('D:/Data/Quanta shipment result DB.bin', 'rb') as f:\n",
    "     SR_df_Quanta = pickle.load(f)\n",
    "with open('D:/Data/Pegatron shipment result DB.bin', 'rb') as f:\n",
    "     SR_df_Pegatron = pickle.load(f)\n",
    "with open('D:/Data/Wingtech shipment result DB.bin', 'rb') as f:\n",
    "     SR_df_Wingtech = pickle.load(f)\n",
    "qt_result = pd.pivot_table(SR_df_Quanta[SR_df_Quanta['Ship Year'] == 2023], index=['Country', 'Series'], columns='Ship Month', values='Ship', aggfunc=sum).fillna(0)\n",
    "pg_result = pd.pivot_table(SR_df_Pegatron[SR_df_Pegatron['Ship Year'] == 2023], index=['Country', 'Series'], columns='Ship Month', values='Ship', aggfunc=sum).fillna(0)\n",
    "wt_result = pd.pivot_table(SR_df_Wingtech[SR_df_Wingtech['Ship Year'] == 2023], index=['Country', 'Series'], columns='Ship Month', values='Ship', aggfunc=sum).fillna(0)\n",
    "\n",
    "df = pd.concat([qt_result, pg_result, wt_result]).reset_index()\n",
    "df.insert(0, 'From Site', df['Series'].replace(vendor_find))\n",
    "df"
   ]
  },
  {
   "cell_type": "code",
   "execution_count": 4,
   "id": "32942025",
   "metadata": {},
   "outputs": [],
   "source": [
    "def get_month_name(month_number):\n",
    "    \"\"\"Convert a month number (1-12) to the month name.\"\"\"\n",
    "    if isinstance(month_number, (int, float)):\n",
    "        date = datetime.datetime.strptime(f\"{int(month_number)}\", \"%m\")\n",
    "        return date.strftime(\"%b\")\n",
    "    else:\n",
    "        return month_number"
   ]
  },
  {
   "cell_type": "code",
   "execution_count": 20,
   "id": "1a570a94",
   "metadata": {},
   "outputs": [
    {
     "data": {
      "text/html": [
       "<div>\n",
       "<style scoped>\n",
       "    .dataframe tbody tr th:only-of-type {\n",
       "        vertical-align: middle;\n",
       "    }\n",
       "\n",
       "    .dataframe tbody tr th {\n",
       "        vertical-align: top;\n",
       "    }\n",
       "\n",
       "    .dataframe thead th {\n",
       "        text-align: right;\n",
       "    }\n",
       "</style>\n",
       "<table border=\"1\" class=\"dataframe\">\n",
       "  <thead>\n",
       "    <tr style=\"text-align: right;\">\n",
       "      <th></th>\n",
       "      <th></th>\n",
       "      <th>Ship Month</th>\n",
       "      <th>Jan</th>\n",
       "      <th>Feb</th>\n",
       "    </tr>\n",
       "    <tr>\n",
       "      <th>From Site</th>\n",
       "      <th>Country</th>\n",
       "      <th>Series</th>\n",
       "      <th></th>\n",
       "      <th></th>\n",
       "    </tr>\n",
       "  </thead>\n",
       "  <tbody>\n",
       "    <tr>\n",
       "      <th rowspan=\"10\" valign=\"top\">Pegatron</th>\n",
       "      <th>Canada</th>\n",
       "      <th>17U70Q</th>\n",
       "      <td>5.0</td>\n",
       "      <td>0.0</td>\n",
       "    </tr>\n",
       "    <tr>\n",
       "      <th>Germany</th>\n",
       "      <th>CL600</th>\n",
       "      <td>1330.0</td>\n",
       "      <td>0.0</td>\n",
       "    </tr>\n",
       "    <tr>\n",
       "      <th rowspan=\"4\" valign=\"top\">Korea</th>\n",
       "      <th>14T30Q</th>\n",
       "      <td>870.0</td>\n",
       "      <td>0.0</td>\n",
       "    </tr>\n",
       "    <tr>\n",
       "      <th>17U70P</th>\n",
       "      <td>310.0</td>\n",
       "      <td>0.0</td>\n",
       "    </tr>\n",
       "    <tr>\n",
       "      <th>17U70Q</th>\n",
       "      <td>20.0</td>\n",
       "      <td>0.0</td>\n",
       "    </tr>\n",
       "    <tr>\n",
       "      <th>CL600</th>\n",
       "      <td>80.0</td>\n",
       "      <td>0.0</td>\n",
       "    </tr>\n",
       "    <tr>\n",
       "      <th>Spain</th>\n",
       "      <th>13U70Q</th>\n",
       "      <td>30.0</td>\n",
       "      <td>0.0</td>\n",
       "    </tr>\n",
       "    <tr>\n",
       "      <th>UK</th>\n",
       "      <th>CL600</th>\n",
       "      <td>140.0</td>\n",
       "      <td>0.0</td>\n",
       "    </tr>\n",
       "    <tr>\n",
       "      <th rowspan=\"2\" valign=\"top\">US</th>\n",
       "      <th>17U70Q</th>\n",
       "      <td>15.0</td>\n",
       "      <td>0.0</td>\n",
       "    </tr>\n",
       "    <tr>\n",
       "      <th>CL600</th>\n",
       "      <td>955.0</td>\n",
       "      <td>0.0</td>\n",
       "    </tr>\n",
       "    <tr>\n",
       "      <th rowspan=\"20\" valign=\"top\">Quanta</th>\n",
       "      <th>Austrailia</th>\n",
       "      <th>16T90Q</th>\n",
       "      <td>25.0</td>\n",
       "      <td>0.0</td>\n",
       "    </tr>\n",
       "    <tr>\n",
       "      <th>Canada</th>\n",
       "      <th>16T90Q</th>\n",
       "      <td>40.0</td>\n",
       "      <td>0.0</td>\n",
       "    </tr>\n",
       "    <tr>\n",
       "      <th>Germany</th>\n",
       "      <th>16T90Q</th>\n",
       "      <td>90.0</td>\n",
       "      <td>25.0</td>\n",
       "    </tr>\n",
       "    <tr>\n",
       "      <th rowspan=\"8\" valign=\"top\">Korea</th>\n",
       "      <th>11T50Q</th>\n",
       "      <td>57.0</td>\n",
       "      <td>0.0</td>\n",
       "    </tr>\n",
       "    <tr>\n",
       "      <th>14T90Q</th>\n",
       "      <td>5.0</td>\n",
       "      <td>0.0</td>\n",
       "    </tr>\n",
       "    <tr>\n",
       "      <th>15U40Q</th>\n",
       "      <td>950.0</td>\n",
       "      <td>0.0</td>\n",
       "    </tr>\n",
       "    <tr>\n",
       "      <th>15U40R</th>\n",
       "      <td>3435.0</td>\n",
       "      <td>15.0</td>\n",
       "    </tr>\n",
       "    <tr>\n",
       "      <th>15U50P</th>\n",
       "      <td>867.0</td>\n",
       "      <td>284.0</td>\n",
       "    </tr>\n",
       "    <tr>\n",
       "      <th>15U50Q</th>\n",
       "      <td>7153.0</td>\n",
       "      <td>4128.0</td>\n",
       "    </tr>\n",
       "    <tr>\n",
       "      <th>16T90Q</th>\n",
       "      <td>764.0</td>\n",
       "      <td>122.0</td>\n",
       "    </tr>\n",
       "    <tr>\n",
       "      <th>16T90R</th>\n",
       "      <td>30.0</td>\n",
       "      <td>0.0</td>\n",
       "    </tr>\n",
       "    <tr>\n",
       "      <th>Poland</th>\n",
       "      <th>16T90Q</th>\n",
       "      <td>10.0</td>\n",
       "      <td>0.0</td>\n",
       "    </tr>\n",
       "    <tr>\n",
       "      <th rowspan=\"2\" valign=\"top\">Singapore</th>\n",
       "      <th>14T90Q</th>\n",
       "      <td>15.0</td>\n",
       "      <td>0.0</td>\n",
       "    </tr>\n",
       "    <tr>\n",
       "      <th>16T90Q</th>\n",
       "      <td>20.0</td>\n",
       "      <td>0.0</td>\n",
       "    </tr>\n",
       "    <tr>\n",
       "      <th>Spain</th>\n",
       "      <th>14T90Q</th>\n",
       "      <td>40.0</td>\n",
       "      <td>0.0</td>\n",
       "    </tr>\n",
       "    <tr>\n",
       "      <th>Taiwan</th>\n",
       "      <th>16T90Q</th>\n",
       "      <td>10.0</td>\n",
       "      <td>0.0</td>\n",
       "    </tr>\n",
       "    <tr>\n",
       "      <th rowspan=\"2\" valign=\"top\">UK</th>\n",
       "      <th>14T90Q</th>\n",
       "      <td>10.0</td>\n",
       "      <td>0.0</td>\n",
       "    </tr>\n",
       "    <tr>\n",
       "      <th>16T90Q</th>\n",
       "      <td>5.0</td>\n",
       "      <td>0.0</td>\n",
       "    </tr>\n",
       "    <tr>\n",
       "      <th rowspan=\"2\" valign=\"top\">US</th>\n",
       "      <th>14T90Q</th>\n",
       "      <td>145.0</td>\n",
       "      <td>0.0</td>\n",
       "    </tr>\n",
       "    <tr>\n",
       "      <th>16T90Q</th>\n",
       "      <td>755.0</td>\n",
       "      <td>0.0</td>\n",
       "    </tr>\n",
       "    <tr>\n",
       "      <th>Wingtech</th>\n",
       "      <th>Korea</th>\n",
       "      <th>10A30Q</th>\n",
       "      <td>1860.0</td>\n",
       "      <td>0.0</td>\n",
       "    </tr>\n",
       "  </tbody>\n",
       "</table>\n",
       "</div>"
      ],
      "text/plain": [
       "Ship Month                      Jan     Feb\n",
       "From Site Country    Series                \n",
       "Pegatron  Canada     17U70Q     5.0     0.0\n",
       "          Germany    CL600   1330.0     0.0\n",
       "          Korea      14T30Q   870.0     0.0\n",
       "                     17U70P   310.0     0.0\n",
       "                     17U70Q    20.0     0.0\n",
       "                     CL600     80.0     0.0\n",
       "          Spain      13U70Q    30.0     0.0\n",
       "          UK         CL600    140.0     0.0\n",
       "          US         17U70Q    15.0     0.0\n",
       "                     CL600    955.0     0.0\n",
       "Quanta    Austrailia 16T90Q    25.0     0.0\n",
       "          Canada     16T90Q    40.0     0.0\n",
       "          Germany    16T90Q    90.0    25.0\n",
       "          Korea      11T50Q    57.0     0.0\n",
       "                     14T90Q     5.0     0.0\n",
       "                     15U40Q   950.0     0.0\n",
       "                     15U40R  3435.0    15.0\n",
       "                     15U50P   867.0   284.0\n",
       "                     15U50Q  7153.0  4128.0\n",
       "                     16T90Q   764.0   122.0\n",
       "                     16T90R    30.0     0.0\n",
       "          Poland     16T90Q    10.0     0.0\n",
       "          Singapore  14T90Q    15.0     0.0\n",
       "                     16T90Q    20.0     0.0\n",
       "          Spain      14T90Q    40.0     0.0\n",
       "          Taiwan     16T90Q    10.0     0.0\n",
       "          UK         14T90Q    10.0     0.0\n",
       "                     16T90Q     5.0     0.0\n",
       "          US         14T90Q   145.0     0.0\n",
       "                     16T90Q   755.0     0.0\n",
       "Wingtech  Korea      10A30Q  1860.0     0.0"
      ]
     },
     "execution_count": 20,
     "metadata": {},
     "output_type": "execute_result"
    }
   ],
   "source": [
    "df1 = df.groupby(['From Site', 'Country', 'Series']).sum()\n",
    "month_type = CategoricalDtype(['Jan', 'Feb', 'Mar', 'Apr', 'May', 'Jun', 'Jul', 'Aug', 'Sep', 'Oct', 'Nov', 'Dec'], ordered=True)\n",
    "df1.columns = df1.columns.astype(month_type)\n",
    "d = datetime.date.today()\n",
    "df1.loc[:, :get_month_name(d.month-1)].to_excel('D:/PC_ODM_월별 실적/2023년 PC_ODM_월별 선적 실적_{}.xlsx'.format(d.strftime('%y%m%d')))"
   ]
  },
  {
   "cell_type": "code",
   "execution_count": null,
   "id": "f64fd729",
   "metadata": {},
   "outputs": [],
   "source": []
  }
 ],
 "metadata": {
  "kernelspec": {
   "display_name": "Python 3 (ipykernel)",
   "language": "python",
   "name": "python3"
  },
  "language_info": {
   "codemirror_mode": {
    "name": "ipython",
    "version": 3
   },
   "file_extension": ".py",
   "mimetype": "text/x-python",
   "name": "python",
   "nbconvert_exporter": "python",
   "pygments_lexer": "ipython3",
   "version": "3.9.7"
  }
 },
 "nbformat": 4,
 "nbformat_minor": 5
}
