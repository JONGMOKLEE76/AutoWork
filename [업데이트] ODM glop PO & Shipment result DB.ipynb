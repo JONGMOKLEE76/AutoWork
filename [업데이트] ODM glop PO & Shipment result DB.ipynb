{
 "cells": [
  {
   "cell_type": "code",
   "execution_count": 1,
   "id": "c54742d5",
   "metadata": {},
   "outputs": [],
   "source": [
    "from tool import *\n",
    "import pyautogui\n",
    "import sys\n",
    "\n",
    "# general options\n",
    "pd.set_option('display.max_columns',100)\n",
    "pd.set_option('display.max_rows',100)"
   ]
  },
  {
   "cell_type": "markdown",
   "id": "221fc516",
   "metadata": {},
   "source": [
    "## PO DB 업데이트"
   ]
  },
  {
   "cell_type": "code",
   "execution_count": 20,
   "id": "e01ef4e9",
   "metadata": {},
   "outputs": [],
   "source": [
    "filepath = 'D:/Downloads/' + [file for file in os.listdir('D:/Downloads/') if 'poshThru' in file][-1] # 파일이름에 poshThru가 들어가는 파일 중에 가장 최신 파일을 선택함\n",
    "df = pd.read_excel(filepath, sheet_name='DataSet').iloc[:, :48]\n",
    "\n",
    "if df['Model'][0].split('.')[0] == 'PH30N':\n",
    "    vendor = 'Wanlida'\n",
    "else:\n",
    "    vendor = df['Model'].apply(lambda x:x.split('-')[0]).replace(srt_model).replace(vendor_find)[0]\n",
    "\n",
    "if vendor not in ['Quanta', 'Pegatron', 'Wanlida', 'Wingtech']:\n",
    "    sys.exit()\n",
    "\n",
    "df = df[['Model', 'PO No.', 'Ship To', 'Shipping', 'Cancel', 'PO', 'OQC Report', 'OQC Date', 'OQC Result', 'Ship', 'Issued Date', 'RSD','Ship Date', 'BL No', 'BL Status', 'Method', 'Price Term', 'Unit Price', 'Currency', 'Payment Term', 'PO1 No', 'SO No.', 'Final Destination']]\n",
    "df.loc[df['PO1 No'].notnull(), 'PO1 No'] = df.loc[df['PO1 No'].notnull(),'PO1 No'].astype('int').astype('str')\n",
    "df.loc[df['SO No.'].notnull(), 'SO No.'] = df.loc[df['SO No.'].notnull(), 'SO No.'].astype('int').astype('str')\n",
    "df[['OQC Date', 'PO1 No', 'SO No.', 'Final Destination']] = df[['OQC Date', 'PO1 No', 'SO No.', 'Final Destination']].fillna('-')\n",
    "\n",
    "df['Ship'].fillna(0, inplace=True)\n",
    "df['Ship'] = df['Ship'].astype('int')\n",
    "df['Issued Date'] = pd.to_datetime(df['Issued Date'])\n",
    "df['PO Week'] = df['Issued Date'].dt.isocalendar().week.apply(lambda x:'{0:02d}'.format(x))\n",
    "df['PO Month'] = df['Issued Date'].apply(get_month_from_date)\n",
    "df['PO Year'] = df['Issued Date'].dt.isocalendar().year\n",
    "df['RSD'] = pd.to_datetime(df['RSD']) # PO의 RSD를 Datetime 형식으로 변경\n",
    "df['RSD Week'] = df['RSD'].dt.isocalendar().week.apply(lambda x:'{0:02d}'.format(x))\n",
    "df['RSD Month'] = df['RSD'].apply(get_month_from_date)\n",
    "df['RSD Year'] = df['RSD'].dt.isocalendar().year\n",
    "df['RSD Week Year'] = df['RSD'].apply(getfirstdate_year)\n",
    "df['RSD Week Month'] = df['RSD'].apply(getfirstdate_month)\n",
    "df['RSD Week Day'] = df['RSD'].apply(getfirstdate_day)\n",
    "df['RSD Week Name'] = df['RSD Week Year'].astype(str) + '-' + df['RSD Week Month'].astype(str) + '-' + df['RSD Week Day'].astype(str) + '(W' + df['RSD Week'].astype(str) +')'\n",
    "df.rename(columns={'Model':'Mapping Model.Suffix'}, inplace=True)\n",
    "\n",
    "if vendor != 'Wanlida':\n",
    "    df['Model'] = df['Mapping Model.Suffix'].apply(lambda x: x.split('-')[0])\n",
    "    df['Series'] = df['Model'].replace(srt_model)\n",
    "\n",
    "df['Ship To'] = df['Ship To'].replace(site_name_adjust_map)\n",
    "df['Country'] = df['Ship To'].replace(site_map)\n",
    "df['Region'] = df['Country'].replace(country_map)\n",
    "\n",
    "if vendor != 'Wanlida':\n",
    "    df1 = df.groupby(['PO No.', 'Cancel', 'Issued Date', 'PO Year', 'PO Month', 'PO Week', 'Region', 'Country', 'Series', 'Model',\n",
    "                        'Mapping Model.Suffix', 'Ship To', 'RSD', 'RSD Year', 'RSD Month', 'RSD Week', 'RSD Week Name', 'Method',\n",
    "                        'Price Term', 'Unit Price', 'Currency', 'Payment Term', 'PO1 No', 'SO No.',\n",
    "                        'Final Destination'])[['PO']].sum().reset_index().set_index('PO No.')\n",
    "else:\n",
    "    df1 = df.groupby(['PO No.', 'Cancel', 'Issued Date', 'PO Year', 'PO Month', 'PO Week', 'Region', 'Country',\n",
    "                    'Mapping Model.Suffix', 'Ship To', 'RSD', 'RSD Year', 'RSD Month', 'RSD Week', 'RSD Week Name', 'Method',\n",
    "                    'Price Term', 'Unit Price', 'Currency', 'Payment Term', 'PO1 No', 'SO No.',\n",
    "                    'Final Destination'])[['PO']].sum().reset_index().set_index('PO No.')  \n",
    "\n",
    "with open(f'D:/Data/{vendor} PO DB.bin', 'rb') as f:\n",
    "    PO_df = pickle.load(f)"
   ]
  },
  {
   "cell_type": "code",
   "execution_count": 22,
   "id": "23d96acc",
   "metadata": {},
   "outputs": [],
   "source": [
    "PO_df1 = PO_df.copy()"
   ]
  },
  {
   "cell_type": "code",
   "execution_count": 23,
   "id": "932114f4",
   "metadata": {},
   "outputs": [],
   "source": [
    "prev_po = PO_df.shape[0]"
   ]
  },
  {
   "cell_type": "code",
   "execution_count": 24,
   "id": "b2803663",
   "metadata": {},
   "outputs": [],
   "source": [
    "for i in df1.index:\n",
    "    PO_df.loc[i, :] = df1.loc[i, :]"
   ]
  },
  {
   "cell_type": "code",
   "execution_count": 25,
   "id": "a61c64ce",
   "metadata": {},
   "outputs": [],
   "source": [
    "updated_po = PO_df.shape[0]"
   ]
  },
  {
   "cell_type": "code",
   "execution_count": 26,
   "id": "1eed71c1",
   "metadata": {},
   "outputs": [],
   "source": [
    "with open(f'D:/Data/{vendor} PO DB.bin', 'wb') as f:\n",
    "    pickle.dump(PO_df, f)\n",
    "# DB backup 폴더에도 저장\n",
    "with open(f'D:/Data/DB backup/{vendor} PO DB.bin', 'wb') as f:\n",
    "    pickle.dump(PO_df, f)"
   ]
  },
  {
   "cell_type": "markdown",
   "id": "4ddc6316",
   "metadata": {},
   "source": [
    "## Shipment result DB 업데이트"
   ]
  },
  {
   "cell_type": "code",
   "execution_count": 27,
   "id": "388e514d",
   "metadata": {},
   "outputs": [],
   "source": [
    "with open(f'D:/Data/{vendor} shipment result DB.bin', 'rb') as f:\n",
    "     SR_df = pickle.load(f)\n",
    "\n",
    "df = df[df['Ship Date'].notnull()]\n",
    "df['Ship Date'] = pd.to_datetime(df['Ship Date'])\n",
    "df['Ship Week'] = df['Ship Date'].dt.isocalendar().week.apply(lambda x:'{0:02d}'.format(x))\n",
    "df['Ship Month'] = df['Ship Date'].apply(get_month_from_date)\n",
    "df['Ship Year'] = df['Ship Date'].dt.isocalendar().year\n",
    "df['Ship Week month'] = df['Ship Date'].apply(getfirstdate_month)\n",
    "df['Ship Week day'] = df['Ship Date'].apply(getfirstdate_day)\n",
    "df['Ship Week year'] = df['Ship Date'].apply(getfirstdate_year)\n",
    "df['Ship Week year'] = df['Ship Week year'].astype(str)\n",
    "df['Ship Week month'] = df['Ship Week month'].astype(str)\n",
    "df['Ship Week day'] = df['Ship Week day'].astype(str)\n",
    "df['Ship Week'] = df['Ship Week'].astype(str)\n",
    "df['Week Name'] = df['Ship Week year'] + '-' + df['Ship Week month'] + '-' + df['Ship Week day'] + '(W' + df['Ship Week'] + ')'\n",
    "df = df.set_index(['PO No.', 'BL No'])"
   ]
  },
  {
   "cell_type": "code",
   "execution_count": 28,
   "id": "a5cd451c",
   "metadata": {},
   "outputs": [],
   "source": [
    "SR_df1 = SR_df.copy()"
   ]
  },
  {
   "cell_type": "code",
   "execution_count": 29,
   "id": "cac40236",
   "metadata": {},
   "outputs": [],
   "source": [
    "prev_sr = SR_df.shape[0]"
   ]
  },
  {
   "cell_type": "code",
   "execution_count": 30,
   "id": "1aaea9b8",
   "metadata": {},
   "outputs": [],
   "source": [
    "for i in df.index:\n",
    "    SR_df.loc[i, :] = df.loc[i, :]"
   ]
  },
  {
   "cell_type": "code",
   "execution_count": 31,
   "id": "3c7cd457",
   "metadata": {},
   "outputs": [],
   "source": [
    "updated_sr = SR_df.shape[0]"
   ]
  },
  {
   "cell_type": "code",
   "execution_count": 32,
   "id": "123bfaef",
   "metadata": {},
   "outputs": [],
   "source": [
    "# PO 대비 선적수량이 더 많은 경우가 없는지 check\n",
    "with open(f'D:/Data/{vendor} PO DB.bin', 'rb') as f:\n",
    "    PO = pickle.load(f)\n",
    "with open(f'D:/Data/{vendor} shipment result DB.bin', 'rb') as f:\n",
    "    SR = pickle.load(f)\n",
    "\n",
    "PO = PO[PO['Cancel']=='N']\n",
    "df = pd.concat([PO['PO'], SR.groupby('PO No.')['Ship'].sum()], axis=1)\n",
    "df.fillna(0, inplace=True)\n",
    "df['Open'] = df['PO'] - df['Ship']\n",
    "df = df[df['Open'] < 0]"
   ]
  },
  {
   "cell_type": "code",
   "execution_count": 33,
   "id": "43aace02",
   "metadata": {},
   "outputs": [],
   "source": [
    "if df.shape[0] != 0:\n",
    "    print(df)\n",
    "    sys.exit()"
   ]
  },
  {
   "cell_type": "code",
   "execution_count": 34,
   "id": "db39a6c2",
   "metadata": {},
   "outputs": [],
   "source": [
    "with open(f'D:/Data/{vendor} shipment result DB.bin', 'wb') as f:\n",
    "    pickle.dump(SR_df, f)"
   ]
  },
  {
   "cell_type": "code",
   "execution_count": 35,
   "id": "45b6338e",
   "metadata": {},
   "outputs": [
    {
     "name": "stdout",
     "output_type": "stream",
     "text": [
      "Wingtech의 DB를 업데이트 하였습니다. PO는 3 건, 선적은 7 건 추가 되었습니다. \n",
      "D:/Downloads/poshThru_20230904124031.xls\n"
     ]
    }
   ],
   "source": [
    "with open(f'D:/Data/DB backup/{vendor} shipment result DB.bin', 'wb') as f:\n",
    "    pickle.dump(SR_df, f)\n",
    "print(f\"{vendor}의 DB를 업데이트 하였습니다. PO는 {updated_po - prev_po} 건, 선적은 {updated_sr - prev_sr} 건 추가 되었습니다. \")\n",
    "print(filepath)"
   ]
  },
  {
   "cell_type": "code",
   "execution_count": 36,
   "id": "67c0eba3",
   "metadata": {},
   "outputs": [
    {
     "data": {
      "text/html": [
       "<div>\n",
       "<style scoped>\n",
       "    .dataframe tbody tr th:only-of-type {\n",
       "        vertical-align: middle;\n",
       "    }\n",
       "\n",
       "    .dataframe tbody tr th {\n",
       "        vertical-align: top;\n",
       "    }\n",
       "\n",
       "    .dataframe thead th {\n",
       "        text-align: right;\n",
       "    }\n",
       "</style>\n",
       "<table border=\"1\" class=\"dataframe\">\n",
       "  <thead>\n",
       "    <tr style=\"text-align: right;\">\n",
       "      <th></th>\n",
       "      <th></th>\n",
       "      <th>RSD Week Name</th>\n",
       "      <th>2023-08-28(W35)</th>\n",
       "      <th>2023-09-18(W38)</th>\n",
       "      <th>2023-09-25(W39)</th>\n",
       "    </tr>\n",
       "    <tr>\n",
       "      <th>PO No.</th>\n",
       "      <th>Mapping Model.Suffix</th>\n",
       "      <th>Country</th>\n",
       "      <th></th>\n",
       "      <th></th>\n",
       "      <th></th>\n",
       "    </tr>\n",
       "  </thead>\n",
       "  <tbody>\n",
       "    <tr>\n",
       "      <th>ZPCZ23005288</th>\n",
       "      <th>10A30Q-L.AQ1TL</th>\n",
       "      <th>Korea</th>\n",
       "      <td>NaN</td>\n",
       "      <td>300.0</td>\n",
       "      <td>NaN</td>\n",
       "    </tr>\n",
       "    <tr>\n",
       "      <th>ZPCZ23005449</th>\n",
       "      <th>10A30Q-L.AQ12ML</th>\n",
       "      <th>Korea</th>\n",
       "      <td>30.0</td>\n",
       "      <td>NaN</td>\n",
       "      <td>NaN</td>\n",
       "    </tr>\n",
       "    <tr>\n",
       "      <th>ZPCZ23005457</th>\n",
       "      <th>10A30Q-L.AQ1TL</th>\n",
       "      <th>Korea</th>\n",
       "      <td>NaN</td>\n",
       "      <td>NaN</td>\n",
       "      <td>300.0</td>\n",
       "    </tr>\n",
       "  </tbody>\n",
       "</table>\n",
       "</div>"
      ],
      "text/plain": [
       "RSD Week Name                              2023-08-28(W35)  2023-09-18(W38)  \\\n",
       "PO No.       Mapping Model.Suffix Country                                     \n",
       "ZPCZ23005288 10A30Q-L.AQ1TL       Korea                NaN            300.0   \n",
       "ZPCZ23005449 10A30Q-L.AQ12ML      Korea               30.0              NaN   \n",
       "ZPCZ23005457 10A30Q-L.AQ1TL       Korea                NaN              NaN   \n",
       "\n",
       "RSD Week Name                              2023-09-25(W39)  \n",
       "PO No.       Mapping Model.Suffix Country                   \n",
       "ZPCZ23005288 10A30Q-L.AQ1TL       Korea                NaN  \n",
       "ZPCZ23005449 10A30Q-L.AQ12ML      Korea                NaN  \n",
       "ZPCZ23005457 10A30Q-L.AQ1TL       Korea              300.0  "
      ]
     },
     "execution_count": 36,
     "metadata": {},
     "output_type": "execute_result"
    }
   ],
   "source": [
    "PO_df.drop(index=PO_df1.index).pivot_table('PO', index=['PO No.', 'Mapping Model.Suffix',  'Country'], columns='RSD Week Name', aggfunc=sum) # 추가된 PO 리스트"
   ]
  },
  {
   "cell_type": "code",
   "execution_count": 37,
   "id": "997a4096",
   "metadata": {
    "scrolled": false
   },
   "outputs": [
    {
     "data": {
      "text/html": [
       "<div>\n",
       "<style scoped>\n",
       "    .dataframe tbody tr th:only-of-type {\n",
       "        vertical-align: middle;\n",
       "    }\n",
       "\n",
       "    .dataframe tbody tr th {\n",
       "        vertical-align: top;\n",
       "    }\n",
       "\n",
       "    .dataframe thead tr th {\n",
       "        text-align: left;\n",
       "    }\n",
       "\n",
       "    .dataframe thead tr:last-of-type th {\n",
       "        text-align: right;\n",
       "    }\n",
       "</style>\n",
       "<table border=\"1\" class=\"dataframe\">\n",
       "  <thead>\n",
       "    <tr>\n",
       "      <th></th>\n",
       "      <th></th>\n",
       "      <th></th>\n",
       "      <th>Week Name</th>\n",
       "      <th colspan=\"2\" halign=\"left\">2023-08-07(W32)</th>\n",
       "      <th>2023-08-14(W33)</th>\n",
       "      <th>2023-08-28(W35)</th>\n",
       "    </tr>\n",
       "    <tr>\n",
       "      <th></th>\n",
       "      <th></th>\n",
       "      <th></th>\n",
       "      <th>Ship Date</th>\n",
       "      <th>2023-08-09</th>\n",
       "      <th>2023-08-10</th>\n",
       "      <th>2023-08-18</th>\n",
       "      <th>2023-08-31</th>\n",
       "    </tr>\n",
       "    <tr>\n",
       "      <th>Country</th>\n",
       "      <th>BL No</th>\n",
       "      <th>Mapping Model.Suffix</th>\n",
       "      <th>PO No.</th>\n",
       "      <th></th>\n",
       "      <th></th>\n",
       "      <th></th>\n",
       "      <th></th>\n",
       "    </tr>\n",
       "  </thead>\n",
       "  <tbody>\n",
       "    <tr>\n",
       "      <th rowspan=\"7\" valign=\"top\">Korea</th>\n",
       "      <th>BAA23080102</th>\n",
       "      <th>10A30Q-L.AQ14K</th>\n",
       "      <th>ZPCZ23004071</th>\n",
       "      <td>440.0</td>\n",
       "      <td>0.0</td>\n",
       "      <td>0.0</td>\n",
       "      <td>0.0</td>\n",
       "    </tr>\n",
       "    <tr>\n",
       "      <th>BAA23080103</th>\n",
       "      <th>10A30Q-L.AQ28K</th>\n",
       "      <th>ZPCZ23004070</th>\n",
       "      <td>120.0</td>\n",
       "      <td>0.0</td>\n",
       "      <td>0.0</td>\n",
       "      <td>0.0</td>\n",
       "    </tr>\n",
       "    <tr>\n",
       "      <th>BAA23080104</th>\n",
       "      <th>10A30Q-L.AQ28ML</th>\n",
       "      <th>ZPCZ23004073</th>\n",
       "      <td>140.0</td>\n",
       "      <td>0.0</td>\n",
       "      <td>0.0</td>\n",
       "      <td>0.0</td>\n",
       "    </tr>\n",
       "    <tr>\n",
       "      <th>BAA23080105</th>\n",
       "      <th>10A30Q-L.AQ12ML</th>\n",
       "      <th>ZPCZ23004308</th>\n",
       "      <td>0.0</td>\n",
       "      <td>1440.0</td>\n",
       "      <td>0.0</td>\n",
       "      <td>0.0</td>\n",
       "    </tr>\n",
       "    <tr>\n",
       "      <th>BAA23080106</th>\n",
       "      <th>10A30Q-L.AQ12ML</th>\n",
       "      <th>ZPCZ23004308</th>\n",
       "      <td>0.0</td>\n",
       "      <td>0.0</td>\n",
       "      <td>160.0</td>\n",
       "      <td>0.0</td>\n",
       "    </tr>\n",
       "    <tr>\n",
       "      <th>BAA23080107</th>\n",
       "      <th>10A30Q-L.AQ48KN</th>\n",
       "      <th>ZPCZ23004072</th>\n",
       "      <td>0.0</td>\n",
       "      <td>0.0</td>\n",
       "      <td>0.0</td>\n",
       "      <td>40.0</td>\n",
       "    </tr>\n",
       "    <tr>\n",
       "      <th>BAA23080385</th>\n",
       "      <th>10A30Q-L.AQ1TL</th>\n",
       "      <th>ZPCZ23004578</th>\n",
       "      <td>0.0</td>\n",
       "      <td>0.0</td>\n",
       "      <td>0.0</td>\n",
       "      <td>440.0</td>\n",
       "    </tr>\n",
       "  </tbody>\n",
       "</table>\n",
       "</div>"
      ],
      "text/plain": [
       "Week Name                                             2023-08-07(W32)  \\\n",
       "Ship Date                                                  2023-08-09   \n",
       "Country BL No       Mapping Model.Suffix PO No.                         \n",
       "Korea   BAA23080102 10A30Q-L.AQ14K       ZPCZ23004071           440.0   \n",
       "        BAA23080103 10A30Q-L.AQ28K       ZPCZ23004070           120.0   \n",
       "        BAA23080104 10A30Q-L.AQ28ML      ZPCZ23004073           140.0   \n",
       "        BAA23080105 10A30Q-L.AQ12ML      ZPCZ23004308             0.0   \n",
       "        BAA23080106 10A30Q-L.AQ12ML      ZPCZ23004308             0.0   \n",
       "        BAA23080107 10A30Q-L.AQ48KN      ZPCZ23004072             0.0   \n",
       "        BAA23080385 10A30Q-L.AQ1TL       ZPCZ23004578             0.0   \n",
       "\n",
       "Week Name                                                         \\\n",
       "Ship Date                                             2023-08-10   \n",
       "Country BL No       Mapping Model.Suffix PO No.                    \n",
       "Korea   BAA23080102 10A30Q-L.AQ14K       ZPCZ23004071        0.0   \n",
       "        BAA23080103 10A30Q-L.AQ28K       ZPCZ23004070        0.0   \n",
       "        BAA23080104 10A30Q-L.AQ28ML      ZPCZ23004073        0.0   \n",
       "        BAA23080105 10A30Q-L.AQ12ML      ZPCZ23004308     1440.0   \n",
       "        BAA23080106 10A30Q-L.AQ12ML      ZPCZ23004308        0.0   \n",
       "        BAA23080107 10A30Q-L.AQ48KN      ZPCZ23004072        0.0   \n",
       "        BAA23080385 10A30Q-L.AQ1TL       ZPCZ23004578        0.0   \n",
       "\n",
       "Week Name                                             2023-08-14(W33)  \\\n",
       "Ship Date                                                  2023-08-18   \n",
       "Country BL No       Mapping Model.Suffix PO No.                         \n",
       "Korea   BAA23080102 10A30Q-L.AQ14K       ZPCZ23004071             0.0   \n",
       "        BAA23080103 10A30Q-L.AQ28K       ZPCZ23004070             0.0   \n",
       "        BAA23080104 10A30Q-L.AQ28ML      ZPCZ23004073             0.0   \n",
       "        BAA23080105 10A30Q-L.AQ12ML      ZPCZ23004308             0.0   \n",
       "        BAA23080106 10A30Q-L.AQ12ML      ZPCZ23004308           160.0   \n",
       "        BAA23080107 10A30Q-L.AQ48KN      ZPCZ23004072             0.0   \n",
       "        BAA23080385 10A30Q-L.AQ1TL       ZPCZ23004578             0.0   \n",
       "\n",
       "Week Name                                             2023-08-28(W35)  \n",
       "Ship Date                                                  2023-08-31  \n",
       "Country BL No       Mapping Model.Suffix PO No.                        \n",
       "Korea   BAA23080102 10A30Q-L.AQ14K       ZPCZ23004071             0.0  \n",
       "        BAA23080103 10A30Q-L.AQ28K       ZPCZ23004070             0.0  \n",
       "        BAA23080104 10A30Q-L.AQ28ML      ZPCZ23004073             0.0  \n",
       "        BAA23080105 10A30Q-L.AQ12ML      ZPCZ23004308             0.0  \n",
       "        BAA23080106 10A30Q-L.AQ12ML      ZPCZ23004308             0.0  \n",
       "        BAA23080107 10A30Q-L.AQ48KN      ZPCZ23004072            40.0  \n",
       "        BAA23080385 10A30Q-L.AQ1TL       ZPCZ23004578           440.0  "
      ]
     },
     "execution_count": 37,
     "metadata": {},
     "output_type": "execute_result"
    }
   ],
   "source": [
    "SR_df.drop(index=SR_df1.index).pivot_table('Ship', index=['Country', 'BL No', 'Mapping Model.Suffix', 'PO No.'], columns=['Week Name', 'Ship Date'], aggfunc='sum').fillna(0) # 추가된 선적실적"
   ]
  },
  {
   "cell_type": "code",
   "execution_count": null,
   "id": "103b117e",
   "metadata": {},
   "outputs": [],
   "source": []
  }
 ],
 "metadata": {
  "kernelspec": {
   "display_name": "Python 3 (ipykernel)",
   "language": "python",
   "name": "python3"
  },
  "language_info": {
   "codemirror_mode": {
    "name": "ipython",
    "version": 3
   },
   "file_extension": ".py",
   "mimetype": "text/x-python",
   "name": "python",
   "nbconvert_exporter": "python",
   "pygments_lexer": "ipython3",
   "version": "3.10.9"
  }
 },
 "nbformat": 4,
 "nbformat_minor": 5
}
