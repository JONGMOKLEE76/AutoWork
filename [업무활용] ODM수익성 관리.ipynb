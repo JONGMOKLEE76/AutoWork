{
 "cells": [
  {
   "cell_type": "code",
   "execution_count": 1,
   "id": "25fce8d3",
   "metadata": {},
   "outputs": [],
   "source": [
    "from tool import *"
   ]
  },
  {
   "cell_type": "code",
   "execution_count": 2,
   "id": "a8f857be",
   "metadata": {},
   "outputs": [],
   "source": [
    "filepath = get_filename()"
   ]
  },
  {
   "cell_type": "code",
   "execution_count": 4,
   "id": "b697b260",
   "metadata": {},
   "outputs": [],
   "source": [
    "df = pd.read_excel(filepath, skiprows=5)"
   ]
  },
  {
   "cell_type": "code",
   "execution_count": 9,
   "id": "0def9c5f",
   "metadata": {},
   "outputs": [
    {
     "name": "stdout",
     "output_type": "stream",
     "text": [
      "<class 'pandas.core.frame.DataFrame'>\n",
      "RangeIndex: 10262 entries, 0 to 10261\n",
      "Data columns (total 134 columns):\n",
      " #    Column                             Dtype  \n",
      "---   ------                             -----  \n",
      " 0    제품군\n",
      "(경영회의)                         object \n",
      " 1    지역                                 object \n",
      " 2    법인2                                object \n",
      " 3    모델                                 object \n",
      " 4    수량                                 int64  \n",
      " 5    수량수정                               int64  \n",
      " 6    가모델                                object \n",
      " 7    Category                           object \n",
      " 8    Panel                              object \n",
      " 9    Resolution                         object \n",
      " 10   Feature                            object \n",
      " 11   Specialty                          object \n",
      " 12   Inch                               object \n",
      " 13   Aspect Ratio                       object \n",
      " 14   Grade(`20)                         object \n",
      " 15   Launching                          object \n",
      " 16   매출액수정                              float64\n",
      " 17   한계이익                               float64\n",
      " 18   ☆한계이익율                             float64\n",
      " 19   ★한계이익Range1                        object \n",
      " 20   한계적자                               object \n",
      " 21   YYYYMM                             int64  \n",
      " 22   Division                           object \n",
      " 23   Zone(R&R)                          object \n",
      " 24   Subsidiary(R&R)                    object \n",
      " 25   Subsidiary                         object \n",
      " 26   Supplier                           object \n",
      " 27   Production Subsidiary              object \n",
      " 28   Country(R&R)                       object \n",
      " 29   Product Lvl3                       object \n",
      " 30   Product Lvl3 Name                  object \n",
      " 31   Product Lvl4                       object \n",
      " 32   Product Lvl4 Name                  object \n",
      " 33   Model Suffix                       object \n",
      " 34   Sales Model Suffix(Production)     object \n",
      " 35   Product Model Suffix(Production)   object \n",
      " 36   Product Type                       object \n",
      " 37   External/Internal                  object \n",
      " 38   Outsourcing Model Flag             object \n",
      " 39   Model Mapping Type                 object \n",
      " 40   Cost Apply Month                   object \n",
      " 41   (NPG)B2B Model Type                object \n",
      " 42   Global Product Lvl4                object \n",
      " 43   (NPD)Inch_GTT                      object \n",
      " 44   OS Business Type                   object \n",
      " 45   (NPD)Strategic Products_GTT        object \n",
      " 46   Sales Quantity Include Flag        object \n",
      " 47   Metrics                            float64\n",
      " 48   Sales Qty                          int64  \n",
      " 49   Net Sales                          float64\n",
      " 50   Retail Sales (Tax Included)        float64\n",
      " 51   Retail Sales (Tax Excluded)        float64\n",
      " 52   Dealer Margin                      float64\n",
      " 53   Sell in Base Sales (Tax Excluded)  float64\n",
      " 54   Additional D/C                     float64\n",
      " 55   Gross Sales                        float64\n",
      " 56   Sales Deduction                    float64\n",
      " 57   Trade Term (Sell In)               float64\n",
      " 58   Non Trade Term (Sell In)           float64\n",
      " 59   Non Trade Term (Sell Out)          float64\n",
      " 60   Cash D/C                           float64\n",
      " 61   Charge Back                        float64\n",
      " 62   Other Sales Deduction              float64\n",
      " 63   Est. Balance Adjustment            int64  \n",
      " 64   Part/Other Sales                   float64\n",
      " 65   Part Sales                         float64\n",
      " 66   Other Sales                        float64\n",
      " 67   Sales_Allowance for Return         float64\n",
      " 68   COGS                               float64\n",
      " 69   Material Cost                      float64\n",
      " 70   Net Material Cost                  float64\n",
      " 71   Material O/H                       float64\n",
      " 72   Defective Material                 float64\n",
      " 73   Conversion Cost                    float64\n",
      " 74   Labor Cost                         float64\n",
      " 75   Manuf Exp                          float64\n",
      " 76   Inland Cost (Merchandise)          float64\n",
      " 77   Purchase Cost (Merchandise)        float64\n",
      " 78   Royalty                            float64\n",
      " 79   Customs Refund                     float64\n",
      " 80   Inventory Waste                    float64\n",
      " 81   Valuation of Inventory             float64\n",
      " 82   Difference Adjustment              float64\n",
      " 83   COGS_Allowance for Return          float64\n",
      " 84   Installation Exp                   float64\n",
      " 85   Rental COGS                        float64\n",
      " 86   Part/Other COGS                    float64\n",
      " 87   Parts COGS                         float64\n",
      " 88   Other COGS                         float64\n",
      " 89   Internal Exp                       float64\n",
      " 90   Internal Exp_Normal                float64\n",
      " 91   Internal Exp_Penalty               int64  \n",
      " 92   Internal Exp_P/H-Fund              int64  \n",
      " 93   COGS OThers                        float64\n",
      " 94   PL Gap                             float64\n",
      " 95   COGS Gap                           float64\n",
      " 96   Receiving-Issuance Gap             float64\n",
      " 97   FX Gain&Loss                       float64\n",
      " 98   SG&A                               float64\n",
      " 99   Selling                            float64\n",
      " 100  Selling_Labor                      float64\n",
      " 101  Selling_Transportation             float64\n",
      " 102  Selling_Commission & Charge        float64\n",
      " 103  Selling_Advertising                float64\n",
      " 104  Selling_Promotion                  float64\n",
      " 105  Selling_Bad Debt                   float64\n",
      " 106  Selling_Others                     float64\n",
      " 107  Admin                              float64\n",
      " 108  Admin_Labor                        float64\n",
      " 109  Admin_Transportation               float64\n",
      " 110  Admin_Commission & Charge          float64\n",
      " 111  Admin_Others                       float64\n",
      " 112  R&D                                float64\n",
      " 113  R&D_Labor                          float64\n",
      " 114  R&D_Transportation                 float64\n",
      " 115  R&D_Commission & Charge            float64\n",
      " 116  R&D_Ordinary Development           float64\n",
      " 117  R&D_Others                         float64\n",
      " 118  SVC                                float64\n",
      " 119  SVC_Labor                          float64\n",
      " 120  SVC_Transportation                 float64\n",
      " 121  SVC_Commission & Charge            float64\n",
      " 122  SVC_Domestic/Overseas              float64\n",
      " 123  SVC_Reserve for Warranty on Sales  float64\n",
      " 124  SVC_Others                         float64\n",
      " 125  Marginal Profit                    float64\n",
      " 126  Operating Income                   float64\n",
      " 127  Contribution Profit                float64\n",
      " 128  Unnamed: 128                       float64\n",
      " 129  Unnamed: 129                       float64\n",
      " 130  Unnamed: 130                       float64\n",
      " 131  Unnamed: 131                       float64\n",
      " 132  Unnamed: 132                       float64\n",
      " 133  Unnamed: 133                       object \n",
      "dtypes: float64(85), int64(7), object(42)\n",
      "memory usage: 10.5+ MB\n"
     ]
    }
   ],
   "source": [
    "df.info(verbose=True)"
   ]
  },
  {
   "cell_type": "code",
   "execution_count": 18,
   "id": "de9a59c4",
   "metadata": {},
   "outputs": [],
   "source": [
    "tcl_model = '[2|3][2|4|7][M|B][R|C][4][0|1]\\w'"
   ]
  },
  {
   "cell_type": "code",
   "execution_count": 19,
   "id": "2c8900f2",
   "metadata": {},
   "outputs": [
    {
     "data": {
      "text/plain": [
       "array(['22MR410', '24BR400', '24MR400', '27MR400', '22MR41A', '22MR41S',\n",
       "       '24MR41A', '24MR41S', '27MR41A', '27MR41S'], dtype=object)"
      ]
     },
     "execution_count": 19,
     "metadata": {},
     "output_type": "execute_result"
    }
   ],
   "source": [
    "df[df['Model Suffix'].str.match(tcl_model)]['모델'].unique()"
   ]
  },
  {
   "cell_type": "code",
   "execution_count": null,
   "id": "9d7e8b2a",
   "metadata": {},
   "outputs": [],
   "source": []
  }
 ],
 "metadata": {
  "kernelspec": {
   "display_name": "Python 3 (ipykernel)",
   "language": "python",
   "name": "python3"
  },
  "language_info": {
   "codemirror_mode": {
    "name": "ipython",
    "version": 3
   },
   "file_extension": ".py",
   "mimetype": "text/x-python",
   "name": "python",
   "nbconvert_exporter": "python",
   "pygments_lexer": "ipython3",
   "version": "3.10.9"
  }
 },
 "nbformat": 4,
 "nbformat_minor": 5
}
