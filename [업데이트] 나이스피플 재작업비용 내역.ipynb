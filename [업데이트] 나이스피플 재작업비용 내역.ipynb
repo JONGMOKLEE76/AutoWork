{
 "cells": [
  {
   "cell_type": "code",
   "execution_count": 1,
   "id": "d22832b9",
   "metadata": {},
   "outputs": [],
   "source": [
    "from tool import *"
   ]
  },
  {
   "cell_type": "markdown",
   "id": "40f17067",
   "metadata": {},
   "source": [
    "# 1. 재작업비용 내역 DB 불러오기"
   ]
  },
  {
   "cell_type": "code",
   "execution_count": 23,
   "id": "c0909a0b",
   "metadata": {},
   "outputs": [],
   "source": [
    "with open('D:/Data/nicepeople_cost_db.bin', 'rb') as f:\n",
    "    rw_df = pickle.load(f)"
   ]
  },
  {
   "cell_type": "markdown",
   "id": "9d2a4bf5",
   "metadata": {},
   "source": [
    "# 2. 나이스피플 청구서 불러와서 데이타 cleaning"
   ]
  },
  {
   "cell_type": "code",
   "execution_count": 24,
   "id": "47166f12",
   "metadata": {},
   "outputs": [],
   "source": [
    "vendor = 'Pegatron'"
   ]
  },
  {
   "cell_type": "code",
   "execution_count": 25,
   "id": "78127b80",
   "metadata": {},
   "outputs": [],
   "source": [
    "fn = get_filename()\n",
    "df = pd.read_excel(fn, sheet_name='업무대행비')\n",
    "i = df.loc[df['Unnamed: 1'].str.contains('작업일', na=False)].index[0]\n",
    "df = pd.read_excel(fn, skiprows=i+1, sheet_name='업무대행비')\n",
    "df = df.iloc[:, 1:]"
   ]
  },
  {
   "cell_type": "code",
   "execution_count": 26,
   "id": "0d7eef34",
   "metadata": {},
   "outputs": [
    {
     "data": {
      "text/html": [
       "<div>\n",
       "<style scoped>\n",
       "    .dataframe tbody tr th:only-of-type {\n",
       "        vertical-align: middle;\n",
       "    }\n",
       "\n",
       "    .dataframe tbody tr th {\n",
       "        vertical-align: top;\n",
       "    }\n",
       "\n",
       "    .dataframe thead th {\n",
       "        text-align: right;\n",
       "    }\n",
       "</style>\n",
       "<table border=\"1\" class=\"dataframe\">\n",
       "  <thead>\n",
       "    <tr style=\"text-align: right;\">\n",
       "      <th></th>\n",
       "      <th>작업일</th>\n",
       "      <th>Unnamed: 2</th>\n",
       "      <th>인원 수</th>\n",
       "      <th>평일</th>\n",
       "      <th>특근(휴일)</th>\n",
       "      <th>잔업1TH= ((일당/8)* 1.5)</th>\n",
       "      <th>Unnamed: 7</th>\n",
       "      <th>Unnamed: 8</th>\n",
       "      <th>소계</th>\n",
       "    </tr>\n",
       "  </thead>\n",
       "  <tbody>\n",
       "    <tr>\n",
       "      <th>0</th>\n",
       "      <td>NaN</td>\n",
       "      <td>NaN</td>\n",
       "      <td>NaN</td>\n",
       "      <td>134561.0</td>\n",
       "      <td>201842.0</td>\n",
       "      <td>시간TH</td>\n",
       "      <td>인원수</td>\n",
       "      <td>25230.0</td>\n",
       "      <td>NaN</td>\n",
       "    </tr>\n",
       "    <tr>\n",
       "      <th>1</th>\n",
       "      <td>2023-03-01 00:00:00</td>\n",
       "      <td>NaN</td>\n",
       "      <td>0.0</td>\n",
       "      <td>0.0</td>\n",
       "      <td>NaN</td>\n",
       "      <td>NaN</td>\n",
       "      <td>NaN</td>\n",
       "      <td>NaN</td>\n",
       "      <td>0.0</td>\n",
       "    </tr>\n",
       "    <tr>\n",
       "      <th>2</th>\n",
       "      <td>2023-03-02 00:00:00</td>\n",
       "      <td>NaN</td>\n",
       "      <td>0.0</td>\n",
       "      <td>0.0</td>\n",
       "      <td>NaN</td>\n",
       "      <td>NaN</td>\n",
       "      <td>NaN</td>\n",
       "      <td>NaN</td>\n",
       "      <td>0.0</td>\n",
       "    </tr>\n",
       "    <tr>\n",
       "      <th>3</th>\n",
       "      <td>2023-03-03 00:00:00</td>\n",
       "      <td>NaN</td>\n",
       "      <td>0.0</td>\n",
       "      <td>0.0</td>\n",
       "      <td>NaN</td>\n",
       "      <td>NaN</td>\n",
       "      <td>NaN</td>\n",
       "      <td>NaN</td>\n",
       "      <td>0.0</td>\n",
       "    </tr>\n",
       "    <tr>\n",
       "      <th>4</th>\n",
       "      <td>2023-03-04 00:00:00</td>\n",
       "      <td>NaN</td>\n",
       "      <td>0.0</td>\n",
       "      <td>0.0</td>\n",
       "      <td>NaN</td>\n",
       "      <td>NaN</td>\n",
       "      <td>NaN</td>\n",
       "      <td>NaN</td>\n",
       "      <td>0.0</td>\n",
       "    </tr>\n",
       "  </tbody>\n",
       "</table>\n",
       "</div>"
      ],
      "text/plain": [
       "                  작업일   Unnamed: 2  인원 수        평일     특근(휴일)  \\\n",
       "0                  NaN         NaN    NaN  134561.0  201842.0   \n",
       "1  2023-03-01 00:00:00         NaN    0.0       0.0       NaN   \n",
       "2  2023-03-02 00:00:00         NaN    0.0       0.0       NaN   \n",
       "3  2023-03-03 00:00:00         NaN    0.0       0.0       NaN   \n",
       "4  2023-03-04 00:00:00         NaN    0.0       0.0       NaN   \n",
       "\n",
       "  잔업1TH= ((일당/8)* 1.5) Unnamed: 7  Unnamed: 8   소계  \n",
       "0                 시간TH        인원수     25230.0  NaN  \n",
       "1                  NaN        NaN         NaN  0.0  \n",
       "2                  NaN        NaN         NaN  0.0  \n",
       "3                  NaN        NaN         NaN  0.0  \n",
       "4                  NaN        NaN         NaN  0.0  "
      ]
     },
     "execution_count": 26,
     "metadata": {},
     "output_type": "execute_result"
    }
   ],
   "source": [
    "df.head()"
   ]
  },
  {
   "cell_type": "code",
   "execution_count": 27,
   "id": "79279ed2",
   "metadata": {},
   "outputs": [],
   "source": [
    "df.columns = [i.strip() for i in df.columns.tolist()]\n",
    "price_table = {'normal':df.loc[0, '평일'], 'holiday':df.loc[0, '특근(휴일)'], 'overtime':df.loc[0, 'Unnamed: 8']}\n",
    "df.columns = df.iloc[0]\n",
    "df = df.drop(0)"
   ]
  },
  {
   "cell_type": "code",
   "execution_count": 28,
   "id": "a7439ca3",
   "metadata": {},
   "outputs": [
    {
     "data": {
      "text/html": [
       "<div>\n",
       "<style scoped>\n",
       "    .dataframe tbody tr th:only-of-type {\n",
       "        vertical-align: middle;\n",
       "    }\n",
       "\n",
       "    .dataframe tbody tr th {\n",
       "        vertical-align: top;\n",
       "    }\n",
       "\n",
       "    .dataframe thead th {\n",
       "        text-align: right;\n",
       "    }\n",
       "</style>\n",
       "<table border=\"1\" class=\"dataframe\">\n",
       "  <thead>\n",
       "    <tr style=\"text-align: right;\">\n",
       "      <th></th>\n",
       "      <th>NaN</th>\n",
       "      <th>NaN</th>\n",
       "      <th>NaN</th>\n",
       "      <th>134561.0</th>\n",
       "      <th>201842.0</th>\n",
       "      <th>시간TH</th>\n",
       "      <th>인원수</th>\n",
       "      <th>25230.0</th>\n",
       "      <th>NaN</th>\n",
       "    </tr>\n",
       "  </thead>\n",
       "  <tbody>\n",
       "    <tr>\n",
       "      <th>1</th>\n",
       "      <td>2023-03-01 00:00:00</td>\n",
       "      <td>NaN</td>\n",
       "      <td>0.0</td>\n",
       "      <td>0.0</td>\n",
       "      <td>NaN</td>\n",
       "      <td>NaN</td>\n",
       "      <td>NaN</td>\n",
       "      <td>NaN</td>\n",
       "      <td>0.0</td>\n",
       "    </tr>\n",
       "    <tr>\n",
       "      <th>2</th>\n",
       "      <td>2023-03-02 00:00:00</td>\n",
       "      <td>NaN</td>\n",
       "      <td>0.0</td>\n",
       "      <td>0.0</td>\n",
       "      <td>NaN</td>\n",
       "      <td>NaN</td>\n",
       "      <td>NaN</td>\n",
       "      <td>NaN</td>\n",
       "      <td>0.0</td>\n",
       "    </tr>\n",
       "    <tr>\n",
       "      <th>3</th>\n",
       "      <td>2023-03-03 00:00:00</td>\n",
       "      <td>NaN</td>\n",
       "      <td>0.0</td>\n",
       "      <td>0.0</td>\n",
       "      <td>NaN</td>\n",
       "      <td>NaN</td>\n",
       "      <td>NaN</td>\n",
       "      <td>NaN</td>\n",
       "      <td>0.0</td>\n",
       "    </tr>\n",
       "    <tr>\n",
       "      <th>4</th>\n",
       "      <td>2023-03-04 00:00:00</td>\n",
       "      <td>NaN</td>\n",
       "      <td>0.0</td>\n",
       "      <td>0.0</td>\n",
       "      <td>NaN</td>\n",
       "      <td>NaN</td>\n",
       "      <td>NaN</td>\n",
       "      <td>NaN</td>\n",
       "      <td>0.0</td>\n",
       "    </tr>\n",
       "    <tr>\n",
       "      <th>5</th>\n",
       "      <td>2023-03-05 00:00:00</td>\n",
       "      <td>NaN</td>\n",
       "      <td>0.0</td>\n",
       "      <td>0.0</td>\n",
       "      <td>NaN</td>\n",
       "      <td>NaN</td>\n",
       "      <td>NaN</td>\n",
       "      <td>NaN</td>\n",
       "      <td>0.0</td>\n",
       "    </tr>\n",
       "  </tbody>\n",
       "</table>\n",
       "</div>"
      ],
      "text/plain": [
       "0                  NaN  NaN  NaN  134561.0  201842.0 시간TH  인원수  25230.0  NaN\n",
       "1  2023-03-01 00:00:00  NaN  0.0       0.0       NaN  NaN  NaN      NaN  0.0\n",
       "2  2023-03-02 00:00:00  NaN  0.0       0.0       NaN  NaN  NaN      NaN  0.0\n",
       "3  2023-03-03 00:00:00  NaN  0.0       0.0       NaN  NaN  NaN      NaN  0.0\n",
       "4  2023-03-04 00:00:00  NaN  0.0       0.0       NaN  NaN  NaN      NaN  0.0\n",
       "5  2023-03-05 00:00:00  NaN  0.0       0.0       NaN  NaN  NaN      NaN  0.0"
      ]
     },
     "execution_count": 28,
     "metadata": {},
     "output_type": "execute_result"
    }
   ],
   "source": [
    "df.head()"
   ]
  },
  {
   "cell_type": "code",
   "execution_count": 29,
   "id": "fda73ce1",
   "metadata": {},
   "outputs": [],
   "source": [
    "df.columns = ['Inspection Date', '삭제1', 'Worker1', 'Amount_Normal', 'Amount_Holiday', 'Overtime', 'Worker2', 'Amount_Overtime', 'Total_Amount']"
   ]
  },
  {
   "cell_type": "code",
   "execution_count": 30,
   "id": "29a6ebbb",
   "metadata": {},
   "outputs": [],
   "source": [
    "df = df.drop(['삭제1'], axis=1)"
   ]
  },
  {
   "cell_type": "code",
   "execution_count": 31,
   "id": "e6d1acc4",
   "metadata": {},
   "outputs": [],
   "source": [
    "df = df[df['Inspection Date'].notnull()]\n",
    "df = df[df['Inspection Date'].str.contains('2022-', na=True)]\n",
    "df = df[df['Worker1'] > 0]"
   ]
  },
  {
   "cell_type": "code",
   "execution_count": 32,
   "id": "22493780",
   "metadata": {},
   "outputs": [
    {
     "data": {
      "text/html": [
       "<div>\n",
       "<style scoped>\n",
       "    .dataframe tbody tr th:only-of-type {\n",
       "        vertical-align: middle;\n",
       "    }\n",
       "\n",
       "    .dataframe tbody tr th {\n",
       "        vertical-align: top;\n",
       "    }\n",
       "\n",
       "    .dataframe thead th {\n",
       "        text-align: right;\n",
       "    }\n",
       "</style>\n",
       "<table border=\"1\" class=\"dataframe\">\n",
       "  <thead>\n",
       "    <tr style=\"text-align: right;\">\n",
       "      <th></th>\n",
       "      <th>Inspection Date</th>\n",
       "      <th>Worker1</th>\n",
       "      <th>Amount_Normal</th>\n",
       "      <th>Amount_Holiday</th>\n",
       "      <th>Overtime</th>\n",
       "      <th>Worker2</th>\n",
       "      <th>Amount_Overtime</th>\n",
       "      <th>Total_Amount</th>\n",
       "    </tr>\n",
       "  </thead>\n",
       "  <tbody>\n",
       "    <tr>\n",
       "      <th>30</th>\n",
       "      <td>2023-03-30 00:00:00</td>\n",
       "      <td>5.0</td>\n",
       "      <td>672805.0</td>\n",
       "      <td>NaN</td>\n",
       "      <td>NaN</td>\n",
       "      <td>NaN</td>\n",
       "      <td>NaN</td>\n",
       "      <td>672805.0</td>\n",
       "    </tr>\n",
       "  </tbody>\n",
       "</table>\n",
       "</div>"
      ],
      "text/plain": [
       "        Inspection Date  Worker1  Amount_Normal  Amount_Holiday Overtime  \\\n",
       "30  2023-03-30 00:00:00      5.0       672805.0             NaN      NaN   \n",
       "\n",
       "   Worker2  Amount_Overtime  Total_Amount  \n",
       "30     NaN              NaN      672805.0  "
      ]
     },
     "execution_count": 32,
     "metadata": {},
     "output_type": "execute_result"
    }
   ],
   "source": [
    "df"
   ]
  },
  {
   "cell_type": "code",
   "execution_count": 33,
   "id": "a2ae3713",
   "metadata": {
    "scrolled": true
   },
   "outputs": [],
   "source": [
    "for k, v in price_table.items():\n",
    "    df[k] = v\n",
    "df = df.convert_dtypes()\n",
    "df = df.fillna(0)\n",
    "df['Weekday'] = df['Inspection Date'].dt.weekday\n",
    "cond = df['Weekday'] < 5\n",
    "df.loc[cond, 'Amount_Normal_Cal'] = df.loc[cond, 'Worker1'] * df.loc[cond, 'normal']\n",
    "df['Amount_Normal_Cal'].fillna(0, inplace=True)\n",
    "df.loc[~cond, 'Amount_Holiday_Cal'] = df.loc[~cond, 'Worker1'] * df.loc[~cond, 'holiday']\n",
    "df['Amount_Holiday_Cal'].fillna(0, inplace=True)\n",
    "cond2 = df['Overtime'] > 0\n",
    "df.loc[cond2, 'Amount_Overtime_cal'] = df.loc[cond2, 'Overtime'] * df.loc[cond2, 'Worker2'] * df.loc[cond2, 'overtime']\n",
    "df['Amount_Overtime_cal'].fillna(0, inplace=True)\n",
    "df['Total_Amount_cal'] = df['Amount_Normal_Cal'] + df['Amount_Holiday_Cal'] + df['Amount_Overtime_cal']\n",
    "df['Total_Amount_cal'].fillna(0, inplace=True)\n",
    "df['Amount_Check'] = (df['Total_Amount'] == df['Total_Amount_cal'])"
   ]
  },
  {
   "cell_type": "code",
   "execution_count": 34,
   "id": "1fe3b087",
   "metadata": {},
   "outputs": [
    {
     "data": {
      "text/html": [
       "<div>\n",
       "<style scoped>\n",
       "    .dataframe tbody tr th:only-of-type {\n",
       "        vertical-align: middle;\n",
       "    }\n",
       "\n",
       "    .dataframe tbody tr th {\n",
       "        vertical-align: top;\n",
       "    }\n",
       "\n",
       "    .dataframe thead th {\n",
       "        text-align: right;\n",
       "    }\n",
       "</style>\n",
       "<table border=\"1\" class=\"dataframe\">\n",
       "  <thead>\n",
       "    <tr style=\"text-align: right;\">\n",
       "      <th></th>\n",
       "      <th>Inspection Date</th>\n",
       "      <th>Worker1</th>\n",
       "      <th>Amount_Normal</th>\n",
       "      <th>Amount_Holiday</th>\n",
       "      <th>Overtime</th>\n",
       "      <th>Worker2</th>\n",
       "      <th>Amount_Overtime</th>\n",
       "      <th>Total_Amount</th>\n",
       "      <th>normal</th>\n",
       "      <th>holiday</th>\n",
       "      <th>overtime</th>\n",
       "      <th>Weekday</th>\n",
       "      <th>Amount_Normal_Cal</th>\n",
       "      <th>Amount_Holiday_Cal</th>\n",
       "      <th>Amount_Overtime_cal</th>\n",
       "      <th>Total_Amount_cal</th>\n",
       "      <th>Amount_Check</th>\n",
       "    </tr>\n",
       "  </thead>\n",
       "  <tbody>\n",
       "    <tr>\n",
       "      <th>30</th>\n",
       "      <td>2023-03-30</td>\n",
       "      <td>5</td>\n",
       "      <td>672805</td>\n",
       "      <td>0</td>\n",
       "      <td>0</td>\n",
       "      <td>0</td>\n",
       "      <td>0</td>\n",
       "      <td>672805</td>\n",
       "      <td>134561</td>\n",
       "      <td>201842</td>\n",
       "      <td>25230</td>\n",
       "      <td>3</td>\n",
       "      <td>672805</td>\n",
       "      <td>0</td>\n",
       "      <td>0</td>\n",
       "      <td>672805</td>\n",
       "      <td>True</td>\n",
       "    </tr>\n",
       "  </tbody>\n",
       "</table>\n",
       "</div>"
      ],
      "text/plain": [
       "   Inspection Date  Worker1  Amount_Normal  Amount_Holiday  Overtime  Worker2  \\\n",
       "30      2023-03-30        5         672805               0         0        0   \n",
       "\n",
       "    Amount_Overtime  Total_Amount  normal  holiday  overtime  Weekday  \\\n",
       "30                0        672805  134561   201842     25230        3   \n",
       "\n",
       "    Amount_Normal_Cal  Amount_Holiday_Cal  Amount_Overtime_cal  \\\n",
       "30             672805                   0                    0   \n",
       "\n",
       "    Total_Amount_cal  Amount_Check  \n",
       "30            672805          True  "
      ]
     },
     "execution_count": 34,
     "metadata": {},
     "output_type": "execute_result"
    }
   ],
   "source": [
    "df"
   ]
  },
  {
   "cell_type": "code",
   "execution_count": 35,
   "id": "ca727e5e",
   "metadata": {},
   "outputs": [
    {
     "name": "stderr",
     "output_type": "stream",
     "text": [
      "C:\\Users\\paul76.lee\\AppData\\Local\\Temp/ipykernel_15564/1587937323.py:4: SettingWithCopyWarning: \n",
      "A value is trying to be set on a copy of a slice from a DataFrame.\n",
      "Try using .loc[row_indexer,col_indexer] = value instead\n",
      "\n",
      "See the caveats in the documentation: https://pandas.pydata.org/pandas-docs/stable/user_guide/indexing.html#returning-a-view-versus-a-copy\n",
      "  df['Amount_with_VAT'] = df['Total_Amount']*1.1\n",
      "C:\\Users\\paul76.lee\\AppData\\Local\\Temp/ipykernel_15564/1587937323.py:5: SettingWithCopyWarning: \n",
      "A value is trying to be set on a copy of a slice from a DataFrame.\n",
      "Try using .loc[row_indexer,col_indexer] = value instead\n",
      "\n",
      "See the caveats in the documentation: https://pandas.pydata.org/pandas-docs/stable/user_guide/indexing.html#returning-a-view-versus-a-copy\n",
      "  df['Amount_with_VAT'] = df['Amount_with_VAT'].round().astype(int)\n"
     ]
    }
   ],
   "source": [
    "# df['Total_Amount'] = df['Total_Amount_cal'] # 비교하여 정확한 값을  Total Amount로 함\n",
    "df = df[['Inspection Date', 'Worker1', 'Amount_Normal', 'Amount_Holiday', 'Overtime', 'Worker2', 'Amount_Overtime',\n",
    "         'Total_Amount', 'normal', 'holiday', 'overtime']]\n",
    "df['Amount_with_VAT'] = df['Total_Amount']*1.1\n",
    "df['Amount_with_VAT'] = df['Amount_with_VAT'].round().astype(int)\n",
    "df.insert(1, 'Supplier', vendor)\n",
    "df.reset_index(drop=True, inplace=True)"
   ]
  },
  {
   "cell_type": "code",
   "execution_count": 36,
   "id": "f6b59817",
   "metadata": {},
   "outputs": [
    {
     "data": {
      "text/plain": [
       "740086"
      ]
     },
     "execution_count": 36,
     "metadata": {},
     "output_type": "execute_result"
    }
   ],
   "source": [
    "df['Amount_with_VAT'].sum() # 해당월 총 재작업 비용"
   ]
  },
  {
   "cell_type": "code",
   "execution_count": 37,
   "id": "956c153a",
   "metadata": {},
   "outputs": [
    {
     "data": {
      "text/html": [
       "<div>\n",
       "<style scoped>\n",
       "    .dataframe tbody tr th:only-of-type {\n",
       "        vertical-align: middle;\n",
       "    }\n",
       "\n",
       "    .dataframe tbody tr th {\n",
       "        vertical-align: top;\n",
       "    }\n",
       "\n",
       "    .dataframe thead th {\n",
       "        text-align: right;\n",
       "    }\n",
       "</style>\n",
       "<table border=\"1\" class=\"dataframe\">\n",
       "  <thead>\n",
       "    <tr style=\"text-align: right;\">\n",
       "      <th></th>\n",
       "      <th>Inspection Date</th>\n",
       "      <th>Supplier</th>\n",
       "      <th>Worker1</th>\n",
       "      <th>Amount_Normal</th>\n",
       "      <th>Amount_Holiday</th>\n",
       "      <th>Overtime</th>\n",
       "      <th>Worker2</th>\n",
       "      <th>Amount_Overtime</th>\n",
       "      <th>Total_Amount</th>\n",
       "      <th>normal</th>\n",
       "      <th>holiday</th>\n",
       "      <th>overtime</th>\n",
       "      <th>Amount_with_VAT</th>\n",
       "    </tr>\n",
       "  </thead>\n",
       "  <tbody>\n",
       "    <tr>\n",
       "      <th>0</th>\n",
       "      <td>2023-03-30</td>\n",
       "      <td>Pegatron</td>\n",
       "      <td>5</td>\n",
       "      <td>672805</td>\n",
       "      <td>0</td>\n",
       "      <td>0</td>\n",
       "      <td>0</td>\n",
       "      <td>0</td>\n",
       "      <td>672805</td>\n",
       "      <td>134561</td>\n",
       "      <td>201842</td>\n",
       "      <td>25230</td>\n",
       "      <td>740086</td>\n",
       "    </tr>\n",
       "  </tbody>\n",
       "</table>\n",
       "</div>"
      ],
      "text/plain": [
       "  Inspection Date  Supplier  Worker1  Amount_Normal  Amount_Holiday  Overtime  \\\n",
       "0      2023-03-30  Pegatron        5         672805               0         0   \n",
       "\n",
       "   Worker2  Amount_Overtime  Total_Amount  normal  holiday  overtime  \\\n",
       "0        0                0        672805  134561   201842     25230   \n",
       "\n",
       "   Amount_with_VAT  \n",
       "0           740086  "
      ]
     },
     "execution_count": 37,
     "metadata": {},
     "output_type": "execute_result"
    }
   ],
   "source": [
    "df"
   ]
  },
  {
   "cell_type": "code",
   "execution_count": 38,
   "id": "a797f3ee",
   "metadata": {},
   "outputs": [
    {
     "data": {
      "text/plain": [
       "(96, 13)"
      ]
     },
     "execution_count": 38,
     "metadata": {},
     "output_type": "execute_result"
    }
   ],
   "source": [
    "rw_df.shape"
   ]
  },
  {
   "cell_type": "code",
   "execution_count": 39,
   "id": "df1c381b",
   "metadata": {
    "scrolled": true
   },
   "outputs": [],
   "source": [
    "rw_df = pd.concat([rw_df, df])"
   ]
  },
  {
   "cell_type": "code",
   "execution_count": 40,
   "id": "0f277139",
   "metadata": {},
   "outputs": [],
   "source": [
    "rw_df.reset_index(drop=True, inplace=True)"
   ]
  },
  {
   "cell_type": "markdown",
   "id": "fdaeb42f",
   "metadata": {},
   "source": [
    "# 3. 데이타 저장"
   ]
  },
  {
   "cell_type": "code",
   "execution_count": 41,
   "id": "e9d5f08c",
   "metadata": {
    "scrolled": false
   },
   "outputs": [
    {
     "data": {
      "text/plain": [
       "(97, 13)"
      ]
     },
     "execution_count": 41,
     "metadata": {},
     "output_type": "execute_result"
    }
   ],
   "source": [
    "rw_df.shape # 파일 저장 전 다시 한번 확인하자!"
   ]
  },
  {
   "cell_type": "code",
   "execution_count": 42,
   "id": "c184ba81",
   "metadata": {},
   "outputs": [],
   "source": [
    "with open('D:/Data/nicepeople_cost_db.bin', 'wb') as f:\n",
    "    pickle.dump(rw_df, f)"
   ]
  },
  {
   "cell_type": "code",
   "execution_count": 43,
   "id": "02f5ed39",
   "metadata": {},
   "outputs": [],
   "source": [
    "with open('D:/Data/DB backup/nicepeople_cost_db.bin', 'wb') as f:\n",
    "    pickle.dump(rw_df, f)"
   ]
  },
  {
   "cell_type": "code",
   "execution_count": null,
   "id": "39475023",
   "metadata": {},
   "outputs": [],
   "source": []
  }
 ],
 "metadata": {
  "kernelspec": {
   "display_name": "Python 3 (ipykernel)",
   "language": "python",
   "name": "python3"
  },
  "language_info": {
   "codemirror_mode": {
    "name": "ipython",
    "version": 3
   },
   "file_extension": ".py",
   "mimetype": "text/x-python",
   "name": "python",
   "nbconvert_exporter": "python",
   "pygments_lexer": "ipython3",
   "version": "3.9.7"
  }
 },
 "nbformat": 4,
 "nbformat_minor": 5
}
