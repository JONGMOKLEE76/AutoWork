{
 "cells": [
  {
   "cell_type": "code",
   "execution_count": 1,
   "id": "d22832b9",
   "metadata": {},
   "outputs": [],
   "source": [
    "from tool import *"
   ]
  },
  {
   "cell_type": "markdown",
   "id": "40f17067",
   "metadata": {},
   "source": [
    "# 1. 재작업비용 내역 DB 불러오기"
   ]
  },
  {
   "cell_type": "code",
   "execution_count": 2,
   "id": "c0909a0b",
   "metadata": {},
   "outputs": [],
   "source": [
    "with open('D:/Data/nicepeople_cost_db.bin', 'rb') as f:\n",
    "    rw_df = pickle.load(f)"
   ]
  },
  {
   "cell_type": "markdown",
   "id": "9d2a4bf5",
   "metadata": {},
   "source": [
    "# 2. 나이스피플 청구서 불러와서 데이타 cleaning"
   ]
  },
  {
   "cell_type": "code",
   "execution_count": 3,
   "id": "47166f12",
   "metadata": {},
   "outputs": [],
   "source": [
    "vendor = 'Quanta'"
   ]
  },
  {
   "cell_type": "code",
   "execution_count": 4,
   "id": "78127b80",
   "metadata": {},
   "outputs": [],
   "source": [
    "fn = get_filename()\n",
    "df = pd.read_excel(fn, sheet_name='업무대행비')\n",
    "i = df.loc[df['Unnamed: 1'].str.contains('작업일', na=False)].index[0]\n",
    "df = pd.read_excel(fn, skiprows=i+1, sheet_name='업무대행비')\n",
    "df = df.iloc[:, 1:]"
   ]
  },
  {
   "cell_type": "code",
   "execution_count": 5,
   "id": "0d7eef34",
   "metadata": {},
   "outputs": [
    {
     "data": {
      "text/html": [
       "<div>\n",
       "<style scoped>\n",
       "    .dataframe tbody tr th:only-of-type {\n",
       "        vertical-align: middle;\n",
       "    }\n",
       "\n",
       "    .dataframe tbody tr th {\n",
       "        vertical-align: top;\n",
       "    }\n",
       "\n",
       "    .dataframe thead th {\n",
       "        text-align: right;\n",
       "    }\n",
       "</style>\n",
       "<table border=\"1\" class=\"dataframe\">\n",
       "  <thead>\n",
       "    <tr style=\"text-align: right;\">\n",
       "      <th></th>\n",
       "      <th>작업일</th>\n",
       "      <th>Unnamed: 2</th>\n",
       "      <th>인원 수</th>\n",
       "      <th>평일</th>\n",
       "      <th>특근(휴일)</th>\n",
       "      <th>잔업1TH= ((일당/8)* 1.5)</th>\n",
       "      <th>Unnamed: 7</th>\n",
       "      <th>Unnamed: 8</th>\n",
       "      <th>소계</th>\n",
       "    </tr>\n",
       "  </thead>\n",
       "  <tbody>\n",
       "    <tr>\n",
       "      <th>0</th>\n",
       "      <td>NaN</td>\n",
       "      <td>NaN</td>\n",
       "      <td>NaN</td>\n",
       "      <td>134561.0</td>\n",
       "      <td>201842.0</td>\n",
       "      <td>시간TH</td>\n",
       "      <td>인원수</td>\n",
       "      <td>25230.0</td>\n",
       "      <td>NaN</td>\n",
       "    </tr>\n",
       "    <tr>\n",
       "      <th>1</th>\n",
       "      <td>2023-06-01 00:00:00</td>\n",
       "      <td>NaN</td>\n",
       "      <td>0.0</td>\n",
       "      <td>0.0</td>\n",
       "      <td>NaN</td>\n",
       "      <td>NaN</td>\n",
       "      <td>NaN</td>\n",
       "      <td>NaN</td>\n",
       "      <td>0.0</td>\n",
       "    </tr>\n",
       "    <tr>\n",
       "      <th>2</th>\n",
       "      <td>2023-06-02 00:00:00</td>\n",
       "      <td>NaN</td>\n",
       "      <td>0.0</td>\n",
       "      <td>0.0</td>\n",
       "      <td>NaN</td>\n",
       "      <td>NaN</td>\n",
       "      <td>NaN</td>\n",
       "      <td>NaN</td>\n",
       "      <td>0.0</td>\n",
       "    </tr>\n",
       "    <tr>\n",
       "      <th>3</th>\n",
       "      <td>2023-06-03 00:00:00</td>\n",
       "      <td>NaN</td>\n",
       "      <td>0.0</td>\n",
       "      <td>0.0</td>\n",
       "      <td>NaN</td>\n",
       "      <td>NaN</td>\n",
       "      <td>NaN</td>\n",
       "      <td>NaN</td>\n",
       "      <td>0.0</td>\n",
       "    </tr>\n",
       "    <tr>\n",
       "      <th>4</th>\n",
       "      <td>2023-06-04 00:00:00</td>\n",
       "      <td>NaN</td>\n",
       "      <td>0.0</td>\n",
       "      <td>0.0</td>\n",
       "      <td>NaN</td>\n",
       "      <td>NaN</td>\n",
       "      <td>NaN</td>\n",
       "      <td>NaN</td>\n",
       "      <td>0.0</td>\n",
       "    </tr>\n",
       "  </tbody>\n",
       "</table>\n",
       "</div>"
      ],
      "text/plain": [
       "                  작업일   Unnamed: 2  인원 수        평일     특근(휴일)  \\\n",
       "0                  NaN         NaN    NaN  134561.0  201842.0   \n",
       "1  2023-06-01 00:00:00         NaN    0.0       0.0       NaN   \n",
       "2  2023-06-02 00:00:00         NaN    0.0       0.0       NaN   \n",
       "3  2023-06-03 00:00:00         NaN    0.0       0.0       NaN   \n",
       "4  2023-06-04 00:00:00         NaN    0.0       0.0       NaN   \n",
       "\n",
       "  잔업1TH= ((일당/8)* 1.5) Unnamed: 7  Unnamed: 8   소계  \n",
       "0                 시간TH        인원수     25230.0  NaN  \n",
       "1                  NaN        NaN         NaN  0.0  \n",
       "2                  NaN        NaN         NaN  0.0  \n",
       "3                  NaN        NaN         NaN  0.0  \n",
       "4                  NaN        NaN         NaN  0.0  "
      ]
     },
     "execution_count": 5,
     "metadata": {},
     "output_type": "execute_result"
    }
   ],
   "source": [
    "df.head()"
   ]
  },
  {
   "cell_type": "code",
   "execution_count": 6,
   "id": "79279ed2",
   "metadata": {},
   "outputs": [],
   "source": [
    "df.columns = [i.strip() for i in df.columns.tolist()]\n",
    "price_table = {'normal':df.loc[0, '평일'], 'holiday':df.loc[0, '특근(휴일)'], 'overtime':df.loc[0, 'Unnamed: 8']}\n",
    "df.columns = df.iloc[0]\n",
    "df = df.drop(0)"
   ]
  },
  {
   "cell_type": "code",
   "execution_count": 7,
   "id": "a7439ca3",
   "metadata": {},
   "outputs": [
    {
     "data": {
      "text/html": [
       "<div>\n",
       "<style scoped>\n",
       "    .dataframe tbody tr th:only-of-type {\n",
       "        vertical-align: middle;\n",
       "    }\n",
       "\n",
       "    .dataframe tbody tr th {\n",
       "        vertical-align: top;\n",
       "    }\n",
       "\n",
       "    .dataframe thead th {\n",
       "        text-align: right;\n",
       "    }\n",
       "</style>\n",
       "<table border=\"1\" class=\"dataframe\">\n",
       "  <thead>\n",
       "    <tr style=\"text-align: right;\">\n",
       "      <th></th>\n",
       "      <th>NaN</th>\n",
       "      <th>NaN</th>\n",
       "      <th>NaN</th>\n",
       "      <th>134561.0</th>\n",
       "      <th>201842.0</th>\n",
       "      <th>시간TH</th>\n",
       "      <th>인원수</th>\n",
       "      <th>25230.0</th>\n",
       "      <th>NaN</th>\n",
       "    </tr>\n",
       "  </thead>\n",
       "  <tbody>\n",
       "    <tr>\n",
       "      <th>1</th>\n",
       "      <td>2023-06-01 00:00:00</td>\n",
       "      <td>NaN</td>\n",
       "      <td>0.0</td>\n",
       "      <td>0.0</td>\n",
       "      <td>NaN</td>\n",
       "      <td>NaN</td>\n",
       "      <td>NaN</td>\n",
       "      <td>NaN</td>\n",
       "      <td>0.0</td>\n",
       "    </tr>\n",
       "    <tr>\n",
       "      <th>2</th>\n",
       "      <td>2023-06-02 00:00:00</td>\n",
       "      <td>NaN</td>\n",
       "      <td>0.0</td>\n",
       "      <td>0.0</td>\n",
       "      <td>NaN</td>\n",
       "      <td>NaN</td>\n",
       "      <td>NaN</td>\n",
       "      <td>NaN</td>\n",
       "      <td>0.0</td>\n",
       "    </tr>\n",
       "    <tr>\n",
       "      <th>3</th>\n",
       "      <td>2023-06-03 00:00:00</td>\n",
       "      <td>NaN</td>\n",
       "      <td>0.0</td>\n",
       "      <td>0.0</td>\n",
       "      <td>NaN</td>\n",
       "      <td>NaN</td>\n",
       "      <td>NaN</td>\n",
       "      <td>NaN</td>\n",
       "      <td>0.0</td>\n",
       "    </tr>\n",
       "    <tr>\n",
       "      <th>4</th>\n",
       "      <td>2023-06-04 00:00:00</td>\n",
       "      <td>NaN</td>\n",
       "      <td>0.0</td>\n",
       "      <td>0.0</td>\n",
       "      <td>NaN</td>\n",
       "      <td>NaN</td>\n",
       "      <td>NaN</td>\n",
       "      <td>NaN</td>\n",
       "      <td>0.0</td>\n",
       "    </tr>\n",
       "    <tr>\n",
       "      <th>5</th>\n",
       "      <td>2023-06-05 00:00:00</td>\n",
       "      <td>NaN</td>\n",
       "      <td>0.0</td>\n",
       "      <td>0.0</td>\n",
       "      <td>NaN</td>\n",
       "      <td>NaN</td>\n",
       "      <td>NaN</td>\n",
       "      <td>NaN</td>\n",
       "      <td>0.0</td>\n",
       "    </tr>\n",
       "  </tbody>\n",
       "</table>\n",
       "</div>"
      ],
      "text/plain": [
       "0                  NaN  NaN  NaN  134561.0  201842.0 시간TH  인원수  25230.0  NaN\n",
       "1  2023-06-01 00:00:00  NaN  0.0       0.0       NaN  NaN  NaN      NaN  0.0\n",
       "2  2023-06-02 00:00:00  NaN  0.0       0.0       NaN  NaN  NaN      NaN  0.0\n",
       "3  2023-06-03 00:00:00  NaN  0.0       0.0       NaN  NaN  NaN      NaN  0.0\n",
       "4  2023-06-04 00:00:00  NaN  0.0       0.0       NaN  NaN  NaN      NaN  0.0\n",
       "5  2023-06-05 00:00:00  NaN  0.0       0.0       NaN  NaN  NaN      NaN  0.0"
      ]
     },
     "execution_count": 7,
     "metadata": {},
     "output_type": "execute_result"
    }
   ],
   "source": [
    "df.head()"
   ]
  },
  {
   "cell_type": "code",
   "execution_count": 8,
   "id": "fda73ce1",
   "metadata": {},
   "outputs": [],
   "source": [
    "df.columns = ['Inspection Date', '삭제1', 'Worker1', 'Amount_Normal', 'Amount_Holiday', 'Overtime', 'Worker2', 'Amount_Overtime', 'Total_Amount']"
   ]
  },
  {
   "cell_type": "code",
   "execution_count": 9,
   "id": "29a6ebbb",
   "metadata": {},
   "outputs": [],
   "source": [
    "df = df.drop(['삭제1'], axis=1)"
   ]
  },
  {
   "cell_type": "code",
   "execution_count": 10,
   "id": "e6d1acc4",
   "metadata": {},
   "outputs": [],
   "source": [
    "df = df[df['Inspection Date'].notnull()]\n",
    "df = df[df['Inspection Date'].str.contains('2022-', na=True)]\n",
    "df = df[df['Worker1'] > 0]"
   ]
  },
  {
   "cell_type": "code",
   "execution_count": 11,
   "id": "22493780",
   "metadata": {},
   "outputs": [
    {
     "data": {
      "text/html": [
       "<div>\n",
       "<style scoped>\n",
       "    .dataframe tbody tr th:only-of-type {\n",
       "        vertical-align: middle;\n",
       "    }\n",
       "\n",
       "    .dataframe tbody tr th {\n",
       "        vertical-align: top;\n",
       "    }\n",
       "\n",
       "    .dataframe thead th {\n",
       "        text-align: right;\n",
       "    }\n",
       "</style>\n",
       "<table border=\"1\" class=\"dataframe\">\n",
       "  <thead>\n",
       "    <tr style=\"text-align: right;\">\n",
       "      <th></th>\n",
       "      <th>Inspection Date</th>\n",
       "      <th>Worker1</th>\n",
       "      <th>Amount_Normal</th>\n",
       "      <th>Amount_Holiday</th>\n",
       "      <th>Overtime</th>\n",
       "      <th>Worker2</th>\n",
       "      <th>Amount_Overtime</th>\n",
       "      <th>Total_Amount</th>\n",
       "    </tr>\n",
       "  </thead>\n",
       "  <tbody>\n",
       "    <tr>\n",
       "      <th>7</th>\n",
       "      <td>2023-06-07 00:00:00</td>\n",
       "      <td>2.0</td>\n",
       "      <td>269122.0</td>\n",
       "      <td>NaN</td>\n",
       "      <td>NaN</td>\n",
       "      <td>NaN</td>\n",
       "      <td>NaN</td>\n",
       "      <td>269122.0</td>\n",
       "    </tr>\n",
       "    <tr>\n",
       "      <th>9</th>\n",
       "      <td>2023-06-09 00:00:00</td>\n",
       "      <td>4.0</td>\n",
       "      <td>538244.0</td>\n",
       "      <td>NaN</td>\n",
       "      <td>NaN</td>\n",
       "      <td>NaN</td>\n",
       "      <td>NaN</td>\n",
       "      <td>538244.0</td>\n",
       "    </tr>\n",
       "  </tbody>\n",
       "</table>\n",
       "</div>"
      ],
      "text/plain": [
       "       Inspection Date  Worker1  Amount_Normal  Amount_Holiday Overtime  \\\n",
       "7  2023-06-07 00:00:00      2.0       269122.0             NaN      NaN   \n",
       "9  2023-06-09 00:00:00      4.0       538244.0             NaN      NaN   \n",
       "\n",
       "  Worker2  Amount_Overtime  Total_Amount  \n",
       "7     NaN              NaN      269122.0  \n",
       "9     NaN              NaN      538244.0  "
      ]
     },
     "execution_count": 11,
     "metadata": {},
     "output_type": "execute_result"
    }
   ],
   "source": [
    "df"
   ]
  },
  {
   "cell_type": "code",
   "execution_count": 12,
   "id": "a2ae3713",
   "metadata": {
    "scrolled": true
   },
   "outputs": [
    {
     "name": "stderr",
     "output_type": "stream",
     "text": [
      "C:\\Users\\paul76.lee\\AppData\\Local\\Temp\\ipykernel_20620\\3646960763.py:7: DeprecationWarning: In a future version, `df.iloc[:, i] = newvals` will attempt to set the values inplace instead of always setting a new array. To retain the old behavior, use either `df[df.columns[i]] = newvals` or, if columns are non-unique, `df.isetitem(i, newvals)`\n",
      "  df.loc[cond, 'Amount_Normal_Cal'] = df.loc[cond, 'Worker1'] * df.loc[cond, 'normal']\n"
     ]
    }
   ],
   "source": [
    "for k, v in price_table.items():\n",
    "    df[k] = v\n",
    "df = df.convert_dtypes()\n",
    "df = df.fillna(0)\n",
    "df['Weekday'] = df['Inspection Date'].dt.weekday\n",
    "cond = df['Weekday'] < 5\n",
    "df.loc[cond, 'Amount_Normal_Cal'] = df.loc[cond, 'Worker1'] * df.loc[cond, 'normal']\n",
    "df['Amount_Normal_Cal'].fillna(0, inplace=True)\n",
    "df.loc[~cond, 'Amount_Holiday_Cal'] = df.loc[~cond, 'Worker1'] * df.loc[~cond, 'holiday']\n",
    "df['Amount_Holiday_Cal'].fillna(0, inplace=True)\n",
    "cond2 = df['Overtime'] > 0\n",
    "df.loc[cond2, 'Amount_Overtime_cal'] = df.loc[cond2, 'Overtime'] * df.loc[cond2, 'Worker2'] * df.loc[cond2, 'overtime']\n",
    "df['Amount_Overtime_cal'].fillna(0, inplace=True)\n",
    "df['Total_Amount_cal'] = df['Amount_Normal_Cal'] + df['Amount_Holiday_Cal'] + df['Amount_Overtime_cal']\n",
    "df['Total_Amount_cal'].fillna(0, inplace=True)\n",
    "df['Amount_Check'] = (df['Total_Amount'] == df['Total_Amount_cal'])"
   ]
  },
  {
   "cell_type": "code",
   "execution_count": 13,
   "id": "1fe3b087",
   "metadata": {},
   "outputs": [
    {
     "data": {
      "text/html": [
       "<div>\n",
       "<style scoped>\n",
       "    .dataframe tbody tr th:only-of-type {\n",
       "        vertical-align: middle;\n",
       "    }\n",
       "\n",
       "    .dataframe tbody tr th {\n",
       "        vertical-align: top;\n",
       "    }\n",
       "\n",
       "    .dataframe thead th {\n",
       "        text-align: right;\n",
       "    }\n",
       "</style>\n",
       "<table border=\"1\" class=\"dataframe\">\n",
       "  <thead>\n",
       "    <tr style=\"text-align: right;\">\n",
       "      <th></th>\n",
       "      <th>Inspection Date</th>\n",
       "      <th>Worker1</th>\n",
       "      <th>Amount_Normal</th>\n",
       "      <th>Amount_Holiday</th>\n",
       "      <th>Overtime</th>\n",
       "      <th>Worker2</th>\n",
       "      <th>Amount_Overtime</th>\n",
       "      <th>Total_Amount</th>\n",
       "      <th>normal</th>\n",
       "      <th>holiday</th>\n",
       "      <th>overtime</th>\n",
       "      <th>Weekday</th>\n",
       "      <th>Amount_Normal_Cal</th>\n",
       "      <th>Amount_Holiday_Cal</th>\n",
       "      <th>Amount_Overtime_cal</th>\n",
       "      <th>Total_Amount_cal</th>\n",
       "      <th>Amount_Check</th>\n",
       "    </tr>\n",
       "  </thead>\n",
       "  <tbody>\n",
       "    <tr>\n",
       "      <th>7</th>\n",
       "      <td>2023-06-07</td>\n",
       "      <td>2</td>\n",
       "      <td>269122</td>\n",
       "      <td>0</td>\n",
       "      <td>0</td>\n",
       "      <td>0</td>\n",
       "      <td>0</td>\n",
       "      <td>269122</td>\n",
       "      <td>134561</td>\n",
       "      <td>201842</td>\n",
       "      <td>25230</td>\n",
       "      <td>2</td>\n",
       "      <td>269122</td>\n",
       "      <td>0</td>\n",
       "      <td>0</td>\n",
       "      <td>269122</td>\n",
       "      <td>True</td>\n",
       "    </tr>\n",
       "    <tr>\n",
       "      <th>9</th>\n",
       "      <td>2023-06-09</td>\n",
       "      <td>4</td>\n",
       "      <td>538244</td>\n",
       "      <td>0</td>\n",
       "      <td>0</td>\n",
       "      <td>0</td>\n",
       "      <td>0</td>\n",
       "      <td>538244</td>\n",
       "      <td>134561</td>\n",
       "      <td>201842</td>\n",
       "      <td>25230</td>\n",
       "      <td>4</td>\n",
       "      <td>538244</td>\n",
       "      <td>0</td>\n",
       "      <td>0</td>\n",
       "      <td>538244</td>\n",
       "      <td>True</td>\n",
       "    </tr>\n",
       "  </tbody>\n",
       "</table>\n",
       "</div>"
      ],
      "text/plain": [
       "  Inspection Date  Worker1  Amount_Normal  Amount_Holiday  Overtime  Worker2  \\\n",
       "7      2023-06-07        2         269122               0         0        0   \n",
       "9      2023-06-09        4         538244               0         0        0   \n",
       "\n",
       "   Amount_Overtime  Total_Amount  normal  holiday  overtime  Weekday  \\\n",
       "7                0        269122  134561   201842     25230        2   \n",
       "9                0        538244  134561   201842     25230        4   \n",
       "\n",
       "   Amount_Normal_Cal  Amount_Holiday_Cal  Amount_Overtime_cal  \\\n",
       "7             269122                   0                    0   \n",
       "9             538244                   0                    0   \n",
       "\n",
       "   Total_Amount_cal  Amount_Check  \n",
       "7            269122          True  \n",
       "9            538244          True  "
      ]
     },
     "execution_count": 13,
     "metadata": {},
     "output_type": "execute_result"
    }
   ],
   "source": [
    "df"
   ]
  },
  {
   "cell_type": "code",
   "execution_count": 14,
   "id": "ca727e5e",
   "metadata": {},
   "outputs": [
    {
     "name": "stderr",
     "output_type": "stream",
     "text": [
      "C:\\Users\\paul76.lee\\AppData\\Local\\Temp\\ipykernel_20620\\221241715.py:4: SettingWithCopyWarning: \n",
      "A value is trying to be set on a copy of a slice from a DataFrame.\n",
      "Try using .loc[row_indexer,col_indexer] = value instead\n",
      "\n",
      "See the caveats in the documentation: https://pandas.pydata.org/pandas-docs/stable/user_guide/indexing.html#returning-a-view-versus-a-copy\n",
      "  df['Amount_with_VAT'] = df['Total_Amount']*1.1\n",
      "C:\\Users\\paul76.lee\\AppData\\Local\\Temp\\ipykernel_20620\\221241715.py:5: SettingWithCopyWarning: \n",
      "A value is trying to be set on a copy of a slice from a DataFrame.\n",
      "Try using .loc[row_indexer,col_indexer] = value instead\n",
      "\n",
      "See the caveats in the documentation: https://pandas.pydata.org/pandas-docs/stable/user_guide/indexing.html#returning-a-view-versus-a-copy\n",
      "  df['Amount_with_VAT'] = df['Amount_with_VAT'].round().astype(int)\n"
     ]
    }
   ],
   "source": [
    "# df['Total_Amount'] = df['Total_Amount_cal'] # 비교하여 정확한 값을  Total Amount로 함\n",
    "df = df[['Inspection Date', 'Worker1', 'Amount_Normal', 'Amount_Holiday', 'Overtime', 'Worker2', 'Amount_Overtime',\n",
    "         'Total_Amount', 'normal', 'holiday', 'overtime']]\n",
    "df['Amount_with_VAT'] = df['Total_Amount']*1.1\n",
    "df['Amount_with_VAT'] = df['Amount_with_VAT'].round().astype(int)\n",
    "df.insert(1, 'Supplier', vendor)\n",
    "df.reset_index(drop=True, inplace=True)"
   ]
  },
  {
   "cell_type": "code",
   "execution_count": 16,
   "id": "f6b59817",
   "metadata": {},
   "outputs": [
    {
     "data": {
      "text/plain": [
       "888102"
      ]
     },
     "execution_count": 16,
     "metadata": {},
     "output_type": "execute_result"
    }
   ],
   "source": [
    "df['Amount_with_VAT'].sum() # 해당월 총 재작업 비용"
   ]
  },
  {
   "cell_type": "code",
   "execution_count": 17,
   "id": "956c153a",
   "metadata": {},
   "outputs": [
    {
     "data": {
      "text/html": [
       "<div>\n",
       "<style scoped>\n",
       "    .dataframe tbody tr th:only-of-type {\n",
       "        vertical-align: middle;\n",
       "    }\n",
       "\n",
       "    .dataframe tbody tr th {\n",
       "        vertical-align: top;\n",
       "    }\n",
       "\n",
       "    .dataframe thead th {\n",
       "        text-align: right;\n",
       "    }\n",
       "</style>\n",
       "<table border=\"1\" class=\"dataframe\">\n",
       "  <thead>\n",
       "    <tr style=\"text-align: right;\">\n",
       "      <th></th>\n",
       "      <th>Inspection Date</th>\n",
       "      <th>Supplier</th>\n",
       "      <th>Worker1</th>\n",
       "      <th>Amount_Normal</th>\n",
       "      <th>Amount_Holiday</th>\n",
       "      <th>Overtime</th>\n",
       "      <th>Worker2</th>\n",
       "      <th>Amount_Overtime</th>\n",
       "      <th>Total_Amount</th>\n",
       "      <th>normal</th>\n",
       "      <th>holiday</th>\n",
       "      <th>overtime</th>\n",
       "      <th>Amount_with_VAT</th>\n",
       "    </tr>\n",
       "  </thead>\n",
       "  <tbody>\n",
       "    <tr>\n",
       "      <th>0</th>\n",
       "      <td>2023-06-07</td>\n",
       "      <td>Quanta</td>\n",
       "      <td>2</td>\n",
       "      <td>269122</td>\n",
       "      <td>0</td>\n",
       "      <td>0</td>\n",
       "      <td>0</td>\n",
       "      <td>0</td>\n",
       "      <td>269122</td>\n",
       "      <td>134561</td>\n",
       "      <td>201842</td>\n",
       "      <td>25230</td>\n",
       "      <td>296034</td>\n",
       "    </tr>\n",
       "    <tr>\n",
       "      <th>1</th>\n",
       "      <td>2023-06-09</td>\n",
       "      <td>Quanta</td>\n",
       "      <td>4</td>\n",
       "      <td>538244</td>\n",
       "      <td>0</td>\n",
       "      <td>0</td>\n",
       "      <td>0</td>\n",
       "      <td>0</td>\n",
       "      <td>538244</td>\n",
       "      <td>134561</td>\n",
       "      <td>201842</td>\n",
       "      <td>25230</td>\n",
       "      <td>592068</td>\n",
       "    </tr>\n",
       "  </tbody>\n",
       "</table>\n",
       "</div>"
      ],
      "text/plain": [
       "  Inspection Date Supplier  Worker1  Amount_Normal  Amount_Holiday  Overtime  \\\n",
       "0      2023-06-07   Quanta        2         269122               0         0   \n",
       "1      2023-06-09   Quanta        4         538244               0         0   \n",
       "\n",
       "   Worker2  Amount_Overtime  Total_Amount  normal  holiday  overtime  \\\n",
       "0        0                0        269122  134561   201842     25230   \n",
       "1        0                0        538244  134561   201842     25230   \n",
       "\n",
       "   Amount_with_VAT  \n",
       "0           296034  \n",
       "1           592068  "
      ]
     },
     "execution_count": 17,
     "metadata": {},
     "output_type": "execute_result"
    }
   ],
   "source": [
    "df"
   ]
  },
  {
   "cell_type": "code",
   "execution_count": 18,
   "id": "a797f3ee",
   "metadata": {},
   "outputs": [
    {
     "data": {
      "text/plain": [
       "(103, 13)"
      ]
     },
     "execution_count": 18,
     "metadata": {},
     "output_type": "execute_result"
    }
   ],
   "source": [
    "rw_df.shape"
   ]
  },
  {
   "cell_type": "code",
   "execution_count": 19,
   "id": "df1c381b",
   "metadata": {
    "scrolled": true
   },
   "outputs": [],
   "source": [
    "rw_df = pd.concat([rw_df, df])"
   ]
  },
  {
   "cell_type": "code",
   "execution_count": 20,
   "id": "0f277139",
   "metadata": {},
   "outputs": [],
   "source": [
    "rw_df.reset_index(drop=True, inplace=True)"
   ]
  },
  {
   "cell_type": "markdown",
   "id": "fdaeb42f",
   "metadata": {},
   "source": [
    "# 3. 데이타 저장"
   ]
  },
  {
   "cell_type": "code",
   "execution_count": 21,
   "id": "e9d5f08c",
   "metadata": {
    "scrolled": false
   },
   "outputs": [
    {
     "data": {
      "text/plain": [
       "(105, 13)"
      ]
     },
     "execution_count": 21,
     "metadata": {},
     "output_type": "execute_result"
    }
   ],
   "source": [
    "rw_df.shape # 파일 저장 전 다시 한번 확인하자!"
   ]
  },
  {
   "cell_type": "code",
   "execution_count": 22,
   "id": "c184ba81",
   "metadata": {},
   "outputs": [],
   "source": [
    "with open('D:/Data/nicepeople_cost_db.bin', 'wb') as f:\n",
    "    pickle.dump(rw_df, f)"
   ]
  },
  {
   "cell_type": "code",
   "execution_count": 23,
   "id": "02f5ed39",
   "metadata": {},
   "outputs": [],
   "source": [
    "with open('D:/Data/DB backup/nicepeople_cost_db.bin', 'wb') as f:\n",
    "    pickle.dump(rw_df, f)"
   ]
  },
  {
   "cell_type": "code",
   "execution_count": null,
   "id": "39475023",
   "metadata": {},
   "outputs": [],
   "source": []
  }
 ],
 "metadata": {
  "kernelspec": {
   "display_name": "Python 3 (ipykernel)",
   "language": "python",
   "name": "python3"
  },
  "language_info": {
   "codemirror_mode": {
    "name": "ipython",
    "version": 3
   },
   "file_extension": ".py",
   "mimetype": "text/x-python",
   "name": "python",
   "nbconvert_exporter": "python",
   "pygments_lexer": "ipython3",
   "version": "3.10.9"
  }
 },
 "nbformat": 4,
 "nbformat_minor": 5
}
