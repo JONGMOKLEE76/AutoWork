{
 "cells": [
  {
   "cell_type": "code",
   "execution_count": 1,
   "id": "e378276e",
   "metadata": {},
   "outputs": [],
   "source": [
    "from tool import *\n",
    "from openpyxl import Workbook\n",
    "from openpyxl import load_workbook\n",
    "from openpyxl.utils import get_column_letter\n",
    "from openpyxl.drawing.image import Image\n",
    "from openpyxl.styles import PatternFill, Alignment, Font, Border, Side"
   ]
  },
  {
   "cell_type": "code",
   "execution_count": 2,
   "id": "9af54ea7",
   "metadata": {},
   "outputs": [],
   "source": [
    "stuffing_table = pd.read_clipboard() # read stuffing table from excel"
   ]
  },
  {
   "cell_type": "code",
   "execution_count": 5,
   "id": "f52170c0",
   "metadata": {},
   "outputs": [],
   "source": [
    "container_simulation = pd.Series({'20FT':0, '40HC':0, '22MR410':0, '24MR400':0, '27MR400':0}) # 초기값 설정"
   ]
  },
  {
   "cell_type": "code",
   "execution_count": 40,
   "id": "4192ab08",
   "metadata": {},
   "outputs": [],
   "source": [
    "def find_another_container_stuffing(sp_requested, stuffing_table):\n",
    "    for case in stuffing_table.iterrows():\n",
    "        if ((sp_requested - (container_simulation + case[1]).dropna()) < 0).sum() > 0: # 특정 모델 1개라도 SP대비 과잉이면 그 컨테이너 조합을 사용불가한 경우이므로 다음 컨테이너 장입 case로 continue\n",
    "            print('이건 아니잖아!')\n",
    "            continue\n",
    "        elif (sp_requesated - (container_simulation + case[1]).dropna()).sum() > 0:\n",
    "            con_type = case[1]['Type']\n",
    "            container_simulation[con_type] += 1\n",
    "            container_simulation.update((container_simulation + case[1]).dropna())\n",
    "            print('이거 말고 좀 더 필요해!')\n",
    "            new_case = find_another_container_stuffing(sp_requested, stuffing_table)\n",
    "            if new_case is not None:\n",
    "                container_simulation.update(new_case)\n",
    "                return container_simulation\n",
    "        else:\n",
    "            print('드디어 찾았네!')\n",
    "            con_type = case[1]['Type']\n",
    "            container_simulation[con_type] += 1\n",
    "            container_simulation.update((container_simulation + case[1]).dropna())\n",
    "            return container_simulation"
   ]
  },
  {
   "cell_type": "code",
   "execution_count": 57,
   "id": "485e8878",
   "metadata": {},
   "outputs": [],
   "source": [
    "def find_another_container_stuffing(sp_requested, stuffing_table, initial_value):\n",
    "    containers = [pd.Series({'20FT':0, '40HC':0, '22MR410':0, '24MR400':0, '27MR400':0}) for a in range(stuffing_table.shape[0])]\n",
    "    for case in stuffing_table.iterrows():\n",
    "        containers[case[0]].update(initial_value)\n",
    "        if ((sp_requested - (containers[case[0]] + case[1]).dropna()) < 0).sum() > 0: # 특정 모델 1개라도 SP대비 과잉이면 그 컨테이너 조합을 사용불가한 경우이므로 다음 컨테이너 장입 case로 continue\n",
    "            print('이건 아니잖아!')\n",
    "            continue\n",
    "        elif (sp_requested - (containers[case[0]] + case[1]).dropna()).sum() > 0:\n",
    "            con_type = case[1]['Type']\n",
    "            containers[case[0]][con_type] += 1\n",
    "            containers[case[0]].update((containers[case[0]] + case[1]).dropna())\n",
    "            print('이거 말고 좀 더 필요해!')\n",
    "            new_case = find_another_container_stuffing(sp_requested, stuffing_table, containers[case[0]])\n",
    "            if new_case is not None:\n",
    "                container_simulation.update(new_case)\n",
    "                return container_simulation\n",
    "        else:\n",
    "            print('드디어 찾았네!')\n",
    "            con_type = case[1]['Type']\n",
    "            container_simulation[con_type] += 1\n",
    "            container_simulation.update((container_simulation + case[1]).dropna())\n",
    "            return container_simulation"
   ]
  },
  {
   "cell_type": "code",
   "execution_count": 63,
   "id": "a3834c2b",
   "metadata": {},
   "outputs": [],
   "source": [
    "sp = pd.Series({'22MR410':0, '24MR400':1600, '27MR400':512}) # 반영된 SP 값\n",
    "# sp = pd.Series({'22MR410':840, '24MR400':800})"
   ]
  },
  {
   "cell_type": "code",
   "execution_count": 26,
   "id": "e9453758",
   "metadata": {},
   "outputs": [],
   "source": [
    "container_simulation = pd.Series({'20FT':0, '40HC':0, '22MR410':0, '24MR400':0, '27MR400':0}) # 초기값 설정\n",
    "# find_another_container_stuffing(sp, stuffing_table, container_simulation)"
   ]
  }
 ],
 "metadata": {
  "kernelspec": {
   "display_name": "Python 3 (ipykernel)",
   "language": "python",
   "name": "python3"
  },
  "language_info": {
   "codemirror_mode": {
    "name": "ipython",
    "version": 3
   },
   "file_extension": ".py",
   "mimetype": "text/x-python",
   "name": "python",
   "nbconvert_exporter": "python",
   "pygments_lexer": "ipython3",
   "version": "3.10.9"
  }
 },
 "nbformat": 4,
 "nbformat_minor": 5
}
