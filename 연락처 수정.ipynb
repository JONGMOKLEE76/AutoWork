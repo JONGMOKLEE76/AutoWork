{
 "cells": [
  {
   "cell_type": "code",
   "execution_count": 18,
   "id": "b9d39b11",
   "metadata": {},
   "outputs": [],
   "source": [
    "from tool import *"
   ]
  },
  {
   "cell_type": "code",
   "execution_count": 20,
   "id": "44588bd4",
   "metadata": {},
   "outputs": [],
   "source": [
    "with open('D:/Data/contact_window.db', 'rb') as f:\n",
    "    cont = pickle.load(f)"
   ]
  },
  {
   "cell_type": "code",
   "execution_count": 24,
   "id": "77035fe5",
   "metadata": {},
   "outputs": [],
   "source": [
    "subs = 'LGEES'\n",
    "person = '김원중'"
   ]
  },
  {
   "cell_type": "code",
   "execution_count": 25,
   "id": "5c450e58",
   "metadata": {},
   "outputs": [],
   "source": [
    "c1 = cont['Subsidiary'] == subs\n",
    "c2 = cont['Name'] == person"
   ]
  },
  {
   "cell_type": "code",
   "execution_count": 26,
   "id": "048cb774",
   "metadata": {},
   "outputs": [
    {
     "data": {
      "text/html": [
       "<div>\n",
       "<style scoped>\n",
       "    .dataframe tbody tr th:only-of-type {\n",
       "        vertical-align: middle;\n",
       "    }\n",
       "\n",
       "    .dataframe tbody tr th {\n",
       "        vertical-align: top;\n",
       "    }\n",
       "\n",
       "    .dataframe thead th {\n",
       "        text-align: right;\n",
       "    }\n",
       "</style>\n",
       "<table border=\"1\" class=\"dataframe\">\n",
       "  <thead>\n",
       "    <tr style=\"text-align: right;\">\n",
       "      <th></th>\n",
       "      <th>Div</th>\n",
       "      <th>Team</th>\n",
       "      <th>Name</th>\n",
       "      <th>Position</th>\n",
       "      <th>Subsidiary</th>\n",
       "      <th>Email</th>\n",
       "    </tr>\n",
       "  </thead>\n",
       "  <tbody>\n",
       "    <tr>\n",
       "      <th>18</th>\n",
       "      <td>MNT</td>\n",
       "      <td>MKT</td>\n",
       "      <td>김원중</td>\n",
       "      <td>책임</td>\n",
       "      <td>LGEES</td>\n",
       "      <td>wj.kim@lge.com</td>\n",
       "    </tr>\n",
       "    <tr>\n",
       "      <th>132</th>\n",
       "      <td>PC</td>\n",
       "      <td>MKT</td>\n",
       "      <td>김원중</td>\n",
       "      <td>책임</td>\n",
       "      <td>LGEES</td>\n",
       "      <td>wj.kim@lge.com</td>\n",
       "    </tr>\n",
       "  </tbody>\n",
       "</table>\n",
       "</div>"
      ],
      "text/plain": [
       "     Div Team Name Position Subsidiary           Email\n",
       "18   MNT  MKT  김원중       책임      LGEES  wj.kim@lge.com\n",
       "132   PC  MKT  김원중       책임      LGEES  wj.kim@lge.com"
      ]
     },
     "execution_count": 26,
     "metadata": {},
     "output_type": "execute_result"
    }
   ],
   "source": [
    "cont.loc[c1 & c2]"
   ]
  },
  {
   "cell_type": "code",
   "execution_count": 27,
   "id": "1dbb6076",
   "metadata": {},
   "outputs": [],
   "source": [
    "cont.loc[c1 & c2, ['Name', 'Position', 'Email']] = ['조홍철', '책임', 'hongchul.joe@lge.com']"
   ]
  },
  {
   "cell_type": "code",
   "execution_count": 28,
   "id": "ce10b27e",
   "metadata": {},
   "outputs": [
    {
     "data": {
      "text/html": [
       "<div>\n",
       "<style scoped>\n",
       "    .dataframe tbody tr th:only-of-type {\n",
       "        vertical-align: middle;\n",
       "    }\n",
       "\n",
       "    .dataframe tbody tr th {\n",
       "        vertical-align: top;\n",
       "    }\n",
       "\n",
       "    .dataframe thead th {\n",
       "        text-align: right;\n",
       "    }\n",
       "</style>\n",
       "<table border=\"1\" class=\"dataframe\">\n",
       "  <thead>\n",
       "    <tr style=\"text-align: right;\">\n",
       "      <th></th>\n",
       "      <th>Div</th>\n",
       "      <th>Team</th>\n",
       "      <th>Name</th>\n",
       "      <th>Position</th>\n",
       "      <th>Subsidiary</th>\n",
       "      <th>Email</th>\n",
       "    </tr>\n",
       "  </thead>\n",
       "  <tbody>\n",
       "    <tr>\n",
       "      <th>18</th>\n",
       "      <td>MNT</td>\n",
       "      <td>MKT</td>\n",
       "      <td>조홍철</td>\n",
       "      <td>책임</td>\n",
       "      <td>LGEES</td>\n",
       "      <td>hongchul.joe@lge.com</td>\n",
       "    </tr>\n",
       "    <tr>\n",
       "      <th>45</th>\n",
       "      <td>MNT</td>\n",
       "      <td>SCM</td>\n",
       "      <td>송명규</td>\n",
       "      <td>책임</td>\n",
       "      <td>LGEES</td>\n",
       "      <td>danny.song@lge.com</td>\n",
       "    </tr>\n",
       "    <tr>\n",
       "      <th>116</th>\n",
       "      <td>PC</td>\n",
       "      <td>SCM</td>\n",
       "      <td>한성일</td>\n",
       "      <td>책임</td>\n",
       "      <td>LGEES</td>\n",
       "      <td>sungil.han@lge.com</td>\n",
       "    </tr>\n",
       "    <tr>\n",
       "      <th>132</th>\n",
       "      <td>PC</td>\n",
       "      <td>MKT</td>\n",
       "      <td>조홍철</td>\n",
       "      <td>책임</td>\n",
       "      <td>LGEES</td>\n",
       "      <td>hongchul.joe@lge.com</td>\n",
       "    </tr>\n",
       "  </tbody>\n",
       "</table>\n",
       "</div>"
      ],
      "text/plain": [
       "     Div Team Name Position Subsidiary                 Email\n",
       "18   MNT  MKT  조홍철       책임      LGEES  hongchul.joe@lge.com\n",
       "45   MNT  SCM  송명규       책임      LGEES    danny.song@lge.com\n",
       "116   PC  SCM  한성일       책임      LGEES    sungil.han@lge.com\n",
       "132   PC  MKT  조홍철       책임      LGEES  hongchul.joe@lge.com"
      ]
     },
     "execution_count": 28,
     "metadata": {},
     "output_type": "execute_result"
    }
   ],
   "source": [
    "cont[c1]"
   ]
  },
  {
   "cell_type": "code",
   "execution_count": 29,
   "id": "0c78857b",
   "metadata": {},
   "outputs": [],
   "source": [
    "# 변경된 DB 저장\n",
    "with open('D:/Data/contact_window.db', 'wb') as f:\n",
    "    pickle.dump(cont, f)"
   ]
  },
  {
   "cell_type": "code",
   "execution_count": null,
   "id": "b90edc0e",
   "metadata": {},
   "outputs": [],
   "source": []
  }
 ],
 "metadata": {
  "kernelspec": {
   "display_name": "Python 3 (ipykernel)",
   "language": "python",
   "name": "python3"
  },
  "language_info": {
   "codemirror_mode": {
    "name": "ipython",
    "version": 3
   },
   "file_extension": ".py",
   "mimetype": "text/x-python",
   "name": "python",
   "nbconvert_exporter": "python",
   "pygments_lexer": "ipython3",
   "version": "3.10.9"
  }
 },
 "nbformat": 4,
 "nbformat_minor": 5
}
