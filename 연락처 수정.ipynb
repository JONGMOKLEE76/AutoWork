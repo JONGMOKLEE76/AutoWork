{
 "cells": [
  {
   "cell_type": "code",
   "execution_count": 1,
   "id": "b9d39b11",
   "metadata": {},
   "outputs": [],
   "source": [
    "from tool import *"
   ]
  },
  {
   "cell_type": "code",
   "execution_count": 2,
   "id": "44588bd4",
   "metadata": {},
   "outputs": [],
   "source": [
    "with open('D:/Data/contact_window.db', 'rb') as f:\n",
    "    cont = pickle.load(f)"
   ]
  },
  {
   "cell_type": "code",
   "execution_count": 21,
   "id": "77035fe5",
   "metadata": {},
   "outputs": [],
   "source": [
    "subs = 'TK|SA'\n",
    "person = '최성용'\n",
    "team = 'MKT'"
   ]
  },
  {
   "cell_type": "code",
   "execution_count": 22,
   "id": "5c450e58",
   "metadata": {},
   "outputs": [],
   "source": [
    "c1 = cont['Subsidiary'].str.contains(subs)\n",
    "c2 = cont['Name'] == person\n",
    "c3 = cont['Team'] == team"
   ]
  },
  {
   "cell_type": "code",
   "execution_count": 24,
   "id": "048cb774",
   "metadata": {},
   "outputs": [
    {
     "data": {
      "text/html": [
       "<div>\n",
       "<style scoped>\n",
       "    .dataframe tbody tr th:only-of-type {\n",
       "        vertical-align: middle;\n",
       "    }\n",
       "\n",
       "    .dataframe tbody tr th {\n",
       "        vertical-align: top;\n",
       "    }\n",
       "\n",
       "    .dataframe thead th {\n",
       "        text-align: right;\n",
       "    }\n",
       "</style>\n",
       "<table border=\"1\" class=\"dataframe\">\n",
       "  <thead>\n",
       "    <tr style=\"text-align: right;\">\n",
       "      <th></th>\n",
       "      <th>Div</th>\n",
       "      <th>Team</th>\n",
       "      <th>Name</th>\n",
       "      <th>Position</th>\n",
       "      <th>Subsidiary</th>\n",
       "      <th>Email</th>\n",
       "    </tr>\n",
       "  </thead>\n",
       "  <tbody>\n",
       "    <tr>\n",
       "      <th>3</th>\n",
       "      <td>MNT</td>\n",
       "      <td>MKT</td>\n",
       "      <td>김대성</td>\n",
       "      <td>책임</td>\n",
       "      <td>LGESA</td>\n",
       "      <td>bryan1223.kim@lge.com</td>\n",
       "    </tr>\n",
       "    <tr>\n",
       "      <th>36</th>\n",
       "      <td>MNT</td>\n",
       "      <td>MKT</td>\n",
       "      <td>상민철</td>\n",
       "      <td>선임</td>\n",
       "      <td>LGETK</td>\n",
       "      <td>minchul.sang@lge.com</td>\n",
       "    </tr>\n",
       "  </tbody>\n",
       "</table>\n",
       "</div>"
      ],
      "text/plain": [
       "    Div Team Name Position Subsidiary                  Email\n",
       "3   MNT  MKT  김대성       책임      LGESA  bryan1223.kim@lge.com\n",
       "36  MNT  MKT  상민철       선임      LGETK   minchul.sang@lge.com"
      ]
     },
     "execution_count": 24,
     "metadata": {},
     "output_type": "execute_result"
    }
   ],
   "source": [
    "# cont.loc[c1 & c2]\n",
    "# cont.loc[c2]\n",
    "# cont.loc[c1 & c2 & c3]\n",
    "cont.loc[c1 & c3]"
   ]
  },
  {
   "cell_type": "code",
   "execution_count": 25,
   "id": "af4eb7f5",
   "metadata": {},
   "outputs": [],
   "source": [
    "변경데이터 = ['최성용', '책임', 'seongyong.choe@lge.com']"
   ]
  },
  {
   "cell_type": "code",
   "execution_count": 26,
   "id": "1dbb6076",
   "metadata": {},
   "outputs": [],
   "source": [
    "cont.loc[c1 & c3 , ['Name', 'Position', 'Email']] = 변경데이터"
   ]
  },
  {
   "cell_type": "code",
   "execution_count": 27,
   "id": "ce10b27e",
   "metadata": {},
   "outputs": [
    {
     "data": {
      "text/html": [
       "<div>\n",
       "<style scoped>\n",
       "    .dataframe tbody tr th:only-of-type {\n",
       "        vertical-align: middle;\n",
       "    }\n",
       "\n",
       "    .dataframe tbody tr th {\n",
       "        vertical-align: top;\n",
       "    }\n",
       "\n",
       "    .dataframe thead th {\n",
       "        text-align: right;\n",
       "    }\n",
       "</style>\n",
       "<table border=\"1\" class=\"dataframe\">\n",
       "  <thead>\n",
       "    <tr style=\"text-align: right;\">\n",
       "      <th></th>\n",
       "      <th>Div</th>\n",
       "      <th>Team</th>\n",
       "      <th>Name</th>\n",
       "      <th>Position</th>\n",
       "      <th>Subsidiary</th>\n",
       "      <th>Email</th>\n",
       "    </tr>\n",
       "  </thead>\n",
       "  <tbody>\n",
       "    <tr>\n",
       "      <th>3</th>\n",
       "      <td>MNT</td>\n",
       "      <td>MKT</td>\n",
       "      <td>최성용</td>\n",
       "      <td>책임</td>\n",
       "      <td>LGESA</td>\n",
       "      <td>seongyong.choe@lge.com</td>\n",
       "    </tr>\n",
       "    <tr>\n",
       "      <th>36</th>\n",
       "      <td>MNT</td>\n",
       "      <td>MKT</td>\n",
       "      <td>최성용</td>\n",
       "      <td>책임</td>\n",
       "      <td>LGETK</td>\n",
       "      <td>seongyong.choe@lge.com</td>\n",
       "    </tr>\n",
       "  </tbody>\n",
       "</table>\n",
       "</div>"
      ],
      "text/plain": [
       "    Div Team Name Position Subsidiary                   Email\n",
       "3   MNT  MKT  최성용       책임      LGESA  seongyong.choe@lge.com\n",
       "36  MNT  MKT  최성용       책임      LGETK  seongyong.choe@lge.com"
      ]
     },
     "execution_count": 27,
     "metadata": {},
     "output_type": "execute_result"
    }
   ],
   "source": [
    "cont[c1 & c3]"
   ]
  },
  {
   "cell_type": "code",
   "execution_count": 28,
   "id": "0c78857b",
   "metadata": {},
   "outputs": [],
   "source": [
    "# 변경된 DB 저장\n",
    "with open('D:/Data/contact_window.db', 'wb') as f:\n",
    "    pickle.dump(cont, f)"
   ]
  },
  {
   "cell_type": "code",
   "execution_count": null,
   "id": "b90edc0e",
   "metadata": {},
   "outputs": [],
   "source": []
  }
 ],
 "metadata": {
  "kernelspec": {
   "display_name": "Python 3 (ipykernel)",
   "language": "python",
   "name": "python3"
  },
  "language_info": {
   "codemirror_mode": {
    "name": "ipython",
    "version": 3
   },
   "file_extension": ".py",
   "mimetype": "text/x-python",
   "name": "python",
   "nbconvert_exporter": "python",
   "pygments_lexer": "ipython3",
   "version": "3.10.9"
  }
 },
 "nbformat": 4,
 "nbformat_minor": 5
}
