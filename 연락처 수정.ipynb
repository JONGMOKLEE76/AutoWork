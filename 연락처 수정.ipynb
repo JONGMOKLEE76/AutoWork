{
 "cells": [
  {
   "cell_type": "code",
   "execution_count": 1,
   "id": "b9d39b11",
   "metadata": {},
   "outputs": [],
   "source": [
    "from tool import *"
   ]
  },
  {
   "cell_type": "code",
   "execution_count": 26,
   "id": "44588bd4",
   "metadata": {},
   "outputs": [],
   "source": [
    "with open('D:/Data/contact_window.db', 'rb') as f:\n",
    "    cont = pickle.load(f)"
   ]
  },
  {
   "cell_type": "code",
   "execution_count": 27,
   "id": "77035fe5",
   "metadata": {},
   "outputs": [],
   "source": [
    "subs = 'LGERA'\n",
    "person = '이성호'\n",
    "team = 'SCM'"
   ]
  },
  {
   "cell_type": "code",
   "execution_count": 28,
   "id": "5c450e58",
   "metadata": {},
   "outputs": [],
   "source": [
    "c1 = cont['Subsidiary'] == subs\n",
    "c2 = cont['Name'] == person\n",
    "c3 = cont['Team'] == team"
   ]
  },
  {
   "cell_type": "code",
   "execution_count": 30,
   "id": "048cb774",
   "metadata": {},
   "outputs": [
    {
     "data": {
      "text/html": [
       "<div>\n",
       "<style scoped>\n",
       "    .dataframe tbody tr th:only-of-type {\n",
       "        vertical-align: middle;\n",
       "    }\n",
       "\n",
       "    .dataframe tbody tr th {\n",
       "        vertical-align: top;\n",
       "    }\n",
       "\n",
       "    .dataframe thead th {\n",
       "        text-align: right;\n",
       "    }\n",
       "</style>\n",
       "<table border=\"1\" class=\"dataframe\">\n",
       "  <thead>\n",
       "    <tr style=\"text-align: right;\">\n",
       "      <th></th>\n",
       "      <th>Div</th>\n",
       "      <th>Team</th>\n",
       "      <th>Name</th>\n",
       "      <th>Position</th>\n",
       "      <th>Subsidiary</th>\n",
       "      <th>Email</th>\n",
       "    </tr>\n",
       "  </thead>\n",
       "  <tbody>\n",
       "    <tr>\n",
       "      <th>6</th>\n",
       "      <td>MNT</td>\n",
       "      <td>SCM</td>\n",
       "      <td>김송이</td>\n",
       "      <td>책임</td>\n",
       "      <td>LGERA</td>\n",
       "      <td>songyi.kim@lge.com</td>\n",
       "    </tr>\n",
       "  </tbody>\n",
       "</table>\n",
       "</div>"
      ],
      "text/plain": [
       "   Div Team Name Position Subsidiary               Email\n",
       "6  MNT  SCM  김송이       책임      LGERA  songyi.kim@lge.com"
      ]
     },
     "execution_count": 30,
     "metadata": {},
     "output_type": "execute_result"
    }
   ],
   "source": [
    "# cont.loc[c1 & c2]\n",
    "cont.loc[c1 & c3]\n",
    "# cont.loc[c1 & c2 & c3]"
   ]
  },
  {
   "cell_type": "code",
   "execution_count": 31,
   "id": "af4eb7f5",
   "metadata": {},
   "outputs": [],
   "source": [
    "변경데이터 = ['오석현', '책임', 'seokhyun.oh@lge.com']"
   ]
  },
  {
   "cell_type": "code",
   "execution_count": 32,
   "id": "1dbb6076",
   "metadata": {},
   "outputs": [],
   "source": [
    "cont.loc[c1 & c3 , ['Name', 'Position', 'Email']] = 변경데이터"
   ]
  },
  {
   "cell_type": "code",
   "execution_count": 33,
   "id": "ce10b27e",
   "metadata": {},
   "outputs": [
    {
     "data": {
      "text/html": [
       "<div>\n",
       "<style scoped>\n",
       "    .dataframe tbody tr th:only-of-type {\n",
       "        vertical-align: middle;\n",
       "    }\n",
       "\n",
       "    .dataframe tbody tr th {\n",
       "        vertical-align: top;\n",
       "    }\n",
       "\n",
       "    .dataframe thead th {\n",
       "        text-align: right;\n",
       "    }\n",
       "</style>\n",
       "<table border=\"1\" class=\"dataframe\">\n",
       "  <thead>\n",
       "    <tr style=\"text-align: right;\">\n",
       "      <th></th>\n",
       "      <th>Div</th>\n",
       "      <th>Team</th>\n",
       "      <th>Name</th>\n",
       "      <th>Position</th>\n",
       "      <th>Subsidiary</th>\n",
       "      <th>Email</th>\n",
       "    </tr>\n",
       "  </thead>\n",
       "  <tbody>\n",
       "    <tr>\n",
       "      <th>6</th>\n",
       "      <td>MNT</td>\n",
       "      <td>SCM</td>\n",
       "      <td>오석현</td>\n",
       "      <td>책임</td>\n",
       "      <td>LGERA</td>\n",
       "      <td>seokhyun.oh@lge.com</td>\n",
       "    </tr>\n",
       "    <tr>\n",
       "      <th>80</th>\n",
       "      <td>MNT</td>\n",
       "      <td>MKT</td>\n",
       "      <td>이기현</td>\n",
       "      <td>책임</td>\n",
       "      <td>LGERA</td>\n",
       "      <td>joey.lee@lge.com</td>\n",
       "    </tr>\n",
       "  </tbody>\n",
       "</table>\n",
       "</div>"
      ],
      "text/plain": [
       "    Div Team Name Position Subsidiary                Email\n",
       "6   MNT  SCM  오석현       책임      LGERA  seokhyun.oh@lge.com\n",
       "80  MNT  MKT  이기현       책임      LGERA     joey.lee@lge.com"
      ]
     },
     "execution_count": 33,
     "metadata": {},
     "output_type": "execute_result"
    }
   ],
   "source": [
    "cont[c1 ]"
   ]
  },
  {
   "cell_type": "code",
   "execution_count": 34,
   "id": "0c78857b",
   "metadata": {},
   "outputs": [],
   "source": [
    "# 변경된 DB 저장\n",
    "with open('D:/Data/contact_window.db', 'wb') as f:\n",
    "    pickle.dump(cont, f)"
   ]
  },
  {
   "cell_type": "code",
   "execution_count": null,
   "id": "b90edc0e",
   "metadata": {},
   "outputs": [],
   "source": []
  }
 ],
 "metadata": {
  "kernelspec": {
   "display_name": "Python 3 (ipykernel)",
   "language": "python",
   "name": "python3"
  },
  "language_info": {
   "codemirror_mode": {
    "name": "ipython",
    "version": 3
   },
   "file_extension": ".py",
   "mimetype": "text/x-python",
   "name": "python",
   "nbconvert_exporter": "python",
   "pygments_lexer": "ipython3",
   "version": "3.10.9"
  }
 },
 "nbformat": 4,
 "nbformat_minor": 5
}
