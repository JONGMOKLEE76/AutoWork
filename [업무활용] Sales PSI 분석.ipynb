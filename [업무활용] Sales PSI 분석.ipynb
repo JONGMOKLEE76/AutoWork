{
 "cells": [
  {
   "cell_type": "code",
   "execution_count": 10,
   "id": "8064189f",
   "metadata": {},
   "outputs": [],
   "source": [
    "from tool import *\n",
    "import plotly.express as px\n",
    "from openpyxl import load_workbook\n",
    "from openpyxl.styles import PatternFill, Alignment, Font, Border, Side\n",
    "from openpyxl.utils import get_column_letter\n",
    "from openpyxl.drawing.image import Image\n",
    "import pyautogui"
   ]
  },
  {
   "cell_type": "markdown",
   "id": "4e5b6416",
   "metadata": {},
   "source": [
    "## GSCP Sales PSI Raw data를  DB에 저장"
   ]
  },
  {
   "cell_type": "code",
   "execution_count": 11,
   "id": "c164e0ac",
   "metadata": {},
   "outputs": [],
   "source": [
    "filepath = get_filename()\n",
    "created_at = '2024013016'\n",
    "planweek = get_weekname(datetime.datetime(2024, 1, 30))\n",
    "ver = 'Final'"
   ]
  },
  {
   "cell_type": "code",
   "execution_count": 12,
   "id": "d563cf7b",
   "metadata": {},
   "outputs": [],
   "source": [
    "psi = pd.read_excel(filepath, sheet_name=0, keep_default_na=False, na_values=['', 'nan']) # GSCP로부터 금주 SP를 데이타프레임화trim_column_name(sp)\n",
    "trim_column_name(psi)\n",
    "psi = psi[psi['Rep From Site'].notnull()].reset_index(drop=True)\n",
    "psi.insert(0, 'Created_at', created_at) # PSI 생성일\n",
    "psi.insert(0, 'Ver', ver) # 기준 주차명 설정\n",
    "psi.insert(0, 'Planweek', planweek) # 기준 주차명 설정\n",
    "psi = psi.rename(columns={'Site':'To Site', 'Rep From Site':'From Site'})\n",
    "psi = psi.set_index(['Planweek', 'Created_at', 'Ver', 'Division', 'From Site', 'Region', 'To Site', 'Mapping Model.Suffix', 'Rep PMS', 'Category'])[get_weeklist(psi)]\n",
    "psi.columns.name = 'Week Name'\n",
    "psi = psi.stack().replace({0:np.nan}).dropna().astype(int).reset_index()\n",
    "psi.rename(columns={0:'QTY'}, inplace=True)"
   ]
  },
  {
   "cell_type": "code",
   "execution_count": 16,
   "id": "66e5863b",
   "metadata": {},
   "outputs": [],
   "source": [
    "with open('D:/Data/ODM PSI.db', 'rb') as f:\n",
    "    psi_db = pickle.load(f)"
   ]
  },
  {
   "cell_type": "code",
   "execution_count": 17,
   "id": "d7245d6c",
   "metadata": {},
   "outputs": [],
   "source": [
    "psi_db = pd.concat([psi_db, psi]).reset_index(drop=True)"
   ]
  },
  {
   "cell_type": "code",
   "execution_count": 18,
   "id": "29141979",
   "metadata": {},
   "outputs": [
    {
     "data": {
      "text/plain": [
       "(202688, 12)"
      ]
     },
     "execution_count": 18,
     "metadata": {},
     "output_type": "execute_result"
    }
   ],
   "source": [
    "psi_db.shape"
   ]
  },
  {
   "cell_type": "code",
   "execution_count": 19,
   "id": "0f25baae",
   "metadata": {},
   "outputs": [],
   "source": [
    "with open('D:/Data/ODM PSI.db', 'wb') as f:\n",
    "    pickle.dump(psi_db, f)"
   ]
  },
  {
   "cell_type": "markdown",
   "id": "79c55877",
   "metadata": {},
   "source": [
    "# PSI 분석"
   ]
  },
  {
   "cell_type": "code",
   "execution_count": 20,
   "id": "ddfde9df",
   "metadata": {},
   "outputs": [],
   "source": [
    "with open('D:/Data/ODM PSI.db', 'rb') as f:\n",
    "    psi_db = pickle.load(f)\n",
    "with open('D:/Data/contact_window.db', 'rb') as f:\n",
    "    cont = pickle.load(f)\n",
    "with open('D:/Data/sitemap.db', 'rb') as f:\n",
    "    site = pickle.load(f)"
   ]
  },
  {
   "cell_type": "code",
   "execution_count": 25,
   "id": "80e5ee67",
   "metadata": {},
   "outputs": [],
   "source": [
    "sf = psi_db[psi_db['Category'] == 'Sales Allocation [R+F]'].reset_index(drop=True)"
   ]
  },
  {
   "cell_type": "markdown",
   "id": "7e6637d1",
   "metadata": {},
   "source": [
    "### 1) ODM 전체로 볼 떄"
   ]
  },
  {
   "cell_type": "code",
   "execution_count": 120,
   "id": "17aac2ca",
   "metadata": {
    "scrolled": true
   },
   "outputs": [
    {
     "data": {
      "text/html": [
       "<div>\n",
       "<style scoped>\n",
       "    .dataframe tbody tr th:only-of-type {\n",
       "        vertical-align: middle;\n",
       "    }\n",
       "\n",
       "    .dataframe tbody tr th {\n",
       "        vertical-align: top;\n",
       "    }\n",
       "\n",
       "    .dataframe thead th {\n",
       "        text-align: right;\n",
       "    }\n",
       "</style>\n",
       "<table border=\"1\" class=\"dataframe\">\n",
       "  <thead>\n",
       "    <tr style=\"text-align: right;\">\n",
       "      <th></th>\n",
       "      <th>Planweek</th>\n",
       "      <th>Ver</th>\n",
       "      <th>Created_at</th>\n",
       "      <th>QTY</th>\n",
       "    </tr>\n",
       "  </thead>\n",
       "  <tbody>\n",
       "    <tr>\n",
       "      <th>0</th>\n",
       "      <td>2024-01-15(W03)</td>\n",
       "      <td>Final</td>\n",
       "      <td>2024011509</td>\n",
       "      <td>1045657</td>\n",
       "    </tr>\n",
       "    <tr>\n",
       "      <th>1</th>\n",
       "      <td>2024-01-22(W04)</td>\n",
       "      <td>Final</td>\n",
       "      <td>20240122</td>\n",
       "      <td>1080224</td>\n",
       "    </tr>\n",
       "    <tr>\n",
       "      <th>2</th>\n",
       "      <td>2024-01-29(W05)</td>\n",
       "      <td>Main</td>\n",
       "      <td>2024013009</td>\n",
       "      <td>1114778</td>\n",
       "    </tr>\n",
       "  </tbody>\n",
       "</table>\n",
       "</div>"
      ],
      "text/plain": [
       "          Planweek    Ver  Created_at      QTY\n",
       "0  2024-01-15(W03)  Final  2024011509  1045657\n",
       "1  2024-01-22(W04)  Final    20240122  1080224\n",
       "2  2024-01-29(W05)   Main  2024013009  1114778"
      ]
     },
     "execution_count": 120,
     "metadata": {},
     "output_type": "execute_result"
    }
   ],
   "source": [
    "ver_table = sf.groupby(['Planweek', 'Ver', 'Created_at']).sum('SP').reset_index()\n",
    "ver_table.iloc[-30:, ]"
   ]
  },
  {
   "cell_type": "code",
   "execution_count": 121,
   "id": "ebdf09b3",
   "metadata": {},
   "outputs": [],
   "source": [
    "i1 = 2\n",
    "i2 = 1\n",
    "\n",
    "p_wk = sf.groupby(['Planweek', 'Ver', 'Created_at']).sum('SP').reset_index().iloc[i1, :]['Planweek']\n",
    "ver = sf.groupby(['Planweek', 'Ver', 'Created_at']).sum('SP').reset_index().iloc[i1, :]['Ver']\n",
    "\n",
    "sf1 = sf.merge(sf.groupby(['Planweek', 'Ver', 'Created_at']).sum('QTY').reset_index().iloc[[i1], :3])\n",
    "sf2 = sf.merge(sf.groupby(['Planweek', 'Ver', 'Created_at']).sum('QTY').reset_index().iloc[[i2], :3])\n",
    "sf2 = sf2[sf2['Week Name'] >= sf1['Week Name'].min()]"
   ]
  },
  {
   "cell_type": "code",
   "execution_count": 122,
   "id": "676e3875",
   "metadata": {},
   "outputs": [],
   "source": [
    "sf_all = pd.concat([sf1, sf2])\n",
    "sf_all['Month'] = sf_all['Week Name'].apply(lambda x:f'{datetime.date.fromisoformat(x[:10]).isocalendar().year}-{get_month_from_date(datetime.date.fromisoformat(x[:10])):02d}')"
   ]
  },
  {
   "cell_type": "code",
   "execution_count": 123,
   "id": "2ff03f79",
   "metadata": {},
   "outputs": [],
   "source": [
    "sf_all = sf_all[sf_all['Week Name'] >= [get_weekname_from(p_wk, i) for i in range(-3, 1)][0]] # 이번주 기준 3주전부터 Sorting\n",
    "sf_all = sf_all[sf_all['Month'] <= '2024-05'] # 24년 4월까지만 한정"
   ]
  },
  {
   "cell_type": "code",
   "execution_count": 127,
   "id": "85cc1564",
   "metadata": {},
   "outputs": [
    {
     "data": {
      "text/html": [
       "<div>\n",
       "<style scoped>\n",
       "    .dataframe tbody tr th:only-of-type {\n",
       "        vertical-align: middle;\n",
       "    }\n",
       "\n",
       "    .dataframe tbody tr th {\n",
       "        vertical-align: top;\n",
       "    }\n",
       "\n",
       "    .dataframe thead th {\n",
       "        text-align: right;\n",
       "    }\n",
       "</style>\n",
       "<table border=\"1\" class=\"dataframe\">\n",
       "  <thead>\n",
       "    <tr style=\"text-align: right;\">\n",
       "      <th></th>\n",
       "      <th>Planweek</th>\n",
       "      <th>Created_at</th>\n",
       "      <th>Ver</th>\n",
       "      <th>Division</th>\n",
       "      <th>From Site</th>\n",
       "      <th>Region</th>\n",
       "      <th>To Site</th>\n",
       "      <th>Mapping Model.Suffix</th>\n",
       "      <th>Rep PMS</th>\n",
       "      <th>Category</th>\n",
       "      <th>Week Name</th>\n",
       "      <th>QTY</th>\n",
       "      <th>Month</th>\n",
       "    </tr>\n",
       "  </thead>\n",
       "  <tbody>\n",
       "    <tr>\n",
       "      <th>656</th>\n",
       "      <td>2024-01-29(W05)</td>\n",
       "      <td>2024013009</td>\n",
       "      <td>Main</td>\n",
       "      <td>MNT</td>\n",
       "      <td>OS_AUO_CN_P</td>\n",
       "      <td>INDIA</td>\n",
       "      <td>EAIL</td>\n",
       "      <td>24GQ50F-B.ATRQ</td>\n",
       "      <td>24GQ50F-BD.CTRVMV</td>\n",
       "      <td>Sales Forecast [R+F]</td>\n",
       "      <td>2024-01-22(W04)</td>\n",
       "      <td>46</td>\n",
       "      <td>2024-01</td>\n",
       "    </tr>\n",
       "    <tr>\n",
       "      <th>657</th>\n",
       "      <td>2024-01-29(W05)</td>\n",
       "      <td>2024013009</td>\n",
       "      <td>Main</td>\n",
       "      <td>MNT</td>\n",
       "      <td>OS_AUO_CN_P</td>\n",
       "      <td>INDIA</td>\n",
       "      <td>EAIL</td>\n",
       "      <td>24GQ50F-B.ATRQ</td>\n",
       "      <td>24GQ50F-BD.CTRVMV</td>\n",
       "      <td>Sales Forecast [R+F]</td>\n",
       "      <td>2024-01-29(W05)</td>\n",
       "      <td>4</td>\n",
       "      <td>2024-02</td>\n",
       "    </tr>\n",
       "    <tr>\n",
       "      <th>658</th>\n",
       "      <td>2024-01-29(W05)</td>\n",
       "      <td>2024013009</td>\n",
       "      <td>Main</td>\n",
       "      <td>MNT</td>\n",
       "      <td>OS_AUO_CN_P</td>\n",
       "      <td>INDIA</td>\n",
       "      <td>EAIL</td>\n",
       "      <td>24GQ50F-B.ATRQ</td>\n",
       "      <td>24GQ50F-BD.CTRVMV</td>\n",
       "      <td>Sales Forecast [R+F]</td>\n",
       "      <td>2024-03-04(W10)</td>\n",
       "      <td>150</td>\n",
       "      <td>2024-03</td>\n",
       "    </tr>\n",
       "    <tr>\n",
       "      <th>659</th>\n",
       "      <td>2024-01-29(W05)</td>\n",
       "      <td>2024013009</td>\n",
       "      <td>Main</td>\n",
       "      <td>MNT</td>\n",
       "      <td>OS_AUO_CN_P</td>\n",
       "      <td>INDIA</td>\n",
       "      <td>EAIL</td>\n",
       "      <td>24GQ50F-B.ATRQ</td>\n",
       "      <td>24GQ50F-BD.CTRVMV</td>\n",
       "      <td>Sales Forecast [R+F]</td>\n",
       "      <td>2024-03-11(W11)</td>\n",
       "      <td>150</td>\n",
       "      <td>2024-03</td>\n",
       "    </tr>\n",
       "    <tr>\n",
       "      <th>660</th>\n",
       "      <td>2024-01-29(W05)</td>\n",
       "      <td>2024013009</td>\n",
       "      <td>Main</td>\n",
       "      <td>MNT</td>\n",
       "      <td>OS_AUO_CN_P</td>\n",
       "      <td>INDIA</td>\n",
       "      <td>EAIL</td>\n",
       "      <td>24GQ50F-B.ATRQ</td>\n",
       "      <td>24GQ50F-BD.CTRVMV</td>\n",
       "      <td>Sales Forecast [R+F]</td>\n",
       "      <td>2024-03-25(W13)</td>\n",
       "      <td>272</td>\n",
       "      <td>2024-03</td>\n",
       "    </tr>\n",
       "    <tr>\n",
       "      <th>...</th>\n",
       "      <td>...</td>\n",
       "      <td>...</td>\n",
       "      <td>...</td>\n",
       "      <td>...</td>\n",
       "      <td>...</td>\n",
       "      <td>...</td>\n",
       "      <td>...</td>\n",
       "      <td>...</td>\n",
       "      <td>...</td>\n",
       "      <td>...</td>\n",
       "      <td>...</td>\n",
       "      <td>...</td>\n",
       "      <td>...</td>\n",
       "    </tr>\n",
       "    <tr>\n",
       "      <th>713</th>\n",
       "      <td>2024-01-22(W04)</td>\n",
       "      <td>20240122</td>\n",
       "      <td>Final</td>\n",
       "      <td>MNT</td>\n",
       "      <td>OS_TCL_CN_P</td>\n",
       "      <td>INDIA</td>\n",
       "      <td>EAIL</td>\n",
       "      <td>27MR400-B.ATRQ</td>\n",
       "      <td>27MR400-BB.CTRRMV</td>\n",
       "      <td>Sales Forecast [R+F]</td>\n",
       "      <td>2024-05-13(W20)</td>\n",
       "      <td>360</td>\n",
       "      <td>2024-05</td>\n",
       "    </tr>\n",
       "    <tr>\n",
       "      <th>714</th>\n",
       "      <td>2024-01-22(W04)</td>\n",
       "      <td>20240122</td>\n",
       "      <td>Final</td>\n",
       "      <td>MNT</td>\n",
       "      <td>OS_TCL_CN_P</td>\n",
       "      <td>INDIA</td>\n",
       "      <td>EAIL</td>\n",
       "      <td>27MR400-B.ATRQ</td>\n",
       "      <td>27MR400-BB.CTRRMV</td>\n",
       "      <td>Sales Forecast [R+F]</td>\n",
       "      <td>2024-05-20(W21)</td>\n",
       "      <td>420</td>\n",
       "      <td>2024-05</td>\n",
       "    </tr>\n",
       "    <tr>\n",
       "      <th>715</th>\n",
       "      <td>2024-01-22(W04)</td>\n",
       "      <td>20240122</td>\n",
       "      <td>Final</td>\n",
       "      <td>MNT</td>\n",
       "      <td>OS_TCL_CN_P</td>\n",
       "      <td>INDIA</td>\n",
       "      <td>EAIL</td>\n",
       "      <td>27MR400-B.ATRQ</td>\n",
       "      <td>27MR400-BB.CTRRMV</td>\n",
       "      <td>Sales Forecast [R+F]</td>\n",
       "      <td>2024-05-27(W22)</td>\n",
       "      <td>75</td>\n",
       "      <td>2024-05</td>\n",
       "    </tr>\n",
       "    <tr>\n",
       "      <th>2569</th>\n",
       "      <td>2024-01-22(W04)</td>\n",
       "      <td>20240122</td>\n",
       "      <td>Final</td>\n",
       "      <td>PC</td>\n",
       "      <td>OS_QUANTA_CN_P</td>\n",
       "      <td>INDIA</td>\n",
       "      <td>EAIL</td>\n",
       "      <td>16T90R-G.CH78A2</td>\n",
       "      <td>16T90R-G.CH78A2</td>\n",
       "      <td>Sales Forecast [R+F]</td>\n",
       "      <td>2024-01-22(W04)</td>\n",
       "      <td>15</td>\n",
       "      <td>2024-01</td>\n",
       "    </tr>\n",
       "    <tr>\n",
       "      <th>2570</th>\n",
       "      <td>2024-01-22(W04)</td>\n",
       "      <td>20240122</td>\n",
       "      <td>Final</td>\n",
       "      <td>PC</td>\n",
       "      <td>OS_QUANTA_CN_P</td>\n",
       "      <td>INDIA</td>\n",
       "      <td>EAIL</td>\n",
       "      <td>16T90R-G.CH78A2</td>\n",
       "      <td>16T90R-G.CH78A2</td>\n",
       "      <td>Sales Forecast [R+F]</td>\n",
       "      <td>2024-02-12(W07)</td>\n",
       "      <td>5</td>\n",
       "      <td>2024-02</td>\n",
       "    </tr>\n",
       "  </tbody>\n",
       "</table>\n",
       "<p>164 rows × 13 columns</p>\n",
       "</div>"
      ],
      "text/plain": [
       "             Planweek  Created_at    Ver Division       From Site Region  \\\n",
       "656   2024-01-29(W05)  2024013009   Main      MNT     OS_AUO_CN_P  INDIA   \n",
       "657   2024-01-29(W05)  2024013009   Main      MNT     OS_AUO_CN_P  INDIA   \n",
       "658   2024-01-29(W05)  2024013009   Main      MNT     OS_AUO_CN_P  INDIA   \n",
       "659   2024-01-29(W05)  2024013009   Main      MNT     OS_AUO_CN_P  INDIA   \n",
       "660   2024-01-29(W05)  2024013009   Main      MNT     OS_AUO_CN_P  INDIA   \n",
       "...               ...         ...    ...      ...             ...    ...   \n",
       "713   2024-01-22(W04)    20240122  Final      MNT     OS_TCL_CN_P  INDIA   \n",
       "714   2024-01-22(W04)    20240122  Final      MNT     OS_TCL_CN_P  INDIA   \n",
       "715   2024-01-22(W04)    20240122  Final      MNT     OS_TCL_CN_P  INDIA   \n",
       "2569  2024-01-22(W04)    20240122  Final       PC  OS_QUANTA_CN_P  INDIA   \n",
       "2570  2024-01-22(W04)    20240122  Final       PC  OS_QUANTA_CN_P  INDIA   \n",
       "\n",
       "     To Site Mapping Model.Suffix            Rep PMS              Category  \\\n",
       "656     EAIL       24GQ50F-B.ATRQ  24GQ50F-BD.CTRVMV  Sales Forecast [R+F]   \n",
       "657     EAIL       24GQ50F-B.ATRQ  24GQ50F-BD.CTRVMV  Sales Forecast [R+F]   \n",
       "658     EAIL       24GQ50F-B.ATRQ  24GQ50F-BD.CTRVMV  Sales Forecast [R+F]   \n",
       "659     EAIL       24GQ50F-B.ATRQ  24GQ50F-BD.CTRVMV  Sales Forecast [R+F]   \n",
       "660     EAIL       24GQ50F-B.ATRQ  24GQ50F-BD.CTRVMV  Sales Forecast [R+F]   \n",
       "...      ...                  ...                ...                   ...   \n",
       "713     EAIL       27MR400-B.ATRQ  27MR400-BB.CTRRMV  Sales Forecast [R+F]   \n",
       "714     EAIL       27MR400-B.ATRQ  27MR400-BB.CTRRMV  Sales Forecast [R+F]   \n",
       "715     EAIL       27MR400-B.ATRQ  27MR400-BB.CTRRMV  Sales Forecast [R+F]   \n",
       "2569    EAIL      16T90R-G.CH78A2    16T90R-G.CH78A2  Sales Forecast [R+F]   \n",
       "2570    EAIL      16T90R-G.CH78A2    16T90R-G.CH78A2  Sales Forecast [R+F]   \n",
       "\n",
       "            Week Name  QTY    Month  \n",
       "656   2024-01-22(W04)   46  2024-01  \n",
       "657   2024-01-29(W05)    4  2024-02  \n",
       "658   2024-03-04(W10)  150  2024-03  \n",
       "659   2024-03-11(W11)  150  2024-03  \n",
       "660   2024-03-25(W13)  272  2024-03  \n",
       "...               ...  ...      ...  \n",
       "713   2024-05-13(W20)  360  2024-05  \n",
       "714   2024-05-20(W21)  420  2024-05  \n",
       "715   2024-05-27(W22)   75  2024-05  \n",
       "2569  2024-01-22(W04)   15  2024-01  \n",
       "2570  2024-02-12(W07)    5  2024-02  \n",
       "\n",
       "[164 rows x 13 columns]"
      ]
     },
     "execution_count": 127,
     "metadata": {},
     "output_type": "execute_result"
    }
   ],
   "source": [
    "sf_all[sf_all['To Site'].str.contains('EAI')]"
   ]
  },
  {
   "cell_type": "code",
   "execution_count": 172,
   "id": "f50ddc33",
   "metadata": {},
   "outputs": [],
   "source": [
    "sf_all.insert(7, 'Series', sf_all['Mapping Model.Suffix'].apply(lambda x:x.split('-')[0]).apply(lambda x:x.split('.')[0]))\n",
    "# sf_all.insert(7, 'Inch', sf_all['Mapping Model.Suffix'].apply(lambda x:x[:2]))\n",
    "sf_all = pd.merge(sf_all, site[['To Site', 'Subsidiary', 'Country']], how='left')"
   ]
  },
  {
   "cell_type": "code",
   "execution_count": 202,
   "id": "9c216872",
   "metadata": {},
   "outputs": [
    {
     "name": "stderr",
     "output_type": "stream",
     "text": [
      "C:\\Users\\paul76.lee\\AppData\\Local\\Temp\\ipykernel_960\\1198681111.py:7: FutureWarning: The default value of regex will change from True to False in a future version.\n",
      "  sf_all.loc[c2, 'Series'] = sf_all[c2]['Mapping Model.Suffix'].apply(lambda x:x.split('-')[0]).str.replace('D|G|N|W|C', '').apply(lambda x:x[:6]) # PC모델의 대표모델명 추출\n"
     ]
    }
   ],
   "source": [
    "# IT ODM 모델명에서 시리즈명 추출\n",
    "c1 = sf_all['From Site'].str.contains('AUO|TPV|TCL') # 모니터 ODM 일 경우\n",
    "c2 = sf_all['Mapping Model.Suffix'].str.match('\\d{2}[T|Z|U|A][G|D|N|W|C]?\\d{2}[A-Z]{1,2}') # PC/태블릿 모델일 경우\n",
    "c3 = sf_all['Mapping Model.Suffix'].str.contains('CL600') # 페가트론 CL600 모델일 경우\n",
    "\n",
    "sf_all.loc[c1, 'Series'] = sf_all[c1]['Mapping Model.Suffix'].apply(lambda x:x[:2]) # 모니터 모델의 시리즈명(inch) 추출\n",
    "sf_all.loc[c2, 'Series'] = sf_all[c2]['Mapping Model.Suffix'].apply(lambda x:x.split('-')[0]).str.replace('D|G|N|W|C', '').apply(lambda x:x[:6]) # PC모델의 대표모델명 추출\n",
    "sf_all.loc[c3, 'Series'] = 'CL600'"
   ]
  },
  {
   "cell_type": "code",
   "execution_count": 208,
   "id": "b945d11b",
   "metadata": {},
   "outputs": [],
   "source": [
    "sf_all = pd.merge(sf_all, site[['To Site', 'Subsidiary', 'Country']], how='left')\n",
    "sf_all.loc[sf_all['Division']=='PC', 'SCM'] = sf_all.loc[sf_all['Division']=='PC', 'Subsidiary'].map(cont[(cont['Div']=='PC') & (cont['Team']=='SCM')].groupby(['Subsidiary'])['Name'].max())\n",
    "sf_all.loc[sf_all['Division']=='PC', 'MKT'] = sf_all.loc[sf_all['Division']=='PC', 'Subsidiary'].map(cont[(cont['Div']=='PC') & (cont['Team']=='MKT')].groupby(['Subsidiary'])['Name'].max())\n",
    "sf_all.loc[sf_all['Division']=='MNT', 'SCM'] = sf_all.loc[sf_all['Division']=='MNT', 'Subsidiary'].map(cont[(cont['Div']=='MNT') & (cont['Team']=='SCM')].groupby(['Subsidiary'])['Name'].max())\n",
    "sf_all.loc[sf_all['Division']=='MNT', 'MKT'] = sf_all.loc[sf_all['Division']=='MNT', 'Subsidiary'].map(cont[(cont['Div']=='MNT') & (cont['Team']=='MKT')].groupby(['Subsidiary'])['Name'].max())\n",
    "us_b2b = sf_all.loc[sf_all['To Site'].str.contains('ENUS') & (sf_all['Mapping Model.Suffix'].apply(lambda x:x[2]) == 'B'), 'Subsidiary'].map(cont[(cont['Div']=='MNT') & (cont['Team']=='MKT')].groupby(['Subsidiary'])['Name'].min())\n",
    "sf_all.loc[sf_all['To Site'].str.contains('ENUS') & (sf_all['Mapping Model.Suffix'].apply(lambda x:x[2]) == 'B'), 'MKT'] = us_b2b\n",
    "sf_all = sf_all.fillna('N/A')"
   ]
  },
  {
   "cell_type": "code",
   "execution_count": 209,
   "id": "d203f301",
   "metadata": {},
   "outputs": [],
   "source": [
    "gap = sf_all.groupby(['Country', 'MKT', 'SCM', 'Planweek', 'Created_at', 'To Site', 'Ver', 'Series', 'Month', 'Week Name'])['QTY'].sum().unstack(['Planweek', 'Ver', 'Created_at']).fillna(0).astype(int)\n",
    "gap['Gap'] = gap[gap.columns[-1]] - gap[gap.columns[0]]\n",
    "gap = gap.unstack('Month').fillna(0).astype(int)\n",
    "gap['Sum of Gap'] = gap['Gap'].sum(axis=1)\n",
    "gap = gap.reset_index()"
   ]
  },
  {
   "cell_type": "code",
   "execution_count": 210,
   "id": "669976b5",
   "metadata": {},
   "outputs": [],
   "source": [
    "countries = gap['Country'].unique()"
   ]
  },
  {
   "cell_type": "code",
   "execution_count": 211,
   "id": "c96d1ed3",
   "metadata": {},
   "outputs": [],
   "source": [
    "# 국가별 탭으로 엑셀 파일 만들기\n",
    "df_all = []\n",
    "for country in countries:\n",
    "    df = gap[gap['Country'] == country].copy()\n",
    "    df = df.reset_index(drop=True).set_index(['Country', 'To Site', 'Series', 'Week Name'])\n",
    "    df_all.append(df)\n",
    "\n",
    "updated_time = datetime.datetime.now().strftime('%Y%m%d%H%M')\n",
    "filepath = f'D:/SP검토/{updated_time}_{p_wk}_TCL Sales Forecast Review_by_country.xlsx'\n",
    "with pd.ExcelWriter(filepath) as writer:\n",
    "    for i, df in enumerate(df_all):\n",
    "        df.to_excel(writer, sheet_name=f'{countries[i]}', startrow=1)"
   ]
  },
  {
   "cell_type": "code",
   "execution_count": 177,
   "id": "c1d00f3b",
   "metadata": {},
   "outputs": [],
   "source": [
    "wb = load_workbook(filepath)\n",
    "\n",
    "for sheet_name in wb.sheetnames:\n",
    "    confirm_wk = '2024-02-12(W07)'\n",
    "    color = PatternFill(fgColor='9999FF', fill_type='solid') # violet\n",
    "    confirm_color = PatternFill(fgColor='00cc00', fill_type='solid') # Honeydew\n",
    "    pseudo_confirm_color = PatternFill(fgColor='9ACD32', fill_type='solid') # Yellowgreen\n",
    "    border_style = Side(border_style=\"thin\", color=\"000000\")\n",
    "    border = Border(top=border_style, right=border_style, bottom=border_style, left=border_style)\n",
    "    sh = wb[sheet_name]\n",
    "    sh['F1'] = 'Sub TTL'\n",
    "    for i in range(7, sh.max_column+1):\n",
    "        col_letter = get_column_letter(i)\n",
    "        sh.cell(row=1, column=i).value = f'=subtotal(9, {col_letter}7:{col_letter}{sh.max_row})'\n",
    "        sh.cell(row=1, column=i).number_format = '#,##0;[RED]Δ#,##0;\"-\"'\n",
    "    for row in sh.iter_rows(min_row=2, min_col=6, max_row=5, max_col=sh.max_column):\n",
    "        for cell in row:\n",
    "            cell.fill = color\n",
    "            cell.alignment = Alignment(horizontal='center', vertical='center', wrap_text=True)\n",
    "    merge_range = f'{get_column_letter(sh.max_column)}2:{get_column_letter(sh.max_column)}5'\n",
    "    sh.merge_cells(merge_range)\n",
    "    for cell in sh[merge_range][0]:\n",
    "        cell.alignment = Alignment(horizontal='center', vertical='center', wrap_text=True)\n",
    "    for row in sh.iter_rows(min_row=6, min_col=1, max_row=6, max_col=6):\n",
    "        for cell in row:\n",
    "            cell.fill = color\n",
    "    for row in sh.iter_rows(min_row=7, min_col=7, max_row=sh.max_row, max_col=sh.max_column):\n",
    "        for cell in row:\n",
    "            cell.border = border\n",
    "            cell.number_format = '#,##0;[RED]Δ#,##0;\"-\"'\n",
    "    for row in sh.iter_rows(min_row=7, min_col=6):\n",
    "        if row[0].value == confirm_wk:\n",
    "            for cell in row:\n",
    "                cell.fill = confirm_color\n",
    "        elif row[0].value in [get_weekname_from(confirm_wk, i) for i in range(1, 3)]:\n",
    "            for cell in row:\n",
    "                cell.fill = pseudo_confirm_color\n",
    "    sh.freeze_panes = 'G7'\n",
    "    sh.column_dimensions['A'].width = 15\n",
    "    sh.column_dimensions['B'].width = 6\n",
    "    sh.column_dimensions['C'].width = 6\n",
    "    sh.column_dimensions['F'].width = 17.5\n",
    "    sh.sheet_view.showGridLines = False"
   ]
  },
  {
   "cell_type": "code",
   "execution_count": 178,
   "id": "88fc9e40",
   "metadata": {},
   "outputs": [],
   "source": [
    "wb.save(filepath)\n",
    "wb.close()"
   ]
  },
  {
   "cell_type": "markdown",
   "id": "00192302",
   "metadata": {},
   "source": [
    "### 2) 업체별로 볼 때"
   ]
  },
  {
   "cell_type": "code",
   "execution_count": 26,
   "id": "e2b30ce9",
   "metadata": {},
   "outputs": [
    {
     "data": {
      "text/html": [
       "<div>\n",
       "<style scoped>\n",
       "    .dataframe tbody tr th:only-of-type {\n",
       "        vertical-align: middle;\n",
       "    }\n",
       "\n",
       "    .dataframe tbody tr th {\n",
       "        vertical-align: top;\n",
       "    }\n",
       "\n",
       "    .dataframe thead th {\n",
       "        text-align: right;\n",
       "    }\n",
       "</style>\n",
       "<table border=\"1\" class=\"dataframe\">\n",
       "  <thead>\n",
       "    <tr style=\"text-align: right;\">\n",
       "      <th></th>\n",
       "      <th>Planweek</th>\n",
       "      <th>From Site</th>\n",
       "      <th>Ver</th>\n",
       "      <th>Created_at</th>\n",
       "      <th>QTY</th>\n",
       "    </tr>\n",
       "  </thead>\n",
       "  <tbody>\n",
       "    <tr>\n",
       "      <th>3</th>\n",
       "      <td>2024-01-08(W02)</td>\n",
       "      <td>OS_TCL_CN_P</td>\n",
       "      <td>Final</td>\n",
       "      <td>2024010809</td>\n",
       "      <td>372706</td>\n",
       "    </tr>\n",
       "    <tr>\n",
       "      <th>9</th>\n",
       "      <td>2024-01-15(W03)</td>\n",
       "      <td>OS_TCL_CN_P</td>\n",
       "      <td>Final</td>\n",
       "      <td>2024011509</td>\n",
       "      <td>410525</td>\n",
       "    </tr>\n",
       "    <tr>\n",
       "      <th>15</th>\n",
       "      <td>2024-01-22(W04)</td>\n",
       "      <td>OS_TCL_CN_P</td>\n",
       "      <td>Final</td>\n",
       "      <td>20240122</td>\n",
       "      <td>428499</td>\n",
       "    </tr>\n",
       "    <tr>\n",
       "      <th>24</th>\n",
       "      <td>2024-01-29(W05)</td>\n",
       "      <td>OS_TCL_CN_P</td>\n",
       "      <td>Final</td>\n",
       "      <td>2024013016</td>\n",
       "      <td>436464</td>\n",
       "    </tr>\n",
       "    <tr>\n",
       "      <th>25</th>\n",
       "      <td>2024-01-29(W05)</td>\n",
       "      <td>OS_TCL_CN_P</td>\n",
       "      <td>Main</td>\n",
       "      <td>2024013009</td>\n",
       "      <td>448394</td>\n",
       "    </tr>\n",
       "  </tbody>\n",
       "</table>\n",
       "</div>"
      ],
      "text/plain": [
       "           Planweek    From Site    Ver  Created_at     QTY\n",
       "3   2024-01-08(W02)  OS_TCL_CN_P  Final  2024010809  372706\n",
       "9   2024-01-15(W03)  OS_TCL_CN_P  Final  2024011509  410525\n",
       "15  2024-01-22(W04)  OS_TCL_CN_P  Final    20240122  428499\n",
       "24  2024-01-29(W05)  OS_TCL_CN_P  Final  2024013016  436464\n",
       "25  2024-01-29(W05)  OS_TCL_CN_P   Main  2024013009  448394"
      ]
     },
     "execution_count": 26,
     "metadata": {},
     "output_type": "execute_result"
    }
   ],
   "source": [
    "ver_table = sf.groupby(['Planweek', 'From Site', 'Ver', 'Created_at']).sum('SP').reset_index()\n",
    "ver_table = ver_table[ver_table['From Site'].str.contains('TCL')]\n",
    "ver_table.iloc[-30:, ]"
   ]
  },
  {
   "cell_type": "code",
   "execution_count": 28,
   "id": "b554668c",
   "metadata": {},
   "outputs": [],
   "source": [
    "i1 = 24\n",
    "i2 = 15\n",
    "\n",
    "p_wk = sf.groupby(['Planweek', 'From Site', 'Ver', 'Created_at']).sum('SP').reset_index().iloc[i1, :4]['Planweek']\n",
    "vendor = sf.groupby(['Planweek', 'From Site', 'Ver', 'Created_at']).sum('SP').reset_index().iloc[i1, :4]['From Site'].split('_')[1]\n",
    "ver = sf.groupby(['Planweek', 'From Site', 'Ver', 'Created_at']).sum('SP').reset_index().iloc[i1, :4]['Ver']"
   ]
  },
  {
   "cell_type": "code",
   "execution_count": 29,
   "id": "fe541f74",
   "metadata": {},
   "outputs": [],
   "source": [
    "sf1 = sf.merge(sf.groupby(['Planweek', 'From Site', 'Ver', 'Created_at']).sum('QTY').reset_index().iloc[[i1], :4])\n",
    "sf2 = sf.merge(sf.groupby(['Planweek', 'From Site', 'Ver', 'Created_at']).sum('QTY').reset_index().iloc[[i2], :4])\n",
    "sf2 = sf2[sf2['Week Name'] >= sf1['Week Name'].min()]"
   ]
  },
  {
   "cell_type": "code",
   "execution_count": 30,
   "id": "3bda045c",
   "metadata": {},
   "outputs": [],
   "source": [
    "sf_all = pd.concat([sf1, sf2])\n",
    "sf_all['Month'] = sf_all['Week Name'].apply(lambda x:f'{datetime.date.fromisoformat(x[:10]).isocalendar().year}-{get_month_from_date(datetime.date.fromisoformat(x[:10])):02d}')"
   ]
  },
  {
   "cell_type": "code",
   "execution_count": 31,
   "id": "b7df46ea",
   "metadata": {},
   "outputs": [],
   "source": [
    "sf_all = sf_all[sf_all['Week Name'] >= [get_weekname_from(p_wk, i) for i in range(-3, 1)][0]] # 이번주 기준 3주전부터 Sorting\n",
    "sf_all = sf_all[sf_all['Month'] <= '2024-05'] # 24년 4월까지만 한정"
   ]
  },
  {
   "cell_type": "code",
   "execution_count": 32,
   "id": "e58510be",
   "metadata": {},
   "outputs": [],
   "source": [
    "sf_all.insert(7, 'Series', sf_all['Mapping Model.Suffix'].apply(lambda x:x.split('-')[0]).apply(lambda x:x.split('.')[0]))\n",
    "sf_all.insert(7, 'Inch', sf_all['Mapping Model.Suffix'].apply(lambda x:x[:2]))\n",
    "sf_all = pd.merge(sf_all, site[['To Site', 'Subsidiary', 'Country']], how='left')"
   ]
  },
  {
   "cell_type": "code",
   "execution_count": 33,
   "id": "34c0c243",
   "metadata": {},
   "outputs": [],
   "source": [
    "sf_all.loc[sf_all['Division']=='PC', 'SCM'] = sf_all.loc[sf_all['Division']=='PC', 'Subsidiary'].map(cont[(cont['Div']=='PC') & (cont['Team']=='SCM')].groupby(['Subsidiary'])['Name'].max())\n",
    "sf_all.loc[sf_all['Division']=='PC', 'MKT'] = sf_all.loc[sf_all['Division']=='PC', 'Subsidiary'].map(cont[(cont['Div']=='PC') & (cont['Team']=='MKT')].groupby(['Subsidiary'])['Name'].max())\n",
    "sf_all.loc[sf_all['Division']=='MNT', 'SCM'] = sf_all.loc[sf_all['Division']=='MNT', 'Subsidiary'].map(cont[(cont['Div']=='MNT') & (cont['Team']=='SCM')].groupby(['Subsidiary'])['Name'].max())\n",
    "sf_all.loc[sf_all['Division']=='MNT', 'MKT'] = sf_all.loc[sf_all['Division']=='MNT', 'Subsidiary'].map(cont[(cont['Div']=='MNT') & (cont['Team']=='MKT')].groupby(['Subsidiary'])['Name'].max())\n",
    "us_b2b = sf_all.loc[sf_all['To Site'].str.contains('ENUS') & (sf_all['Mapping Model.Suffix'].apply(lambda x:x[2]) == 'B'), 'Subsidiary'].map(cont[(cont['Div']=='MNT') & (cont['Team']=='MKT')].groupby(['Subsidiary'])['Name'].min())\n",
    "sf_all.loc[sf_all['To Site'].str.contains('ENUS') & (sf_all['Mapping Model.Suffix'].apply(lambda x:x[2]) == 'B'), 'MKT'] = us_b2b\n",
    "sf_all = sf_all.fillna('N/A')"
   ]
  },
  {
   "cell_type": "code",
   "execution_count": 34,
   "id": "f3a74190",
   "metadata": {},
   "outputs": [],
   "source": [
    "gap = sf_all.groupby(['Country', 'MKT', 'SCM', 'Planweek', 'Created_at', 'To Site', 'Ver', 'Series', 'Month', 'Week Name'])['QTY'].sum().unstack(['Planweek', 'Ver', 'Created_at']).fillna(0).astype(int)\n",
    "gap['Gap'] = gap[gap.columns[-1]] - gap[gap.columns[0]]\n",
    "gap = gap.unstack('Month').fillna(0).astype(int)\n",
    "gap['Sum of Gap'] = gap['Gap'].sum(axis=1)\n",
    "gap = gap.reset_index()"
   ]
  },
  {
   "cell_type": "code",
   "execution_count": 35,
   "id": "4e627d04",
   "metadata": {},
   "outputs": [],
   "source": [
    "countries = gap['Country'].unique()"
   ]
  },
  {
   "cell_type": "code",
   "execution_count": 36,
   "id": "d6d7122e",
   "metadata": {},
   "outputs": [],
   "source": [
    "# 국가별 탭으로 엑셀 파일 만들기\n",
    "df_all = []\n",
    "for country in countries:\n",
    "    df = gap[gap['Country'] == country].copy()\n",
    "    df = df.reset_index(drop=True).set_index(['Country', 'MKT', 'SCM', 'To Site', 'Series', 'Week Name'])\n",
    "    df_all.append(df)\n",
    "\n",
    "updated_time = datetime.datetime.now().strftime('%Y%m%d%H%M')\n",
    "filepath = f'D:/SP검토/{updated_time}_{p_wk}_TCL Sales Forecast Review_by_country.xlsx'\n",
    "with pd.ExcelWriter(filepath) as writer:\n",
    "    for i, df in enumerate(df_all):\n",
    "        df.to_excel(writer, sheet_name=f'{countries[i]}', startrow=1)"
   ]
  },
  {
   "cell_type": "markdown",
   "id": "809d34ee",
   "metadata": {},
   "source": [
    "## TCL 최근 5주간 변동 현황"
   ]
  },
  {
   "cell_type": "code",
   "execution_count": 37,
   "id": "34491e8f",
   "metadata": {},
   "outputs": [
    {
     "data": {
      "text/html": [
       "<div>\n",
       "<style scoped>\n",
       "    .dataframe tbody tr th:only-of-type {\n",
       "        vertical-align: middle;\n",
       "    }\n",
       "\n",
       "    .dataframe tbody tr th {\n",
       "        vertical-align: top;\n",
       "    }\n",
       "\n",
       "    .dataframe thead th {\n",
       "        text-align: right;\n",
       "    }\n",
       "</style>\n",
       "<table border=\"1\" class=\"dataframe\">\n",
       "  <thead>\n",
       "    <tr style=\"text-align: right;\">\n",
       "      <th></th>\n",
       "      <th>Planweek</th>\n",
       "      <th>From Site</th>\n",
       "      <th>Ver</th>\n",
       "      <th>Created_at</th>\n",
       "      <th>QTY</th>\n",
       "    </tr>\n",
       "  </thead>\n",
       "  <tbody>\n",
       "    <tr>\n",
       "      <th>3</th>\n",
       "      <td>2024-01-08(W02)</td>\n",
       "      <td>OS_TCL_CN_P</td>\n",
       "      <td>Final</td>\n",
       "      <td>2024010809</td>\n",
       "      <td>372706</td>\n",
       "    </tr>\n",
       "    <tr>\n",
       "      <th>9</th>\n",
       "      <td>2024-01-15(W03)</td>\n",
       "      <td>OS_TCL_CN_P</td>\n",
       "      <td>Final</td>\n",
       "      <td>2024011509</td>\n",
       "      <td>410525</td>\n",
       "    </tr>\n",
       "    <tr>\n",
       "      <th>15</th>\n",
       "      <td>2024-01-22(W04)</td>\n",
       "      <td>OS_TCL_CN_P</td>\n",
       "      <td>Final</td>\n",
       "      <td>20240122</td>\n",
       "      <td>428499</td>\n",
       "    </tr>\n",
       "    <tr>\n",
       "      <th>24</th>\n",
       "      <td>2024-01-29(W05)</td>\n",
       "      <td>OS_TCL_CN_P</td>\n",
       "      <td>Final</td>\n",
       "      <td>2024013016</td>\n",
       "      <td>436464</td>\n",
       "    </tr>\n",
       "    <tr>\n",
       "      <th>25</th>\n",
       "      <td>2024-01-29(W05)</td>\n",
       "      <td>OS_TCL_CN_P</td>\n",
       "      <td>Main</td>\n",
       "      <td>2024013009</td>\n",
       "      <td>448394</td>\n",
       "    </tr>\n",
       "  </tbody>\n",
       "</table>\n",
       "</div>"
      ],
      "text/plain": [
       "           Planweek    From Site    Ver  Created_at     QTY\n",
       "3   2024-01-08(W02)  OS_TCL_CN_P  Final  2024010809  372706\n",
       "9   2024-01-15(W03)  OS_TCL_CN_P  Final  2024011509  410525\n",
       "15  2024-01-22(W04)  OS_TCL_CN_P  Final    20240122  428499\n",
       "24  2024-01-29(W05)  OS_TCL_CN_P  Final  2024013016  436464\n",
       "25  2024-01-29(W05)  OS_TCL_CN_P   Main  2024013009  448394"
      ]
     },
     "execution_count": 37,
     "metadata": {},
     "output_type": "execute_result"
    }
   ],
   "source": [
    "ver_table.iloc[-30:, ]"
   ]
  },
  {
   "cell_type": "code",
   "execution_count": 38,
   "id": "44b39e2b",
   "metadata": {},
   "outputs": [],
   "source": [
    "idxs = [3, 9, 15, 24] # index 넘버를 선택\n",
    "df = pd.DataFrame()\n",
    "for i in idxs:\n",
    "    df = pd.concat([df, sf.merge(sf.groupby(['Planweek', 'From Site', 'Ver', 'Created_at']).sum('QTY').reset_index().iloc[[i], :-1])]).reset_index(drop=True)    "
   ]
  },
  {
   "cell_type": "code",
   "execution_count": 39,
   "id": "f1714f46",
   "metadata": {},
   "outputs": [],
   "source": [
    "search_period = ['2024-02', '2024-03', '2024-04', '2024-05', '2024-06']"
   ]
  },
  {
   "cell_type": "code",
   "execution_count": 40,
   "id": "2539f0e9",
   "metadata": {},
   "outputs": [],
   "source": [
    "df['Month'] = df['Week Name'].apply(lambda x:f'{datetime.date.fromisoformat(x[:10]).isocalendar().year}-{get_month_from_date(datetime.date.fromisoformat(x[:10])):02d}')\n",
    "df.insert(7, 'Series', df['Mapping Model.Suffix'].apply(lambda x:x.split('-')[0]).apply(lambda x:x.split('.')[0]))\n",
    "df.insert(7, 'Inch', df['Mapping Model.Suffix'].apply(lambda x:x[:2]))\n",
    "df = df[df['Month'].isin(search_period)]\n",
    "\n",
    "df = pd.merge(df, site[['To Site', 'Subsidiary', 'Country']], how='left')"
   ]
  },
  {
   "cell_type": "code",
   "execution_count": 41,
   "id": "62159b04",
   "metadata": {},
   "outputs": [],
   "source": [
    "wb = load_workbook(filepath)\n",
    "\n",
    "for sheet_name in wb.sheetnames:\n",
    "    confirm_wk = '2024-02-12(W07)'\n",
    "    color = PatternFill(fgColor='9999FF', fill_type='solid') # violet\n",
    "    confirm_color = PatternFill(fgColor='00cc00', fill_type='solid') # Honeydew\n",
    "    pseudo_confirm_color = PatternFill(fgColor='9ACD32', fill_type='solid') # Yellowgreen\n",
    "    border_style = Side(border_style=\"thin\", color=\"000000\")\n",
    "    border = Border(top=border_style, right=border_style, bottom=border_style, left=border_style)\n",
    "    sh = wb[sheet_name]\n",
    "    sh['F1'] = 'Sub TTL'\n",
    "    for i in range(7, sh.max_column+1):\n",
    "        col_letter = get_column_letter(i)\n",
    "        sh.cell(row=1, column=i).value = f'=subtotal(9, {col_letter}7:{col_letter}{sh.max_row})'\n",
    "        sh.cell(row=1, column=i).number_format = '#,##0;[RED]Δ#,##0;\"-\"'\n",
    "    for row in sh.iter_rows(min_row=2, min_col=6, max_row=5, max_col=sh.max_column):\n",
    "        for cell in row:\n",
    "            cell.fill = color\n",
    "            cell.alignment = Alignment(horizontal='center', vertical='center', wrap_text=True)\n",
    "    merge_range = f'{get_column_letter(sh.max_column)}2:{get_column_letter(sh.max_column)}5'\n",
    "    sh.merge_cells(merge_range)\n",
    "    for cell in sh[merge_range][0]:\n",
    "        cell.alignment = Alignment(horizontal='center', vertical='center', wrap_text=True)\n",
    "    for row in sh.iter_rows(min_row=6, min_col=1, max_row=6, max_col=6):\n",
    "        for cell in row:\n",
    "            cell.fill = color\n",
    "    for row in sh.iter_rows(min_row=7, min_col=7, max_row=sh.max_row, max_col=sh.max_column):\n",
    "        for cell in row:\n",
    "            cell.border = border\n",
    "            cell.number_format = '#,##0;[RED]Δ#,##0;\"-\"'\n",
    "    for row in sh.iter_rows(min_row=7, min_col=6):\n",
    "        if row[0].value == confirm_wk:\n",
    "            for cell in row:\n",
    "                cell.fill = confirm_color\n",
    "        elif row[0].value in [get_weekname_from(confirm_wk, i) for i in range(1, 3)]:\n",
    "            for cell in row:\n",
    "                cell.fill = pseudo_confirm_color\n",
    "    sh.freeze_panes = 'G7'\n",
    "    sh.column_dimensions['A'].width = 15\n",
    "    sh.column_dimensions['B'].width = 6\n",
    "    sh.column_dimensions['C'].width = 6\n",
    "    sh.column_dimensions['F'].width = 17.5\n",
    "    sh.sheet_view.showGridLines = False\n",
    "    \n",
    "    df_bar = df.groupby(['Country', 'Planweek', 'Series', 'Month']).sum('QTY').loc[sheet_name].reset_index()\n",
    "    fig = px.bar(df_bar, x='Planweek', y='QTY', color='Month', facet_col='Series', title=f'{sheet_name} Sales Forecast Variation',\n",
    "                 category_orders={'Month':['2024-02', '2024-03', '2024-04', '2024-05', '2024-06'], 'Planweek':sorted(df['Planweek'].unique())}, width=1200, text_auto=True)\n",
    "    image_filepath = f'D:/figure/{sheet_name}_weekly_sales_forecast_variation.png'\n",
    "    fig.write_image(image_filepath)\n",
    "    \n",
    "    plot_image = Image(image_filepath)\n",
    "    sh.add_image(plot_image, f'A{sh.max_row+2}')\n",
    "\n",
    "wb.save(filepath)\n",
    "wb.close()"
   ]
  },
  {
   "cell_type": "code",
   "execution_count": null,
   "id": "6225faf7",
   "metadata": {},
   "outputs": [],
   "source": []
  }
 ],
 "metadata": {
  "kernelspec": {
   "display_name": "Python 3 (ipykernel)",
   "language": "python",
   "name": "python3"
  },
  "language_info": {
   "codemirror_mode": {
    "name": "ipython",
    "version": 3
   },
   "file_extension": ".py",
   "mimetype": "text/x-python",
   "name": "python",
   "nbconvert_exporter": "python",
   "pygments_lexer": "ipython3",
   "version": "3.10.9"
  }
 },
 "nbformat": 4,
 "nbformat_minor": 5
}
