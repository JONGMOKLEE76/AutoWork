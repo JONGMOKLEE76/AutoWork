{
 "cells": [
  {
   "cell_type": "code",
   "execution_count": 1,
   "id": "e30dbe89",
   "metadata": {},
   "outputs": [],
   "source": [
    "from tool import *\n",
    "import plotly.graph_objects as go"
   ]
  },
  {
   "cell_type": "code",
   "execution_count": 2,
   "id": "ff442e59",
   "metadata": {},
   "outputs": [],
   "source": [
    "with open('D:/Data/Shipment Plan_Adjusted_new.DB', 'rb') as f:\n",
    "    sp = pickle.load(f)"
   ]
  },
  {
   "cell_type": "markdown",
   "id": "329c9626",
   "metadata": {},
   "source": [
    "# 1. 신규 생산계획 불러와 데이터 가공"
   ]
  },
  {
   "cell_type": "code",
   "execution_count": 3,
   "id": "d776574e",
   "metadata": {},
   "outputs": [],
   "source": [
    "pp = pd.read_excel(get_filename(), sheet_name=0, skiprows=1)"
   ]
  },
  {
   "cell_type": "code",
   "execution_count": 4,
   "id": "f9864aa3",
   "metadata": {},
   "outputs": [
    {
     "data": {
      "text/html": [
       "<div>\n",
       "<style scoped>\n",
       "    .dataframe tbody tr th:only-of-type {\n",
       "        vertical-align: middle;\n",
       "    }\n",
       "\n",
       "    .dataframe tbody tr th {\n",
       "        vertical-align: top;\n",
       "    }\n",
       "\n",
       "    .dataframe thead th {\n",
       "        text-align: right;\n",
       "    }\n",
       "</style>\n",
       "<table border=\"1\" class=\"dataframe\">\n",
       "  <thead>\n",
       "    <tr style=\"text-align: right;\">\n",
       "      <th></th>\n",
       "      <th>Target Week</th>\n",
       "      <th>ODF</th>\n",
       "      <th>TCL BOM</th>\n",
       "      <th>PP Date</th>\n",
       "      <th>QTY</th>\n",
       "    </tr>\n",
       "  </thead>\n",
       "  <tbody>\n",
       "    <tr>\n",
       "      <th>0</th>\n",
       "      <td>24/01/29W</td>\n",
       "      <td>DOK7518033</td>\n",
       "      <td>X3-22M205M3-COS1AU</td>\n",
       "      <td>2024-01-22</td>\n",
       "      <td>840.0</td>\n",
       "    </tr>\n",
       "    <tr>\n",
       "      <th>1</th>\n",
       "      <td>24/01/29W</td>\n",
       "      <td>DOK7518036</td>\n",
       "      <td>X3-22M205M3-VMS1AU</td>\n",
       "      <td>2024-01-22</td>\n",
       "      <td>1260.0</td>\n",
       "    </tr>\n",
       "    <tr>\n",
       "      <th>2</th>\n",
       "      <td>24/02/05W</td>\n",
       "      <td>DOK7518052</td>\n",
       "      <td>X3-22M205M3-HKS0AU</td>\n",
       "      <td>2024-01-23</td>\n",
       "      <td>280.0</td>\n",
       "    </tr>\n",
       "    <tr>\n",
       "      <th>3</th>\n",
       "      <td>24/01/29W</td>\n",
       "      <td>DOK7518032</td>\n",
       "      <td>X3-27M205M3-USS0AU</td>\n",
       "      <td>2024-01-31</td>\n",
       "      <td>3840.0</td>\n",
       "    </tr>\n",
       "    <tr>\n",
       "      <th>4</th>\n",
       "      <td>24/02/05W</td>\n",
       "      <td>DOK7518132</td>\n",
       "      <td>X3-22M205M3-AAS1AU</td>\n",
       "      <td>2024-01-27</td>\n",
       "      <td>252.0</td>\n",
       "    </tr>\n",
       "    <tr>\n",
       "      <th>...</th>\n",
       "      <td>...</td>\n",
       "      <td>...</td>\n",
       "      <td>...</td>\n",
       "      <td>...</td>\n",
       "      <td>...</td>\n",
       "    </tr>\n",
       "    <tr>\n",
       "      <th>103</th>\n",
       "      <td>24/03/18W</td>\n",
       "      <td>NaN</td>\n",
       "      <td>X3-27M205M3-HKS0AU</td>\n",
       "      <td>2024-03-08</td>\n",
       "      <td>128.0</td>\n",
       "    </tr>\n",
       "    <tr>\n",
       "      <th>104</th>\n",
       "      <td>24/03/18W</td>\n",
       "      <td>NaN</td>\n",
       "      <td>X3-27M205M3-INS0AU</td>\n",
       "      <td>2024-03-08</td>\n",
       "      <td>512.0</td>\n",
       "    </tr>\n",
       "    <tr>\n",
       "      <th>105</th>\n",
       "      <td>24/03/18W</td>\n",
       "      <td>NaN</td>\n",
       "      <td>X3-27M205M3-USS0DU</td>\n",
       "      <td>2024-03-08</td>\n",
       "      <td>512.0</td>\n",
       "    </tr>\n",
       "    <tr>\n",
       "      <th>106</th>\n",
       "      <td>24/03/18W</td>\n",
       "      <td>NaN</td>\n",
       "      <td>X3-27M205M3-USS0EU</td>\n",
       "      <td>2024-03-08</td>\n",
       "      <td>2560.0</td>\n",
       "    </tr>\n",
       "    <tr>\n",
       "      <th>107</th>\n",
       "      <td>24/03/18W</td>\n",
       "      <td>NaN</td>\n",
       "      <td>X3-27M205M3-VMS0AU</td>\n",
       "      <td>2024-03-08</td>\n",
       "      <td>44.0</td>\n",
       "    </tr>\n",
       "  </tbody>\n",
       "</table>\n",
       "<p>108 rows × 5 columns</p>\n",
       "</div>"
      ],
      "text/plain": [
       "    Target Week         ODF             TCL BOM    PP Date     QTY\n",
       "0     24/01/29W  DOK7518033  X3-22M205M3-COS1AU 2024-01-22   840.0\n",
       "1     24/01/29W  DOK7518036  X3-22M205M3-VMS1AU 2024-01-22  1260.0\n",
       "2     24/02/05W  DOK7518052  X3-22M205M3-HKS0AU 2024-01-23   280.0\n",
       "3     24/01/29W  DOK7518032  X3-27M205M3-USS0AU 2024-01-31  3840.0\n",
       "4     24/02/05W  DOK7518132  X3-22M205M3-AAS1AU 2024-01-27   252.0\n",
       "..          ...         ...                 ...        ...     ...\n",
       "103   24/03/18W         NaN  X3-27M205M3-HKS0AU 2024-03-08   128.0\n",
       "104   24/03/18W         NaN  X3-27M205M3-INS0AU 2024-03-08   512.0\n",
       "105   24/03/18W         NaN  X3-27M205M3-USS0DU 2024-03-08   512.0\n",
       "106   24/03/18W         NaN  X3-27M205M3-USS0EU 2024-03-08  2560.0\n",
       "107   24/03/18W         NaN  X3-27M205M3-VMS0AU 2024-03-08    44.0\n",
       "\n",
       "[108 rows x 5 columns]"
      ]
     },
     "execution_count": 4,
     "metadata": {},
     "output_type": "execute_result"
    }
   ],
   "source": [
    "pp_date = []\n",
    "for item in pp.columns:\n",
    "    if type(item) == datetime.datetime:\n",
    "        pp_date.append(item)\n",
    "\n",
    "pp = pd.concat([pp.iloc[:, :7], pp[pp_date]], axis=1)\n",
    "pp.columns = ['Target Week', 'ODF', 'TCL BOM', 'drop3', 'drop4', 'Production Date', 'WO'] + pp_date\n",
    "pp = pp[['Target Week', 'ODF', 'TCL BOM', 'Production Date', 'WO'] + pp_date]\n",
    "pp = pp.set_index(['Target Week', 'ODF', 'TCL BOM'])[pp_date].stack().reset_index()\n",
    "pp.columns = ['Target Week', 'ODF', 'TCL BOM', 'PP Date', 'QTY']\n",
    "pp = pp[pp['TCL BOM'].notnull()].reset_index(drop=True)\n",
    "pp"
   ]
  },
  {
   "cell_type": "code",
   "execution_count": 5,
   "id": "b3b8ad92",
   "metadata": {},
   "outputs": [
    {
     "data": {
      "text/plain": [
       "117885.0"
      ]
     },
     "execution_count": 5,
     "metadata": {},
     "output_type": "execute_result"
    }
   ],
   "source": [
    "pp['QTY'].sum()"
   ]
  },
  {
   "cell_type": "code",
   "execution_count": 6,
   "id": "874601f5",
   "metadata": {},
   "outputs": [],
   "source": [
    "pp = pp[pp['QTY'].apply(lambda x:type(x) in [int, float])]\n",
    "pp['QTY'] = pp['QTY'].astype(int)\n",
    "pp['Rep PMS'] = pp['TCL BOM'].map(tcl_bom_map)"
   ]
  },
  {
   "cell_type": "code",
   "execution_count": 7,
   "id": "ba1b7e83",
   "metadata": {},
   "outputs": [
    {
     "data": {
      "text/html": [
       "<div>\n",
       "<style scoped>\n",
       "    .dataframe tbody tr th:only-of-type {\n",
       "        vertical-align: middle;\n",
       "    }\n",
       "\n",
       "    .dataframe tbody tr th {\n",
       "        vertical-align: top;\n",
       "    }\n",
       "\n",
       "    .dataframe thead th {\n",
       "        text-align: right;\n",
       "    }\n",
       "</style>\n",
       "<table border=\"1\" class=\"dataframe\">\n",
       "  <thead>\n",
       "    <tr style=\"text-align: right;\">\n",
       "      <th></th>\n",
       "      <th>Target Week</th>\n",
       "      <th>ODF</th>\n",
       "      <th>TCL BOM</th>\n",
       "      <th>PP Date</th>\n",
       "      <th>QTY</th>\n",
       "      <th>Rep PMS</th>\n",
       "    </tr>\n",
       "  </thead>\n",
       "  <tbody>\n",
       "  </tbody>\n",
       "</table>\n",
       "</div>"
      ],
      "text/plain": [
       "Empty DataFrame\n",
       "Columns: [Target Week, ODF, TCL BOM, PP Date, QTY, Rep PMS]\n",
       "Index: []"
      ]
     },
     "execution_count": 7,
     "metadata": {},
     "output_type": "execute_result"
    }
   ],
   "source": [
    "pp[pp['Rep PMS'].isnull()] # Rep PMS 명의 결측치 확인"
   ]
  },
  {
   "cell_type": "code",
   "execution_count": 8,
   "id": "2e7be42e",
   "metadata": {},
   "outputs": [],
   "source": [
    "pp['Mapping Model.Suffix'] = pp['Rep PMS'].map(make_dict_from_df(sp[['Rep PMS', 'Mapping Model.Suffix']].drop_duplicates())).fillna('TBD')"
   ]
  },
  {
   "cell_type": "code",
   "execution_count": 9,
   "id": "94914b9b",
   "metadata": {},
   "outputs": [
    {
     "data": {
      "text/html": [
       "<div>\n",
       "<style scoped>\n",
       "    .dataframe tbody tr th:only-of-type {\n",
       "        vertical-align: middle;\n",
       "    }\n",
       "\n",
       "    .dataframe tbody tr th {\n",
       "        vertical-align: top;\n",
       "    }\n",
       "\n",
       "    .dataframe thead th {\n",
       "        text-align: right;\n",
       "    }\n",
       "</style>\n",
       "<table border=\"1\" class=\"dataframe\">\n",
       "  <thead>\n",
       "    <tr style=\"text-align: right;\">\n",
       "      <th></th>\n",
       "      <th>Target Week</th>\n",
       "      <th>ODF</th>\n",
       "      <th>TCL BOM</th>\n",
       "      <th>PP Date</th>\n",
       "      <th>QTY</th>\n",
       "      <th>Rep PMS</th>\n",
       "      <th>Mapping Model.Suffix</th>\n",
       "    </tr>\n",
       "  </thead>\n",
       "  <tbody>\n",
       "  </tbody>\n",
       "</table>\n",
       "</div>"
      ],
      "text/plain": [
       "Empty DataFrame\n",
       "Columns: [Target Week, ODF, TCL BOM, PP Date, QTY, Rep PMS, Mapping Model.Suffix]\n",
       "Index: []"
      ]
     },
     "execution_count": 9,
     "metadata": {},
     "output_type": "execute_result"
    }
   ],
   "source": [
    "pp[pp['Mapping Model.Suffix'].isnull()] # Mapping Model 명의 결측치 확인"
   ]
  },
  {
   "cell_type": "code",
   "execution_count": 10,
   "id": "b362f07b",
   "metadata": {},
   "outputs": [],
   "source": [
    "pp['Updated_at'] = datetime.datetime(2024,1,30,0,27) # 업데이트 일자"
   ]
  },
  {
   "cell_type": "code",
   "execution_count": 11,
   "id": "3f5e78a3",
   "metadata": {},
   "outputs": [],
   "source": [
    "c1 = pp['TCL BOM'] == 'X3-27M205M3-USS0EU' # Costco 2 pack 수량을 outer box 기준으로 재조정"
   ]
  },
  {
   "cell_type": "code",
   "execution_count": 12,
   "id": "e3e7ed22",
   "metadata": {
    "scrolled": true
   },
   "outputs": [
    {
     "data": {
      "text/html": [
       "<div>\n",
       "<style scoped>\n",
       "    .dataframe tbody tr th:only-of-type {\n",
       "        vertical-align: middle;\n",
       "    }\n",
       "\n",
       "    .dataframe tbody tr th {\n",
       "        vertical-align: top;\n",
       "    }\n",
       "\n",
       "    .dataframe thead th {\n",
       "        text-align: right;\n",
       "    }\n",
       "</style>\n",
       "<table border=\"1\" class=\"dataframe\">\n",
       "  <thead>\n",
       "    <tr style=\"text-align: right;\">\n",
       "      <th></th>\n",
       "      <th>Target Week</th>\n",
       "      <th>ODF</th>\n",
       "      <th>TCL BOM</th>\n",
       "      <th>PP Date</th>\n",
       "      <th>QTY</th>\n",
       "      <th>Rep PMS</th>\n",
       "      <th>Mapping Model.Suffix</th>\n",
       "      <th>Updated_at</th>\n",
       "    </tr>\n",
       "  </thead>\n",
       "  <tbody>\n",
       "    <tr>\n",
       "      <th>40</th>\n",
       "      <td>24/02/19W</td>\n",
       "      <td>DOK7518198</td>\n",
       "      <td>X3-27M205M3-USS0EU</td>\n",
       "      <td>2024-02-05</td>\n",
       "      <td>1024</td>\n",
       "      <td>27MC41D-BS.CCCRMV</td>\n",
       "      <td>27MC41D-BS.ACCQ</td>\n",
       "      <td>2024-01-30 00:27:00</td>\n",
       "    </tr>\n",
       "    <tr>\n",
       "      <th>106</th>\n",
       "      <td>24/03/18W</td>\n",
       "      <td>NaN</td>\n",
       "      <td>X3-27M205M3-USS0EU</td>\n",
       "      <td>2024-03-08</td>\n",
       "      <td>2560</td>\n",
       "      <td>27MC41D-BS.CCCRMV</td>\n",
       "      <td>27MC41D-BS.ACCQ</td>\n",
       "      <td>2024-01-30 00:27:00</td>\n",
       "    </tr>\n",
       "  </tbody>\n",
       "</table>\n",
       "</div>"
      ],
      "text/plain": [
       "    Target Week         ODF             TCL BOM    PP Date   QTY  \\\n",
       "40    24/02/19W  DOK7518198  X3-27M205M3-USS0EU 2024-02-05  1024   \n",
       "106   24/03/18W         NaN  X3-27M205M3-USS0EU 2024-03-08  2560   \n",
       "\n",
       "               Rep PMS Mapping Model.Suffix          Updated_at  \n",
       "40   27MC41D-BS.CCCRMV      27MC41D-BS.ACCQ 2024-01-30 00:27:00  \n",
       "106  27MC41D-BS.CCCRMV      27MC41D-BS.ACCQ 2024-01-30 00:27:00  "
      ]
     },
     "execution_count": 12,
     "metadata": {},
     "output_type": "execute_result"
    }
   ],
   "source": [
    "pp[c1] "
   ]
  },
  {
   "cell_type": "code",
   "execution_count": 13,
   "id": "770e984e",
   "metadata": {},
   "outputs": [],
   "source": [
    "pp.loc[c1, 'QTY'] = pp.loc[c1, 'QTY'] / 2"
   ]
  },
  {
   "cell_type": "code",
   "execution_count": 14,
   "id": "7f1ca612",
   "metadata": {},
   "outputs": [
    {
     "data": {
      "text/plain": [
       "(108, 8)"
      ]
     },
     "execution_count": 14,
     "metadata": {},
     "output_type": "execute_result"
    }
   ],
   "source": [
    "pp.shape"
   ]
  },
  {
   "cell_type": "code",
   "execution_count": 15,
   "id": "ca6e9324",
   "metadata": {},
   "outputs": [],
   "source": [
    "with open('D:/Data/TCL PP_result.bin', 'rb') as f:\n",
    "    ppr_db = pickle.load(f)"
   ]
  },
  {
   "cell_type": "code",
   "execution_count": 16,
   "id": "e5d211ea",
   "metadata": {},
   "outputs": [
    {
     "data": {
      "text/plain": [
       "Timestamp('2024-01-20 00:00:00')"
      ]
     },
     "execution_count": 16,
     "metadata": {},
     "output_type": "execute_result"
    }
   ],
   "source": [
    "ppr_db['PP Date'].max()"
   ]
  },
  {
   "cell_type": "code",
   "execution_count": 17,
   "id": "b02aaa8f",
   "metadata": {},
   "outputs": [],
   "source": [
    "c1 = pp['PP Date'] >= '2024-01-22'\n",
    "c2 = pp['PP Date'] <= '2024-01-28'"
   ]
  },
  {
   "cell_type": "code",
   "execution_count": 18,
   "id": "3405a628",
   "metadata": {},
   "outputs": [
    {
     "data": {
      "text/html": [
       "<div>\n",
       "<style scoped>\n",
       "    .dataframe tbody tr th:only-of-type {\n",
       "        vertical-align: middle;\n",
       "    }\n",
       "\n",
       "    .dataframe tbody tr th {\n",
       "        vertical-align: top;\n",
       "    }\n",
       "\n",
       "    .dataframe thead th {\n",
       "        text-align: right;\n",
       "    }\n",
       "</style>\n",
       "<table border=\"1\" class=\"dataframe\">\n",
       "  <thead>\n",
       "    <tr style=\"text-align: right;\">\n",
       "      <th></th>\n",
       "      <th>Target Week</th>\n",
       "      <th>ODF</th>\n",
       "      <th>TCL BOM</th>\n",
       "      <th>PP Date</th>\n",
       "      <th>QTY</th>\n",
       "      <th>Rep PMS</th>\n",
       "      <th>Mapping Model.Suffix</th>\n",
       "      <th>Updated_at</th>\n",
       "    </tr>\n",
       "  </thead>\n",
       "  <tbody>\n",
       "    <tr>\n",
       "      <th>0</th>\n",
       "      <td>24/01/29W</td>\n",
       "      <td>DOK7518033</td>\n",
       "      <td>X3-22M205M3-COS1AU</td>\n",
       "      <td>2024-01-22</td>\n",
       "      <td>840</td>\n",
       "      <td>22MR410-BB.CWPRMV</td>\n",
       "      <td>22MR410-B.AWPQ</td>\n",
       "      <td>2024-01-30 00:27:00</td>\n",
       "    </tr>\n",
       "    <tr>\n",
       "      <th>1</th>\n",
       "      <td>24/01/29W</td>\n",
       "      <td>DOK7518036</td>\n",
       "      <td>X3-22M205M3-VMS1AU</td>\n",
       "      <td>2024-01-22</td>\n",
       "      <td>1260</td>\n",
       "      <td>22MR410-BB.CTVRMV</td>\n",
       "      <td>22MR410-B.ATVQ</td>\n",
       "      <td>2024-01-30 00:27:00</td>\n",
       "    </tr>\n",
       "    <tr>\n",
       "      <th>2</th>\n",
       "      <td>24/02/05W</td>\n",
       "      <td>DOK7518052</td>\n",
       "      <td>X3-22M205M3-HKS0AU</td>\n",
       "      <td>2024-01-23</td>\n",
       "      <td>280</td>\n",
       "      <td>22MR410-BB.CHKRMV</td>\n",
       "      <td>22MR410-B.AHKQ</td>\n",
       "      <td>2024-01-30 00:27:00</td>\n",
       "    </tr>\n",
       "    <tr>\n",
       "      <th>4</th>\n",
       "      <td>24/02/05W</td>\n",
       "      <td>DOK7518132</td>\n",
       "      <td>X3-22M205M3-AAS1AU</td>\n",
       "      <td>2024-01-27</td>\n",
       "      <td>252</td>\n",
       "      <td>22MR410-BB.CAURMV</td>\n",
       "      <td>22MR410-B.AAUQ</td>\n",
       "      <td>2024-01-30 00:27:00</td>\n",
       "    </tr>\n",
       "    <tr>\n",
       "      <th>5</th>\n",
       "      <td>24/02/05W</td>\n",
       "      <td>DOK7518046</td>\n",
       "      <td>X3-22M205M3-ISS0AU</td>\n",
       "      <td>2024-01-28</td>\n",
       "      <td>840</td>\n",
       "      <td>22MR410-BB.CMFRMV</td>\n",
       "      <td>22MR410-B.AMFQ</td>\n",
       "      <td>2024-01-30 00:27:00</td>\n",
       "    </tr>\n",
       "    <tr>\n",
       "      <th>6</th>\n",
       "      <td>24/02/05W</td>\n",
       "      <td>DOK7518133</td>\n",
       "      <td>X3-22M205M3-THS1AU</td>\n",
       "      <td>2024-01-28</td>\n",
       "      <td>2184</td>\n",
       "      <td>22MR410-BB.CTMRMV</td>\n",
       "      <td>22MR410-B.ATMQ</td>\n",
       "      <td>2024-01-30 00:27:00</td>\n",
       "    </tr>\n",
       "    <tr>\n",
       "      <th>14</th>\n",
       "      <td>24/02/05W</td>\n",
       "      <td>DOK7518047</td>\n",
       "      <td>X3-24M205M3-ISS0AU</td>\n",
       "      <td>2024-01-28</td>\n",
       "      <td>576</td>\n",
       "      <td>24MR400-BA.CMFRMV</td>\n",
       "      <td>24MR400-B.AMFQ</td>\n",
       "      <td>2024-01-30 00:27:00</td>\n",
       "    </tr>\n",
       "    <tr>\n",
       "      <th>18</th>\n",
       "      <td>24/02/05W</td>\n",
       "      <td>DOK7518041</td>\n",
       "      <td>X3-27M205M3-INS0AU</td>\n",
       "      <td>2024-01-27</td>\n",
       "      <td>512</td>\n",
       "      <td>27MR400-BB.CTRRMV</td>\n",
       "      <td>27MR400-B.ATRQ</td>\n",
       "      <td>2024-01-30 00:27:00</td>\n",
       "    </tr>\n",
       "    <tr>\n",
       "      <th>19</th>\n",
       "      <td>24/02/05W</td>\n",
       "      <td>DOK7518054</td>\n",
       "      <td>X3-27M205M3-HKS0AU</td>\n",
       "      <td>2024-01-27</td>\n",
       "      <td>192</td>\n",
       "      <td>27MR400-BB.CHKRMV</td>\n",
       "      <td>27MR400-B.AHKQ</td>\n",
       "      <td>2024-01-30 00:27:00</td>\n",
       "    </tr>\n",
       "    <tr>\n",
       "      <th>20</th>\n",
       "      <td>24/02/05W</td>\n",
       "      <td>DOK7518042</td>\n",
       "      <td>X3-27M205M3-KRS0AU</td>\n",
       "      <td>2024-01-28</td>\n",
       "      <td>1280</td>\n",
       "      <td>27MR400-BB.CKRRMV</td>\n",
       "      <td>27MR400.AKRQ</td>\n",
       "      <td>2024-01-30 00:27:00</td>\n",
       "    </tr>\n",
       "    <tr>\n",
       "      <th>21</th>\n",
       "      <td>24/02/05W</td>\n",
       "      <td>DOK7518057</td>\n",
       "      <td>X3-27M205M3-PHS0AU</td>\n",
       "      <td>2024-01-28</td>\n",
       "      <td>240</td>\n",
       "      <td>27MR400-BB.CPHRMV</td>\n",
       "      <td>27MR400-B.APHQ</td>\n",
       "      <td>2024-01-30 00:27:00</td>\n",
       "    </tr>\n",
       "    <tr>\n",
       "      <th>22</th>\n",
       "      <td>24/02/05W</td>\n",
       "      <td>DOK7518134</td>\n",
       "      <td>X3-27M205M3-EUS0AU</td>\n",
       "      <td>2024-01-28</td>\n",
       "      <td>1984</td>\n",
       "      <td>27MR400-BB.CEURMV</td>\n",
       "      <td>27MR400-B.AEUQ</td>\n",
       "      <td>2024-01-30 00:27:00</td>\n",
       "    </tr>\n",
       "  </tbody>\n",
       "</table>\n",
       "</div>"
      ],
      "text/plain": [
       "   Target Week         ODF             TCL BOM    PP Date   QTY  \\\n",
       "0    24/01/29W  DOK7518033  X3-22M205M3-COS1AU 2024-01-22   840   \n",
       "1    24/01/29W  DOK7518036  X3-22M205M3-VMS1AU 2024-01-22  1260   \n",
       "2    24/02/05W  DOK7518052  X3-22M205M3-HKS0AU 2024-01-23   280   \n",
       "4    24/02/05W  DOK7518132  X3-22M205M3-AAS1AU 2024-01-27   252   \n",
       "5    24/02/05W  DOK7518046  X3-22M205M3-ISS0AU 2024-01-28   840   \n",
       "6    24/02/05W  DOK7518133  X3-22M205M3-THS1AU 2024-01-28  2184   \n",
       "14   24/02/05W  DOK7518047  X3-24M205M3-ISS0AU 2024-01-28   576   \n",
       "18   24/02/05W  DOK7518041  X3-27M205M3-INS0AU 2024-01-27   512   \n",
       "19   24/02/05W  DOK7518054  X3-27M205M3-HKS0AU 2024-01-27   192   \n",
       "20   24/02/05W  DOK7518042  X3-27M205M3-KRS0AU 2024-01-28  1280   \n",
       "21   24/02/05W  DOK7518057  X3-27M205M3-PHS0AU 2024-01-28   240   \n",
       "22   24/02/05W  DOK7518134  X3-27M205M3-EUS0AU 2024-01-28  1984   \n",
       "\n",
       "              Rep PMS Mapping Model.Suffix          Updated_at  \n",
       "0   22MR410-BB.CWPRMV       22MR410-B.AWPQ 2024-01-30 00:27:00  \n",
       "1   22MR410-BB.CTVRMV       22MR410-B.ATVQ 2024-01-30 00:27:00  \n",
       "2   22MR410-BB.CHKRMV       22MR410-B.AHKQ 2024-01-30 00:27:00  \n",
       "4   22MR410-BB.CAURMV       22MR410-B.AAUQ 2024-01-30 00:27:00  \n",
       "5   22MR410-BB.CMFRMV       22MR410-B.AMFQ 2024-01-30 00:27:00  \n",
       "6   22MR410-BB.CTMRMV       22MR410-B.ATMQ 2024-01-30 00:27:00  \n",
       "14  24MR400-BA.CMFRMV       24MR400-B.AMFQ 2024-01-30 00:27:00  \n",
       "18  27MR400-BB.CTRRMV       27MR400-B.ATRQ 2024-01-30 00:27:00  \n",
       "19  27MR400-BB.CHKRMV       27MR400-B.AHKQ 2024-01-30 00:27:00  \n",
       "20  27MR400-BB.CKRRMV         27MR400.AKRQ 2024-01-30 00:27:00  \n",
       "21  27MR400-BB.CPHRMV       27MR400-B.APHQ 2024-01-30 00:27:00  \n",
       "22  27MR400-BB.CEURMV       27MR400-B.AEUQ 2024-01-30 00:27:00  "
      ]
     },
     "execution_count": 18,
     "metadata": {},
     "output_type": "execute_result"
    }
   ],
   "source": [
    "pp[c1 & c2]"
   ]
  },
  {
   "cell_type": "code",
   "execution_count": 19,
   "id": "904a2344",
   "metadata": {},
   "outputs": [],
   "source": [
    "ppr_db = pd.concat([ppr_db, pp[c1 & c2]]).reset_index(drop=True)"
   ]
  },
  {
   "cell_type": "code",
   "execution_count": 20,
   "id": "39ad5d53",
   "metadata": {},
   "outputs": [],
   "source": [
    "with open('D:Data/TCL PP_result.bin', 'wb') as f: # PP reulst에 저장\n",
    "    pickle.dump(ppr_db, f)"
   ]
  },
  {
   "cell_type": "code",
   "execution_count": 21,
   "id": "060e581a",
   "metadata": {},
   "outputs": [
    {
     "data": {
      "text/plain": [
       "(108, 8)"
      ]
     },
     "execution_count": 21,
     "metadata": {},
     "output_type": "execute_result"
    }
   ],
   "source": [
    "pp.shape"
   ]
  },
  {
   "cell_type": "code",
   "execution_count": 22,
   "id": "89a10b94",
   "metadata": {},
   "outputs": [],
   "source": [
    "pp = pp[pp['PP Date'] >= '2024-01-29'].reset_index(drop=True)"
   ]
  },
  {
   "cell_type": "code",
   "execution_count": 23,
   "id": "4e4d3255",
   "metadata": {},
   "outputs": [
    {
     "data": {
      "text/plain": [
       "(96, 8)"
      ]
     },
     "execution_count": 23,
     "metadata": {},
     "output_type": "execute_result"
    }
   ],
   "source": [
    "pp.shape"
   ]
  },
  {
   "cell_type": "code",
   "execution_count": 24,
   "id": "714bd7a5",
   "metadata": {},
   "outputs": [],
   "source": [
    "with open('D:/Data/TCL PP_new.bin', 'rb') as f:\n",
    "    pp_db = pickle.load(f)"
   ]
  },
  {
   "cell_type": "code",
   "execution_count": 25,
   "id": "dc86004b",
   "metadata": {},
   "outputs": [
    {
     "data": {
      "text/html": [
       "<div>\n",
       "<style scoped>\n",
       "    .dataframe tbody tr th:only-of-type {\n",
       "        vertical-align: middle;\n",
       "    }\n",
       "\n",
       "    .dataframe tbody tr th {\n",
       "        vertical-align: top;\n",
       "    }\n",
       "\n",
       "    .dataframe thead th {\n",
       "        text-align: right;\n",
       "    }\n",
       "</style>\n",
       "<table border=\"1\" class=\"dataframe\">\n",
       "  <thead>\n",
       "    <tr style=\"text-align: right;\">\n",
       "      <th></th>\n",
       "      <th>Target Week</th>\n",
       "      <th>Country</th>\n",
       "      <th>ODF</th>\n",
       "      <th>TCL BOM</th>\n",
       "      <th>Mapping Model.Suffix</th>\n",
       "      <th>Rep PMS</th>\n",
       "      <th>Production Date</th>\n",
       "      <th>WO</th>\n",
       "      <th>PP Date</th>\n",
       "      <th>QTY</th>\n",
       "      <th>Updated_at</th>\n",
       "    </tr>\n",
       "  </thead>\n",
       "  <tbody>\n",
       "    <tr>\n",
       "      <th>0</th>\n",
       "      <td>NaN</td>\n",
       "      <td>NaN</td>\n",
       "      <td>DOK7516345</td>\n",
       "      <td>X3-24M205M3-AES0AU</td>\n",
       "      <td>24MR400-B.AMAQ</td>\n",
       "      <td>24MR400-BA.CMARMV</td>\n",
       "      <td>NaT</td>\n",
       "      <td>2400.0</td>\n",
       "      <td>2023-10-19</td>\n",
       "      <td>2200</td>\n",
       "      <td>2023-10-17 00:36:00</td>\n",
       "    </tr>\n",
       "    <tr>\n",
       "      <th>1</th>\n",
       "      <td>NaN</td>\n",
       "      <td>NaN</td>\n",
       "      <td>DOK7516345</td>\n",
       "      <td>X3-24M205M3-AES0AU</td>\n",
       "      <td>24MR400-B.AMAQ</td>\n",
       "      <td>24MR400-BA.CMARMV</td>\n",
       "      <td>NaT</td>\n",
       "      <td>2400.0</td>\n",
       "      <td>2023-10-20</td>\n",
       "      <td>200</td>\n",
       "      <td>2023-10-17 00:36:00</td>\n",
       "    </tr>\n",
       "    <tr>\n",
       "      <th>2</th>\n",
       "      <td>NaN</td>\n",
       "      <td>NaN</td>\n",
       "      <td>DOK7516364</td>\n",
       "      <td>X3-24M205M3-ARS0AU</td>\n",
       "      <td>24MR400-B.AMIQ</td>\n",
       "      <td>24MR400-BA.CMIRMV</td>\n",
       "      <td>NaT</td>\n",
       "      <td>1440.0</td>\n",
       "      <td>2023-10-20</td>\n",
       "      <td>1440</td>\n",
       "      <td>2023-10-17 00:36:00</td>\n",
       "    </tr>\n",
       "    <tr>\n",
       "      <th>3</th>\n",
       "      <td>NaN</td>\n",
       "      <td>NaN</td>\n",
       "      <td>DOK7516348</td>\n",
       "      <td>X3-24M205M3-AES0AU</td>\n",
       "      <td>24MR400-B.AMAQ</td>\n",
       "      <td>24MR400-BA.CMARMV</td>\n",
       "      <td>NaT</td>\n",
       "      <td>2400.0</td>\n",
       "      <td>2023-10-20</td>\n",
       "      <td>400</td>\n",
       "      <td>2023-10-17 00:36:00</td>\n",
       "    </tr>\n",
       "    <tr>\n",
       "      <th>4</th>\n",
       "      <td>NaN</td>\n",
       "      <td>NaN</td>\n",
       "      <td>DOK7516348</td>\n",
       "      <td>X3-24M205M3-AES0AU</td>\n",
       "      <td>24MR400-B.AMAQ</td>\n",
       "      <td>24MR400-BA.CMARMV</td>\n",
       "      <td>NaT</td>\n",
       "      <td>2400.0</td>\n",
       "      <td>2023-10-21</td>\n",
       "      <td>2000</td>\n",
       "      <td>2023-10-17 00:36:00</td>\n",
       "    </tr>\n",
       "    <tr>\n",
       "      <th>...</th>\n",
       "      <td>...</td>\n",
       "      <td>...</td>\n",
       "      <td>...</td>\n",
       "      <td>...</td>\n",
       "      <td>...</td>\n",
       "      <td>...</td>\n",
       "      <td>...</td>\n",
       "      <td>...</td>\n",
       "      <td>...</td>\n",
       "      <td>...</td>\n",
       "      <td>...</td>\n",
       "    </tr>\n",
       "    <tr>\n",
       "      <th>1805</th>\n",
       "      <td>24/03/18W</td>\n",
       "      <td>NaN</td>\n",
       "      <td>NaN</td>\n",
       "      <td>X3-27M205M3-EUS0AU</td>\n",
       "      <td>27MR400-B.AEUQ</td>\n",
       "      <td>27MR400-BB.CEURMV</td>\n",
       "      <td>NaT</td>\n",
       "      <td>NaN</td>\n",
       "      <td>2024-03-12</td>\n",
       "      <td>512</td>\n",
       "      <td>2024-01-22 21:50:00</td>\n",
       "    </tr>\n",
       "    <tr>\n",
       "      <th>1806</th>\n",
       "      <td>24/03/18W</td>\n",
       "      <td>NaN</td>\n",
       "      <td>NaN</td>\n",
       "      <td>X3-27M205M3-HKS0AU</td>\n",
       "      <td>27MR400-B.AHKQ</td>\n",
       "      <td>27MR400-BB.CHKRMV</td>\n",
       "      <td>NaT</td>\n",
       "      <td>NaN</td>\n",
       "      <td>2024-03-12</td>\n",
       "      <td>128</td>\n",
       "      <td>2024-01-22 21:50:00</td>\n",
       "    </tr>\n",
       "    <tr>\n",
       "      <th>1807</th>\n",
       "      <td>24/03/18W</td>\n",
       "      <td>NaN</td>\n",
       "      <td>NaN</td>\n",
       "      <td>X3-27M205M3-INS0AU</td>\n",
       "      <td>27MR400-B.ATRQ</td>\n",
       "      <td>27MR400-BB.CTRRMV</td>\n",
       "      <td>NaT</td>\n",
       "      <td>NaN</td>\n",
       "      <td>2024-03-12</td>\n",
       "      <td>512</td>\n",
       "      <td>2024-01-22 21:50:00</td>\n",
       "    </tr>\n",
       "    <tr>\n",
       "      <th>1808</th>\n",
       "      <td>24/03/18W</td>\n",
       "      <td>NaN</td>\n",
       "      <td>NaN</td>\n",
       "      <td>X3-27M205M3-JNS0AU</td>\n",
       "      <td>27MR400-B.AJLQ</td>\n",
       "      <td>27MR400-BB.CJLRMV</td>\n",
       "      <td>NaT</td>\n",
       "      <td>NaN</td>\n",
       "      <td>2024-03-12</td>\n",
       "      <td>512</td>\n",
       "      <td>2024-01-22 21:50:00</td>\n",
       "    </tr>\n",
       "    <tr>\n",
       "      <th>1809</th>\n",
       "      <td>24/03/18W</td>\n",
       "      <td>NaN</td>\n",
       "      <td>NaN</td>\n",
       "      <td>X3-27M205M3-VMS0AU</td>\n",
       "      <td>27MR400-B.ATVQ</td>\n",
       "      <td>27MR400-BB.CTVRMV</td>\n",
       "      <td>NaT</td>\n",
       "      <td>NaN</td>\n",
       "      <td>2024-03-12</td>\n",
       "      <td>150</td>\n",
       "      <td>2024-01-22 21:50:00</td>\n",
       "    </tr>\n",
       "  </tbody>\n",
       "</table>\n",
       "<p>1810 rows × 11 columns</p>\n",
       "</div>"
      ],
      "text/plain": [
       "     Target Week Country         ODF             TCL BOM Mapping Model.Suffix  \\\n",
       "0            NaN     NaN  DOK7516345  X3-24M205M3-AES0AU       24MR400-B.AMAQ   \n",
       "1            NaN     NaN  DOK7516345  X3-24M205M3-AES0AU       24MR400-B.AMAQ   \n",
       "2            NaN     NaN  DOK7516364  X3-24M205M3-ARS0AU       24MR400-B.AMIQ   \n",
       "3            NaN     NaN  DOK7516348  X3-24M205M3-AES0AU       24MR400-B.AMAQ   \n",
       "4            NaN     NaN  DOK7516348  X3-24M205M3-AES0AU       24MR400-B.AMAQ   \n",
       "...          ...     ...         ...                 ...                  ...   \n",
       "1805   24/03/18W     NaN         NaN  X3-27M205M3-EUS0AU       27MR400-B.AEUQ   \n",
       "1806   24/03/18W     NaN         NaN  X3-27M205M3-HKS0AU       27MR400-B.AHKQ   \n",
       "1807   24/03/18W     NaN         NaN  X3-27M205M3-INS0AU       27MR400-B.ATRQ   \n",
       "1808   24/03/18W     NaN         NaN  X3-27M205M3-JNS0AU       27MR400-B.AJLQ   \n",
       "1809   24/03/18W     NaN         NaN  X3-27M205M3-VMS0AU       27MR400-B.ATVQ   \n",
       "\n",
       "                Rep PMS Production Date      WO    PP Date   QTY  \\\n",
       "0     24MR400-BA.CMARMV             NaT  2400.0 2023-10-19  2200   \n",
       "1     24MR400-BA.CMARMV             NaT  2400.0 2023-10-20   200   \n",
       "2     24MR400-BA.CMIRMV             NaT  1440.0 2023-10-20  1440   \n",
       "3     24MR400-BA.CMARMV             NaT  2400.0 2023-10-20   400   \n",
       "4     24MR400-BA.CMARMV             NaT  2400.0 2023-10-21  2000   \n",
       "...                 ...             ...     ...        ...   ...   \n",
       "1805  27MR400-BB.CEURMV             NaT     NaN 2024-03-12   512   \n",
       "1806  27MR400-BB.CHKRMV             NaT     NaN 2024-03-12   128   \n",
       "1807  27MR400-BB.CTRRMV             NaT     NaN 2024-03-12   512   \n",
       "1808  27MR400-BB.CJLRMV             NaT     NaN 2024-03-12   512   \n",
       "1809  27MR400-BB.CTVRMV             NaT     NaN 2024-03-12   150   \n",
       "\n",
       "              Updated_at  \n",
       "0    2023-10-17 00:36:00  \n",
       "1    2023-10-17 00:36:00  \n",
       "2    2023-10-17 00:36:00  \n",
       "3    2023-10-17 00:36:00  \n",
       "4    2023-10-17 00:36:00  \n",
       "...                  ...  \n",
       "1805 2024-01-22 21:50:00  \n",
       "1806 2024-01-22 21:50:00  \n",
       "1807 2024-01-22 21:50:00  \n",
       "1808 2024-01-22 21:50:00  \n",
       "1809 2024-01-22 21:50:00  \n",
       "\n",
       "[1810 rows x 11 columns]"
      ]
     },
     "execution_count": 25,
     "metadata": {},
     "output_type": "execute_result"
    }
   ],
   "source": [
    "pp_db"
   ]
  },
  {
   "cell_type": "code",
   "execution_count": 26,
   "id": "ca6d542e",
   "metadata": {},
   "outputs": [],
   "source": [
    "pp_db = pd.concat([pp_db, pp]).reset_index(drop=True)"
   ]
  },
  {
   "cell_type": "code",
   "execution_count": 27,
   "id": "407cc5db",
   "metadata": {},
   "outputs": [
    {
     "data": {
      "text/plain": [
       "(1906, 11)"
      ]
     },
     "execution_count": 27,
     "metadata": {},
     "output_type": "execute_result"
    }
   ],
   "source": [
    "pp_db.shape"
   ]
  },
  {
   "cell_type": "code",
   "execution_count": 28,
   "id": "134b1b0a",
   "metadata": {
    "scrolled": true
   },
   "outputs": [
    {
     "data": {
      "text/plain": [
       "[numpy.datetime64('2024-01-29T00:00:00.000000000'),\n",
       " numpy.datetime64('2024-01-30T00:00:00.000000000'),\n",
       " numpy.datetime64('2024-01-31T00:00:00.000000000'),\n",
       " numpy.datetime64('2024-02-01T00:00:00.000000000'),\n",
       " numpy.datetime64('2024-02-02T00:00:00.000000000'),\n",
       " numpy.datetime64('2024-02-03T00:00:00.000000000'),\n",
       " numpy.datetime64('2024-02-04T00:00:00.000000000'),\n",
       " numpy.datetime64('2024-02-05T00:00:00.000000000'),\n",
       " numpy.datetime64('2024-02-15T00:00:00.000000000'),\n",
       " numpy.datetime64('2024-02-16T00:00:00.000000000'),\n",
       " numpy.datetime64('2024-02-17T00:00:00.000000000'),\n",
       " numpy.datetime64('2024-02-18T00:00:00.000000000'),\n",
       " numpy.datetime64('2024-02-19T00:00:00.000000000'),\n",
       " numpy.datetime64('2024-02-20T00:00:00.000000000'),\n",
       " numpy.datetime64('2024-02-21T00:00:00.000000000'),\n",
       " numpy.datetime64('2024-02-23T00:00:00.000000000'),\n",
       " numpy.datetime64('2024-02-26T00:00:00.000000000'),\n",
       " numpy.datetime64('2024-02-27T00:00:00.000000000'),\n",
       " numpy.datetime64('2024-02-28T00:00:00.000000000'),\n",
       " numpy.datetime64('2024-02-29T00:00:00.000000000'),\n",
       " numpy.datetime64('2024-03-01T00:00:00.000000000'),\n",
       " numpy.datetime64('2024-03-02T00:00:00.000000000'),\n",
       " numpy.datetime64('2024-03-04T00:00:00.000000000'),\n",
       " numpy.datetime64('2024-03-05T00:00:00.000000000'),\n",
       " numpy.datetime64('2024-03-06T00:00:00.000000000'),\n",
       " numpy.datetime64('2024-03-07T00:00:00.000000000'),\n",
       " numpy.datetime64('2024-03-08T00:00:00.000000000')]"
      ]
     },
     "execution_count": 28,
     "metadata": {},
     "output_type": "execute_result"
    }
   ],
   "source": [
    "sorted(pp_db[pp_db['Updated_at'] == pp_db['Updated_at'].max()]['PP Date'].unique()) # 신규 PP의 생산일자가 맞게 되었는 지 확인"
   ]
  },
  {
   "cell_type": "code",
   "execution_count": 29,
   "id": "2b479d60",
   "metadata": {},
   "outputs": [],
   "source": [
    "# 업데이트된 pp_db를 저장\n",
    "with open('D:/Data/TCL PP_new.bin', 'wb') as f:\n",
    "    pickle.dump(pp_db, f)"
   ]
  },
  {
   "cell_type": "code",
   "execution_count": null,
   "id": "ece8e1bb",
   "metadata": {},
   "outputs": [],
   "source": []
  }
 ],
 "metadata": {
  "kernelspec": {
   "display_name": "Python 3 (ipykernel)",
   "language": "python",
   "name": "python3"
  },
  "language_info": {
   "codemirror_mode": {
    "name": "ipython",
    "version": 3
   },
   "file_extension": ".py",
   "mimetype": "text/x-python",
   "name": "python",
   "nbconvert_exporter": "python",
   "pygments_lexer": "ipython3",
   "version": "3.10.9"
  }
 },
 "nbformat": 4,
 "nbformat_minor": 5
}
