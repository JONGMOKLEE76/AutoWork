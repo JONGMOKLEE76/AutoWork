{
 "cells": [
  {
   "cell_type": "code",
   "execution_count": 15,
   "id": "a56f6d86",
   "metadata": {},
   "outputs": [],
   "source": [
    "from tool import *\n",
    "import plotly.graph_objects as go\n",
    "import plotly.express as px"
   ]
  },
  {
   "cell_type": "markdown",
   "id": "ab440473",
   "metadata": {},
   "source": [
    "# 업체별 선적 실적"
   ]
  },
  {
   "cell_type": "markdown",
   "id": "a9d67e30",
   "metadata": {},
   "source": [
    "# 모니터 2023년 선적 현황"
   ]
  },
  {
   "cell_type": "code",
   "execution_count": 2,
   "id": "eb4ee115",
   "metadata": {},
   "outputs": [],
   "source": [
    "with open('D:/Data/ODM_SR.db', 'rb') as f:\n",
    "    sr = pickle.load(f)\n",
    "with open('D:/Data/Shipment Plan_Adjusted_new.DB', 'rb') as f:\n",
    "    spdb = pickle.load(f)\n",
    "with open('D:/Data/contact_window.db', 'rb') as f:\n",
    "    cont = pickle.load(f)\n",
    "with open('D:/Data/sitemap.db', 'rb') as f:\n",
    "    site = pickle.load(f)\n",
    "with open('D:/Data/contact_window.db', 'rb') as f:\n",
    "    cont = pickle.load(f)"
   ]
  },
  {
   "cell_type": "code",
   "execution_count": 3,
   "id": "efa9b4e8",
   "metadata": {},
   "outputs": [
    {
     "name": "stderr",
     "output_type": "stream",
     "text": [
      "C:\\Users\\paul76.lee\\AppData\\Local\\Temp\\ipykernel_584\\2941770503.py:19: FutureWarning: The default value of regex will change from True to False in a future version.\n",
      "  sr.loc[c2, 'Series'] = sr[c2]['Mapping Model.Suffix'].apply(lambda x:x.split('-')[0]).str.replace('D|G|N|W|C', '').apply(lambda x:x[:6]) # PC모델의 대표모델명 추출\n"
     ]
    }
   ],
   "source": [
    "sr = sr.reset_index()\n",
    "this_week = get_weekname(datetime.datetime.today())\n",
    "# sr = sr[sr['From Site'].isin(['OS_TCL_CN_P', 'OS_TPV_CN_P', 'OS_AUO_CN_P'])] # 업체 필터링\n",
    "sr['Week Name'] = sr['Ship Date'].map(get_weekname)\n",
    "sr[['Year', 'Month']] = sr['Week Name'].apply(lambda x:f'{datetime.date.fromisoformat(x[:10]).isocalendar().year}-{get_month_from_date(datetime.date.fromisoformat(x[:10])):02d}').str.split('-', expand=True)\n",
    "# sr = sr[sr['Year'] == '2023'] # 2023년 실적만 필터링\n",
    "sr['Quarter'] = sr['Month'].apply(lambda x:pd.to_datetime(x, format='%m')).dt.to_period('Q').astype(str).apply(lambda x:x[-2:])\n",
    "sr = sr[sr['Week Name'] <= get_weekname_from(this_week, -1)]\n",
    "sr['To Site'] = sr['To Site'].replace(ship_to_map)\n",
    "sr = pd.merge(sr, site[['Region', 'Subsidiary', 'To Site', 'Country']], how='left')\n",
    "\n",
    "# IT ODM 모델명에서 시리즈명 추출\n",
    "c1 = sr['From Site'].str.contains('AUO|TPV|TCL|BOEVT') # 모니터 ODM 일 경우\n",
    "c2 = sr['Mapping Model.Suffix'].str.match('\\d{2}[T|Z|U|A][G|D|N|W|C]?\\d{2}[A-Z]{1,2}') # PC/태블릿 모델일 경우\n",
    "c3 = sr['Mapping Model.Suffix'].str.contains('CL600') # 페가트론 CL600 모델일 경우\n",
    "\n",
    "# sr.loc[c1, 'Series'] = sr[c1]['Mapping Model.Suffix'].apply(lambda x:x[:2]) # 모니터 모델의 시리즈명을 inch 로 추출\n",
    "sr.loc[c1, 'Series'] = sr[c1]['Mapping Model.Suffix'].apply(lambda x:x.split('-')[0]).apply(lambda x:x.split('.')[0]) # Mapping 모델명의 앞부분을 시리즈명으로 추출\n",
    "sr.loc[c2, 'Series'] = sr[c2]['Mapping Model.Suffix'].apply(lambda x:x.split('-')[0]).str.replace('[D|G|N|W|C]', '').apply(lambda x:x[:6]) # PC모델의 대표모델명 추출\n",
    "sr.loc[c3, 'Series'] = 'CL600'\n",
    "\n",
    "sr = sr[['Year', 'Month', 'Quarter', 'From Site', 'Division', 'Region', 'Country', 'Subsidiary', 'To Site', 'Series', 'Mapping Model.Suffix', 'Week Name', 'Ship']]\n",
    "sr = sr.rename(columns={'Ship':'SP'})"
   ]
  },
  {
   "cell_type": "code",
   "execution_count": 4,
   "id": "a2a523e0",
   "metadata": {},
   "outputs": [
    {
     "data": {
      "text/html": [
       "<div>\n",
       "<style scoped>\n",
       "    .dataframe tbody tr th:only-of-type {\n",
       "        vertical-align: middle;\n",
       "    }\n",
       "\n",
       "    .dataframe tbody tr th {\n",
       "        vertical-align: top;\n",
       "    }\n",
       "\n",
       "    .dataframe thead th {\n",
       "        text-align: right;\n",
       "    }\n",
       "</style>\n",
       "<table border=\"1\" class=\"dataframe\">\n",
       "  <thead>\n",
       "    <tr style=\"text-align: right;\">\n",
       "      <th></th>\n",
       "      <th>Planweek</th>\n",
       "      <th>Category</th>\n",
       "      <th>Created_at</th>\n",
       "      <th>SP</th>\n",
       "    </tr>\n",
       "  </thead>\n",
       "  <tbody>\n",
       "    <tr>\n",
       "      <th>130</th>\n",
       "      <td>2024-02-05(W06)</td>\n",
       "      <td>Latest26w</td>\n",
       "      <td>202402051504</td>\n",
       "      <td>1017718.0</td>\n",
       "    </tr>\n",
       "    <tr>\n",
       "      <th>131</th>\n",
       "      <td>2024-02-05(W06)</td>\n",
       "      <td>Latest26w</td>\n",
       "      <td>202402060857</td>\n",
       "      <td>1002329.0</td>\n",
       "    </tr>\n",
       "    <tr>\n",
       "      <th>132</th>\n",
       "      <td>2024-02-12(W07)</td>\n",
       "      <td>Final26w</td>\n",
       "      <td>202402131354</td>\n",
       "      <td>1134545.0</td>\n",
       "    </tr>\n",
       "    <tr>\n",
       "      <th>133</th>\n",
       "      <td>2024-02-12(W07)</td>\n",
       "      <td>Final52w</td>\n",
       "      <td>202402140851</td>\n",
       "      <td>1400784.0</td>\n",
       "    </tr>\n",
       "    <tr>\n",
       "      <th>134</th>\n",
       "      <td>2024-02-12(W07)</td>\n",
       "      <td>Latest26w</td>\n",
       "      <td>202402121709</td>\n",
       "      <td>1129621.0</td>\n",
       "    </tr>\n",
       "    <tr>\n",
       "      <th>135</th>\n",
       "      <td>2024-02-12(W07)</td>\n",
       "      <td>Latest26w</td>\n",
       "      <td>202402130921</td>\n",
       "      <td>1130892.0</td>\n",
       "    </tr>\n",
       "    <tr>\n",
       "      <th>136</th>\n",
       "      <td>2024-02-12(W07)</td>\n",
       "      <td>Latest26w</td>\n",
       "      <td>202402150843</td>\n",
       "      <td>1134445.0</td>\n",
       "    </tr>\n",
       "    <tr>\n",
       "      <th>137</th>\n",
       "      <td>2024-02-19(W08)</td>\n",
       "      <td>Final26w</td>\n",
       "      <td>202402201401</td>\n",
       "      <td>1190717.0</td>\n",
       "    </tr>\n",
       "    <tr>\n",
       "      <th>138</th>\n",
       "      <td>2024-02-19(W08)</td>\n",
       "      <td>Final52w</td>\n",
       "      <td>202402210937</td>\n",
       "      <td>1432106.0</td>\n",
       "    </tr>\n",
       "    <tr>\n",
       "      <th>139</th>\n",
       "      <td>2024-02-19(W08)</td>\n",
       "      <td>Latest26w</td>\n",
       "      <td>202402191522</td>\n",
       "      <td>1191421.0</td>\n",
       "    </tr>\n",
       "    <tr>\n",
       "      <th>140</th>\n",
       "      <td>2024-02-19(W08)</td>\n",
       "      <td>Latest26w</td>\n",
       "      <td>202402200910</td>\n",
       "      <td>1199002.0</td>\n",
       "    </tr>\n",
       "    <tr>\n",
       "      <th>141</th>\n",
       "      <td>2024-02-19(W08)</td>\n",
       "      <td>Latest26w</td>\n",
       "      <td>202402221037</td>\n",
       "      <td>1190977.0</td>\n",
       "    </tr>\n",
       "    <tr>\n",
       "      <th>142</th>\n",
       "      <td>2024-02-26(W09)</td>\n",
       "      <td>Final26w</td>\n",
       "      <td>202402271452</td>\n",
       "      <td>1242570.0</td>\n",
       "    </tr>\n",
       "    <tr>\n",
       "      <th>143</th>\n",
       "      <td>2024-02-26(W09)</td>\n",
       "      <td>Final52w</td>\n",
       "      <td>202402281001</td>\n",
       "      <td>1467368.0</td>\n",
       "    </tr>\n",
       "    <tr>\n",
       "      <th>144</th>\n",
       "      <td>2024-02-26(W09)</td>\n",
       "      <td>Latest26w</td>\n",
       "      <td>202402261515</td>\n",
       "      <td>1247031.0</td>\n",
       "    </tr>\n",
       "    <tr>\n",
       "      <th>145</th>\n",
       "      <td>2024-02-26(W09)</td>\n",
       "      <td>Latest26w</td>\n",
       "      <td>202402270919</td>\n",
       "      <td>1242276.0</td>\n",
       "    </tr>\n",
       "  </tbody>\n",
       "</table>\n",
       "</div>"
      ],
      "text/plain": [
       "            Planweek   Category    Created_at         SP\n",
       "130  2024-02-05(W06)  Latest26w  202402051504  1017718.0\n",
       "131  2024-02-05(W06)  Latest26w  202402060857  1002329.0\n",
       "132  2024-02-12(W07)   Final26w  202402131354  1134545.0\n",
       "133  2024-02-12(W07)   Final52w  202402140851  1400784.0\n",
       "134  2024-02-12(W07)  Latest26w  202402121709  1129621.0\n",
       "135  2024-02-12(W07)  Latest26w  202402130921  1130892.0\n",
       "136  2024-02-12(W07)  Latest26w  202402150843  1134445.0\n",
       "137  2024-02-19(W08)   Final26w  202402201401  1190717.0\n",
       "138  2024-02-19(W08)   Final52w  202402210937  1432106.0\n",
       "139  2024-02-19(W08)  Latest26w  202402191522  1191421.0\n",
       "140  2024-02-19(W08)  Latest26w  202402200910  1199002.0\n",
       "141  2024-02-19(W08)  Latest26w  202402221037  1190977.0\n",
       "142  2024-02-26(W09)   Final26w  202402271452  1242570.0\n",
       "143  2024-02-26(W09)   Final52w  202402281001  1467368.0\n",
       "144  2024-02-26(W09)  Latest26w  202402261515  1247031.0\n",
       "145  2024-02-26(W09)  Latest26w  202402270919  1242276.0"
      ]
     },
     "execution_count": 4,
     "metadata": {},
     "output_type": "execute_result"
    }
   ],
   "source": [
    "spdb.groupby(['Planweek', 'Category', 'Created_at']).sum('SP').reset_index().iloc[-16:, ] # 선택할 SP의 Version 목록을 출력"
   ]
  },
  {
   "cell_type": "code",
   "execution_count": 5,
   "id": "6501465e",
   "metadata": {},
   "outputs": [],
   "source": [
    "i = 143 # 선택할 SP version 설정"
   ]
  },
  {
   "cell_type": "code",
   "execution_count": 6,
   "id": "7bff2f58",
   "metadata": {},
   "outputs": [
    {
     "data": {
      "text/html": [
       "<div>\n",
       "<style scoped>\n",
       "    .dataframe tbody tr th:only-of-type {\n",
       "        vertical-align: middle;\n",
       "    }\n",
       "\n",
       "    .dataframe tbody tr th {\n",
       "        vertical-align: top;\n",
       "    }\n",
       "\n",
       "    .dataframe thead th {\n",
       "        text-align: right;\n",
       "    }\n",
       "</style>\n",
       "<table border=\"1\" class=\"dataframe\">\n",
       "  <thead>\n",
       "    <tr style=\"text-align: right;\">\n",
       "      <th></th>\n",
       "      <th>Planweek</th>\n",
       "      <th>Created_at</th>\n",
       "      <th>Division</th>\n",
       "      <th>From Site</th>\n",
       "      <th>Region</th>\n",
       "      <th>To Site</th>\n",
       "      <th>Mapping Model.Suffix</th>\n",
       "      <th>Rep PMS</th>\n",
       "      <th>Category</th>\n",
       "      <th>Frozen</th>\n",
       "      <th>Week Name</th>\n",
       "      <th>SP</th>\n",
       "      <th>Subsidiary</th>\n",
       "      <th>Country</th>\n",
       "    </tr>\n",
       "  </thead>\n",
       "  <tbody>\n",
       "    <tr>\n",
       "      <th>0</th>\n",
       "      <td>2024-02-26(W09)</td>\n",
       "      <td>202402281001</td>\n",
       "      <td>MNT</td>\n",
       "      <td>OS_AUO_CN_P</td>\n",
       "      <td>SEA</td>\n",
       "      <td>EATH</td>\n",
       "      <td>24GS50F-B.ATMQ</td>\n",
       "      <td>24GS50F-BB.CTMAMV</td>\n",
       "      <td>Final52w</td>\n",
       "      <td>N</td>\n",
       "      <td>2024-04-15(W16)</td>\n",
       "      <td>572.0</td>\n",
       "      <td>LGETH</td>\n",
       "      <td>Thailand</td>\n",
       "    </tr>\n",
       "    <tr>\n",
       "      <th>1</th>\n",
       "      <td>2024-02-26(W09)</td>\n",
       "      <td>202402281001</td>\n",
       "      <td>MNT</td>\n",
       "      <td>OS_AUO_CN_P</td>\n",
       "      <td>SEA</td>\n",
       "      <td>EATH</td>\n",
       "      <td>24GS50F-B.ATMQ</td>\n",
       "      <td>24GS50F-BB.CTMAMV</td>\n",
       "      <td>Final52w</td>\n",
       "      <td>N</td>\n",
       "      <td>2024-05-06(W19)</td>\n",
       "      <td>572.0</td>\n",
       "      <td>LGETH</td>\n",
       "      <td>Thailand</td>\n",
       "    </tr>\n",
       "    <tr>\n",
       "      <th>2</th>\n",
       "      <td>2024-02-26(W09)</td>\n",
       "      <td>202402281001</td>\n",
       "      <td>MNT</td>\n",
       "      <td>OS_AUO_CN_P</td>\n",
       "      <td>SEA</td>\n",
       "      <td>EATH</td>\n",
       "      <td>24GS50F-B.ATMQ</td>\n",
       "      <td>24GS50F-BB.CTMAMV</td>\n",
       "      <td>Final52w</td>\n",
       "      <td>N</td>\n",
       "      <td>2024-06-03(W23)</td>\n",
       "      <td>572.0</td>\n",
       "      <td>LGETH</td>\n",
       "      <td>Thailand</td>\n",
       "    </tr>\n",
       "    <tr>\n",
       "      <th>3</th>\n",
       "      <td>2024-02-26(W09)</td>\n",
       "      <td>202402281001</td>\n",
       "      <td>MNT</td>\n",
       "      <td>OS_AUO_CN_P</td>\n",
       "      <td>SEA</td>\n",
       "      <td>EATH</td>\n",
       "      <td>24GS50F-B.ATMQ</td>\n",
       "      <td>24GS50F-BB.CTMAMV</td>\n",
       "      <td>Final52w</td>\n",
       "      <td>N</td>\n",
       "      <td>2024-07-01(W27)</td>\n",
       "      <td>572.0</td>\n",
       "      <td>LGETH</td>\n",
       "      <td>Thailand</td>\n",
       "    </tr>\n",
       "    <tr>\n",
       "      <th>4</th>\n",
       "      <td>2024-02-26(W09)</td>\n",
       "      <td>202402281001</td>\n",
       "      <td>MNT</td>\n",
       "      <td>OS_AUO_CN_P</td>\n",
       "      <td>SEA</td>\n",
       "      <td>EATH</td>\n",
       "      <td>24GS50F-B.ATMQ</td>\n",
       "      <td>24GS50F-BB.CTMAMV</td>\n",
       "      <td>Final52w</td>\n",
       "      <td>N</td>\n",
       "      <td>2024-07-29(W31)</td>\n",
       "      <td>120.0</td>\n",
       "      <td>LGETH</td>\n",
       "      <td>Thailand</td>\n",
       "    </tr>\n",
       "    <tr>\n",
       "      <th>...</th>\n",
       "      <td>...</td>\n",
       "      <td>...</td>\n",
       "      <td>...</td>\n",
       "      <td>...</td>\n",
       "      <td>...</td>\n",
       "      <td>...</td>\n",
       "      <td>...</td>\n",
       "      <td>...</td>\n",
       "      <td>...</td>\n",
       "      <td>...</td>\n",
       "      <td>...</td>\n",
       "      <td>...</td>\n",
       "      <td>...</td>\n",
       "      <td>...</td>\n",
       "    </tr>\n",
       "    <tr>\n",
       "      <th>3776</th>\n",
       "      <td>2024-02-26(W09)</td>\n",
       "      <td>202402281001</td>\n",
       "      <td>PC</td>\n",
       "      <td>OS_WINGTECH_CN_P</td>\n",
       "      <td>KOREA</td>\n",
       "      <td>EKHQ</td>\n",
       "      <td>10A30Q-L.AQ28K</td>\n",
       "      <td>10A30Q-L.AQ28K</td>\n",
       "      <td>Final52w</td>\n",
       "      <td>Y</td>\n",
       "      <td>2024-01-08(W02)</td>\n",
       "      <td>360.0</td>\n",
       "      <td>LGEKR</td>\n",
       "      <td>Korea</td>\n",
       "    </tr>\n",
       "    <tr>\n",
       "      <th>3777</th>\n",
       "      <td>2024-02-26(W09)</td>\n",
       "      <td>202402281001</td>\n",
       "      <td>PC</td>\n",
       "      <td>OS_WINGTECH_CN_P</td>\n",
       "      <td>KOREA</td>\n",
       "      <td>EKHQ</td>\n",
       "      <td>10A30Q-L.AQ28K</td>\n",
       "      <td>10A30Q-L.AQ28K</td>\n",
       "      <td>Final52w</td>\n",
       "      <td>Y</td>\n",
       "      <td>2024-01-29(W05)</td>\n",
       "      <td>228.0</td>\n",
       "      <td>LGEKR</td>\n",
       "      <td>Korea</td>\n",
       "    </tr>\n",
       "    <tr>\n",
       "      <th>3778</th>\n",
       "      <td>2024-02-26(W09)</td>\n",
       "      <td>202402281001</td>\n",
       "      <td>PC</td>\n",
       "      <td>OS_WINGTECH_CN_P</td>\n",
       "      <td>KOREA</td>\n",
       "      <td>EKHQ</td>\n",
       "      <td>10A30Q-L.AQ28K</td>\n",
       "      <td>10A30Q-L.AQ28K</td>\n",
       "      <td>Final52w</td>\n",
       "      <td>Y</td>\n",
       "      <td>2024-02-19(W08)</td>\n",
       "      <td>310.0</td>\n",
       "      <td>LGEKR</td>\n",
       "      <td>Korea</td>\n",
       "    </tr>\n",
       "    <tr>\n",
       "      <th>3779</th>\n",
       "      <td>2024-02-26(W09)</td>\n",
       "      <td>202402281001</td>\n",
       "      <td>PC</td>\n",
       "      <td>OS_WINGTECH_CN_P</td>\n",
       "      <td>KOREA</td>\n",
       "      <td>EKHQ</td>\n",
       "      <td>10A30Q-L.AQ28K</td>\n",
       "      <td>10A30Q-L.AQ28K</td>\n",
       "      <td>Final52w</td>\n",
       "      <td>Y</td>\n",
       "      <td>2024-03-04(W10)</td>\n",
       "      <td>160.0</td>\n",
       "      <td>LGEKR</td>\n",
       "      <td>Korea</td>\n",
       "    </tr>\n",
       "    <tr>\n",
       "      <th>3780</th>\n",
       "      <td>2024-02-26(W09)</td>\n",
       "      <td>202402281001</td>\n",
       "      <td>PC</td>\n",
       "      <td>OS_WINGTECH_CN_P</td>\n",
       "      <td>KOREA</td>\n",
       "      <td>EKHQ</td>\n",
       "      <td>10A30Q-L.AQ48KN</td>\n",
       "      <td>10A30Q-L.AQ48KN</td>\n",
       "      <td>Final52w</td>\n",
       "      <td>Y</td>\n",
       "      <td>2024-01-15(W03)</td>\n",
       "      <td>100.0</td>\n",
       "      <td>LGEKR</td>\n",
       "      <td>Korea</td>\n",
       "    </tr>\n",
       "  </tbody>\n",
       "</table>\n",
       "<p>3781 rows × 14 columns</p>\n",
       "</div>"
      ],
      "text/plain": [
       "             Planweek    Created_at Division         From Site Region To Site  \\\n",
       "0     2024-02-26(W09)  202402281001      MNT       OS_AUO_CN_P    SEA    EATH   \n",
       "1     2024-02-26(W09)  202402281001      MNT       OS_AUO_CN_P    SEA    EATH   \n",
       "2     2024-02-26(W09)  202402281001      MNT       OS_AUO_CN_P    SEA    EATH   \n",
       "3     2024-02-26(W09)  202402281001      MNT       OS_AUO_CN_P    SEA    EATH   \n",
       "4     2024-02-26(W09)  202402281001      MNT       OS_AUO_CN_P    SEA    EATH   \n",
       "...               ...           ...      ...               ...    ...     ...   \n",
       "3776  2024-02-26(W09)  202402281001       PC  OS_WINGTECH_CN_P  KOREA    EKHQ   \n",
       "3777  2024-02-26(W09)  202402281001       PC  OS_WINGTECH_CN_P  KOREA    EKHQ   \n",
       "3778  2024-02-26(W09)  202402281001       PC  OS_WINGTECH_CN_P  KOREA    EKHQ   \n",
       "3779  2024-02-26(W09)  202402281001       PC  OS_WINGTECH_CN_P  KOREA    EKHQ   \n",
       "3780  2024-02-26(W09)  202402281001       PC  OS_WINGTECH_CN_P  KOREA    EKHQ   \n",
       "\n",
       "     Mapping Model.Suffix            Rep PMS  Category Frozen  \\\n",
       "0          24GS50F-B.ATMQ  24GS50F-BB.CTMAMV  Final52w      N   \n",
       "1          24GS50F-B.ATMQ  24GS50F-BB.CTMAMV  Final52w      N   \n",
       "2          24GS50F-B.ATMQ  24GS50F-BB.CTMAMV  Final52w      N   \n",
       "3          24GS50F-B.ATMQ  24GS50F-BB.CTMAMV  Final52w      N   \n",
       "4          24GS50F-B.ATMQ  24GS50F-BB.CTMAMV  Final52w      N   \n",
       "...                   ...                ...       ...    ...   \n",
       "3776       10A30Q-L.AQ28K     10A30Q-L.AQ28K  Final52w      Y   \n",
       "3777       10A30Q-L.AQ28K     10A30Q-L.AQ28K  Final52w      Y   \n",
       "3778       10A30Q-L.AQ28K     10A30Q-L.AQ28K  Final52w      Y   \n",
       "3779       10A30Q-L.AQ28K     10A30Q-L.AQ28K  Final52w      Y   \n",
       "3780      10A30Q-L.AQ48KN    10A30Q-L.AQ48KN  Final52w      Y   \n",
       "\n",
       "            Week Name     SP Subsidiary   Country  \n",
       "0     2024-04-15(W16)  572.0      LGETH  Thailand  \n",
       "1     2024-05-06(W19)  572.0      LGETH  Thailand  \n",
       "2     2024-06-03(W23)  572.0      LGETH  Thailand  \n",
       "3     2024-07-01(W27)  572.0      LGETH  Thailand  \n",
       "4     2024-07-29(W31)  120.0      LGETH  Thailand  \n",
       "...               ...    ...        ...       ...  \n",
       "3776  2024-01-08(W02)  360.0      LGEKR     Korea  \n",
       "3777  2024-01-29(W05)  228.0      LGEKR     Korea  \n",
       "3778  2024-02-19(W08)  310.0      LGEKR     Korea  \n",
       "3779  2024-03-04(W10)  160.0      LGEKR     Korea  \n",
       "3780  2024-01-15(W03)  100.0      LGEKR     Korea  \n",
       "\n",
       "[3781 rows x 14 columns]"
      ]
     },
     "execution_count": 6,
     "metadata": {},
     "output_type": "execute_result"
    }
   ],
   "source": [
    "sp = spdb.merge(spdb.groupby(['Planweek', 'Category', 'Created_at']).sum('SP').reset_index().iloc[[i], :3])\n",
    "sp = pd.merge(sp, site[['To Site', 'Subsidiary', 'Country']], how='left')\n",
    "sp"
   ]
  },
  {
   "cell_type": "code",
   "execution_count": 7,
   "id": "10e8948e",
   "metadata": {},
   "outputs": [
    {
     "name": "stderr",
     "output_type": "stream",
     "text": [
      "C:\\Users\\paul76.lee\\AppData\\Local\\Temp\\ipykernel_584\\3252752946.py:10: FutureWarning: The default value of regex will change from True to False in a future version.\n",
      "  sp.loc[c2, 'Series'] = sp[c2]['Mapping Model.Suffix'].apply(lambda x:x.split('-')[0]).str.replace('[D|G|N|W|C]', '').apply(lambda x:x[:6]) # PC모델의 대표모델명 추출\n"
     ]
    }
   ],
   "source": [
    "# sp = sp[sp['From Site'].isin(['OS_TCL_CN_P', 'OS_TPV_CN_P', 'OS_AUO_CN_P'])] # 업체 필터링\n",
    "\n",
    "# IT ODM 모델명에서 시리즈명 추출\n",
    "c1 = sp['From Site'].str.contains('AUO|TPV|TCL|BOEVT') # 모니터 ODM 일 경우\n",
    "c2 = sp['Mapping Model.Suffix'].str.match('\\d{2}[T|Z|U|A][G|D|N|W|C]?\\d{2}[A-Z]{1,2}') # PC/태블릿 모델일 경우\n",
    "c3 = sp['Mapping Model.Suffix'].str.contains('CL600') # 페가트론 CL600 모델일 경우\n",
    "\n",
    "# sp.loc[c1, 'Series'] = sp[c1]['Mapping Model.Suffix'].apply(lambda x:x[:2]) # 모니터 모델의 시리즈명(inch) 추출\n",
    "sp.loc[c1, 'Series'] = sp[c1]['Mapping Model.Suffix'].apply(lambda x:x.split('-')[0]).apply(lambda x:x.split('.')[0]) # Mapping 모델명의 앞부분을 시리즈명으로 추출\n",
    "sp.loc[c2, 'Series'] = sp[c2]['Mapping Model.Suffix'].apply(lambda x:x.split('-')[0]).str.replace('[D|G|N|W|C]', '').apply(lambda x:x[:6]) # PC모델의 대표모델명 추출\n",
    "sp.loc[c3, 'Series'] = 'CL600'\n",
    "\n",
    "sp[['Year', 'Month']] = sp['Week Name'].apply(lambda x:f'{datetime.date.fromisoformat(x[:10]).isocalendar().year}-{get_month_from_date(datetime.date.fromisoformat(x[:10])):02d}').str.split('-', expand=True)\n",
    "sp['Quarter'] = sp['Month'].apply(lambda x:pd.to_datetime(x, format='%m')).dt.to_period('Q').astype(str).apply(lambda x:x[-2:])\n",
    "sp = sp[sp['Week Name'] >= this_week]"
   ]
  },
  {
   "cell_type": "code",
   "execution_count": 91,
   "id": "e8b96b25",
   "metadata": {},
   "outputs": [],
   "source": [
    "# BR 모델을 MR 모델에 통합\n",
    "sr.loc[sr['Series'].str.contains('24BR'), 'Series'] = '24MR' \n",
    "sr.loc[sr['Series'].str.contains('32BR'), 'Series'] = '32MR'\n",
    "# 25GR 모델 삭제\n",
    "sr = sr[~sr['Series'].str.contains('25GR')].reset_index(drop=True)"
   ]
  },
  {
   "cell_type": "code",
   "execution_count": 134,
   "id": "29829142",
   "metadata": {},
   "outputs": [],
   "source": [
    "# Series 모델명 통일화 작업\n",
    "sp = sp[~sp['Series'].str.contains('25GR')].reset_index(drop=True)\n",
    "sp.loc[sp['Series'].str.contains('22MS|22BR'), 'Series'] = '22MR'\n",
    "sp.loc[sp['Series'].str.contains('27MC|27BR'), 'Series'] = '27MR'\n",
    "sp.loc[sp['Series'].str.contains('32MC|32BR'), 'Series'] = '32MR'\n",
    "sp.loc[sp['Series'].str.contains('24BR'), 'Series'] = '24MR'"
   ]
  },
  {
   "cell_type": "code",
   "execution_count": 9,
   "id": "24090fdd",
   "metadata": {},
   "outputs": [
    {
     "data": {
      "text/html": [
       "<div>\n",
       "<style scoped>\n",
       "    .dataframe tbody tr th:only-of-type {\n",
       "        vertical-align: middle;\n",
       "    }\n",
       "\n",
       "    .dataframe tbody tr th {\n",
       "        vertical-align: top;\n",
       "    }\n",
       "\n",
       "    .dataframe thead th {\n",
       "        text-align: right;\n",
       "    }\n",
       "</style>\n",
       "<table border=\"1\" class=\"dataframe\">\n",
       "  <thead>\n",
       "    <tr style=\"text-align: right;\">\n",
       "      <th></th>\n",
       "      <th>Year</th>\n",
       "      <th>Month</th>\n",
       "      <th>Quarter</th>\n",
       "      <th>From Site</th>\n",
       "      <th>Division</th>\n",
       "      <th>Region</th>\n",
       "      <th>Country</th>\n",
       "      <th>Subsidiary</th>\n",
       "      <th>To Site</th>\n",
       "      <th>Series</th>\n",
       "      <th>Mapping Model.Suffix</th>\n",
       "      <th>Week Name</th>\n",
       "      <th>SP</th>\n",
       "    </tr>\n",
       "  </thead>\n",
       "  <tbody>\n",
       "    <tr>\n",
       "      <th>0</th>\n",
       "      <td>2023</td>\n",
       "      <td>08</td>\n",
       "      <td>Q3</td>\n",
       "      <td>OS_TCL_CN_P</td>\n",
       "      <td>MNT</td>\n",
       "      <td>EU</td>\n",
       "      <td>Hungary</td>\n",
       "      <td>LGEMK</td>\n",
       "      <td>EEMK</td>\n",
       "      <td>22MR410</td>\n",
       "      <td>22MR410-B.AEUQ</td>\n",
       "      <td>2023-08-14(W33)</td>\n",
       "      <td>840.0</td>\n",
       "    </tr>\n",
       "    <tr>\n",
       "      <th>1</th>\n",
       "      <td>2023</td>\n",
       "      <td>08</td>\n",
       "      <td>Q3</td>\n",
       "      <td>OS_TCL_CN_P</td>\n",
       "      <td>MNT</td>\n",
       "      <td>EU</td>\n",
       "      <td>Spain</td>\n",
       "      <td>LGEES</td>\n",
       "      <td>EEES</td>\n",
       "      <td>22MR410</td>\n",
       "      <td>22MR410-B.AEUQ</td>\n",
       "      <td>2023-08-28(W35)</td>\n",
       "      <td>838.0</td>\n",
       "    </tr>\n",
       "    <tr>\n",
       "      <th>2</th>\n",
       "      <td>2023</td>\n",
       "      <td>08</td>\n",
       "      <td>Q3</td>\n",
       "      <td>OS_TCL_CN_P</td>\n",
       "      <td>MNT</td>\n",
       "      <td>MEA</td>\n",
       "      <td>Turkiye</td>\n",
       "      <td>LGETK</td>\n",
       "      <td>EMTK</td>\n",
       "      <td>22MR410</td>\n",
       "      <td>22MR410-B.APDQ</td>\n",
       "      <td>2023-08-28(W35)</td>\n",
       "      <td>840.0</td>\n",
       "    </tr>\n",
       "    <tr>\n",
       "      <th>3</th>\n",
       "      <td>2023</td>\n",
       "      <td>08</td>\n",
       "      <td>Q3</td>\n",
       "      <td>OS_TCL_CN_P</td>\n",
       "      <td>MNT</td>\n",
       "      <td>SEA</td>\n",
       "      <td>Thailand</td>\n",
       "      <td>LGETH</td>\n",
       "      <td>EATH</td>\n",
       "      <td>22MR410</td>\n",
       "      <td>22MR410-B.ATMQ</td>\n",
       "      <td>2023-08-21(W34)</td>\n",
       "      <td>2184.0</td>\n",
       "    </tr>\n",
       "    <tr>\n",
       "      <th>4</th>\n",
       "      <td>2023</td>\n",
       "      <td>08</td>\n",
       "      <td>Q3</td>\n",
       "      <td>OS_TCL_CN_P</td>\n",
       "      <td>MNT</td>\n",
       "      <td>SEA</td>\n",
       "      <td>Thailand</td>\n",
       "      <td>LGETH</td>\n",
       "      <td>EATH</td>\n",
       "      <td>22MR410</td>\n",
       "      <td>22MR410-B.ATMQ</td>\n",
       "      <td>2023-08-21(W34)</td>\n",
       "      <td>2184.0</td>\n",
       "    </tr>\n",
       "    <tr>\n",
       "      <th>...</th>\n",
       "      <td>...</td>\n",
       "      <td>...</td>\n",
       "      <td>...</td>\n",
       "      <td>...</td>\n",
       "      <td>...</td>\n",
       "      <td>...</td>\n",
       "      <td>...</td>\n",
       "      <td>...</td>\n",
       "      <td>...</td>\n",
       "      <td>...</td>\n",
       "      <td>...</td>\n",
       "      <td>...</td>\n",
       "      <td>...</td>\n",
       "    </tr>\n",
       "    <tr>\n",
       "      <th>7715</th>\n",
       "      <td>2024</td>\n",
       "      <td>03</td>\n",
       "      <td>Q1</td>\n",
       "      <td>OS_TPV_CN_P</td>\n",
       "      <td>MNT</td>\n",
       "      <td>SEA</td>\n",
       "      <td>Japan</td>\n",
       "      <td>LGEJP</td>\n",
       "      <td>EJJP</td>\n",
       "      <td>32MR50C</td>\n",
       "      <td>32MR50C-B.AJLQ</td>\n",
       "      <td>2024-03-25(W13)</td>\n",
       "      <td>96.0</td>\n",
       "    </tr>\n",
       "    <tr>\n",
       "      <th>7716</th>\n",
       "      <td>2024</td>\n",
       "      <td>03</td>\n",
       "      <td>Q1</td>\n",
       "      <td>OS_WINGTECH_CN_P</td>\n",
       "      <td>PC</td>\n",
       "      <td>KOREA</td>\n",
       "      <td>Korea</td>\n",
       "      <td>LGEKR</td>\n",
       "      <td>EKHQ</td>\n",
       "      <td>10A30Q</td>\n",
       "      <td>10A30Q-L.AQ14K</td>\n",
       "      <td>2024-03-04(W10)</td>\n",
       "      <td>1280.0</td>\n",
       "    </tr>\n",
       "    <tr>\n",
       "      <th>7717</th>\n",
       "      <td>2024</td>\n",
       "      <td>03</td>\n",
       "      <td>Q1</td>\n",
       "      <td>OS_WINGTECH_CN_P</td>\n",
       "      <td>PC</td>\n",
       "      <td>KOREA</td>\n",
       "      <td>Korea</td>\n",
       "      <td>LGEKR</td>\n",
       "      <td>EKHQ</td>\n",
       "      <td>10A30Q</td>\n",
       "      <td>10A30Q-L.AQ1TL</td>\n",
       "      <td>2024-03-18(W12)</td>\n",
       "      <td>500.0</td>\n",
       "    </tr>\n",
       "    <tr>\n",
       "      <th>7718</th>\n",
       "      <td>2024</td>\n",
       "      <td>03</td>\n",
       "      <td>Q1</td>\n",
       "      <td>OS_WINGTECH_CN_P</td>\n",
       "      <td>PC</td>\n",
       "      <td>KOREA</td>\n",
       "      <td>Korea</td>\n",
       "      <td>LGEKR</td>\n",
       "      <td>EKHQ</td>\n",
       "      <td>10A30Q</td>\n",
       "      <td>10A30Q-L.AQ1UL</td>\n",
       "      <td>2024-03-18(W12)</td>\n",
       "      <td>2000.0</td>\n",
       "    </tr>\n",
       "    <tr>\n",
       "      <th>7719</th>\n",
       "      <td>2024</td>\n",
       "      <td>03</td>\n",
       "      <td>Q1</td>\n",
       "      <td>OS_WINGTECH_CN_P</td>\n",
       "      <td>PC</td>\n",
       "      <td>KOREA</td>\n",
       "      <td>Korea</td>\n",
       "      <td>LGEKR</td>\n",
       "      <td>EKHQ</td>\n",
       "      <td>10A30Q</td>\n",
       "      <td>10A30Q-L.AQ28K</td>\n",
       "      <td>2024-03-04(W10)</td>\n",
       "      <td>160.0</td>\n",
       "    </tr>\n",
       "  </tbody>\n",
       "</table>\n",
       "<p>7720 rows × 13 columns</p>\n",
       "</div>"
      ],
      "text/plain": [
       "      Year Month Quarter         From Site Division Region   Country  \\\n",
       "0     2023    08      Q3       OS_TCL_CN_P      MNT     EU   Hungary   \n",
       "1     2023    08      Q3       OS_TCL_CN_P      MNT     EU     Spain   \n",
       "2     2023    08      Q3       OS_TCL_CN_P      MNT    MEA   Turkiye   \n",
       "3     2023    08      Q3       OS_TCL_CN_P      MNT    SEA  Thailand   \n",
       "4     2023    08      Q3       OS_TCL_CN_P      MNT    SEA  Thailand   \n",
       "...    ...   ...     ...               ...      ...    ...       ...   \n",
       "7715  2024    03      Q1       OS_TPV_CN_P      MNT    SEA     Japan   \n",
       "7716  2024    03      Q1  OS_WINGTECH_CN_P       PC  KOREA     Korea   \n",
       "7717  2024    03      Q1  OS_WINGTECH_CN_P       PC  KOREA     Korea   \n",
       "7718  2024    03      Q1  OS_WINGTECH_CN_P       PC  KOREA     Korea   \n",
       "7719  2024    03      Q1  OS_WINGTECH_CN_P       PC  KOREA     Korea   \n",
       "\n",
       "     Subsidiary To Site   Series Mapping Model.Suffix        Week Name      SP  \n",
       "0         LGEMK    EEMK  22MR410       22MR410-B.AEUQ  2023-08-14(W33)   840.0  \n",
       "1         LGEES    EEES  22MR410       22MR410-B.AEUQ  2023-08-28(W35)   838.0  \n",
       "2         LGETK    EMTK  22MR410       22MR410-B.APDQ  2023-08-28(W35)   840.0  \n",
       "3         LGETH    EATH  22MR410       22MR410-B.ATMQ  2023-08-21(W34)  2184.0  \n",
       "4         LGETH    EATH  22MR410       22MR410-B.ATMQ  2023-08-21(W34)  2184.0  \n",
       "...         ...     ...      ...                  ...              ...     ...  \n",
       "7715      LGEJP    EJJP  32MR50C       32MR50C-B.AJLQ  2024-03-25(W13)    96.0  \n",
       "7716      LGEKR    EKHQ   10A30Q       10A30Q-L.AQ14K  2024-03-04(W10)  1280.0  \n",
       "7717      LGEKR    EKHQ   10A30Q       10A30Q-L.AQ1TL  2024-03-18(W12)   500.0  \n",
       "7718      LGEKR    EKHQ   10A30Q       10A30Q-L.AQ1UL  2024-03-18(W12)  2000.0  \n",
       "7719      LGEKR    EKHQ   10A30Q       10A30Q-L.AQ28K  2024-03-04(W10)   160.0  \n",
       "\n",
       "[7720 rows x 13 columns]"
      ]
     },
     "execution_count": 9,
     "metadata": {},
     "output_type": "execute_result"
    }
   ],
   "source": [
    "tt = pd.concat([sr, sp], join='inner').reset_index(drop=True)\n",
    "tt"
   ]
  },
  {
   "cell_type": "code",
   "execution_count": 31,
   "id": "b3a62f3f",
   "metadata": {},
   "outputs": [
    {
     "data": {
      "text/plain": [
       "465585.0"
      ]
     },
     "execution_count": 31,
     "metadata": {},
     "output_type": "execute_result"
    }
   ],
   "source": [
    "tt[tt['From Site'].str.contains('TCL') & tt['Year'].str.contains('2024') & tt['Quarter'].isin(['Q1', 'Q2'])]['SP'].sum()"
   ]
  },
  {
   "cell_type": "code",
   "execution_count": 25,
   "id": "78c0cfc1",
   "metadata": {},
   "outputs": [
    {
     "data": {
      "application/vnd.plotly.v1+json": {
       "config": {
        "plotlyServerURL": "https://plot.ly"
       },
       "data": [
        {
         "alignmentgroup": "True",
         "hovertemplate": "Quarter=%{text}<br>SP=%{x}<br>Year=%{y}<extra></extra>",
         "legendgroup": "Q1",
         "marker": {
          "color": "#636efa",
          "pattern": {
           "shape": ""
          }
         },
         "name": "Q1",
         "offsetgroup": "Q1",
         "orientation": "h",
         "showlegend": true,
         "text": [
          "Q1"
         ],
         "textposition": "auto",
         "type": "bar",
         "x": [
          243064
         ],
         "xaxis": "x",
         "y": [
          "2024"
         ],
         "yaxis": "y"
        },
        {
         "alignmentgroup": "True",
         "hovertemplate": "Quarter=%{text}<br>SP=%{x}<br>Year=%{y}<extra></extra>",
         "legendgroup": "Q2",
         "marker": {
          "color": "#EF553B",
          "pattern": {
           "shape": ""
          }
         },
         "name": "Q2",
         "offsetgroup": "Q2",
         "orientation": "h",
         "showlegend": true,
         "text": [
          "Q2"
         ],
         "textposition": "auto",
         "type": "bar",
         "x": [
          222521
         ],
         "xaxis": "x",
         "y": [
          "2024"
         ],
         "yaxis": "y"
        },
        {
         "alignmentgroup": "True",
         "hovertemplate": "Quarter=%{text}<br>SP=%{x}<br>Year=%{y}<extra></extra>",
         "legendgroup": "Q3",
         "marker": {
          "color": "#00cc96",
          "pattern": {
           "shape": ""
          }
         },
         "name": "Q3",
         "offsetgroup": "Q3",
         "orientation": "h",
         "showlegend": true,
         "text": [
          "Q3",
          "Q3"
         ],
         "textposition": "auto",
         "type": "bar",
         "x": [
          25048,
          116569
         ],
         "xaxis": "x",
         "y": [
          "2023",
          "2024"
         ],
         "yaxis": "y"
        },
        {
         "alignmentgroup": "True",
         "hovertemplate": "Quarter=%{text}<br>SP=%{x}<br>Year=%{y}<extra></extra>",
         "legendgroup": "Q4",
         "marker": {
          "color": "#ab63fa",
          "pattern": {
           "shape": ""
          }
         },
         "name": "Q4",
         "offsetgroup": "Q4",
         "orientation": "h",
         "showlegend": true,
         "text": [
          "Q4",
          "Q4"
         ],
         "textposition": "auto",
         "type": "bar",
         "x": [
          167098,
          48315
         ],
         "xaxis": "x",
         "y": [
          "2023",
          "2024"
         ],
         "yaxis": "y"
        }
       ],
       "layout": {
        "barmode": "relative",
        "legend": {
         "title": {
          "text": "Quarter"
         },
         "tracegroupgap": 0
        },
        "margin": {
         "t": 60
        },
        "template": {
         "data": {
          "bar": [
           {
            "error_x": {
             "color": "#2a3f5f"
            },
            "error_y": {
             "color": "#2a3f5f"
            },
            "marker": {
             "line": {
              "color": "#E5ECF6",
              "width": 0.5
             },
             "pattern": {
              "fillmode": "overlay",
              "size": 10,
              "solidity": 0.2
             }
            },
            "type": "bar"
           }
          ],
          "barpolar": [
           {
            "marker": {
             "line": {
              "color": "#E5ECF6",
              "width": 0.5
             },
             "pattern": {
              "fillmode": "overlay",
              "size": 10,
              "solidity": 0.2
             }
            },
            "type": "barpolar"
           }
          ],
          "carpet": [
           {
            "aaxis": {
             "endlinecolor": "#2a3f5f",
             "gridcolor": "white",
             "linecolor": "white",
             "minorgridcolor": "white",
             "startlinecolor": "#2a3f5f"
            },
            "baxis": {
             "endlinecolor": "#2a3f5f",
             "gridcolor": "white",
             "linecolor": "white",
             "minorgridcolor": "white",
             "startlinecolor": "#2a3f5f"
            },
            "type": "carpet"
           }
          ],
          "choropleth": [
           {
            "colorbar": {
             "outlinewidth": 0,
             "ticks": ""
            },
            "type": "choropleth"
           }
          ],
          "contour": [
           {
            "colorbar": {
             "outlinewidth": 0,
             "ticks": ""
            },
            "colorscale": [
             [
              0,
              "#0d0887"
             ],
             [
              0.1111111111111111,
              "#46039f"
             ],
             [
              0.2222222222222222,
              "#7201a8"
             ],
             [
              0.3333333333333333,
              "#9c179e"
             ],
             [
              0.4444444444444444,
              "#bd3786"
             ],
             [
              0.5555555555555556,
              "#d8576b"
             ],
             [
              0.6666666666666666,
              "#ed7953"
             ],
             [
              0.7777777777777778,
              "#fb9f3a"
             ],
             [
              0.8888888888888888,
              "#fdca26"
             ],
             [
              1,
              "#f0f921"
             ]
            ],
            "type": "contour"
           }
          ],
          "contourcarpet": [
           {
            "colorbar": {
             "outlinewidth": 0,
             "ticks": ""
            },
            "type": "contourcarpet"
           }
          ],
          "heatmap": [
           {
            "colorbar": {
             "outlinewidth": 0,
             "ticks": ""
            },
            "colorscale": [
             [
              0,
              "#0d0887"
             ],
             [
              0.1111111111111111,
              "#46039f"
             ],
             [
              0.2222222222222222,
              "#7201a8"
             ],
             [
              0.3333333333333333,
              "#9c179e"
             ],
             [
              0.4444444444444444,
              "#bd3786"
             ],
             [
              0.5555555555555556,
              "#d8576b"
             ],
             [
              0.6666666666666666,
              "#ed7953"
             ],
             [
              0.7777777777777778,
              "#fb9f3a"
             ],
             [
              0.8888888888888888,
              "#fdca26"
             ],
             [
              1,
              "#f0f921"
             ]
            ],
            "type": "heatmap"
           }
          ],
          "heatmapgl": [
           {
            "colorbar": {
             "outlinewidth": 0,
             "ticks": ""
            },
            "colorscale": [
             [
              0,
              "#0d0887"
             ],
             [
              0.1111111111111111,
              "#46039f"
             ],
             [
              0.2222222222222222,
              "#7201a8"
             ],
             [
              0.3333333333333333,
              "#9c179e"
             ],
             [
              0.4444444444444444,
              "#bd3786"
             ],
             [
              0.5555555555555556,
              "#d8576b"
             ],
             [
              0.6666666666666666,
              "#ed7953"
             ],
             [
              0.7777777777777778,
              "#fb9f3a"
             ],
             [
              0.8888888888888888,
              "#fdca26"
             ],
             [
              1,
              "#f0f921"
             ]
            ],
            "type": "heatmapgl"
           }
          ],
          "histogram": [
           {
            "marker": {
             "pattern": {
              "fillmode": "overlay",
              "size": 10,
              "solidity": 0.2
             }
            },
            "type": "histogram"
           }
          ],
          "histogram2d": [
           {
            "colorbar": {
             "outlinewidth": 0,
             "ticks": ""
            },
            "colorscale": [
             [
              0,
              "#0d0887"
             ],
             [
              0.1111111111111111,
              "#46039f"
             ],
             [
              0.2222222222222222,
              "#7201a8"
             ],
             [
              0.3333333333333333,
              "#9c179e"
             ],
             [
              0.4444444444444444,
              "#bd3786"
             ],
             [
              0.5555555555555556,
              "#d8576b"
             ],
             [
              0.6666666666666666,
              "#ed7953"
             ],
             [
              0.7777777777777778,
              "#fb9f3a"
             ],
             [
              0.8888888888888888,
              "#fdca26"
             ],
             [
              1,
              "#f0f921"
             ]
            ],
            "type": "histogram2d"
           }
          ],
          "histogram2dcontour": [
           {
            "colorbar": {
             "outlinewidth": 0,
             "ticks": ""
            },
            "colorscale": [
             [
              0,
              "#0d0887"
             ],
             [
              0.1111111111111111,
              "#46039f"
             ],
             [
              0.2222222222222222,
              "#7201a8"
             ],
             [
              0.3333333333333333,
              "#9c179e"
             ],
             [
              0.4444444444444444,
              "#bd3786"
             ],
             [
              0.5555555555555556,
              "#d8576b"
             ],
             [
              0.6666666666666666,
              "#ed7953"
             ],
             [
              0.7777777777777778,
              "#fb9f3a"
             ],
             [
              0.8888888888888888,
              "#fdca26"
             ],
             [
              1,
              "#f0f921"
             ]
            ],
            "type": "histogram2dcontour"
           }
          ],
          "mesh3d": [
           {
            "colorbar": {
             "outlinewidth": 0,
             "ticks": ""
            },
            "type": "mesh3d"
           }
          ],
          "parcoords": [
           {
            "line": {
             "colorbar": {
              "outlinewidth": 0,
              "ticks": ""
             }
            },
            "type": "parcoords"
           }
          ],
          "pie": [
           {
            "automargin": true,
            "type": "pie"
           }
          ],
          "scatter": [
           {
            "fillpattern": {
             "fillmode": "overlay",
             "size": 10,
             "solidity": 0.2
            },
            "type": "scatter"
           }
          ],
          "scatter3d": [
           {
            "line": {
             "colorbar": {
              "outlinewidth": 0,
              "ticks": ""
             }
            },
            "marker": {
             "colorbar": {
              "outlinewidth": 0,
              "ticks": ""
             }
            },
            "type": "scatter3d"
           }
          ],
          "scattercarpet": [
           {
            "marker": {
             "colorbar": {
              "outlinewidth": 0,
              "ticks": ""
             }
            },
            "type": "scattercarpet"
           }
          ],
          "scattergeo": [
           {
            "marker": {
             "colorbar": {
              "outlinewidth": 0,
              "ticks": ""
             }
            },
            "type": "scattergeo"
           }
          ],
          "scattergl": [
           {
            "marker": {
             "colorbar": {
              "outlinewidth": 0,
              "ticks": ""
             }
            },
            "type": "scattergl"
           }
          ],
          "scattermapbox": [
           {
            "marker": {
             "colorbar": {
              "outlinewidth": 0,
              "ticks": ""
             }
            },
            "type": "scattermapbox"
           }
          ],
          "scatterpolar": [
           {
            "marker": {
             "colorbar": {
              "outlinewidth": 0,
              "ticks": ""
             }
            },
            "type": "scatterpolar"
           }
          ],
          "scatterpolargl": [
           {
            "marker": {
             "colorbar": {
              "outlinewidth": 0,
              "ticks": ""
             }
            },
            "type": "scatterpolargl"
           }
          ],
          "scatterternary": [
           {
            "marker": {
             "colorbar": {
              "outlinewidth": 0,
              "ticks": ""
             }
            },
            "type": "scatterternary"
           }
          ],
          "surface": [
           {
            "colorbar": {
             "outlinewidth": 0,
             "ticks": ""
            },
            "colorscale": [
             [
              0,
              "#0d0887"
             ],
             [
              0.1111111111111111,
              "#46039f"
             ],
             [
              0.2222222222222222,
              "#7201a8"
             ],
             [
              0.3333333333333333,
              "#9c179e"
             ],
             [
              0.4444444444444444,
              "#bd3786"
             ],
             [
              0.5555555555555556,
              "#d8576b"
             ],
             [
              0.6666666666666666,
              "#ed7953"
             ],
             [
              0.7777777777777778,
              "#fb9f3a"
             ],
             [
              0.8888888888888888,
              "#fdca26"
             ],
             [
              1,
              "#f0f921"
             ]
            ],
            "type": "surface"
           }
          ],
          "table": [
           {
            "cells": {
             "fill": {
              "color": "#EBF0F8"
             },
             "line": {
              "color": "white"
             }
            },
            "header": {
             "fill": {
              "color": "#C8D4E3"
             },
             "line": {
              "color": "white"
             }
            },
            "type": "table"
           }
          ]
         },
         "layout": {
          "annotationdefaults": {
           "arrowcolor": "#2a3f5f",
           "arrowhead": 0,
           "arrowwidth": 1
          },
          "autotypenumbers": "strict",
          "coloraxis": {
           "colorbar": {
            "outlinewidth": 0,
            "ticks": ""
           }
          },
          "colorscale": {
           "diverging": [
            [
             0,
             "#8e0152"
            ],
            [
             0.1,
             "#c51b7d"
            ],
            [
             0.2,
             "#de77ae"
            ],
            [
             0.3,
             "#f1b6da"
            ],
            [
             0.4,
             "#fde0ef"
            ],
            [
             0.5,
             "#f7f7f7"
            ],
            [
             0.6,
             "#e6f5d0"
            ],
            [
             0.7,
             "#b8e186"
            ],
            [
             0.8,
             "#7fbc41"
            ],
            [
             0.9,
             "#4d9221"
            ],
            [
             1,
             "#276419"
            ]
           ],
           "sequential": [
            [
             0,
             "#0d0887"
            ],
            [
             0.1111111111111111,
             "#46039f"
            ],
            [
             0.2222222222222222,
             "#7201a8"
            ],
            [
             0.3333333333333333,
             "#9c179e"
            ],
            [
             0.4444444444444444,
             "#bd3786"
            ],
            [
             0.5555555555555556,
             "#d8576b"
            ],
            [
             0.6666666666666666,
             "#ed7953"
            ],
            [
             0.7777777777777778,
             "#fb9f3a"
            ],
            [
             0.8888888888888888,
             "#fdca26"
            ],
            [
             1,
             "#f0f921"
            ]
           ],
           "sequentialminus": [
            [
             0,
             "#0d0887"
            ],
            [
             0.1111111111111111,
             "#46039f"
            ],
            [
             0.2222222222222222,
             "#7201a8"
            ],
            [
             0.3333333333333333,
             "#9c179e"
            ],
            [
             0.4444444444444444,
             "#bd3786"
            ],
            [
             0.5555555555555556,
             "#d8576b"
            ],
            [
             0.6666666666666666,
             "#ed7953"
            ],
            [
             0.7777777777777778,
             "#fb9f3a"
            ],
            [
             0.8888888888888888,
             "#fdca26"
            ],
            [
             1,
             "#f0f921"
            ]
           ]
          },
          "colorway": [
           "#636efa",
           "#EF553B",
           "#00cc96",
           "#ab63fa",
           "#FFA15A",
           "#19d3f3",
           "#FF6692",
           "#B6E880",
           "#FF97FF",
           "#FECB52"
          ],
          "font": {
           "color": "#2a3f5f"
          },
          "geo": {
           "bgcolor": "white",
           "lakecolor": "white",
           "landcolor": "#E5ECF6",
           "showlakes": true,
           "showland": true,
           "subunitcolor": "white"
          },
          "hoverlabel": {
           "align": "left"
          },
          "hovermode": "closest",
          "mapbox": {
           "style": "light"
          },
          "paper_bgcolor": "white",
          "plot_bgcolor": "#E5ECF6",
          "polar": {
           "angularaxis": {
            "gridcolor": "white",
            "linecolor": "white",
            "ticks": ""
           },
           "bgcolor": "#E5ECF6",
           "radialaxis": {
            "gridcolor": "white",
            "linecolor": "white",
            "ticks": ""
           }
          },
          "scene": {
           "xaxis": {
            "backgroundcolor": "#E5ECF6",
            "gridcolor": "white",
            "gridwidth": 2,
            "linecolor": "white",
            "showbackground": true,
            "ticks": "",
            "zerolinecolor": "white"
           },
           "yaxis": {
            "backgroundcolor": "#E5ECF6",
            "gridcolor": "white",
            "gridwidth": 2,
            "linecolor": "white",
            "showbackground": true,
            "ticks": "",
            "zerolinecolor": "white"
           },
           "zaxis": {
            "backgroundcolor": "#E5ECF6",
            "gridcolor": "white",
            "gridwidth": 2,
            "linecolor": "white",
            "showbackground": true,
            "ticks": "",
            "zerolinecolor": "white"
           }
          },
          "shapedefaults": {
           "line": {
            "color": "#2a3f5f"
           }
          },
          "ternary": {
           "aaxis": {
            "gridcolor": "white",
            "linecolor": "white",
            "ticks": ""
           },
           "baxis": {
            "gridcolor": "white",
            "linecolor": "white",
            "ticks": ""
           },
           "bgcolor": "#E5ECF6",
           "caxis": {
            "gridcolor": "white",
            "linecolor": "white",
            "ticks": ""
           }
          },
          "title": {
           "x": 0.05
          },
          "xaxis": {
           "automargin": true,
           "gridcolor": "white",
           "linecolor": "white",
           "ticks": "",
           "title": {
            "standoff": 15
           },
           "zerolinecolor": "white",
           "zerolinewidth": 2
          },
          "yaxis": {
           "automargin": true,
           "gridcolor": "white",
           "linecolor": "white",
           "ticks": "",
           "title": {
            "standoff": 15
           },
           "zerolinecolor": "white",
           "zerolinewidth": 2
          }
         }
        },
        "xaxis": {
         "anchor": "y",
         "domain": [
          0,
          1
         ],
         "title": {
          "text": "SP"
         }
        },
        "yaxis": {
         "anchor": "x",
         "domain": [
          0,
          1
         ],
         "title": {
          "text": "Year"
         }
        }
       }
      },
      "text/html": [
       "<div>                            <div id=\"817b7a31-0e91-432b-825b-af6ece5b5cf4\" class=\"plotly-graph-div\" style=\"height:525px; width:100%;\"></div>            <script type=\"text/javascript\">                require([\"plotly\"], function(Plotly) {                    window.PLOTLYENV=window.PLOTLYENV || {};                                    if (document.getElementById(\"817b7a31-0e91-432b-825b-af6ece5b5cf4\")) {                    Plotly.newPlot(                        \"817b7a31-0e91-432b-825b-af6ece5b5cf4\",                        [{\"alignmentgroup\":\"True\",\"hovertemplate\":\"Quarter=%{text}<br>SP=%{x}<br>Year=%{y}<extra></extra>\",\"legendgroup\":\"Q1\",\"marker\":{\"color\":\"#636efa\",\"pattern\":{\"shape\":\"\"}},\"name\":\"Q1\",\"offsetgroup\":\"Q1\",\"orientation\":\"h\",\"showlegend\":true,\"text\":[\"Q1\"],\"textposition\":\"auto\",\"x\":[243064.0],\"xaxis\":\"x\",\"y\":[\"2024\"],\"yaxis\":\"y\",\"type\":\"bar\"},{\"alignmentgroup\":\"True\",\"hovertemplate\":\"Quarter=%{text}<br>SP=%{x}<br>Year=%{y}<extra></extra>\",\"legendgroup\":\"Q2\",\"marker\":{\"color\":\"#EF553B\",\"pattern\":{\"shape\":\"\"}},\"name\":\"Q2\",\"offsetgroup\":\"Q2\",\"orientation\":\"h\",\"showlegend\":true,\"text\":[\"Q2\"],\"textposition\":\"auto\",\"x\":[222521.0],\"xaxis\":\"x\",\"y\":[\"2024\"],\"yaxis\":\"y\",\"type\":\"bar\"},{\"alignmentgroup\":\"True\",\"hovertemplate\":\"Quarter=%{text}<br>SP=%{x}<br>Year=%{y}<extra></extra>\",\"legendgroup\":\"Q3\",\"marker\":{\"color\":\"#00cc96\",\"pattern\":{\"shape\":\"\"}},\"name\":\"Q3\",\"offsetgroup\":\"Q3\",\"orientation\":\"h\",\"showlegend\":true,\"text\":[\"Q3\",\"Q3\"],\"textposition\":\"auto\",\"x\":[25048.0,116569.0],\"xaxis\":\"x\",\"y\":[\"2023\",\"2024\"],\"yaxis\":\"y\",\"type\":\"bar\"},{\"alignmentgroup\":\"True\",\"hovertemplate\":\"Quarter=%{text}<br>SP=%{x}<br>Year=%{y}<extra></extra>\",\"legendgroup\":\"Q4\",\"marker\":{\"color\":\"#ab63fa\",\"pattern\":{\"shape\":\"\"}},\"name\":\"Q4\",\"offsetgroup\":\"Q4\",\"orientation\":\"h\",\"showlegend\":true,\"text\":[\"Q4\",\"Q4\"],\"textposition\":\"auto\",\"x\":[167098.0,48315.0],\"xaxis\":\"x\",\"y\":[\"2023\",\"2024\"],\"yaxis\":\"y\",\"type\":\"bar\"}],                        {\"template\":{\"data\":{\"histogram2dcontour\":[{\"type\":\"histogram2dcontour\",\"colorbar\":{\"outlinewidth\":0,\"ticks\":\"\"},\"colorscale\":[[0.0,\"#0d0887\"],[0.1111111111111111,\"#46039f\"],[0.2222222222222222,\"#7201a8\"],[0.3333333333333333,\"#9c179e\"],[0.4444444444444444,\"#bd3786\"],[0.5555555555555556,\"#d8576b\"],[0.6666666666666666,\"#ed7953\"],[0.7777777777777778,\"#fb9f3a\"],[0.8888888888888888,\"#fdca26\"],[1.0,\"#f0f921\"]]}],\"choropleth\":[{\"type\":\"choropleth\",\"colorbar\":{\"outlinewidth\":0,\"ticks\":\"\"}}],\"histogram2d\":[{\"type\":\"histogram2d\",\"colorbar\":{\"outlinewidth\":0,\"ticks\":\"\"},\"colorscale\":[[0.0,\"#0d0887\"],[0.1111111111111111,\"#46039f\"],[0.2222222222222222,\"#7201a8\"],[0.3333333333333333,\"#9c179e\"],[0.4444444444444444,\"#bd3786\"],[0.5555555555555556,\"#d8576b\"],[0.6666666666666666,\"#ed7953\"],[0.7777777777777778,\"#fb9f3a\"],[0.8888888888888888,\"#fdca26\"],[1.0,\"#f0f921\"]]}],\"heatmap\":[{\"type\":\"heatmap\",\"colorbar\":{\"outlinewidth\":0,\"ticks\":\"\"},\"colorscale\":[[0.0,\"#0d0887\"],[0.1111111111111111,\"#46039f\"],[0.2222222222222222,\"#7201a8\"],[0.3333333333333333,\"#9c179e\"],[0.4444444444444444,\"#bd3786\"],[0.5555555555555556,\"#d8576b\"],[0.6666666666666666,\"#ed7953\"],[0.7777777777777778,\"#fb9f3a\"],[0.8888888888888888,\"#fdca26\"],[1.0,\"#f0f921\"]]}],\"heatmapgl\":[{\"type\":\"heatmapgl\",\"colorbar\":{\"outlinewidth\":0,\"ticks\":\"\"},\"colorscale\":[[0.0,\"#0d0887\"],[0.1111111111111111,\"#46039f\"],[0.2222222222222222,\"#7201a8\"],[0.3333333333333333,\"#9c179e\"],[0.4444444444444444,\"#bd3786\"],[0.5555555555555556,\"#d8576b\"],[0.6666666666666666,\"#ed7953\"],[0.7777777777777778,\"#fb9f3a\"],[0.8888888888888888,\"#fdca26\"],[1.0,\"#f0f921\"]]}],\"contourcarpet\":[{\"type\":\"contourcarpet\",\"colorbar\":{\"outlinewidth\":0,\"ticks\":\"\"}}],\"contour\":[{\"type\":\"contour\",\"colorbar\":{\"outlinewidth\":0,\"ticks\":\"\"},\"colorscale\":[[0.0,\"#0d0887\"],[0.1111111111111111,\"#46039f\"],[0.2222222222222222,\"#7201a8\"],[0.3333333333333333,\"#9c179e\"],[0.4444444444444444,\"#bd3786\"],[0.5555555555555556,\"#d8576b\"],[0.6666666666666666,\"#ed7953\"],[0.7777777777777778,\"#fb9f3a\"],[0.8888888888888888,\"#fdca26\"],[1.0,\"#f0f921\"]]}],\"surface\":[{\"type\":\"surface\",\"colorbar\":{\"outlinewidth\":0,\"ticks\":\"\"},\"colorscale\":[[0.0,\"#0d0887\"],[0.1111111111111111,\"#46039f\"],[0.2222222222222222,\"#7201a8\"],[0.3333333333333333,\"#9c179e\"],[0.4444444444444444,\"#bd3786\"],[0.5555555555555556,\"#d8576b\"],[0.6666666666666666,\"#ed7953\"],[0.7777777777777778,\"#fb9f3a\"],[0.8888888888888888,\"#fdca26\"],[1.0,\"#f0f921\"]]}],\"mesh3d\":[{\"type\":\"mesh3d\",\"colorbar\":{\"outlinewidth\":0,\"ticks\":\"\"}}],\"scatter\":[{\"fillpattern\":{\"fillmode\":\"overlay\",\"size\":10,\"solidity\":0.2},\"type\":\"scatter\"}],\"parcoords\":[{\"type\":\"parcoords\",\"line\":{\"colorbar\":{\"outlinewidth\":0,\"ticks\":\"\"}}}],\"scatterpolargl\":[{\"type\":\"scatterpolargl\",\"marker\":{\"colorbar\":{\"outlinewidth\":0,\"ticks\":\"\"}}}],\"bar\":[{\"error_x\":{\"color\":\"#2a3f5f\"},\"error_y\":{\"color\":\"#2a3f5f\"},\"marker\":{\"line\":{\"color\":\"#E5ECF6\",\"width\":0.5},\"pattern\":{\"fillmode\":\"overlay\",\"size\":10,\"solidity\":0.2}},\"type\":\"bar\"}],\"scattergeo\":[{\"type\":\"scattergeo\",\"marker\":{\"colorbar\":{\"outlinewidth\":0,\"ticks\":\"\"}}}],\"scatterpolar\":[{\"type\":\"scatterpolar\",\"marker\":{\"colorbar\":{\"outlinewidth\":0,\"ticks\":\"\"}}}],\"histogram\":[{\"marker\":{\"pattern\":{\"fillmode\":\"overlay\",\"size\":10,\"solidity\":0.2}},\"type\":\"histogram\"}],\"scattergl\":[{\"type\":\"scattergl\",\"marker\":{\"colorbar\":{\"outlinewidth\":0,\"ticks\":\"\"}}}],\"scatter3d\":[{\"type\":\"scatter3d\",\"line\":{\"colorbar\":{\"outlinewidth\":0,\"ticks\":\"\"}},\"marker\":{\"colorbar\":{\"outlinewidth\":0,\"ticks\":\"\"}}}],\"scattermapbox\":[{\"type\":\"scattermapbox\",\"marker\":{\"colorbar\":{\"outlinewidth\":0,\"ticks\":\"\"}}}],\"scatterternary\":[{\"type\":\"scatterternary\",\"marker\":{\"colorbar\":{\"outlinewidth\":0,\"ticks\":\"\"}}}],\"scattercarpet\":[{\"type\":\"scattercarpet\",\"marker\":{\"colorbar\":{\"outlinewidth\":0,\"ticks\":\"\"}}}],\"carpet\":[{\"aaxis\":{\"endlinecolor\":\"#2a3f5f\",\"gridcolor\":\"white\",\"linecolor\":\"white\",\"minorgridcolor\":\"white\",\"startlinecolor\":\"#2a3f5f\"},\"baxis\":{\"endlinecolor\":\"#2a3f5f\",\"gridcolor\":\"white\",\"linecolor\":\"white\",\"minorgridcolor\":\"white\",\"startlinecolor\":\"#2a3f5f\"},\"type\":\"carpet\"}],\"table\":[{\"cells\":{\"fill\":{\"color\":\"#EBF0F8\"},\"line\":{\"color\":\"white\"}},\"header\":{\"fill\":{\"color\":\"#C8D4E3\"},\"line\":{\"color\":\"white\"}},\"type\":\"table\"}],\"barpolar\":[{\"marker\":{\"line\":{\"color\":\"#E5ECF6\",\"width\":0.5},\"pattern\":{\"fillmode\":\"overlay\",\"size\":10,\"solidity\":0.2}},\"type\":\"barpolar\"}],\"pie\":[{\"automargin\":true,\"type\":\"pie\"}]},\"layout\":{\"autotypenumbers\":\"strict\",\"colorway\":[\"#636efa\",\"#EF553B\",\"#00cc96\",\"#ab63fa\",\"#FFA15A\",\"#19d3f3\",\"#FF6692\",\"#B6E880\",\"#FF97FF\",\"#FECB52\"],\"font\":{\"color\":\"#2a3f5f\"},\"hovermode\":\"closest\",\"hoverlabel\":{\"align\":\"left\"},\"paper_bgcolor\":\"white\",\"plot_bgcolor\":\"#E5ECF6\",\"polar\":{\"bgcolor\":\"#E5ECF6\",\"angularaxis\":{\"gridcolor\":\"white\",\"linecolor\":\"white\",\"ticks\":\"\"},\"radialaxis\":{\"gridcolor\":\"white\",\"linecolor\":\"white\",\"ticks\":\"\"}},\"ternary\":{\"bgcolor\":\"#E5ECF6\",\"aaxis\":{\"gridcolor\":\"white\",\"linecolor\":\"white\",\"ticks\":\"\"},\"baxis\":{\"gridcolor\":\"white\",\"linecolor\":\"white\",\"ticks\":\"\"},\"caxis\":{\"gridcolor\":\"white\",\"linecolor\":\"white\",\"ticks\":\"\"}},\"coloraxis\":{\"colorbar\":{\"outlinewidth\":0,\"ticks\":\"\"}},\"colorscale\":{\"sequential\":[[0.0,\"#0d0887\"],[0.1111111111111111,\"#46039f\"],[0.2222222222222222,\"#7201a8\"],[0.3333333333333333,\"#9c179e\"],[0.4444444444444444,\"#bd3786\"],[0.5555555555555556,\"#d8576b\"],[0.6666666666666666,\"#ed7953\"],[0.7777777777777778,\"#fb9f3a\"],[0.8888888888888888,\"#fdca26\"],[1.0,\"#f0f921\"]],\"sequentialminus\":[[0.0,\"#0d0887\"],[0.1111111111111111,\"#46039f\"],[0.2222222222222222,\"#7201a8\"],[0.3333333333333333,\"#9c179e\"],[0.4444444444444444,\"#bd3786\"],[0.5555555555555556,\"#d8576b\"],[0.6666666666666666,\"#ed7953\"],[0.7777777777777778,\"#fb9f3a\"],[0.8888888888888888,\"#fdca26\"],[1.0,\"#f0f921\"]],\"diverging\":[[0,\"#8e0152\"],[0.1,\"#c51b7d\"],[0.2,\"#de77ae\"],[0.3,\"#f1b6da\"],[0.4,\"#fde0ef\"],[0.5,\"#f7f7f7\"],[0.6,\"#e6f5d0\"],[0.7,\"#b8e186\"],[0.8,\"#7fbc41\"],[0.9,\"#4d9221\"],[1,\"#276419\"]]},\"xaxis\":{\"gridcolor\":\"white\",\"linecolor\":\"white\",\"ticks\":\"\",\"title\":{\"standoff\":15},\"zerolinecolor\":\"white\",\"automargin\":true,\"zerolinewidth\":2},\"yaxis\":{\"gridcolor\":\"white\",\"linecolor\":\"white\",\"ticks\":\"\",\"title\":{\"standoff\":15},\"zerolinecolor\":\"white\",\"automargin\":true,\"zerolinewidth\":2},\"scene\":{\"xaxis\":{\"backgroundcolor\":\"#E5ECF6\",\"gridcolor\":\"white\",\"linecolor\":\"white\",\"showbackground\":true,\"ticks\":\"\",\"zerolinecolor\":\"white\",\"gridwidth\":2},\"yaxis\":{\"backgroundcolor\":\"#E5ECF6\",\"gridcolor\":\"white\",\"linecolor\":\"white\",\"showbackground\":true,\"ticks\":\"\",\"zerolinecolor\":\"white\",\"gridwidth\":2},\"zaxis\":{\"backgroundcolor\":\"#E5ECF6\",\"gridcolor\":\"white\",\"linecolor\":\"white\",\"showbackground\":true,\"ticks\":\"\",\"zerolinecolor\":\"white\",\"gridwidth\":2}},\"shapedefaults\":{\"line\":{\"color\":\"#2a3f5f\"}},\"annotationdefaults\":{\"arrowcolor\":\"#2a3f5f\",\"arrowhead\":0,\"arrowwidth\":1},\"geo\":{\"bgcolor\":\"white\",\"landcolor\":\"#E5ECF6\",\"subunitcolor\":\"white\",\"showland\":true,\"showlakes\":true,\"lakecolor\":\"white\"},\"title\":{\"x\":0.05},\"mapbox\":{\"style\":\"light\"}}},\"xaxis\":{\"anchor\":\"y\",\"domain\":[0.0,1.0],\"title\":{\"text\":\"SP\"}},\"yaxis\":{\"anchor\":\"x\",\"domain\":[0.0,1.0],\"title\":{\"text\":\"Year\"}},\"legend\":{\"title\":{\"text\":\"Quarter\"},\"tracegroupgap\":0},\"margin\":{\"t\":60},\"barmode\":\"relative\"},                        {\"responsive\": true}                    ).then(function(){\n",
       "                            \n",
       "var gd = document.getElementById('817b7a31-0e91-432b-825b-af6ece5b5cf4');\n",
       "var x = new MutationObserver(function (mutations, observer) {{\n",
       "        var display = window.getComputedStyle(gd).display;\n",
       "        if (!display || display === 'none') {{\n",
       "            console.log([gd, 'removed!']);\n",
       "            Plotly.purge(gd);\n",
       "            observer.disconnect();\n",
       "        }}\n",
       "}});\n",
       "\n",
       "// Listen for the removal of the full notebook cells\n",
       "var notebookContainer = gd.closest('#notebook-container');\n",
       "if (notebookContainer) {{\n",
       "    x.observe(notebookContainer, {childList: true});\n",
       "}}\n",
       "\n",
       "// Listen for the clearing of the current output cell\n",
       "var outputEl = gd.closest('.output');\n",
       "if (outputEl) {{\n",
       "    x.observe(outputEl, {childList: true});\n",
       "}}\n",
       "\n",
       "                        })                };                });            </script>        </div>"
      ]
     },
     "metadata": {},
     "output_type": "display_data"
    }
   ],
   "source": [
    "px.bar(tt[tt['From Site'].str.contains('TCL')].groupby(['Year', 'Quarter']).sum('SP').reset_index(), x='SP', y='Year', color='Quarter', category_orders={'Quarter':['Q1', 'Q2', 'Q3', 'Q4']}, text='Quarter')"
   ]
  },
  {
   "cell_type": "code",
   "execution_count": 24,
   "id": "ab306d54",
   "metadata": {},
   "outputs": [
    {
     "data": {
      "application/vnd.plotly.v1+json": {
       "config": {
        "plotlyServerURL": "https://plot.ly"
       },
       "data": [
        {
         "alignmentgroup": "True",
         "hovertemplate": "Series=%{text}<br>SP=%{x}<br>Year=%{y}<extra></extra>",
         "legendgroup": "22MR410",
         "marker": {
          "color": "#636efa",
          "pattern": {
           "shape": ""
          }
         },
         "name": "22MR410",
         "offsetgroup": "22MR410",
         "orientation": "h",
         "showlegend": true,
         "text": [
          "22MR410",
          "22MR410"
         ],
         "textposition": "auto",
         "type": "bar",
         "x": [
          68192,
          212048
         ],
         "xaxis": "x",
         "y": [
          "2023",
          "2024"
         ],
         "yaxis": "y"
        },
        {
         "alignmentgroup": "True",
         "hovertemplate": "Series=%{text}<br>SP=%{x}<br>Year=%{y}<extra></extra>",
         "legendgroup": "22MR41A",
         "marker": {
          "color": "#EF553B",
          "pattern": {
           "shape": ""
          }
         },
         "name": "22MR41A",
         "offsetgroup": "22MR41A",
         "orientation": "h",
         "showlegend": true,
         "text": [
          "22MR41A",
          "22MR41A"
         ],
         "textposition": "auto",
         "type": "bar",
         "x": [
          840,
          2520
         ],
         "xaxis": "x",
         "y": [
          "2023",
          "2024"
         ],
         "yaxis": "y"
        },
        {
         "alignmentgroup": "True",
         "hovertemplate": "Series=%{text}<br>SP=%{x}<br>Year=%{y}<extra></extra>",
         "legendgroup": "22MR41S",
         "marker": {
          "color": "#00cc96",
          "pattern": {
           "shape": ""
          }
         },
         "name": "22MR41S",
         "offsetgroup": "22MR41S",
         "orientation": "h",
         "showlegend": true,
         "text": [
          "22MR41S",
          "22MR41S"
         ],
         "textposition": "auto",
         "type": "bar",
         "x": [
          840,
          3360
         ],
         "xaxis": "x",
         "y": [
          "2023",
          "2024"
         ],
         "yaxis": "y"
        },
        {
         "alignmentgroup": "True",
         "hovertemplate": "Series=%{text}<br>SP=%{x}<br>Year=%{y}<extra></extra>",
         "legendgroup": "24MR400",
         "marker": {
          "color": "#ab63fa",
          "pattern": {
           "shape": ""
          }
         },
         "name": "24MR400",
         "offsetgroup": "24MR400",
         "orientation": "h",
         "showlegend": true,
         "text": [
          "24MR400",
          "24MR400"
         ],
         "textposition": "auto",
         "type": "bar",
         "x": [
          43024,
          169432
         ],
         "xaxis": "x",
         "y": [
          "2023",
          "2024"
         ],
         "yaxis": "y"
        },
        {
         "alignmentgroup": "True",
         "hovertemplate": "Series=%{text}<br>SP=%{x}<br>Year=%{y}<extra></extra>",
         "legendgroup": "27MR400",
         "marker": {
          "color": "#FFA15A",
          "pattern": {
           "shape": ""
          }
         },
         "name": "27MR400",
         "offsetgroup": "27MR400",
         "orientation": "h",
         "showlegend": true,
         "text": [
          "27MR400",
          "27MR400"
         ],
         "textposition": "auto",
         "type": "bar",
         "x": [
          76690,
          220221
         ],
         "xaxis": "x",
         "y": [
          "2023",
          "2024"
         ],
         "yaxis": "y"
        },
        {
         "alignmentgroup": "True",
         "hovertemplate": "Series=%{text}<br>SP=%{x}<br>Year=%{y}<extra></extra>",
         "legendgroup": "27MR41A",
         "marker": {
          "color": "#19d3f3",
          "pattern": {
           "shape": ""
          }
         },
         "name": "27MR41A",
         "offsetgroup": "27MR41A",
         "orientation": "h",
         "showlegend": true,
         "text": [
          "27MR41A",
          "27MR41A"
         ],
         "textposition": "auto",
         "type": "bar",
         "x": [
          1280,
          5184
         ],
         "xaxis": "x",
         "y": [
          "2023",
          "2024"
         ],
         "yaxis": "y"
        },
        {
         "alignmentgroup": "True",
         "hovertemplate": "Series=%{text}<br>SP=%{x}<br>Year=%{y}<extra></extra>",
         "legendgroup": "27MR41S",
         "marker": {
          "color": "#FF6692",
          "pattern": {
           "shape": ""
          }
         },
         "name": "27MR41S",
         "offsetgroup": "27MR41S",
         "orientation": "h",
         "showlegend": true,
         "text": [
          "27MR41S",
          "27MR41S"
         ],
         "textposition": "auto",
         "type": "bar",
         "x": [
          1280,
          2372
         ],
         "xaxis": "x",
         "y": [
          "2023",
          "2024"
         ],
         "yaxis": "y"
        },
        {
         "alignmentgroup": "True",
         "hovertemplate": "Series=%{text}<br>SP=%{x}<br>Year=%{y}<extra></extra>",
         "legendgroup": "22BR410",
         "marker": {
          "color": "#B6E880",
          "pattern": {
           "shape": ""
          }
         },
         "name": "22BR410",
         "offsetgroup": "22BR410",
         "orientation": "h",
         "showlegend": true,
         "text": [
          "22BR410"
         ],
         "textposition": "auto",
         "type": "bar",
         "x": [
          1680
         ],
         "xaxis": "x",
         "y": [
          "2024"
         ],
         "yaxis": "y"
        },
        {
         "alignmentgroup": "True",
         "hovertemplate": "Series=%{text}<br>SP=%{x}<br>Year=%{y}<extra></extra>",
         "legendgroup": "22MS31W",
         "marker": {
          "color": "#FF97FF",
          "pattern": {
           "shape": ""
          }
         },
         "name": "22MS31W",
         "offsetgroup": "22MS31W",
         "orientation": "h",
         "showlegend": true,
         "text": [
          "22MS31W"
         ],
         "textposition": "auto",
         "type": "bar",
         "x": [
          2800
         ],
         "xaxis": "x",
         "y": [
          "2024"
         ],
         "yaxis": "y"
        },
        {
         "alignmentgroup": "True",
         "hovertemplate": "Series=%{text}<br>SP=%{x}<br>Year=%{y}<extra></extra>",
         "legendgroup": "27BR400",
         "marker": {
          "color": "#FECB52",
          "pattern": {
           "shape": ""
          }
         },
         "name": "27BR400",
         "offsetgroup": "27BR400",
         "orientation": "h",
         "showlegend": true,
         "text": [
          "27BR400"
         ],
         "textposition": "auto",
         "type": "bar",
         "x": [
          2048
         ],
         "xaxis": "x",
         "y": [
          "2024"
         ],
         "yaxis": "y"
        },
        {
         "alignmentgroup": "True",
         "hovertemplate": "Series=%{text}<br>SP=%{x}<br>Year=%{y}<extra></extra>",
         "legendgroup": "27MC41D",
         "marker": {
          "color": "#636efa",
          "pattern": {
           "shape": ""
          }
         },
         "name": "27MC41D",
         "offsetgroup": "27MC41D",
         "orientation": "h",
         "showlegend": true,
         "text": [
          "27MC41D"
         ],
         "textposition": "auto",
         "type": "bar",
         "x": [
          8804
         ],
         "xaxis": "x",
         "y": [
          "2024"
         ],
         "yaxis": "y"
        }
       ],
       "layout": {
        "barmode": "relative",
        "legend": {
         "title": {
          "text": "Series"
         },
         "tracegroupgap": 0
        },
        "margin": {
         "t": 60
        },
        "template": {
         "data": {
          "bar": [
           {
            "error_x": {
             "color": "#2a3f5f"
            },
            "error_y": {
             "color": "#2a3f5f"
            },
            "marker": {
             "line": {
              "color": "#E5ECF6",
              "width": 0.5
             },
             "pattern": {
              "fillmode": "overlay",
              "size": 10,
              "solidity": 0.2
             }
            },
            "type": "bar"
           }
          ],
          "barpolar": [
           {
            "marker": {
             "line": {
              "color": "#E5ECF6",
              "width": 0.5
             },
             "pattern": {
              "fillmode": "overlay",
              "size": 10,
              "solidity": 0.2
             }
            },
            "type": "barpolar"
           }
          ],
          "carpet": [
           {
            "aaxis": {
             "endlinecolor": "#2a3f5f",
             "gridcolor": "white",
             "linecolor": "white",
             "minorgridcolor": "white",
             "startlinecolor": "#2a3f5f"
            },
            "baxis": {
             "endlinecolor": "#2a3f5f",
             "gridcolor": "white",
             "linecolor": "white",
             "minorgridcolor": "white",
             "startlinecolor": "#2a3f5f"
            },
            "type": "carpet"
           }
          ],
          "choropleth": [
           {
            "colorbar": {
             "outlinewidth": 0,
             "ticks": ""
            },
            "type": "choropleth"
           }
          ],
          "contour": [
           {
            "colorbar": {
             "outlinewidth": 0,
             "ticks": ""
            },
            "colorscale": [
             [
              0,
              "#0d0887"
             ],
             [
              0.1111111111111111,
              "#46039f"
             ],
             [
              0.2222222222222222,
              "#7201a8"
             ],
             [
              0.3333333333333333,
              "#9c179e"
             ],
             [
              0.4444444444444444,
              "#bd3786"
             ],
             [
              0.5555555555555556,
              "#d8576b"
             ],
             [
              0.6666666666666666,
              "#ed7953"
             ],
             [
              0.7777777777777778,
              "#fb9f3a"
             ],
             [
              0.8888888888888888,
              "#fdca26"
             ],
             [
              1,
              "#f0f921"
             ]
            ],
            "type": "contour"
           }
          ],
          "contourcarpet": [
           {
            "colorbar": {
             "outlinewidth": 0,
             "ticks": ""
            },
            "type": "contourcarpet"
           }
          ],
          "heatmap": [
           {
            "colorbar": {
             "outlinewidth": 0,
             "ticks": ""
            },
            "colorscale": [
             [
              0,
              "#0d0887"
             ],
             [
              0.1111111111111111,
              "#46039f"
             ],
             [
              0.2222222222222222,
              "#7201a8"
             ],
             [
              0.3333333333333333,
              "#9c179e"
             ],
             [
              0.4444444444444444,
              "#bd3786"
             ],
             [
              0.5555555555555556,
              "#d8576b"
             ],
             [
              0.6666666666666666,
              "#ed7953"
             ],
             [
              0.7777777777777778,
              "#fb9f3a"
             ],
             [
              0.8888888888888888,
              "#fdca26"
             ],
             [
              1,
              "#f0f921"
             ]
            ],
            "type": "heatmap"
           }
          ],
          "heatmapgl": [
           {
            "colorbar": {
             "outlinewidth": 0,
             "ticks": ""
            },
            "colorscale": [
             [
              0,
              "#0d0887"
             ],
             [
              0.1111111111111111,
              "#46039f"
             ],
             [
              0.2222222222222222,
              "#7201a8"
             ],
             [
              0.3333333333333333,
              "#9c179e"
             ],
             [
              0.4444444444444444,
              "#bd3786"
             ],
             [
              0.5555555555555556,
              "#d8576b"
             ],
             [
              0.6666666666666666,
              "#ed7953"
             ],
             [
              0.7777777777777778,
              "#fb9f3a"
             ],
             [
              0.8888888888888888,
              "#fdca26"
             ],
             [
              1,
              "#f0f921"
             ]
            ],
            "type": "heatmapgl"
           }
          ],
          "histogram": [
           {
            "marker": {
             "pattern": {
              "fillmode": "overlay",
              "size": 10,
              "solidity": 0.2
             }
            },
            "type": "histogram"
           }
          ],
          "histogram2d": [
           {
            "colorbar": {
             "outlinewidth": 0,
             "ticks": ""
            },
            "colorscale": [
             [
              0,
              "#0d0887"
             ],
             [
              0.1111111111111111,
              "#46039f"
             ],
             [
              0.2222222222222222,
              "#7201a8"
             ],
             [
              0.3333333333333333,
              "#9c179e"
             ],
             [
              0.4444444444444444,
              "#bd3786"
             ],
             [
              0.5555555555555556,
              "#d8576b"
             ],
             [
              0.6666666666666666,
              "#ed7953"
             ],
             [
              0.7777777777777778,
              "#fb9f3a"
             ],
             [
              0.8888888888888888,
              "#fdca26"
             ],
             [
              1,
              "#f0f921"
             ]
            ],
            "type": "histogram2d"
           }
          ],
          "histogram2dcontour": [
           {
            "colorbar": {
             "outlinewidth": 0,
             "ticks": ""
            },
            "colorscale": [
             [
              0,
              "#0d0887"
             ],
             [
              0.1111111111111111,
              "#46039f"
             ],
             [
              0.2222222222222222,
              "#7201a8"
             ],
             [
              0.3333333333333333,
              "#9c179e"
             ],
             [
              0.4444444444444444,
              "#bd3786"
             ],
             [
              0.5555555555555556,
              "#d8576b"
             ],
             [
              0.6666666666666666,
              "#ed7953"
             ],
             [
              0.7777777777777778,
              "#fb9f3a"
             ],
             [
              0.8888888888888888,
              "#fdca26"
             ],
             [
              1,
              "#f0f921"
             ]
            ],
            "type": "histogram2dcontour"
           }
          ],
          "mesh3d": [
           {
            "colorbar": {
             "outlinewidth": 0,
             "ticks": ""
            },
            "type": "mesh3d"
           }
          ],
          "parcoords": [
           {
            "line": {
             "colorbar": {
              "outlinewidth": 0,
              "ticks": ""
             }
            },
            "type": "parcoords"
           }
          ],
          "pie": [
           {
            "automargin": true,
            "type": "pie"
           }
          ],
          "scatter": [
           {
            "fillpattern": {
             "fillmode": "overlay",
             "size": 10,
             "solidity": 0.2
            },
            "type": "scatter"
           }
          ],
          "scatter3d": [
           {
            "line": {
             "colorbar": {
              "outlinewidth": 0,
              "ticks": ""
             }
            },
            "marker": {
             "colorbar": {
              "outlinewidth": 0,
              "ticks": ""
             }
            },
            "type": "scatter3d"
           }
          ],
          "scattercarpet": [
           {
            "marker": {
             "colorbar": {
              "outlinewidth": 0,
              "ticks": ""
             }
            },
            "type": "scattercarpet"
           }
          ],
          "scattergeo": [
           {
            "marker": {
             "colorbar": {
              "outlinewidth": 0,
              "ticks": ""
             }
            },
            "type": "scattergeo"
           }
          ],
          "scattergl": [
           {
            "marker": {
             "colorbar": {
              "outlinewidth": 0,
              "ticks": ""
             }
            },
            "type": "scattergl"
           }
          ],
          "scattermapbox": [
           {
            "marker": {
             "colorbar": {
              "outlinewidth": 0,
              "ticks": ""
             }
            },
            "type": "scattermapbox"
           }
          ],
          "scatterpolar": [
           {
            "marker": {
             "colorbar": {
              "outlinewidth": 0,
              "ticks": ""
             }
            },
            "type": "scatterpolar"
           }
          ],
          "scatterpolargl": [
           {
            "marker": {
             "colorbar": {
              "outlinewidth": 0,
              "ticks": ""
             }
            },
            "type": "scatterpolargl"
           }
          ],
          "scatterternary": [
           {
            "marker": {
             "colorbar": {
              "outlinewidth": 0,
              "ticks": ""
             }
            },
            "type": "scatterternary"
           }
          ],
          "surface": [
           {
            "colorbar": {
             "outlinewidth": 0,
             "ticks": ""
            },
            "colorscale": [
             [
              0,
              "#0d0887"
             ],
             [
              0.1111111111111111,
              "#46039f"
             ],
             [
              0.2222222222222222,
              "#7201a8"
             ],
             [
              0.3333333333333333,
              "#9c179e"
             ],
             [
              0.4444444444444444,
              "#bd3786"
             ],
             [
              0.5555555555555556,
              "#d8576b"
             ],
             [
              0.6666666666666666,
              "#ed7953"
             ],
             [
              0.7777777777777778,
              "#fb9f3a"
             ],
             [
              0.8888888888888888,
              "#fdca26"
             ],
             [
              1,
              "#f0f921"
             ]
            ],
            "type": "surface"
           }
          ],
          "table": [
           {
            "cells": {
             "fill": {
              "color": "#EBF0F8"
             },
             "line": {
              "color": "white"
             }
            },
            "header": {
             "fill": {
              "color": "#C8D4E3"
             },
             "line": {
              "color": "white"
             }
            },
            "type": "table"
           }
          ]
         },
         "layout": {
          "annotationdefaults": {
           "arrowcolor": "#2a3f5f",
           "arrowhead": 0,
           "arrowwidth": 1
          },
          "autotypenumbers": "strict",
          "coloraxis": {
           "colorbar": {
            "outlinewidth": 0,
            "ticks": ""
           }
          },
          "colorscale": {
           "diverging": [
            [
             0,
             "#8e0152"
            ],
            [
             0.1,
             "#c51b7d"
            ],
            [
             0.2,
             "#de77ae"
            ],
            [
             0.3,
             "#f1b6da"
            ],
            [
             0.4,
             "#fde0ef"
            ],
            [
             0.5,
             "#f7f7f7"
            ],
            [
             0.6,
             "#e6f5d0"
            ],
            [
             0.7,
             "#b8e186"
            ],
            [
             0.8,
             "#7fbc41"
            ],
            [
             0.9,
             "#4d9221"
            ],
            [
             1,
             "#276419"
            ]
           ],
           "sequential": [
            [
             0,
             "#0d0887"
            ],
            [
             0.1111111111111111,
             "#46039f"
            ],
            [
             0.2222222222222222,
             "#7201a8"
            ],
            [
             0.3333333333333333,
             "#9c179e"
            ],
            [
             0.4444444444444444,
             "#bd3786"
            ],
            [
             0.5555555555555556,
             "#d8576b"
            ],
            [
             0.6666666666666666,
             "#ed7953"
            ],
            [
             0.7777777777777778,
             "#fb9f3a"
            ],
            [
             0.8888888888888888,
             "#fdca26"
            ],
            [
             1,
             "#f0f921"
            ]
           ],
           "sequentialminus": [
            [
             0,
             "#0d0887"
            ],
            [
             0.1111111111111111,
             "#46039f"
            ],
            [
             0.2222222222222222,
             "#7201a8"
            ],
            [
             0.3333333333333333,
             "#9c179e"
            ],
            [
             0.4444444444444444,
             "#bd3786"
            ],
            [
             0.5555555555555556,
             "#d8576b"
            ],
            [
             0.6666666666666666,
             "#ed7953"
            ],
            [
             0.7777777777777778,
             "#fb9f3a"
            ],
            [
             0.8888888888888888,
             "#fdca26"
            ],
            [
             1,
             "#f0f921"
            ]
           ]
          },
          "colorway": [
           "#636efa",
           "#EF553B",
           "#00cc96",
           "#ab63fa",
           "#FFA15A",
           "#19d3f3",
           "#FF6692",
           "#B6E880",
           "#FF97FF",
           "#FECB52"
          ],
          "font": {
           "color": "#2a3f5f"
          },
          "geo": {
           "bgcolor": "white",
           "lakecolor": "white",
           "landcolor": "#E5ECF6",
           "showlakes": true,
           "showland": true,
           "subunitcolor": "white"
          },
          "hoverlabel": {
           "align": "left"
          },
          "hovermode": "closest",
          "mapbox": {
           "style": "light"
          },
          "paper_bgcolor": "white",
          "plot_bgcolor": "#E5ECF6",
          "polar": {
           "angularaxis": {
            "gridcolor": "white",
            "linecolor": "white",
            "ticks": ""
           },
           "bgcolor": "#E5ECF6",
           "radialaxis": {
            "gridcolor": "white",
            "linecolor": "white",
            "ticks": ""
           }
          },
          "scene": {
           "xaxis": {
            "backgroundcolor": "#E5ECF6",
            "gridcolor": "white",
            "gridwidth": 2,
            "linecolor": "white",
            "showbackground": true,
            "ticks": "",
            "zerolinecolor": "white"
           },
           "yaxis": {
            "backgroundcolor": "#E5ECF6",
            "gridcolor": "white",
            "gridwidth": 2,
            "linecolor": "white",
            "showbackground": true,
            "ticks": "",
            "zerolinecolor": "white"
           },
           "zaxis": {
            "backgroundcolor": "#E5ECF6",
            "gridcolor": "white",
            "gridwidth": 2,
            "linecolor": "white",
            "showbackground": true,
            "ticks": "",
            "zerolinecolor": "white"
           }
          },
          "shapedefaults": {
           "line": {
            "color": "#2a3f5f"
           }
          },
          "ternary": {
           "aaxis": {
            "gridcolor": "white",
            "linecolor": "white",
            "ticks": ""
           },
           "baxis": {
            "gridcolor": "white",
            "linecolor": "white",
            "ticks": ""
           },
           "bgcolor": "#E5ECF6",
           "caxis": {
            "gridcolor": "white",
            "linecolor": "white",
            "ticks": ""
           }
          },
          "title": {
           "x": 0.05
          },
          "xaxis": {
           "automargin": true,
           "gridcolor": "white",
           "linecolor": "white",
           "ticks": "",
           "title": {
            "standoff": 15
           },
           "zerolinecolor": "white",
           "zerolinewidth": 2
          },
          "yaxis": {
           "automargin": true,
           "gridcolor": "white",
           "linecolor": "white",
           "ticks": "",
           "title": {
            "standoff": 15
           },
           "zerolinecolor": "white",
           "zerolinewidth": 2
          }
         }
        },
        "xaxis": {
         "anchor": "y",
         "domain": [
          0,
          1
         ],
         "title": {
          "text": "SP"
         }
        },
        "yaxis": {
         "anchor": "x",
         "categoryarray": [
          "2024",
          "2023"
         ],
         "categoryorder": "array",
         "domain": [
          0,
          1
         ],
         "title": {
          "text": "Year"
         }
        }
       }
      },
      "text/html": [
       "<div>                            <div id=\"06f0443f-4d3c-4201-92e1-13f3213b0931\" class=\"plotly-graph-div\" style=\"height:525px; width:100%;\"></div>            <script type=\"text/javascript\">                require([\"plotly\"], function(Plotly) {                    window.PLOTLYENV=window.PLOTLYENV || {};                                    if (document.getElementById(\"06f0443f-4d3c-4201-92e1-13f3213b0931\")) {                    Plotly.newPlot(                        \"06f0443f-4d3c-4201-92e1-13f3213b0931\",                        [{\"alignmentgroup\":\"True\",\"hovertemplate\":\"Series=%{text}<br>SP=%{x}<br>Year=%{y}<extra></extra>\",\"legendgroup\":\"22MR410\",\"marker\":{\"color\":\"#636efa\",\"pattern\":{\"shape\":\"\"}},\"name\":\"22MR410\",\"offsetgroup\":\"22MR410\",\"orientation\":\"h\",\"showlegend\":true,\"text\":[\"22MR410\",\"22MR410\"],\"textposition\":\"auto\",\"x\":[68192.0,212048.0],\"xaxis\":\"x\",\"y\":[\"2023\",\"2024\"],\"yaxis\":\"y\",\"type\":\"bar\"},{\"alignmentgroup\":\"True\",\"hovertemplate\":\"Series=%{text}<br>SP=%{x}<br>Year=%{y}<extra></extra>\",\"legendgroup\":\"22MR41A\",\"marker\":{\"color\":\"#EF553B\",\"pattern\":{\"shape\":\"\"}},\"name\":\"22MR41A\",\"offsetgroup\":\"22MR41A\",\"orientation\":\"h\",\"showlegend\":true,\"text\":[\"22MR41A\",\"22MR41A\"],\"textposition\":\"auto\",\"x\":[840.0,2520.0],\"xaxis\":\"x\",\"y\":[\"2023\",\"2024\"],\"yaxis\":\"y\",\"type\":\"bar\"},{\"alignmentgroup\":\"True\",\"hovertemplate\":\"Series=%{text}<br>SP=%{x}<br>Year=%{y}<extra></extra>\",\"legendgroup\":\"22MR41S\",\"marker\":{\"color\":\"#00cc96\",\"pattern\":{\"shape\":\"\"}},\"name\":\"22MR41S\",\"offsetgroup\":\"22MR41S\",\"orientation\":\"h\",\"showlegend\":true,\"text\":[\"22MR41S\",\"22MR41S\"],\"textposition\":\"auto\",\"x\":[840.0,3360.0],\"xaxis\":\"x\",\"y\":[\"2023\",\"2024\"],\"yaxis\":\"y\",\"type\":\"bar\"},{\"alignmentgroup\":\"True\",\"hovertemplate\":\"Series=%{text}<br>SP=%{x}<br>Year=%{y}<extra></extra>\",\"legendgroup\":\"24MR400\",\"marker\":{\"color\":\"#ab63fa\",\"pattern\":{\"shape\":\"\"}},\"name\":\"24MR400\",\"offsetgroup\":\"24MR400\",\"orientation\":\"h\",\"showlegend\":true,\"text\":[\"24MR400\",\"24MR400\"],\"textposition\":\"auto\",\"x\":[43024.0,169432.0],\"xaxis\":\"x\",\"y\":[\"2023\",\"2024\"],\"yaxis\":\"y\",\"type\":\"bar\"},{\"alignmentgroup\":\"True\",\"hovertemplate\":\"Series=%{text}<br>SP=%{x}<br>Year=%{y}<extra></extra>\",\"legendgroup\":\"27MR400\",\"marker\":{\"color\":\"#FFA15A\",\"pattern\":{\"shape\":\"\"}},\"name\":\"27MR400\",\"offsetgroup\":\"27MR400\",\"orientation\":\"h\",\"showlegend\":true,\"text\":[\"27MR400\",\"27MR400\"],\"textposition\":\"auto\",\"x\":[76690.0,220221.0],\"xaxis\":\"x\",\"y\":[\"2023\",\"2024\"],\"yaxis\":\"y\",\"type\":\"bar\"},{\"alignmentgroup\":\"True\",\"hovertemplate\":\"Series=%{text}<br>SP=%{x}<br>Year=%{y}<extra></extra>\",\"legendgroup\":\"27MR41A\",\"marker\":{\"color\":\"#19d3f3\",\"pattern\":{\"shape\":\"\"}},\"name\":\"27MR41A\",\"offsetgroup\":\"27MR41A\",\"orientation\":\"h\",\"showlegend\":true,\"text\":[\"27MR41A\",\"27MR41A\"],\"textposition\":\"auto\",\"x\":[1280.0,5184.0],\"xaxis\":\"x\",\"y\":[\"2023\",\"2024\"],\"yaxis\":\"y\",\"type\":\"bar\"},{\"alignmentgroup\":\"True\",\"hovertemplate\":\"Series=%{text}<br>SP=%{x}<br>Year=%{y}<extra></extra>\",\"legendgroup\":\"27MR41S\",\"marker\":{\"color\":\"#FF6692\",\"pattern\":{\"shape\":\"\"}},\"name\":\"27MR41S\",\"offsetgroup\":\"27MR41S\",\"orientation\":\"h\",\"showlegend\":true,\"text\":[\"27MR41S\",\"27MR41S\"],\"textposition\":\"auto\",\"x\":[1280.0,2372.0],\"xaxis\":\"x\",\"y\":[\"2023\",\"2024\"],\"yaxis\":\"y\",\"type\":\"bar\"},{\"alignmentgroup\":\"True\",\"hovertemplate\":\"Series=%{text}<br>SP=%{x}<br>Year=%{y}<extra></extra>\",\"legendgroup\":\"22BR410\",\"marker\":{\"color\":\"#B6E880\",\"pattern\":{\"shape\":\"\"}},\"name\":\"22BR410\",\"offsetgroup\":\"22BR410\",\"orientation\":\"h\",\"showlegend\":true,\"text\":[\"22BR410\"],\"textposition\":\"auto\",\"x\":[1680.0],\"xaxis\":\"x\",\"y\":[\"2024\"],\"yaxis\":\"y\",\"type\":\"bar\"},{\"alignmentgroup\":\"True\",\"hovertemplate\":\"Series=%{text}<br>SP=%{x}<br>Year=%{y}<extra></extra>\",\"legendgroup\":\"22MS31W\",\"marker\":{\"color\":\"#FF97FF\",\"pattern\":{\"shape\":\"\"}},\"name\":\"22MS31W\",\"offsetgroup\":\"22MS31W\",\"orientation\":\"h\",\"showlegend\":true,\"text\":[\"22MS31W\"],\"textposition\":\"auto\",\"x\":[2800.0],\"xaxis\":\"x\",\"y\":[\"2024\"],\"yaxis\":\"y\",\"type\":\"bar\"},{\"alignmentgroup\":\"True\",\"hovertemplate\":\"Series=%{text}<br>SP=%{x}<br>Year=%{y}<extra></extra>\",\"legendgroup\":\"27BR400\",\"marker\":{\"color\":\"#FECB52\",\"pattern\":{\"shape\":\"\"}},\"name\":\"27BR400\",\"offsetgroup\":\"27BR400\",\"orientation\":\"h\",\"showlegend\":true,\"text\":[\"27BR400\"],\"textposition\":\"auto\",\"x\":[2048.0],\"xaxis\":\"x\",\"y\":[\"2024\"],\"yaxis\":\"y\",\"type\":\"bar\"},{\"alignmentgroup\":\"True\",\"hovertemplate\":\"Series=%{text}<br>SP=%{x}<br>Year=%{y}<extra></extra>\",\"legendgroup\":\"27MC41D\",\"marker\":{\"color\":\"#636efa\",\"pattern\":{\"shape\":\"\"}},\"name\":\"27MC41D\",\"offsetgroup\":\"27MC41D\",\"orientation\":\"h\",\"showlegend\":true,\"text\":[\"27MC41D\"],\"textposition\":\"auto\",\"x\":[8804.0],\"xaxis\":\"x\",\"y\":[\"2024\"],\"yaxis\":\"y\",\"type\":\"bar\"}],                        {\"template\":{\"data\":{\"histogram2dcontour\":[{\"type\":\"histogram2dcontour\",\"colorbar\":{\"outlinewidth\":0,\"ticks\":\"\"},\"colorscale\":[[0.0,\"#0d0887\"],[0.1111111111111111,\"#46039f\"],[0.2222222222222222,\"#7201a8\"],[0.3333333333333333,\"#9c179e\"],[0.4444444444444444,\"#bd3786\"],[0.5555555555555556,\"#d8576b\"],[0.6666666666666666,\"#ed7953\"],[0.7777777777777778,\"#fb9f3a\"],[0.8888888888888888,\"#fdca26\"],[1.0,\"#f0f921\"]]}],\"choropleth\":[{\"type\":\"choropleth\",\"colorbar\":{\"outlinewidth\":0,\"ticks\":\"\"}}],\"histogram2d\":[{\"type\":\"histogram2d\",\"colorbar\":{\"outlinewidth\":0,\"ticks\":\"\"},\"colorscale\":[[0.0,\"#0d0887\"],[0.1111111111111111,\"#46039f\"],[0.2222222222222222,\"#7201a8\"],[0.3333333333333333,\"#9c179e\"],[0.4444444444444444,\"#bd3786\"],[0.5555555555555556,\"#d8576b\"],[0.6666666666666666,\"#ed7953\"],[0.7777777777777778,\"#fb9f3a\"],[0.8888888888888888,\"#fdca26\"],[1.0,\"#f0f921\"]]}],\"heatmap\":[{\"type\":\"heatmap\",\"colorbar\":{\"outlinewidth\":0,\"ticks\":\"\"},\"colorscale\":[[0.0,\"#0d0887\"],[0.1111111111111111,\"#46039f\"],[0.2222222222222222,\"#7201a8\"],[0.3333333333333333,\"#9c179e\"],[0.4444444444444444,\"#bd3786\"],[0.5555555555555556,\"#d8576b\"],[0.6666666666666666,\"#ed7953\"],[0.7777777777777778,\"#fb9f3a\"],[0.8888888888888888,\"#fdca26\"],[1.0,\"#f0f921\"]]}],\"heatmapgl\":[{\"type\":\"heatmapgl\",\"colorbar\":{\"outlinewidth\":0,\"ticks\":\"\"},\"colorscale\":[[0.0,\"#0d0887\"],[0.1111111111111111,\"#46039f\"],[0.2222222222222222,\"#7201a8\"],[0.3333333333333333,\"#9c179e\"],[0.4444444444444444,\"#bd3786\"],[0.5555555555555556,\"#d8576b\"],[0.6666666666666666,\"#ed7953\"],[0.7777777777777778,\"#fb9f3a\"],[0.8888888888888888,\"#fdca26\"],[1.0,\"#f0f921\"]]}],\"contourcarpet\":[{\"type\":\"contourcarpet\",\"colorbar\":{\"outlinewidth\":0,\"ticks\":\"\"}}],\"contour\":[{\"type\":\"contour\",\"colorbar\":{\"outlinewidth\":0,\"ticks\":\"\"},\"colorscale\":[[0.0,\"#0d0887\"],[0.1111111111111111,\"#46039f\"],[0.2222222222222222,\"#7201a8\"],[0.3333333333333333,\"#9c179e\"],[0.4444444444444444,\"#bd3786\"],[0.5555555555555556,\"#d8576b\"],[0.6666666666666666,\"#ed7953\"],[0.7777777777777778,\"#fb9f3a\"],[0.8888888888888888,\"#fdca26\"],[1.0,\"#f0f921\"]]}],\"surface\":[{\"type\":\"surface\",\"colorbar\":{\"outlinewidth\":0,\"ticks\":\"\"},\"colorscale\":[[0.0,\"#0d0887\"],[0.1111111111111111,\"#46039f\"],[0.2222222222222222,\"#7201a8\"],[0.3333333333333333,\"#9c179e\"],[0.4444444444444444,\"#bd3786\"],[0.5555555555555556,\"#d8576b\"],[0.6666666666666666,\"#ed7953\"],[0.7777777777777778,\"#fb9f3a\"],[0.8888888888888888,\"#fdca26\"],[1.0,\"#f0f921\"]]}],\"mesh3d\":[{\"type\":\"mesh3d\",\"colorbar\":{\"outlinewidth\":0,\"ticks\":\"\"}}],\"scatter\":[{\"fillpattern\":{\"fillmode\":\"overlay\",\"size\":10,\"solidity\":0.2},\"type\":\"scatter\"}],\"parcoords\":[{\"type\":\"parcoords\",\"line\":{\"colorbar\":{\"outlinewidth\":0,\"ticks\":\"\"}}}],\"scatterpolargl\":[{\"type\":\"scatterpolargl\",\"marker\":{\"colorbar\":{\"outlinewidth\":0,\"ticks\":\"\"}}}],\"bar\":[{\"error_x\":{\"color\":\"#2a3f5f\"},\"error_y\":{\"color\":\"#2a3f5f\"},\"marker\":{\"line\":{\"color\":\"#E5ECF6\",\"width\":0.5},\"pattern\":{\"fillmode\":\"overlay\",\"size\":10,\"solidity\":0.2}},\"type\":\"bar\"}],\"scattergeo\":[{\"type\":\"scattergeo\",\"marker\":{\"colorbar\":{\"outlinewidth\":0,\"ticks\":\"\"}}}],\"scatterpolar\":[{\"type\":\"scatterpolar\",\"marker\":{\"colorbar\":{\"outlinewidth\":0,\"ticks\":\"\"}}}],\"histogram\":[{\"marker\":{\"pattern\":{\"fillmode\":\"overlay\",\"size\":10,\"solidity\":0.2}},\"type\":\"histogram\"}],\"scattergl\":[{\"type\":\"scattergl\",\"marker\":{\"colorbar\":{\"outlinewidth\":0,\"ticks\":\"\"}}}],\"scatter3d\":[{\"type\":\"scatter3d\",\"line\":{\"colorbar\":{\"outlinewidth\":0,\"ticks\":\"\"}},\"marker\":{\"colorbar\":{\"outlinewidth\":0,\"ticks\":\"\"}}}],\"scattermapbox\":[{\"type\":\"scattermapbox\",\"marker\":{\"colorbar\":{\"outlinewidth\":0,\"ticks\":\"\"}}}],\"scatterternary\":[{\"type\":\"scatterternary\",\"marker\":{\"colorbar\":{\"outlinewidth\":0,\"ticks\":\"\"}}}],\"scattercarpet\":[{\"type\":\"scattercarpet\",\"marker\":{\"colorbar\":{\"outlinewidth\":0,\"ticks\":\"\"}}}],\"carpet\":[{\"aaxis\":{\"endlinecolor\":\"#2a3f5f\",\"gridcolor\":\"white\",\"linecolor\":\"white\",\"minorgridcolor\":\"white\",\"startlinecolor\":\"#2a3f5f\"},\"baxis\":{\"endlinecolor\":\"#2a3f5f\",\"gridcolor\":\"white\",\"linecolor\":\"white\",\"minorgridcolor\":\"white\",\"startlinecolor\":\"#2a3f5f\"},\"type\":\"carpet\"}],\"table\":[{\"cells\":{\"fill\":{\"color\":\"#EBF0F8\"},\"line\":{\"color\":\"white\"}},\"header\":{\"fill\":{\"color\":\"#C8D4E3\"},\"line\":{\"color\":\"white\"}},\"type\":\"table\"}],\"barpolar\":[{\"marker\":{\"line\":{\"color\":\"#E5ECF6\",\"width\":0.5},\"pattern\":{\"fillmode\":\"overlay\",\"size\":10,\"solidity\":0.2}},\"type\":\"barpolar\"}],\"pie\":[{\"automargin\":true,\"type\":\"pie\"}]},\"layout\":{\"autotypenumbers\":\"strict\",\"colorway\":[\"#636efa\",\"#EF553B\",\"#00cc96\",\"#ab63fa\",\"#FFA15A\",\"#19d3f3\",\"#FF6692\",\"#B6E880\",\"#FF97FF\",\"#FECB52\"],\"font\":{\"color\":\"#2a3f5f\"},\"hovermode\":\"closest\",\"hoverlabel\":{\"align\":\"left\"},\"paper_bgcolor\":\"white\",\"plot_bgcolor\":\"#E5ECF6\",\"polar\":{\"bgcolor\":\"#E5ECF6\",\"angularaxis\":{\"gridcolor\":\"white\",\"linecolor\":\"white\",\"ticks\":\"\"},\"radialaxis\":{\"gridcolor\":\"white\",\"linecolor\":\"white\",\"ticks\":\"\"}},\"ternary\":{\"bgcolor\":\"#E5ECF6\",\"aaxis\":{\"gridcolor\":\"white\",\"linecolor\":\"white\",\"ticks\":\"\"},\"baxis\":{\"gridcolor\":\"white\",\"linecolor\":\"white\",\"ticks\":\"\"},\"caxis\":{\"gridcolor\":\"white\",\"linecolor\":\"white\",\"ticks\":\"\"}},\"coloraxis\":{\"colorbar\":{\"outlinewidth\":0,\"ticks\":\"\"}},\"colorscale\":{\"sequential\":[[0.0,\"#0d0887\"],[0.1111111111111111,\"#46039f\"],[0.2222222222222222,\"#7201a8\"],[0.3333333333333333,\"#9c179e\"],[0.4444444444444444,\"#bd3786\"],[0.5555555555555556,\"#d8576b\"],[0.6666666666666666,\"#ed7953\"],[0.7777777777777778,\"#fb9f3a\"],[0.8888888888888888,\"#fdca26\"],[1.0,\"#f0f921\"]],\"sequentialminus\":[[0.0,\"#0d0887\"],[0.1111111111111111,\"#46039f\"],[0.2222222222222222,\"#7201a8\"],[0.3333333333333333,\"#9c179e\"],[0.4444444444444444,\"#bd3786\"],[0.5555555555555556,\"#d8576b\"],[0.6666666666666666,\"#ed7953\"],[0.7777777777777778,\"#fb9f3a\"],[0.8888888888888888,\"#fdca26\"],[1.0,\"#f0f921\"]],\"diverging\":[[0,\"#8e0152\"],[0.1,\"#c51b7d\"],[0.2,\"#de77ae\"],[0.3,\"#f1b6da\"],[0.4,\"#fde0ef\"],[0.5,\"#f7f7f7\"],[0.6,\"#e6f5d0\"],[0.7,\"#b8e186\"],[0.8,\"#7fbc41\"],[0.9,\"#4d9221\"],[1,\"#276419\"]]},\"xaxis\":{\"gridcolor\":\"white\",\"linecolor\":\"white\",\"ticks\":\"\",\"title\":{\"standoff\":15},\"zerolinecolor\":\"white\",\"automargin\":true,\"zerolinewidth\":2},\"yaxis\":{\"gridcolor\":\"white\",\"linecolor\":\"white\",\"ticks\":\"\",\"title\":{\"standoff\":15},\"zerolinecolor\":\"white\",\"automargin\":true,\"zerolinewidth\":2},\"scene\":{\"xaxis\":{\"backgroundcolor\":\"#E5ECF6\",\"gridcolor\":\"white\",\"linecolor\":\"white\",\"showbackground\":true,\"ticks\":\"\",\"zerolinecolor\":\"white\",\"gridwidth\":2},\"yaxis\":{\"backgroundcolor\":\"#E5ECF6\",\"gridcolor\":\"white\",\"linecolor\":\"white\",\"showbackground\":true,\"ticks\":\"\",\"zerolinecolor\":\"white\",\"gridwidth\":2},\"zaxis\":{\"backgroundcolor\":\"#E5ECF6\",\"gridcolor\":\"white\",\"linecolor\":\"white\",\"showbackground\":true,\"ticks\":\"\",\"zerolinecolor\":\"white\",\"gridwidth\":2}},\"shapedefaults\":{\"line\":{\"color\":\"#2a3f5f\"}},\"annotationdefaults\":{\"arrowcolor\":\"#2a3f5f\",\"arrowhead\":0,\"arrowwidth\":1},\"geo\":{\"bgcolor\":\"white\",\"landcolor\":\"#E5ECF6\",\"subunitcolor\":\"white\",\"showland\":true,\"showlakes\":true,\"lakecolor\":\"white\"},\"title\":{\"x\":0.05},\"mapbox\":{\"style\":\"light\"}}},\"xaxis\":{\"anchor\":\"y\",\"domain\":[0.0,1.0],\"title\":{\"text\":\"SP\"}},\"yaxis\":{\"anchor\":\"x\",\"domain\":[0.0,1.0],\"title\":{\"text\":\"Year\"},\"categoryorder\":\"array\",\"categoryarray\":[\"2024\",\"2023\"]},\"legend\":{\"title\":{\"text\":\"Series\"},\"tracegroupgap\":0},\"margin\":{\"t\":60},\"barmode\":\"relative\"},                        {\"responsive\": true}                    ).then(function(){\n",
       "                            \n",
       "var gd = document.getElementById('06f0443f-4d3c-4201-92e1-13f3213b0931');\n",
       "var x = new MutationObserver(function (mutations, observer) {{\n",
       "        var display = window.getComputedStyle(gd).display;\n",
       "        if (!display || display === 'none') {{\n",
       "            console.log([gd, 'removed!']);\n",
       "            Plotly.purge(gd);\n",
       "            observer.disconnect();\n",
       "        }}\n",
       "}});\n",
       "\n",
       "// Listen for the removal of the full notebook cells\n",
       "var notebookContainer = gd.closest('#notebook-container');\n",
       "if (notebookContainer) {{\n",
       "    x.observe(notebookContainer, {childList: true});\n",
       "}}\n",
       "\n",
       "// Listen for the clearing of the current output cell\n",
       "var outputEl = gd.closest('.output');\n",
       "if (outputEl) {{\n",
       "    x.observe(outputEl, {childList: true});\n",
       "}}\n",
       "\n",
       "                        })                };                });            </script>        </div>"
      ]
     },
     "metadata": {},
     "output_type": "display_data"
    }
   ],
   "source": [
    "px.bar(tt[tt['From Site'].str.contains('TCL')].groupby(['Year', 'Series']).sum('SP').reset_index(), x='SP', y='Year', color='Series', category_orders={'Year':['2023', '2024']}, text='Series')"
   ]
  },
  {
   "cell_type": "code",
   "execution_count": 23,
   "id": "bbab840b",
   "metadata": {},
   "outputs": [
    {
     "data": {
      "application/vnd.plotly.v1+json": {
       "config": {
        "plotlyServerURL": "https://plot.ly"
       },
       "data": [
        {
         "alignmentgroup": "True",
         "hovertemplate": "Region=%{text}<br>SP=%{x}<br>Year=%{y}<extra></extra>",
         "legendgroup": "EU",
         "marker": {
          "color": "#636efa",
          "pattern": {
           "shape": ""
          }
         },
         "name": "EU",
         "offsetgroup": "EU",
         "orientation": "h",
         "showlegend": true,
         "text": [
          "EU",
          "EU"
         ],
         "textposition": "auto",
         "type": "bar",
         "x": [
          30082,
          71526
         ],
         "xaxis": "x",
         "y": [
          "2023",
          "2024"
         ],
         "yaxis": "y"
        },
        {
         "alignmentgroup": "True",
         "hovertemplate": "Region=%{text}<br>SP=%{x}<br>Year=%{y}<extra></extra>",
         "legendgroup": "INDIA",
         "marker": {
          "color": "#EF553B",
          "pattern": {
           "shape": ""
          }
         },
         "name": "INDIA",
         "offsetgroup": "INDIA",
         "orientation": "h",
         "showlegend": true,
         "text": [
          "INDIA",
          "INDIA"
         ],
         "textposition": "auto",
         "type": "bar",
         "x": [
          13568,
          65496
         ],
         "xaxis": "x",
         "y": [
          "2023",
          "2024"
         ],
         "yaxis": "y"
        },
        {
         "alignmentgroup": "True",
         "hovertemplate": "Region=%{text}<br>SP=%{x}<br>Year=%{y}<extra></extra>",
         "legendgroup": "KOREA",
         "marker": {
          "color": "#00cc96",
          "pattern": {
           "shape": ""
          }
         },
         "name": "KOREA",
         "offsetgroup": "KOREA",
         "orientation": "h",
         "showlegend": true,
         "text": [
          "KOREA",
          "KOREA"
         ],
         "textposition": "auto",
         "type": "bar",
         "x": [
          3472,
          35600
         ],
         "xaxis": "x",
         "y": [
          "2023",
          "2024"
         ],
         "yaxis": "y"
        },
        {
         "alignmentgroup": "True",
         "hovertemplate": "Region=%{text}<br>SP=%{x}<br>Year=%{y}<extra></extra>",
         "legendgroup": "MEA",
         "marker": {
          "color": "#ab63fa",
          "pattern": {
           "shape": ""
          }
         },
         "name": "MEA",
         "offsetgroup": "MEA",
         "orientation": "h",
         "showlegend": true,
         "text": [
          "MEA",
          "MEA"
         ],
         "textposition": "auto",
         "type": "bar",
         "x": [
          32646,
          168834
         ],
         "xaxis": "x",
         "y": [
          "2023",
          "2024"
         ],
         "yaxis": "y"
        },
        {
         "alignmentgroup": "True",
         "hovertemplate": "Region=%{text}<br>SP=%{x}<br>Year=%{y}<extra></extra>",
         "legendgroup": "NA",
         "marker": {
          "color": "#FFA15A",
          "pattern": {
           "shape": ""
          }
         },
         "name": "NA",
         "offsetgroup": "NA",
         "orientation": "h",
         "showlegend": true,
         "text": [
          "NA",
          "NA"
         ],
         "textposition": "auto",
         "type": "bar",
         "x": [
          42168,
          79317
         ],
         "xaxis": "x",
         "y": [
          "2023",
          "2024"
         ],
         "yaxis": "y"
        },
        {
         "alignmentgroup": "True",
         "hovertemplate": "Region=%{text}<br>SP=%{x}<br>Year=%{y}<extra></extra>",
         "legendgroup": "SCA",
         "marker": {
          "color": "#19d3f3",
          "pattern": {
           "shape": ""
          }
         },
         "name": "SCA",
         "offsetgroup": "SCA",
         "orientation": "h",
         "showlegend": true,
         "text": [
          "SCA",
          "SCA"
         ],
         "textposition": "auto",
         "type": "bar",
         "x": [
          7848,
          53098
         ],
         "xaxis": "x",
         "y": [
          "2023",
          "2024"
         ],
         "yaxis": "y"
        },
        {
         "alignmentgroup": "True",
         "hovertemplate": "Region=%{text}<br>SP=%{x}<br>Year=%{y}<extra></extra>",
         "legendgroup": "SEA",
         "marker": {
          "color": "#FF6692",
          "pattern": {
           "shape": ""
          }
         },
         "name": "SEA",
         "offsetgroup": "SEA",
         "orientation": "h",
         "showlegend": true,
         "text": [
          "SEA",
          "SEA"
         ],
         "textposition": "auto",
         "type": "bar",
         "x": [
          62362,
          128490
         ],
         "xaxis": "x",
         "y": [
          "2023",
          "2024"
         ],
         "yaxis": "y"
        },
        {
         "alignmentgroup": "True",
         "hovertemplate": "Region=%{text}<br>SP=%{x}<br>Year=%{y}<extra></extra>",
         "legendgroup": "CHINA",
         "marker": {
          "color": "#B6E880",
          "pattern": {
           "shape": ""
          }
         },
         "name": "CHINA",
         "offsetgroup": "CHINA",
         "orientation": "h",
         "showlegend": true,
         "text": [
          "CHINA"
         ],
         "textposition": "auto",
         "type": "bar",
         "x": [
          12000
         ],
         "xaxis": "x",
         "y": [
          "2024"
         ],
         "yaxis": "y"
        },
        {
         "alignmentgroup": "True",
         "hovertemplate": "Region=%{text}<br>SP=%{x}<br>Year=%{y}<extra></extra>",
         "legendgroup": "CIS",
         "marker": {
          "color": "#FF97FF",
          "pattern": {
           "shape": ""
          }
         },
         "name": "CIS",
         "offsetgroup": "CIS",
         "orientation": "h",
         "showlegend": true,
         "text": [
          "CIS"
         ],
         "textposition": "auto",
         "type": "bar",
         "x": [
          16108
         ],
         "xaxis": "x",
         "y": [
          "2024"
         ],
         "yaxis": "y"
        }
       ],
       "layout": {
        "barmode": "relative",
        "legend": {
         "title": {
          "text": "Region"
         },
         "tracegroupgap": 0
        },
        "margin": {
         "t": 60
        },
        "template": {
         "data": {
          "bar": [
           {
            "error_x": {
             "color": "#2a3f5f"
            },
            "error_y": {
             "color": "#2a3f5f"
            },
            "marker": {
             "line": {
              "color": "#E5ECF6",
              "width": 0.5
             },
             "pattern": {
              "fillmode": "overlay",
              "size": 10,
              "solidity": 0.2
             }
            },
            "type": "bar"
           }
          ],
          "barpolar": [
           {
            "marker": {
             "line": {
              "color": "#E5ECF6",
              "width": 0.5
             },
             "pattern": {
              "fillmode": "overlay",
              "size": 10,
              "solidity": 0.2
             }
            },
            "type": "barpolar"
           }
          ],
          "carpet": [
           {
            "aaxis": {
             "endlinecolor": "#2a3f5f",
             "gridcolor": "white",
             "linecolor": "white",
             "minorgridcolor": "white",
             "startlinecolor": "#2a3f5f"
            },
            "baxis": {
             "endlinecolor": "#2a3f5f",
             "gridcolor": "white",
             "linecolor": "white",
             "minorgridcolor": "white",
             "startlinecolor": "#2a3f5f"
            },
            "type": "carpet"
           }
          ],
          "choropleth": [
           {
            "colorbar": {
             "outlinewidth": 0,
             "ticks": ""
            },
            "type": "choropleth"
           }
          ],
          "contour": [
           {
            "colorbar": {
             "outlinewidth": 0,
             "ticks": ""
            },
            "colorscale": [
             [
              0,
              "#0d0887"
             ],
             [
              0.1111111111111111,
              "#46039f"
             ],
             [
              0.2222222222222222,
              "#7201a8"
             ],
             [
              0.3333333333333333,
              "#9c179e"
             ],
             [
              0.4444444444444444,
              "#bd3786"
             ],
             [
              0.5555555555555556,
              "#d8576b"
             ],
             [
              0.6666666666666666,
              "#ed7953"
             ],
             [
              0.7777777777777778,
              "#fb9f3a"
             ],
             [
              0.8888888888888888,
              "#fdca26"
             ],
             [
              1,
              "#f0f921"
             ]
            ],
            "type": "contour"
           }
          ],
          "contourcarpet": [
           {
            "colorbar": {
             "outlinewidth": 0,
             "ticks": ""
            },
            "type": "contourcarpet"
           }
          ],
          "heatmap": [
           {
            "colorbar": {
             "outlinewidth": 0,
             "ticks": ""
            },
            "colorscale": [
             [
              0,
              "#0d0887"
             ],
             [
              0.1111111111111111,
              "#46039f"
             ],
             [
              0.2222222222222222,
              "#7201a8"
             ],
             [
              0.3333333333333333,
              "#9c179e"
             ],
             [
              0.4444444444444444,
              "#bd3786"
             ],
             [
              0.5555555555555556,
              "#d8576b"
             ],
             [
              0.6666666666666666,
              "#ed7953"
             ],
             [
              0.7777777777777778,
              "#fb9f3a"
             ],
             [
              0.8888888888888888,
              "#fdca26"
             ],
             [
              1,
              "#f0f921"
             ]
            ],
            "type": "heatmap"
           }
          ],
          "heatmapgl": [
           {
            "colorbar": {
             "outlinewidth": 0,
             "ticks": ""
            },
            "colorscale": [
             [
              0,
              "#0d0887"
             ],
             [
              0.1111111111111111,
              "#46039f"
             ],
             [
              0.2222222222222222,
              "#7201a8"
             ],
             [
              0.3333333333333333,
              "#9c179e"
             ],
             [
              0.4444444444444444,
              "#bd3786"
             ],
             [
              0.5555555555555556,
              "#d8576b"
             ],
             [
              0.6666666666666666,
              "#ed7953"
             ],
             [
              0.7777777777777778,
              "#fb9f3a"
             ],
             [
              0.8888888888888888,
              "#fdca26"
             ],
             [
              1,
              "#f0f921"
             ]
            ],
            "type": "heatmapgl"
           }
          ],
          "histogram": [
           {
            "marker": {
             "pattern": {
              "fillmode": "overlay",
              "size": 10,
              "solidity": 0.2
             }
            },
            "type": "histogram"
           }
          ],
          "histogram2d": [
           {
            "colorbar": {
             "outlinewidth": 0,
             "ticks": ""
            },
            "colorscale": [
             [
              0,
              "#0d0887"
             ],
             [
              0.1111111111111111,
              "#46039f"
             ],
             [
              0.2222222222222222,
              "#7201a8"
             ],
             [
              0.3333333333333333,
              "#9c179e"
             ],
             [
              0.4444444444444444,
              "#bd3786"
             ],
             [
              0.5555555555555556,
              "#d8576b"
             ],
             [
              0.6666666666666666,
              "#ed7953"
             ],
             [
              0.7777777777777778,
              "#fb9f3a"
             ],
             [
              0.8888888888888888,
              "#fdca26"
             ],
             [
              1,
              "#f0f921"
             ]
            ],
            "type": "histogram2d"
           }
          ],
          "histogram2dcontour": [
           {
            "colorbar": {
             "outlinewidth": 0,
             "ticks": ""
            },
            "colorscale": [
             [
              0,
              "#0d0887"
             ],
             [
              0.1111111111111111,
              "#46039f"
             ],
             [
              0.2222222222222222,
              "#7201a8"
             ],
             [
              0.3333333333333333,
              "#9c179e"
             ],
             [
              0.4444444444444444,
              "#bd3786"
             ],
             [
              0.5555555555555556,
              "#d8576b"
             ],
             [
              0.6666666666666666,
              "#ed7953"
             ],
             [
              0.7777777777777778,
              "#fb9f3a"
             ],
             [
              0.8888888888888888,
              "#fdca26"
             ],
             [
              1,
              "#f0f921"
             ]
            ],
            "type": "histogram2dcontour"
           }
          ],
          "mesh3d": [
           {
            "colorbar": {
             "outlinewidth": 0,
             "ticks": ""
            },
            "type": "mesh3d"
           }
          ],
          "parcoords": [
           {
            "line": {
             "colorbar": {
              "outlinewidth": 0,
              "ticks": ""
             }
            },
            "type": "parcoords"
           }
          ],
          "pie": [
           {
            "automargin": true,
            "type": "pie"
           }
          ],
          "scatter": [
           {
            "fillpattern": {
             "fillmode": "overlay",
             "size": 10,
             "solidity": 0.2
            },
            "type": "scatter"
           }
          ],
          "scatter3d": [
           {
            "line": {
             "colorbar": {
              "outlinewidth": 0,
              "ticks": ""
             }
            },
            "marker": {
             "colorbar": {
              "outlinewidth": 0,
              "ticks": ""
             }
            },
            "type": "scatter3d"
           }
          ],
          "scattercarpet": [
           {
            "marker": {
             "colorbar": {
              "outlinewidth": 0,
              "ticks": ""
             }
            },
            "type": "scattercarpet"
           }
          ],
          "scattergeo": [
           {
            "marker": {
             "colorbar": {
              "outlinewidth": 0,
              "ticks": ""
             }
            },
            "type": "scattergeo"
           }
          ],
          "scattergl": [
           {
            "marker": {
             "colorbar": {
              "outlinewidth": 0,
              "ticks": ""
             }
            },
            "type": "scattergl"
           }
          ],
          "scattermapbox": [
           {
            "marker": {
             "colorbar": {
              "outlinewidth": 0,
              "ticks": ""
             }
            },
            "type": "scattermapbox"
           }
          ],
          "scatterpolar": [
           {
            "marker": {
             "colorbar": {
              "outlinewidth": 0,
              "ticks": ""
             }
            },
            "type": "scatterpolar"
           }
          ],
          "scatterpolargl": [
           {
            "marker": {
             "colorbar": {
              "outlinewidth": 0,
              "ticks": ""
             }
            },
            "type": "scatterpolargl"
           }
          ],
          "scatterternary": [
           {
            "marker": {
             "colorbar": {
              "outlinewidth": 0,
              "ticks": ""
             }
            },
            "type": "scatterternary"
           }
          ],
          "surface": [
           {
            "colorbar": {
             "outlinewidth": 0,
             "ticks": ""
            },
            "colorscale": [
             [
              0,
              "#0d0887"
             ],
             [
              0.1111111111111111,
              "#46039f"
             ],
             [
              0.2222222222222222,
              "#7201a8"
             ],
             [
              0.3333333333333333,
              "#9c179e"
             ],
             [
              0.4444444444444444,
              "#bd3786"
             ],
             [
              0.5555555555555556,
              "#d8576b"
             ],
             [
              0.6666666666666666,
              "#ed7953"
             ],
             [
              0.7777777777777778,
              "#fb9f3a"
             ],
             [
              0.8888888888888888,
              "#fdca26"
             ],
             [
              1,
              "#f0f921"
             ]
            ],
            "type": "surface"
           }
          ],
          "table": [
           {
            "cells": {
             "fill": {
              "color": "#EBF0F8"
             },
             "line": {
              "color": "white"
             }
            },
            "header": {
             "fill": {
              "color": "#C8D4E3"
             },
             "line": {
              "color": "white"
             }
            },
            "type": "table"
           }
          ]
         },
         "layout": {
          "annotationdefaults": {
           "arrowcolor": "#2a3f5f",
           "arrowhead": 0,
           "arrowwidth": 1
          },
          "autotypenumbers": "strict",
          "coloraxis": {
           "colorbar": {
            "outlinewidth": 0,
            "ticks": ""
           }
          },
          "colorscale": {
           "diverging": [
            [
             0,
             "#8e0152"
            ],
            [
             0.1,
             "#c51b7d"
            ],
            [
             0.2,
             "#de77ae"
            ],
            [
             0.3,
             "#f1b6da"
            ],
            [
             0.4,
             "#fde0ef"
            ],
            [
             0.5,
             "#f7f7f7"
            ],
            [
             0.6,
             "#e6f5d0"
            ],
            [
             0.7,
             "#b8e186"
            ],
            [
             0.8,
             "#7fbc41"
            ],
            [
             0.9,
             "#4d9221"
            ],
            [
             1,
             "#276419"
            ]
           ],
           "sequential": [
            [
             0,
             "#0d0887"
            ],
            [
             0.1111111111111111,
             "#46039f"
            ],
            [
             0.2222222222222222,
             "#7201a8"
            ],
            [
             0.3333333333333333,
             "#9c179e"
            ],
            [
             0.4444444444444444,
             "#bd3786"
            ],
            [
             0.5555555555555556,
             "#d8576b"
            ],
            [
             0.6666666666666666,
             "#ed7953"
            ],
            [
             0.7777777777777778,
             "#fb9f3a"
            ],
            [
             0.8888888888888888,
             "#fdca26"
            ],
            [
             1,
             "#f0f921"
            ]
           ],
           "sequentialminus": [
            [
             0,
             "#0d0887"
            ],
            [
             0.1111111111111111,
             "#46039f"
            ],
            [
             0.2222222222222222,
             "#7201a8"
            ],
            [
             0.3333333333333333,
             "#9c179e"
            ],
            [
             0.4444444444444444,
             "#bd3786"
            ],
            [
             0.5555555555555556,
             "#d8576b"
            ],
            [
             0.6666666666666666,
             "#ed7953"
            ],
            [
             0.7777777777777778,
             "#fb9f3a"
            ],
            [
             0.8888888888888888,
             "#fdca26"
            ],
            [
             1,
             "#f0f921"
            ]
           ]
          },
          "colorway": [
           "#636efa",
           "#EF553B",
           "#00cc96",
           "#ab63fa",
           "#FFA15A",
           "#19d3f3",
           "#FF6692",
           "#B6E880",
           "#FF97FF",
           "#FECB52"
          ],
          "font": {
           "color": "#2a3f5f"
          },
          "geo": {
           "bgcolor": "white",
           "lakecolor": "white",
           "landcolor": "#E5ECF6",
           "showlakes": true,
           "showland": true,
           "subunitcolor": "white"
          },
          "hoverlabel": {
           "align": "left"
          },
          "hovermode": "closest",
          "mapbox": {
           "style": "light"
          },
          "paper_bgcolor": "white",
          "plot_bgcolor": "#E5ECF6",
          "polar": {
           "angularaxis": {
            "gridcolor": "white",
            "linecolor": "white",
            "ticks": ""
           },
           "bgcolor": "#E5ECF6",
           "radialaxis": {
            "gridcolor": "white",
            "linecolor": "white",
            "ticks": ""
           }
          },
          "scene": {
           "xaxis": {
            "backgroundcolor": "#E5ECF6",
            "gridcolor": "white",
            "gridwidth": 2,
            "linecolor": "white",
            "showbackground": true,
            "ticks": "",
            "zerolinecolor": "white"
           },
           "yaxis": {
            "backgroundcolor": "#E5ECF6",
            "gridcolor": "white",
            "gridwidth": 2,
            "linecolor": "white",
            "showbackground": true,
            "ticks": "",
            "zerolinecolor": "white"
           },
           "zaxis": {
            "backgroundcolor": "#E5ECF6",
            "gridcolor": "white",
            "gridwidth": 2,
            "linecolor": "white",
            "showbackground": true,
            "ticks": "",
            "zerolinecolor": "white"
           }
          },
          "shapedefaults": {
           "line": {
            "color": "#2a3f5f"
           }
          },
          "ternary": {
           "aaxis": {
            "gridcolor": "white",
            "linecolor": "white",
            "ticks": ""
           },
           "baxis": {
            "gridcolor": "white",
            "linecolor": "white",
            "ticks": ""
           },
           "bgcolor": "#E5ECF6",
           "caxis": {
            "gridcolor": "white",
            "linecolor": "white",
            "ticks": ""
           }
          },
          "title": {
           "x": 0.05
          },
          "xaxis": {
           "automargin": true,
           "gridcolor": "white",
           "linecolor": "white",
           "ticks": "",
           "title": {
            "standoff": 15
           },
           "zerolinecolor": "white",
           "zerolinewidth": 2
          },
          "yaxis": {
           "automargin": true,
           "gridcolor": "white",
           "linecolor": "white",
           "ticks": "",
           "title": {
            "standoff": 15
           },
           "zerolinecolor": "white",
           "zerolinewidth": 2
          }
         }
        },
        "xaxis": {
         "anchor": "y",
         "domain": [
          0,
          1
         ],
         "title": {
          "text": "SP"
         }
        },
        "yaxis": {
         "anchor": "x",
         "categoryarray": [
          "2024",
          "2023"
         ],
         "categoryorder": "array",
         "domain": [
          0,
          1
         ],
         "title": {
          "text": "Year"
         }
        }
       }
      },
      "text/html": [
       "<div>                            <div id=\"b888bab4-dd4f-45e2-a40b-4d97c5ae7bf5\" class=\"plotly-graph-div\" style=\"height:525px; width:100%;\"></div>            <script type=\"text/javascript\">                require([\"plotly\"], function(Plotly) {                    window.PLOTLYENV=window.PLOTLYENV || {};                                    if (document.getElementById(\"b888bab4-dd4f-45e2-a40b-4d97c5ae7bf5\")) {                    Plotly.newPlot(                        \"b888bab4-dd4f-45e2-a40b-4d97c5ae7bf5\",                        [{\"alignmentgroup\":\"True\",\"hovertemplate\":\"Region=%{text}<br>SP=%{x}<br>Year=%{y}<extra></extra>\",\"legendgroup\":\"EU\",\"marker\":{\"color\":\"#636efa\",\"pattern\":{\"shape\":\"\"}},\"name\":\"EU\",\"offsetgroup\":\"EU\",\"orientation\":\"h\",\"showlegend\":true,\"text\":[\"EU\",\"EU\"],\"textposition\":\"auto\",\"x\":[30082.0,71526.0],\"xaxis\":\"x\",\"y\":[\"2023\",\"2024\"],\"yaxis\":\"y\",\"type\":\"bar\"},{\"alignmentgroup\":\"True\",\"hovertemplate\":\"Region=%{text}<br>SP=%{x}<br>Year=%{y}<extra></extra>\",\"legendgroup\":\"INDIA\",\"marker\":{\"color\":\"#EF553B\",\"pattern\":{\"shape\":\"\"}},\"name\":\"INDIA\",\"offsetgroup\":\"INDIA\",\"orientation\":\"h\",\"showlegend\":true,\"text\":[\"INDIA\",\"INDIA\"],\"textposition\":\"auto\",\"x\":[13568.0,65496.0],\"xaxis\":\"x\",\"y\":[\"2023\",\"2024\"],\"yaxis\":\"y\",\"type\":\"bar\"},{\"alignmentgroup\":\"True\",\"hovertemplate\":\"Region=%{text}<br>SP=%{x}<br>Year=%{y}<extra></extra>\",\"legendgroup\":\"KOREA\",\"marker\":{\"color\":\"#00cc96\",\"pattern\":{\"shape\":\"\"}},\"name\":\"KOREA\",\"offsetgroup\":\"KOREA\",\"orientation\":\"h\",\"showlegend\":true,\"text\":[\"KOREA\",\"KOREA\"],\"textposition\":\"auto\",\"x\":[3472.0,35600.0],\"xaxis\":\"x\",\"y\":[\"2023\",\"2024\"],\"yaxis\":\"y\",\"type\":\"bar\"},{\"alignmentgroup\":\"True\",\"hovertemplate\":\"Region=%{text}<br>SP=%{x}<br>Year=%{y}<extra></extra>\",\"legendgroup\":\"MEA\",\"marker\":{\"color\":\"#ab63fa\",\"pattern\":{\"shape\":\"\"}},\"name\":\"MEA\",\"offsetgroup\":\"MEA\",\"orientation\":\"h\",\"showlegend\":true,\"text\":[\"MEA\",\"MEA\"],\"textposition\":\"auto\",\"x\":[32646.0,168834.0],\"xaxis\":\"x\",\"y\":[\"2023\",\"2024\"],\"yaxis\":\"y\",\"type\":\"bar\"},{\"alignmentgroup\":\"True\",\"hovertemplate\":\"Region=%{text}<br>SP=%{x}<br>Year=%{y}<extra></extra>\",\"legendgroup\":\"NA\",\"marker\":{\"color\":\"#FFA15A\",\"pattern\":{\"shape\":\"\"}},\"name\":\"NA\",\"offsetgroup\":\"NA\",\"orientation\":\"h\",\"showlegend\":true,\"text\":[\"NA\",\"NA\"],\"textposition\":\"auto\",\"x\":[42168.0,79317.0],\"xaxis\":\"x\",\"y\":[\"2023\",\"2024\"],\"yaxis\":\"y\",\"type\":\"bar\"},{\"alignmentgroup\":\"True\",\"hovertemplate\":\"Region=%{text}<br>SP=%{x}<br>Year=%{y}<extra></extra>\",\"legendgroup\":\"SCA\",\"marker\":{\"color\":\"#19d3f3\",\"pattern\":{\"shape\":\"\"}},\"name\":\"SCA\",\"offsetgroup\":\"SCA\",\"orientation\":\"h\",\"showlegend\":true,\"text\":[\"SCA\",\"SCA\"],\"textposition\":\"auto\",\"x\":[7848.0,53098.0],\"xaxis\":\"x\",\"y\":[\"2023\",\"2024\"],\"yaxis\":\"y\",\"type\":\"bar\"},{\"alignmentgroup\":\"True\",\"hovertemplate\":\"Region=%{text}<br>SP=%{x}<br>Year=%{y}<extra></extra>\",\"legendgroup\":\"SEA\",\"marker\":{\"color\":\"#FF6692\",\"pattern\":{\"shape\":\"\"}},\"name\":\"SEA\",\"offsetgroup\":\"SEA\",\"orientation\":\"h\",\"showlegend\":true,\"text\":[\"SEA\",\"SEA\"],\"textposition\":\"auto\",\"x\":[62362.0,128490.0],\"xaxis\":\"x\",\"y\":[\"2023\",\"2024\"],\"yaxis\":\"y\",\"type\":\"bar\"},{\"alignmentgroup\":\"True\",\"hovertemplate\":\"Region=%{text}<br>SP=%{x}<br>Year=%{y}<extra></extra>\",\"legendgroup\":\"CHINA\",\"marker\":{\"color\":\"#B6E880\",\"pattern\":{\"shape\":\"\"}},\"name\":\"CHINA\",\"offsetgroup\":\"CHINA\",\"orientation\":\"h\",\"showlegend\":true,\"text\":[\"CHINA\"],\"textposition\":\"auto\",\"x\":[12000.0],\"xaxis\":\"x\",\"y\":[\"2024\"],\"yaxis\":\"y\",\"type\":\"bar\"},{\"alignmentgroup\":\"True\",\"hovertemplate\":\"Region=%{text}<br>SP=%{x}<br>Year=%{y}<extra></extra>\",\"legendgroup\":\"CIS\",\"marker\":{\"color\":\"#FF97FF\",\"pattern\":{\"shape\":\"\"}},\"name\":\"CIS\",\"offsetgroup\":\"CIS\",\"orientation\":\"h\",\"showlegend\":true,\"text\":[\"CIS\"],\"textposition\":\"auto\",\"x\":[16108.0],\"xaxis\":\"x\",\"y\":[\"2024\"],\"yaxis\":\"y\",\"type\":\"bar\"}],                        {\"template\":{\"data\":{\"histogram2dcontour\":[{\"type\":\"histogram2dcontour\",\"colorbar\":{\"outlinewidth\":0,\"ticks\":\"\"},\"colorscale\":[[0.0,\"#0d0887\"],[0.1111111111111111,\"#46039f\"],[0.2222222222222222,\"#7201a8\"],[0.3333333333333333,\"#9c179e\"],[0.4444444444444444,\"#bd3786\"],[0.5555555555555556,\"#d8576b\"],[0.6666666666666666,\"#ed7953\"],[0.7777777777777778,\"#fb9f3a\"],[0.8888888888888888,\"#fdca26\"],[1.0,\"#f0f921\"]]}],\"choropleth\":[{\"type\":\"choropleth\",\"colorbar\":{\"outlinewidth\":0,\"ticks\":\"\"}}],\"histogram2d\":[{\"type\":\"histogram2d\",\"colorbar\":{\"outlinewidth\":0,\"ticks\":\"\"},\"colorscale\":[[0.0,\"#0d0887\"],[0.1111111111111111,\"#46039f\"],[0.2222222222222222,\"#7201a8\"],[0.3333333333333333,\"#9c179e\"],[0.4444444444444444,\"#bd3786\"],[0.5555555555555556,\"#d8576b\"],[0.6666666666666666,\"#ed7953\"],[0.7777777777777778,\"#fb9f3a\"],[0.8888888888888888,\"#fdca26\"],[1.0,\"#f0f921\"]]}],\"heatmap\":[{\"type\":\"heatmap\",\"colorbar\":{\"outlinewidth\":0,\"ticks\":\"\"},\"colorscale\":[[0.0,\"#0d0887\"],[0.1111111111111111,\"#46039f\"],[0.2222222222222222,\"#7201a8\"],[0.3333333333333333,\"#9c179e\"],[0.4444444444444444,\"#bd3786\"],[0.5555555555555556,\"#d8576b\"],[0.6666666666666666,\"#ed7953\"],[0.7777777777777778,\"#fb9f3a\"],[0.8888888888888888,\"#fdca26\"],[1.0,\"#f0f921\"]]}],\"heatmapgl\":[{\"type\":\"heatmapgl\",\"colorbar\":{\"outlinewidth\":0,\"ticks\":\"\"},\"colorscale\":[[0.0,\"#0d0887\"],[0.1111111111111111,\"#46039f\"],[0.2222222222222222,\"#7201a8\"],[0.3333333333333333,\"#9c179e\"],[0.4444444444444444,\"#bd3786\"],[0.5555555555555556,\"#d8576b\"],[0.6666666666666666,\"#ed7953\"],[0.7777777777777778,\"#fb9f3a\"],[0.8888888888888888,\"#fdca26\"],[1.0,\"#f0f921\"]]}],\"contourcarpet\":[{\"type\":\"contourcarpet\",\"colorbar\":{\"outlinewidth\":0,\"ticks\":\"\"}}],\"contour\":[{\"type\":\"contour\",\"colorbar\":{\"outlinewidth\":0,\"ticks\":\"\"},\"colorscale\":[[0.0,\"#0d0887\"],[0.1111111111111111,\"#46039f\"],[0.2222222222222222,\"#7201a8\"],[0.3333333333333333,\"#9c179e\"],[0.4444444444444444,\"#bd3786\"],[0.5555555555555556,\"#d8576b\"],[0.6666666666666666,\"#ed7953\"],[0.7777777777777778,\"#fb9f3a\"],[0.8888888888888888,\"#fdca26\"],[1.0,\"#f0f921\"]]}],\"surface\":[{\"type\":\"surface\",\"colorbar\":{\"outlinewidth\":0,\"ticks\":\"\"},\"colorscale\":[[0.0,\"#0d0887\"],[0.1111111111111111,\"#46039f\"],[0.2222222222222222,\"#7201a8\"],[0.3333333333333333,\"#9c179e\"],[0.4444444444444444,\"#bd3786\"],[0.5555555555555556,\"#d8576b\"],[0.6666666666666666,\"#ed7953\"],[0.7777777777777778,\"#fb9f3a\"],[0.8888888888888888,\"#fdca26\"],[1.0,\"#f0f921\"]]}],\"mesh3d\":[{\"type\":\"mesh3d\",\"colorbar\":{\"outlinewidth\":0,\"ticks\":\"\"}}],\"scatter\":[{\"fillpattern\":{\"fillmode\":\"overlay\",\"size\":10,\"solidity\":0.2},\"type\":\"scatter\"}],\"parcoords\":[{\"type\":\"parcoords\",\"line\":{\"colorbar\":{\"outlinewidth\":0,\"ticks\":\"\"}}}],\"scatterpolargl\":[{\"type\":\"scatterpolargl\",\"marker\":{\"colorbar\":{\"outlinewidth\":0,\"ticks\":\"\"}}}],\"bar\":[{\"error_x\":{\"color\":\"#2a3f5f\"},\"error_y\":{\"color\":\"#2a3f5f\"},\"marker\":{\"line\":{\"color\":\"#E5ECF6\",\"width\":0.5},\"pattern\":{\"fillmode\":\"overlay\",\"size\":10,\"solidity\":0.2}},\"type\":\"bar\"}],\"scattergeo\":[{\"type\":\"scattergeo\",\"marker\":{\"colorbar\":{\"outlinewidth\":0,\"ticks\":\"\"}}}],\"scatterpolar\":[{\"type\":\"scatterpolar\",\"marker\":{\"colorbar\":{\"outlinewidth\":0,\"ticks\":\"\"}}}],\"histogram\":[{\"marker\":{\"pattern\":{\"fillmode\":\"overlay\",\"size\":10,\"solidity\":0.2}},\"type\":\"histogram\"}],\"scattergl\":[{\"type\":\"scattergl\",\"marker\":{\"colorbar\":{\"outlinewidth\":0,\"ticks\":\"\"}}}],\"scatter3d\":[{\"type\":\"scatter3d\",\"line\":{\"colorbar\":{\"outlinewidth\":0,\"ticks\":\"\"}},\"marker\":{\"colorbar\":{\"outlinewidth\":0,\"ticks\":\"\"}}}],\"scattermapbox\":[{\"type\":\"scattermapbox\",\"marker\":{\"colorbar\":{\"outlinewidth\":0,\"ticks\":\"\"}}}],\"scatterternary\":[{\"type\":\"scatterternary\",\"marker\":{\"colorbar\":{\"outlinewidth\":0,\"ticks\":\"\"}}}],\"scattercarpet\":[{\"type\":\"scattercarpet\",\"marker\":{\"colorbar\":{\"outlinewidth\":0,\"ticks\":\"\"}}}],\"carpet\":[{\"aaxis\":{\"endlinecolor\":\"#2a3f5f\",\"gridcolor\":\"white\",\"linecolor\":\"white\",\"minorgridcolor\":\"white\",\"startlinecolor\":\"#2a3f5f\"},\"baxis\":{\"endlinecolor\":\"#2a3f5f\",\"gridcolor\":\"white\",\"linecolor\":\"white\",\"minorgridcolor\":\"white\",\"startlinecolor\":\"#2a3f5f\"},\"type\":\"carpet\"}],\"table\":[{\"cells\":{\"fill\":{\"color\":\"#EBF0F8\"},\"line\":{\"color\":\"white\"}},\"header\":{\"fill\":{\"color\":\"#C8D4E3\"},\"line\":{\"color\":\"white\"}},\"type\":\"table\"}],\"barpolar\":[{\"marker\":{\"line\":{\"color\":\"#E5ECF6\",\"width\":0.5},\"pattern\":{\"fillmode\":\"overlay\",\"size\":10,\"solidity\":0.2}},\"type\":\"barpolar\"}],\"pie\":[{\"automargin\":true,\"type\":\"pie\"}]},\"layout\":{\"autotypenumbers\":\"strict\",\"colorway\":[\"#636efa\",\"#EF553B\",\"#00cc96\",\"#ab63fa\",\"#FFA15A\",\"#19d3f3\",\"#FF6692\",\"#B6E880\",\"#FF97FF\",\"#FECB52\"],\"font\":{\"color\":\"#2a3f5f\"},\"hovermode\":\"closest\",\"hoverlabel\":{\"align\":\"left\"},\"paper_bgcolor\":\"white\",\"plot_bgcolor\":\"#E5ECF6\",\"polar\":{\"bgcolor\":\"#E5ECF6\",\"angularaxis\":{\"gridcolor\":\"white\",\"linecolor\":\"white\",\"ticks\":\"\"},\"radialaxis\":{\"gridcolor\":\"white\",\"linecolor\":\"white\",\"ticks\":\"\"}},\"ternary\":{\"bgcolor\":\"#E5ECF6\",\"aaxis\":{\"gridcolor\":\"white\",\"linecolor\":\"white\",\"ticks\":\"\"},\"baxis\":{\"gridcolor\":\"white\",\"linecolor\":\"white\",\"ticks\":\"\"},\"caxis\":{\"gridcolor\":\"white\",\"linecolor\":\"white\",\"ticks\":\"\"}},\"coloraxis\":{\"colorbar\":{\"outlinewidth\":0,\"ticks\":\"\"}},\"colorscale\":{\"sequential\":[[0.0,\"#0d0887\"],[0.1111111111111111,\"#46039f\"],[0.2222222222222222,\"#7201a8\"],[0.3333333333333333,\"#9c179e\"],[0.4444444444444444,\"#bd3786\"],[0.5555555555555556,\"#d8576b\"],[0.6666666666666666,\"#ed7953\"],[0.7777777777777778,\"#fb9f3a\"],[0.8888888888888888,\"#fdca26\"],[1.0,\"#f0f921\"]],\"sequentialminus\":[[0.0,\"#0d0887\"],[0.1111111111111111,\"#46039f\"],[0.2222222222222222,\"#7201a8\"],[0.3333333333333333,\"#9c179e\"],[0.4444444444444444,\"#bd3786\"],[0.5555555555555556,\"#d8576b\"],[0.6666666666666666,\"#ed7953\"],[0.7777777777777778,\"#fb9f3a\"],[0.8888888888888888,\"#fdca26\"],[1.0,\"#f0f921\"]],\"diverging\":[[0,\"#8e0152\"],[0.1,\"#c51b7d\"],[0.2,\"#de77ae\"],[0.3,\"#f1b6da\"],[0.4,\"#fde0ef\"],[0.5,\"#f7f7f7\"],[0.6,\"#e6f5d0\"],[0.7,\"#b8e186\"],[0.8,\"#7fbc41\"],[0.9,\"#4d9221\"],[1,\"#276419\"]]},\"xaxis\":{\"gridcolor\":\"white\",\"linecolor\":\"white\",\"ticks\":\"\",\"title\":{\"standoff\":15},\"zerolinecolor\":\"white\",\"automargin\":true,\"zerolinewidth\":2},\"yaxis\":{\"gridcolor\":\"white\",\"linecolor\":\"white\",\"ticks\":\"\",\"title\":{\"standoff\":15},\"zerolinecolor\":\"white\",\"automargin\":true,\"zerolinewidth\":2},\"scene\":{\"xaxis\":{\"backgroundcolor\":\"#E5ECF6\",\"gridcolor\":\"white\",\"linecolor\":\"white\",\"showbackground\":true,\"ticks\":\"\",\"zerolinecolor\":\"white\",\"gridwidth\":2},\"yaxis\":{\"backgroundcolor\":\"#E5ECF6\",\"gridcolor\":\"white\",\"linecolor\":\"white\",\"showbackground\":true,\"ticks\":\"\",\"zerolinecolor\":\"white\",\"gridwidth\":2},\"zaxis\":{\"backgroundcolor\":\"#E5ECF6\",\"gridcolor\":\"white\",\"linecolor\":\"white\",\"showbackground\":true,\"ticks\":\"\",\"zerolinecolor\":\"white\",\"gridwidth\":2}},\"shapedefaults\":{\"line\":{\"color\":\"#2a3f5f\"}},\"annotationdefaults\":{\"arrowcolor\":\"#2a3f5f\",\"arrowhead\":0,\"arrowwidth\":1},\"geo\":{\"bgcolor\":\"white\",\"landcolor\":\"#E5ECF6\",\"subunitcolor\":\"white\",\"showland\":true,\"showlakes\":true,\"lakecolor\":\"white\"},\"title\":{\"x\":0.05},\"mapbox\":{\"style\":\"light\"}}},\"xaxis\":{\"anchor\":\"y\",\"domain\":[0.0,1.0],\"title\":{\"text\":\"SP\"}},\"yaxis\":{\"anchor\":\"x\",\"domain\":[0.0,1.0],\"title\":{\"text\":\"Year\"},\"categoryorder\":\"array\",\"categoryarray\":[\"2024\",\"2023\"]},\"legend\":{\"title\":{\"text\":\"Region\"},\"tracegroupgap\":0},\"margin\":{\"t\":60},\"barmode\":\"relative\"},                        {\"responsive\": true}                    ).then(function(){\n",
       "                            \n",
       "var gd = document.getElementById('b888bab4-dd4f-45e2-a40b-4d97c5ae7bf5');\n",
       "var x = new MutationObserver(function (mutations, observer) {{\n",
       "        var display = window.getComputedStyle(gd).display;\n",
       "        if (!display || display === 'none') {{\n",
       "            console.log([gd, 'removed!']);\n",
       "            Plotly.purge(gd);\n",
       "            observer.disconnect();\n",
       "        }}\n",
       "}});\n",
       "\n",
       "// Listen for the removal of the full notebook cells\n",
       "var notebookContainer = gd.closest('#notebook-container');\n",
       "if (notebookContainer) {{\n",
       "    x.observe(notebookContainer, {childList: true});\n",
       "}}\n",
       "\n",
       "// Listen for the clearing of the current output cell\n",
       "var outputEl = gd.closest('.output');\n",
       "if (outputEl) {{\n",
       "    x.observe(outputEl, {childList: true});\n",
       "}}\n",
       "\n",
       "                        })                };                });            </script>        </div>"
      ]
     },
     "metadata": {},
     "output_type": "display_data"
    }
   ],
   "source": [
    "px.bar(tt[tt['From Site'].str.contains('TCL')].groupby(['Year', 'Region']).sum('SP').reset_index(), x='SP', y='Year', color='Region', category_orders={'Year':['2023', '2024']}, text='Region')"
   ]
  },
  {
   "cell_type": "code",
   "execution_count": 85,
   "id": "30ea353e",
   "metadata": {},
   "outputs": [
    {
     "data": {
      "text/html": [
       "<div>\n",
       "<style scoped>\n",
       "    .dataframe tbody tr th:only-of-type {\n",
       "        vertical-align: middle;\n",
       "    }\n",
       "\n",
       "    .dataframe tbody tr th {\n",
       "        vertical-align: top;\n",
       "    }\n",
       "\n",
       "    .dataframe thead tr th {\n",
       "        text-align: left;\n",
       "    }\n",
       "\n",
       "    .dataframe thead tr:last-of-type th {\n",
       "        text-align: right;\n",
       "    }\n",
       "</style>\n",
       "<table border=\"1\" class=\"dataframe\">\n",
       "  <thead>\n",
       "    <tr>\n",
       "      <th></th>\n",
       "      <th>Year</th>\n",
       "      <th>2023</th>\n",
       "      <th colspan=\"2\" halign=\"left\">2024</th>\n",
       "    </tr>\n",
       "    <tr>\n",
       "      <th></th>\n",
       "      <th>Quarter</th>\n",
       "      <th>Q4</th>\n",
       "      <th>Q1</th>\n",
       "      <th>Q2</th>\n",
       "    </tr>\n",
       "    <tr>\n",
       "      <th>Series</th>\n",
       "      <th>Mapping Model.Suffix</th>\n",
       "      <th></th>\n",
       "      <th></th>\n",
       "      <th></th>\n",
       "    </tr>\n",
       "  </thead>\n",
       "  <tbody>\n",
       "    <tr>\n",
       "      <th rowspan=\"4\" valign=\"top\">22</th>\n",
       "      <th>22MR410-B.AUSQ</th>\n",
       "      <td>1680.0</td>\n",
       "      <td>-</td>\n",
       "      <td>840.0</td>\n",
       "    </tr>\n",
       "    <tr>\n",
       "      <th>22MR41A-B.ACCQ</th>\n",
       "      <td>840.0</td>\n",
       "      <td>840.0</td>\n",
       "      <td>-</td>\n",
       "    </tr>\n",
       "    <tr>\n",
       "      <th>22MR41S-B.ACCQ</th>\n",
       "      <td>840.0</td>\n",
       "      <td>1680.0</td>\n",
       "      <td>840.0</td>\n",
       "    </tr>\n",
       "    <tr>\n",
       "      <th>22MS31W-B.ACCQ</th>\n",
       "      <td>-</td>\n",
       "      <td>-</td>\n",
       "      <td>840.0</td>\n",
       "    </tr>\n",
       "    <tr>\n",
       "      <th rowspan=\"4\" valign=\"top\">27</th>\n",
       "      <th>27MC41D-BS.ACCQ</th>\n",
       "      <td>-</td>\n",
       "      <td>5500.0</td>\n",
       "      <td>750.0</td>\n",
       "    </tr>\n",
       "    <tr>\n",
       "      <th>27MR400-B.AUSQ</th>\n",
       "      <td>2816.0</td>\n",
       "      <td>2304.0</td>\n",
       "      <td>512.0</td>\n",
       "    </tr>\n",
       "    <tr>\n",
       "      <th>27MR41A-B.ACCQ</th>\n",
       "      <td>1280.0</td>\n",
       "      <td>1536.0</td>\n",
       "      <td>-</td>\n",
       "    </tr>\n",
       "    <tr>\n",
       "      <th>27MR41S-B.ACCQ</th>\n",
       "      <td>1280.0</td>\n",
       "      <td>1024.0</td>\n",
       "      <td>512.0</td>\n",
       "    </tr>\n",
       "  </tbody>\n",
       "</table>\n",
       "</div>"
      ],
      "text/plain": [
       "Year                           2023    2024       \n",
       "Quarter                          Q4      Q1     Q2\n",
       "Series Mapping Model.Suffix                       \n",
       "22     22MR410-B.AUSQ        1680.0       -  840.0\n",
       "       22MR41A-B.ACCQ         840.0   840.0      -\n",
       "       22MR41S-B.ACCQ         840.0  1680.0  840.0\n",
       "       22MS31W-B.ACCQ             -       -  840.0\n",
       "27     27MC41D-BS.ACCQ            -  5500.0  750.0\n",
       "       27MR400-B.AUSQ        2816.0  2304.0  512.0\n",
       "       27MR41A-B.ACCQ        1280.0  1536.0      -\n",
       "       27MR41S-B.ACCQ        1280.0  1024.0  512.0"
      ]
     },
     "execution_count": 85,
     "metadata": {},
     "output_type": "execute_result"
    }
   ],
   "source": [
    "tt[tt['Country'] == 'Canada'].pivot_table('SP', index=['From Site', 'Series', 'Mapping Model.Suffix'], columns=['Year', 'Quarter',], aggfunc=sum).loc['OS_TCL_CN_P'].dropna(how='all', axis=1).fillna('-')"
   ]
  },
  {
   "cell_type": "code",
   "execution_count": 29,
   "id": "4b409855",
   "metadata": {},
   "outputs": [
    {
     "data": {
      "text/plain": [
       "array(['EU', 'MEA', 'SEA', 'NA', 'INDIA', 'SCA', 'KOREA'], dtype=object)"
      ]
     },
     "execution_count": 29,
     "metadata": {},
     "output_type": "execute_result"
    }
   ],
   "source": [
    "tt['Region'].unique()"
   ]
  },
  {
   "cell_type": "code",
   "execution_count": 86,
   "id": "877e3845",
   "metadata": {},
   "outputs": [],
   "source": [
    "region_korean_map = {'NA':'북미', 'EU':'유럽', 'MEA':'중아', 'SEA':'아시아', 'INDIA':'인도', 'SCA':'중남미', 'KOREA':'한국'}"
   ]
  },
  {
   "cell_type": "code",
   "execution_count": 87,
   "id": "01254293",
   "metadata": {},
   "outputs": [],
   "source": [
    "tt['Region'] = tt['Region'].map(region_korean_map)"
   ]
  },
  {
   "cell_type": "code",
   "execution_count": 19,
   "id": "198a888a",
   "metadata": {},
   "outputs": [],
   "source": [
    "tt.to_clipboard()"
   ]
  },
  {
   "cell_type": "code",
   "execution_count": null,
   "id": "7f6cad34",
   "metadata": {},
   "outputs": [],
   "source": []
  }
 ],
 "metadata": {
  "kernelspec": {
   "display_name": "Python 3 (ipykernel)",
   "language": "python",
   "name": "python3"
  },
  "language_info": {
   "codemirror_mode": {
    "name": "ipython",
    "version": 3
   },
   "file_extension": ".py",
   "mimetype": "text/x-python",
   "name": "python",
   "nbconvert_exporter": "python",
   "pygments_lexer": "ipython3",
   "version": "3.10.9"
  }
 },
 "nbformat": 4,
 "nbformat_minor": 5
}
