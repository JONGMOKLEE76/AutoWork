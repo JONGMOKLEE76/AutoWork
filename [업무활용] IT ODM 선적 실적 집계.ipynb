{
 "cells": [
  {
   "cell_type": "markdown",
   "id": "30321fcc",
   "metadata": {},
   "source": [
    "# ODM 선적 실적 보기"
   ]
  },
  {
   "cell_type": "code",
   "execution_count": 1,
   "id": "f48b18da",
   "metadata": {},
   "outputs": [],
   "source": [
    "from tool import *\n",
    "# import plotly.express as px\n",
    "from openpyxl import Workbook\n",
    "from openpyxl import load_workbook\n",
    "from openpyxl.utils import get_column_letter\n",
    "from openpyxl.drawing.image import Image\n",
    "from openpyxl.styles import PatternFill, Alignment, Font, Border, Side"
   ]
  },
  {
   "cell_type": "markdown",
   "id": "849c7155",
   "metadata": {},
   "source": [
    "## 4) PC ODM 월별 선적 실적 보기"
   ]
  },
  {
   "cell_type": "code",
   "execution_count": 2,
   "id": "a20fab91",
   "metadata": {},
   "outputs": [],
   "source": [
    "with open('D:/Data/ODM_SR.db', 'rb') as f:\n",
    "    sr = pickle.load(f)\n",
    "with open('D:/Data/sitemap.db', 'rb') as f:\n",
    "    ste = pickle.load(f)"
   ]
  },
  {
   "cell_type": "code",
   "execution_count": 3,
   "id": "6a0f9c5e",
   "metadata": {},
   "outputs": [
    {
     "name": "stderr",
     "output_type": "stream",
     "text": [
      "C:\\Users\\paul76.lee\\AppData\\Local\\Temp\\ipykernel_11780\\731353633.py:7: FutureWarning: The default value of regex will change from True to False in a future version.\n",
      "  sr['Series'] = sr['Mapping Model.Suffix'].apply(lambda x:x.split('-')[0]).str.replace('D|G|N|W|C', '').apply(lambda x:x[:6])\n"
     ]
    }
   ],
   "source": [
    "sr = sr[sr['Division']=='PC'] # PC 실적만 조회\n",
    "sr = sr.reset_index()\n",
    "sr['Week Name'] = sr['Ship Date'].map(get_weekname)\n",
    "sr['To Site'] = sr['To Site'].replace(ship_to_map)\n",
    "sr = pd.merge(sr, ste[['Region', 'Subsidiary', 'To Site', 'Country']], how='left')\n",
    "sr[['Year', 'Month']] = sr['Week Name'].apply(lambda x:f'{datetime.date.fromisoformat(x[:10]).isocalendar().year}-{get_month_from_date(datetime.date.fromisoformat(x[:10])):02d}').str.split('-', expand=True)\n",
    "sr['Series'] = sr['Mapping Model.Suffix'].apply(lambda x:x.split('-')[0]).str.replace('D|G|N|W|C', '').apply(lambda x:x[:6])\n",
    "sr = sr[sr['Year']=='2023'] # 2023년 실적으로 조회"
   ]
  },
  {
   "cell_type": "code",
   "execution_count": 4,
   "id": "2573a802",
   "metadata": {},
   "outputs": [],
   "source": [
    "sr = sr.pivot_table('Ship', index=['From Site', 'Country', 'Series'], columns=['Year', 'Month'], aggfunc=sum).fillna(0)\n",
    "d = datetime.datetime.today()\n",
    "filepath_to_save = 'D:/PC_ODM_월별 실적/2023년 PC_ODM_월별 선적 실적_{}.xlsx'.format(d.strftime('%y%m%d'))\n",
    "sr.to_excel(filepath_to_save, startrow=2)"
   ]
  },
  {
   "cell_type": "code",
   "execution_count": 5,
   "id": "268ce9c6",
   "metadata": {},
   "outputs": [],
   "source": [
    "wb = load_workbook(filepath_to_save)\n",
    "color = PatternFill(fgColor='9999FF', fill_type='solid') # Blue\n",
    "big_size = Font(name='맑은 고딕', size=20, bold=True, color='000099')\n",
    "middle_size = Font(name='맑은 고딕', size=15, bold=True, color='000099')\n",
    "\n",
    "border_style = Side(border_style=\"thin\", color=\"000000\")\n",
    "border = Border(top=border_style, right=border_style, bottom=border_style, left=border_style)"
   ]
  },
  {
   "cell_type": "code",
   "execution_count": 6,
   "id": "db462c0b",
   "metadata": {},
   "outputs": [],
   "source": [
    "sh = wb[wb.sheetnames[0]]\n",
    "sh['A1'] = f'■ {d.strftime(\"%y%m%d\")} PC ODM Monthly Shipment Report'\n",
    "sh['A1'].font = middle_size\n",
    "sh['C2'] = 'Sub TTL'\n",
    "for i in range(4, sh.max_column+1):\n",
    "    col_letter = get_column_letter(i)\n",
    "    sh.cell(row=2, column=i).value = f'=subtotal(9, {col_letter}6:{col_letter}{sh.max_row})'\n",
    "    sh.cell(row=2, column=i).border = border\n",
    "min_row_num = 3\n",
    "height = len(sr.columns[0])\n",
    "max_row_num = min_row_num + height - 1\n",
    "for row in sh.iter_rows(min_row=min_row_num, min_col=3, max_row=max_row_num, max_col=sh.max_column):\n",
    "    for cell in row:\n",
    "        cell.fill = color\n",
    "min_row_num = max_row_num + 1\n",
    "for row in sh.iter_rows(min_row=min_row_num, min_col=1, max_row=min_row_num, max_col=len(sr.index[0])):\n",
    "    for cell in row:\n",
    "        cell.fill = color\n",
    "min_row_num = min_row_num + 1\n",
    "max_row_num = min_row_num + sr.shape[0] - 1\n",
    "for row in sh.iter_rows(min_row=min_row_num, min_col=len(sr.index[0]), max_row=max_row_num, max_col=sh.max_column):\n",
    "    for cell in row:\n",
    "        cell.border = border\n",
    "        cell.number_format = '#,##0;[RED]Δ#,##0;\"-\"'\n",
    "        \n",
    "sh.freeze_panes = 'D5'\n",
    "sh.column_dimensions['A'].width = 20\n",
    "sh.column_dimensions['B'].width = 10\n",
    "\n",
    "for name in wb.sheetnames:\n",
    "    wb[name].sheet_view.showGridLines = False\n",
    "    \n",
    "wb.save(filepath_to_save)\n",
    "wb.close()"
   ]
  },
  {
   "cell_type": "code",
   "execution_count": null,
   "id": "f64fd729",
   "metadata": {},
   "outputs": [],
   "source": []
  }
 ],
 "metadata": {
  "kernelspec": {
   "display_name": "Python 3 (ipykernel)",
   "language": "python",
   "name": "python3"
  },
  "language_info": {
   "codemirror_mode": {
    "name": "ipython",
    "version": 3
   },
   "file_extension": ".py",
   "mimetype": "text/x-python",
   "name": "python",
   "nbconvert_exporter": "python",
   "pygments_lexer": "ipython3",
   "version": "3.10.9"
  }
 },
 "nbformat": 4,
 "nbformat_minor": 5
}
